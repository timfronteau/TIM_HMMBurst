{
 "cells": [
  {
   "cell_type": "markdown",
   "metadata": {},
   "source": [
    "In this part, we'll try to plot the time-course of 1 IC extracted from the EEG of 1 subject on 1 trial.\n",
    "\n",
    "# First let's extract the time scale data and the time-course data from the .mat file:"
   ]
  },
  {
   "cell_type": "code",
   "execution_count": 32,
   "metadata": {},
   "outputs": [],
   "source": [
    "import h5py\n",
    "import numpy as np\n",
    "import xarray as xr\n",
    "from utilities import flatten_dict"
   ]
  },
  {
   "cell_type": "code",
   "execution_count": 33,
   "metadata": {},
   "outputs": [],
   "source": [
    "path = \"E:/timot/Documents/1 - Centrale Marseille/0.5 - Semestre S8/Stage/NIC_250819/FCK_LOCKED_IC_JYOTIKA_250819.mat\"\n",
    "\n",
    "mat_file = h5py.File(path, \"r\")\n",
    "cells_refs = mat_file['FCK_LOCKED_IC_JYOTIKA']\n",
    "n_IC, n_subj = cells_refs.shape"
   ]
  },
  {
   "cell_type": "code",
   "execution_count": 34,
   "metadata": {},
   "outputs": [],
   "source": [
    "def _load_raw_timecourse_256Hz(IC, subj):\n",
    "    cell = mat_file[cells_refs[IC, subj]]\n",
    "    raw_timecourse_256Hz = cell['raw_timecourse_256Hz'][:]\n",
    "    raw_timecourse_256Hz = np.transpose(raw_timecourse_256Hz)\n",
    "    return raw_timecourse_256Hz"
   ]
  },
  {
   "cell_type": "code",
   "execution_count": 35,
   "metadata": {},
   "outputs": [],
   "source": [
    "def _load_time_256Hz(IC,subj):\n",
    "    cell = mat_file[cells_refs[IC, subj]]\n",
    "    time_256Hz = cell['time_256Hz'][:]\n",
    "    time_256Hz = np.transpose(time_256Hz)[0]\n",
    "    return time_256Hz"
   ]
  },
  {
   "cell_type": "code",
   "execution_count": 36,
   "metadata": {},
   "outputs": [],
   "source": [
    "def _load_freq(IC,subj):\n",
    "    cell = mat_file[cells_refs[IC, subj]]\n",
    "    freq = cell['freq'][:]\n",
    "    freq = np.transpose(freq)[0]\n",
    "    return freq"
   ]
  },
  {
   "cell_type": "code",
   "execution_count": 37,
   "metadata": {},
   "outputs": [],
   "source": [
    "time_axis_subj0_IC0 = _load_time_256Hz(0, 0)"
   ]
  },
  {
   "cell_type": "code",
   "execution_count": 38,
   "metadata": {},
   "outputs": [
    {
     "data": {
      "text/plain": [
       "array([-4.        , -3.99609375, -3.9921875 , ...,  2.9921875 ,\n",
       "        2.99609375,  3.        ])"
      ]
     },
     "execution_count": 38,
     "metadata": {},
     "output_type": "execute_result"
    }
   ],
   "source": [
    "time_axis_subj0_IC0"
   ]
  },
  {
   "cell_type": "code",
   "execution_count": 39,
   "metadata": {},
   "outputs": [
    {
     "data": {
      "text/plain": [
       "1793"
      ]
     },
     "execution_count": 39,
     "metadata": {},
     "output_type": "execute_result"
    }
   ],
   "source": [
    "len(time_axis_subj0_IC0)"
   ]
  },
  {
   "cell_type": "code",
   "execution_count": 40,
   "metadata": {},
   "outputs": [],
   "source": [
    "raw_timecourse_subj0_IC0 = _load_raw_timecourse_256Hz(0, 0)"
   ]
  },
  {
   "cell_type": "code",
   "execution_count": 41,
   "metadata": {},
   "outputs": [
    {
     "data": {
      "text/plain": [
       "(763, 1793)"
      ]
     },
     "execution_count": 41,
     "metadata": {},
     "output_type": "execute_result"
    }
   ],
   "source": [
    "raw_timecourse_subj0_IC0.shape"
   ]
  },
  {
   "cell_type": "code",
   "execution_count": 42,
   "metadata": {},
   "outputs": [],
   "source": [
    "freq = _load_freq(0, 0)"
   ]
  },
  {
   "cell_type": "code",
   "execution_count": 43,
   "metadata": {},
   "outputs": [
    {
     "data": {
      "text/plain": [
       "array([ 2.        ,  2.57142857,  3.        ,  3.57142857,  4.        ,\n",
       "        4.57142857,  5.        ,  5.57142857,  6.        ,  6.57142857,\n",
       "        7.        ,  7.57142857,  8.        ,  8.57142857,  9.        ,\n",
       "        9.57142857, 10.        , 10.57142857, 11.        , 11.57142857,\n",
       "       12.        , 12.57142857, 13.        , 13.57142857, 14.        ,\n",
       "       14.57142857, 15.        , 15.57142857, 16.        , 16.57142857,\n",
       "       17.        , 17.57142857, 18.        , 18.57142857, 19.        ,\n",
       "       19.57142857, 20.        , 20.57142857, 21.        , 21.57142857,\n",
       "       22.        , 22.57142857, 23.        , 23.57142857, 24.        ,\n",
       "       24.57142857, 25.        , 25.57142857, 26.        , 26.57142857,\n",
       "       27.        , 27.57142857, 28.        , 28.57142857, 29.        ,\n",
       "       29.57142857, 30.        , 30.57142857, 31.        , 31.57142857,\n",
       "       32.        , 32.57142857, 33.        , 33.57142857, 34.        ,\n",
       "       34.57142857, 35.        , 35.57142857, 36.        , 36.57142857,\n",
       "       37.        , 37.57142857, 38.        , 38.57142857, 39.        ,\n",
       "       39.57142857, 40.        , 40.57142857, 41.        , 41.57142857,\n",
       "       42.        , 42.57142857, 43.        , 43.57142857, 44.        ,\n",
       "       44.57142857, 45.        , 45.57142857, 46.        , 46.57142857,\n",
       "       47.        , 47.57142857, 48.        , 48.57142857, 49.        ,\n",
       "       49.57142857, 50.        ])"
      ]
     },
     "execution_count": 43,
     "metadata": {},
     "output_type": "execute_result"
    }
   ],
   "source": [
    "freq"
   ]
  },
  {
   "cell_type": "markdown",
   "metadata": {},
   "source": [
    "# Now that we have the expected data, we plot the time-course:"
   ]
  },
  {
   "cell_type": "code",
   "execution_count": 44,
   "metadata": {},
   "outputs": [],
   "source": [
    "import mne\n",
    "from sklearn.decomposition import PCA\n",
    "from hmmlearn import hmm\n",
    "import scipy.signal as signal\n",
    "import matplotlib.pyplot as plt"
   ]
  },
  {
   "cell_type": "code",
   "execution_count": 45,
   "metadata": {},
   "outputs": [
    {
     "data": {
      "text/plain": [
       "Text(0, 0.5, 'Potentiel (eV)')"
      ]
     },
     "execution_count": 45,
     "metadata": {},
     "output_type": "execute_result"
    },
    {
     "data": {
      "image/png": "[encoded data removed]",
      "text/plain": [
       "<Figure size 936x216 with 1 Axes>"
      ]
     },
     "metadata": {
      "needs_background": "light"
     },
     "output_type": "display_data"
    }
   ],
   "source": [
    "plt.figure(figsize=(13, 3))\n",
    "plt.title('Real time-course')\n",
    "plt.plot(time_axis_subj0_IC0, raw_timecourse_subj0_IC0[0,:], linewidth=.3)\n",
    "plt.ylabel('Potentiel (eV)')"
   ]
  },
  {
   "cell_type": "markdown",
   "metadata": {},
   "source": [
    "# Let's not wait any longer and try to plot a wavelet transform!"
   ]
  },
  {
   "cell_type": "code",
   "execution_count": 53,
   "metadata": {},
   "outputs": [],
   "source": [
    "test = raw_timecourse_subj0_IC0[np.newaxis,:,:]"
   ]
  },
  {
   "cell_type": "code",
   "execution_count": 54,
   "metadata": {},
   "outputs": [
    {
     "data": {
      "text/plain": [
       "array([[[-7.50833845e-06, -3.42053131e-05, -5.47569765e-05, ...,\n",
       "          2.80652243e-05,  7.30566021e-06,  7.30566021e-06],\n",
       "        [-4.29498901e-07, -1.30316883e-05, -1.61407841e-05, ...,\n",
       "          2.07438746e-05, -6.48973945e-06, -6.48973945e-06],\n",
       "        [-5.46866697e-06,  2.44311256e-05,  4.34509836e-05, ...,\n",
       "          2.81629524e-05,  4.57681935e-06,  4.57681935e-06],\n",
       "        ...,\n",
       "        [-5.36286564e-06,  4.41837040e-06,  1.32102148e-05, ...,\n",
       "          3.12688376e-06,  3.79513515e-06,  3.79513515e-06],\n",
       "        [-5.67732396e-06, -5.85591065e-06, -2.65827333e-06, ...,\n",
       "          5.22377052e-06,  3.93326594e-06,  3.93326594e-06],\n",
       "        [ 1.99135207e-06,  2.52366828e-05,  3.63939076e-05, ...,\n",
       "         -2.29817001e-05, -5.70984471e-06, -5.70984471e-06]]])"
      ]
     },
     "execution_count": 54,
     "metadata": {},
     "output_type": "execute_result"
    }
   ],
   "source": [
    "test"
   ]
  },
  {
   "cell_type": "code",
   "execution_count": 58,
   "metadata": {},
   "outputs": [],
   "source": [
    "shape = test.shape"
   ]
  },
  {
   "cell_type": "code",
   "execution_count": 59,
   "metadata": {},
   "outputs": [
    {
     "data": {
      "text/plain": [
       "(1, 763, 1793)"
      ]
     },
     "execution_count": 59,
     "metadata": {},
     "output_type": "execute_result"
    }
   ],
   "source": [
    "shape"
   ]
  },
  {
   "cell_type": "code",
   "execution_count": null,
   "metadata": {},
   "outputs": [],
   "source": []
  },
  {
   "cell_type": "code",
   "execution_count": 46,
   "metadata": {},
   "outputs": [
    {
     "ename": "ValueError",
     "evalue": "Data must be a 3D array of shape (n_epochs, n_channels, n_samples)",
     "output_type": "error",
     "traceback": [
      "\u001b[1;31m---------------------------------------------------------------------------\u001b[0m",
      "\u001b[1;31mValueError\u001b[0m                                Traceback (most recent call last)",
      "\u001b[1;32m<ipython-input-46-9808e0c2f18a>\u001b[0m in \u001b[0;36m<module>\u001b[1;34m\u001b[0m\n\u001b[0;32m      1\u001b[0m \u001b[1;31m# Use MNE to extract TFR\u001b[0m\u001b[1;33m\u001b[0m\u001b[1;33m\u001b[0m\u001b[1;33m\u001b[0m\u001b[0m\n\u001b[0;32m      2\u001b[0m \u001b[0minfo\u001b[0m \u001b[1;33m=\u001b[0m \u001b[0mmne\u001b[0m\u001b[1;33m.\u001b[0m\u001b[0mcreate_info\u001b[0m\u001b[1;33m(\u001b[0m\u001b[0mch_names\u001b[0m\u001b[1;33m=\u001b[0m\u001b[1;33m[\u001b[0m\u001b[1;34m'signal'\u001b[0m\u001b[1;33m]\u001b[0m\u001b[1;33m,\u001b[0m \u001b[0msfreq\u001b[0m\u001b[1;33m=\u001b[0m\u001b[1;36m256\u001b[0m\u001b[1;33m,\u001b[0m \u001b[0mch_types\u001b[0m\u001b[1;33m=\u001b[0m\u001b[1;33m[\u001b[0m\u001b[1;34m'misc'\u001b[0m\u001b[1;33m]\u001b[0m\u001b[1;33m)\u001b[0m\u001b[1;33m\u001b[0m\u001b[1;33m\u001b[0m\u001b[0m\n\u001b[1;32m----> 3\u001b[1;33m \u001b[0mraw\u001b[0m \u001b[1;33m=\u001b[0m \u001b[0mmne\u001b[0m\u001b[1;33m.\u001b[0m\u001b[0mEpochsArray\u001b[0m\u001b[1;33m(\u001b[0m\u001b[0mraw_timecourse_subj0_IC0\u001b[0m\u001b[1;33m[\u001b[0m\u001b[0mnp\u001b[0m\u001b[1;33m.\u001b[0m\u001b[0mnewaxis\u001b[0m\u001b[1;33m,\u001b[0m \u001b[1;36m0\u001b[0m\u001b[1;33m,\u001b[0m \u001b[1;33m:\u001b[0m\u001b[1;33m]\u001b[0m\u001b[1;33m,\u001b[0m \u001b[0minfo\u001b[0m\u001b[1;33m,\u001b[0m \u001b[0mverbose\u001b[0m\u001b[1;33m=\u001b[0m\u001b[1;32mFalse\u001b[0m\u001b[1;33m)\u001b[0m \u001b[1;31m# x.reshape(1, -1)[np.newaxis, :, :]\u001b[0m\u001b[1;33m\u001b[0m\u001b[1;33m\u001b[0m\u001b[0m\n\u001b[0m\u001b[0;32m      4\u001b[0m \u001b[0mn_cycles\u001b[0m \u001b[1;33m=\u001b[0m \u001b[0mfreq\u001b[0m\u001b[1;33m/\u001b[0m\u001b[1;36m2\u001b[0m\u001b[1;33m\u001b[0m\u001b[1;33m\u001b[0m\u001b[0m\n\u001b[0;32m      5\u001b[0m \u001b[0mtfr\u001b[0m \u001b[1;33m=\u001b[0m \u001b[0mmne\u001b[0m\u001b[1;33m.\u001b[0m\u001b[0mtime_frequency\u001b[0m\u001b[1;33m.\u001b[0m\u001b[0mtfr_morlet\u001b[0m\u001b[1;33m(\u001b[0m\u001b[0mraw\u001b[0m\u001b[1;33m,\u001b[0m \u001b[0mfreqs\u001b[0m\u001b[1;33m=\u001b[0m\u001b[0mfreq\u001b[0m\u001b[1;33m,\u001b[0m \u001b[0mn_cycles\u001b[0m\u001b[1;33m=\u001b[0m\u001b[0mn_cycles\u001b[0m\u001b[1;33m,\u001b[0m \u001b[0mpicks\u001b[0m\u001b[1;33m=\u001b[0m\u001b[1;34m'misc'\u001b[0m\u001b[1;33m,\u001b[0m \u001b[0mreturn_itc\u001b[0m\u001b[1;33m=\u001b[0m\u001b[1;32mFalse\u001b[0m\u001b[1;33m)\u001b[0m\u001b[1;33m\u001b[0m\u001b[1;33m\u001b[0m\u001b[0m\n",
      "\u001b[1;32m<decorator-gen-226>\u001b[0m in \u001b[0;36m__init__\u001b[1;34m(self, data, info, events, tmin, event_id, reject, flat, reject_tmin, reject_tmax, baseline, proj, on_missing, metadata, selection, verbose)\u001b[0m\n",
      "\u001b[1;32mC:\\ProgramData\\Anaconda3\\lib\\site-packages\\mne\\epochs.py\u001b[0m in \u001b[0;36m__init__\u001b[1;34m(self, data, info, events, tmin, event_id, reject, flat, reject_tmin, reject_tmax, baseline, proj, on_missing, metadata, selection, verbose)\u001b[0m\n\u001b[0;32m   2663\u001b[0m         \u001b[0mdata\u001b[0m \u001b[1;33m=\u001b[0m \u001b[0mnp\u001b[0m\u001b[1;33m.\u001b[0m\u001b[0masanyarray\u001b[0m\u001b[1;33m(\u001b[0m\u001b[0mdata\u001b[0m\u001b[1;33m,\u001b[0m \u001b[0mdtype\u001b[0m\u001b[1;33m=\u001b[0m\u001b[0mdtype\u001b[0m\u001b[1;33m)\u001b[0m\u001b[1;33m\u001b[0m\u001b[1;33m\u001b[0m\u001b[0m\n\u001b[0;32m   2664\u001b[0m         \u001b[1;32mif\u001b[0m \u001b[0mdata\u001b[0m\u001b[1;33m.\u001b[0m\u001b[0mndim\u001b[0m \u001b[1;33m!=\u001b[0m \u001b[1;36m3\u001b[0m\u001b[1;33m:\u001b[0m\u001b[1;33m\u001b[0m\u001b[1;33m\u001b[0m\u001b[0m\n\u001b[1;32m-> 2665\u001b[1;33m             raise ValueError('Data must be a 3D array of shape (n_epochs, '\n\u001b[0m\u001b[0;32m   2666\u001b[0m                              'n_channels, n_samples)')\n\u001b[0;32m   2667\u001b[0m \u001b[1;33m\u001b[0m\u001b[0m\n",
      "\u001b[1;31mValueError\u001b[0m: Data must be a 3D array of shape (n_epochs, n_channels, n_samples)"
     ]
    }
   ],
   "source": [
    "# Use MNE to extract TFR\n",
    "info = mne.create_info(ch_names=['signal'], sfreq=256, ch_types=['misc'])\n",
    "raw = mne.EpochsArray(raw_timecourse_subj0_IC0[np.newaxis, 0, :], info, verbose=False) # x.reshape(1, -1)[np.newaxis, :, :]\n",
    "n_cycles = freq/2\n",
    "tfr = mne.time_frequency.tfr_morlet(raw, freqs=freq, n_cycles=n_cycles, picks='misc', return_itc=False)\n",
    "\n",
    "plt.title('Wavelet transform')\n",
    "plt.imshow(tfr._data[0][:, :10*256], aspect='auto', origin='lower', extent=[0, 10, 10, 50], cmap='RdBu_r')\n",
    "plt.xlabel('Time (s)')\n",
    "plt.ylabel('Frequencies (Hz)')\n",
    "plt.tight_layout()\n",
    "plt.savefig('tde-hmm.png', dpi=600)"
   ]
  }
 ],
 "metadata": {
  "kernelspec": {
   "display_name": "Python 3",
   "language": "python",
   "name": "python3"
  },
  "language_info": {
   "codemirror_mode": {
    "name": "ipython",
    "version": 3
   },
   "file_extension": ".py",
   "mimetype": "text/x-python",
   "name": "python",
   "nbconvert_exporter": "python",
   "pygments_lexer": "ipython3",
   "version": "3.7.3"
  }
 },
 "nbformat": 4,
 "nbformat_minor": 2
}
