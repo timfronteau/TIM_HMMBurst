{
 "cells": [
  {
   "cell_type": "markdown",
   "metadata": {},
   "source": [
    "# Final: saving all HMM data, of which the states timecourses."
   ]
  },
  {
   "cell_type": "markdown",
   "metadata": {},
   "source": [
    "## The libraries and methods we need:"
   ]
  },
  {
   "cell_type": "code",
   "execution_count": 1,
   "metadata": {},
   "outputs": [],
   "source": [
    "import numpy as np"
   ]
  },
  {
   "cell_type": "code",
   "execution_count": 3,
   "metadata": {},
   "outputs": [],
   "source": [
    "import matplotlib.pyplot as plt"
   ]
  },
  {
   "cell_type": "code",
   "execution_count": 5,
   "metadata": {},
   "outputs": [],
   "source": [
    "import xarray as xr"
   ]
  },
  {
   "cell_type": "code",
   "execution_count": 6,
   "metadata": {},
   "outputs": [],
   "source": [
    "# directory = \"E:/timot/Documents/1 - Centrale Marseille/0.5 - Semestre S8/Stage/NIC_250819\"\n",
    "# file = \"FCK_LOCKED_IC_JYOTIKA_250819.mat\"\n",
    "\n",
    "# path = f\"{directory}/{file}\"\n",
    "\n",
    "# mat_file = h5py.File(path, \"r\")\n",
    "# cells_refs = mat_file['FCK_LOCKED_IC_JYOTIKA']\n",
    "\n",
    "n_IC = 4\n",
    "n_subj = 23"
   ]
  },
  {
   "cell_type": "markdown",
   "metadata": {},
   "source": [
    "## The routine:"
   ]
  },
  {
   "cell_type": "code",
   "execution_count": 7,
   "metadata": {},
   "outputs": [],
   "source": [
    "lags = np.arange(-29, 29)\n",
    "n_lags = lags.shape[0]\n",
    "n_iter=100\n",
    "n_states=6    # for the Hidden Markov Model\n",
    "n_components=40     # For the principal component analysis\n",
    "covariance_type='diag'\n",
    "model_type='GMMHMM'\n",
    "tol=0.01\n",
    "n_mix=1\n",
    "\n",
    "origin_dir = \"tde-hmm2/6st_1IC/nc_files/\"\n",
    "target_dir = \"tde-hmm2/6st_1IC/png_files/\""
   ]
  },
  {
   "cell_type": "code",
   "execution_count": 8,
   "metadata": {},
   "outputs": [],
   "source": [
    "# subj_list = [i for i in range(2,9)] + [i for i in range(10,13)] + [14] + [i for i in range(16, n_subj+1)] \n",
    "                                                                            # All except subjects 1, 9, 13, 15\n",
    "for subj in range(2,8):\n",
    "    ds = xr.open_dataset(origin_dir+f\"su{subj}-{n_states}states_data.nc\")\n",
    "    ds = ds.assign(frac_occ = (ds[\"states_timecourse\"].sum(\"trials\")/ds.sizes[\"trials\"]))\n",
    "    ds.to_netcdf(origin_dir+f\"/su{subj}-{n_states}states_data_v2.nc\", mode=\"w\")\n",
    "    ds.close()"
   ]
  },
  {
   "cell_type": "code",
   "execution_count": 10,
   "metadata": {},
   "outputs": [
    {
     "name": "stdout",
     "output_type": "stream",
     "text": [
      "su2 IC1\n",
      "su2 IC2\n",
      "su2 IC3\n",
      "su2 IC4\n",
      "su3 IC1\n",
      "su3 IC2\n",
      "su3 IC3\n",
      "su3 IC4\n",
      "su4 IC1\n",
      "su4 IC2\n",
      "su4 IC3\n",
      "su4 IC4\n",
      "su5 IC1\n",
      "su5 IC3\n",
      "su5 IC4\n",
      "su6 IC1\n",
      "su6 IC2\n",
      "su6 IC3\n",
      "su6 IC4\n",
      "su7 IC1\n",
      "su7 IC2\n",
      "su7 IC3\n",
      "su7 IC4\n"
     ]
    }
   ],
   "source": [
    "for subj in range(2,8):\n",
    "    ds = xr.open_dataset(origin_dir+f\"su{subj}-{n_states}states_data_v2.nc\")\n",
    "    for i in range(len(ds[\"IC\"].values)):\n",
    "        labels = [f\"state {state}\" for state in ds[\"states\"].values]\n",
    "        fig = plt.figure(figsize=(14,6))\n",
    "        plt.subplot(121)\n",
    "        plt.title(f'Frac. Occupancy')\n",
    "        plt.plot(ds[\"time\"], ds[\"frac_occ\"].values[i,])\n",
    "        plt.xlabel('Time (s)')\n",
    "        plt.ylabel('Frac. occupancy')\n",
    "        plt.legend(labels, loc='upper left')\n",
    "        plt.subplot(122)\n",
    "        plt.title(f'Power Spectrum Density')\n",
    "        plt.plot(ds[\"freq\"], ds[\"states_psd\"].values[i,].T)\n",
    "        plt.xlabel('Frequency (Hz)')\n",
    "        plt.ylabel('PSD')\n",
    "        plt.legend(labels, loc='upper right')\n",
    "        plt.savefig(target_dir+f\"su{subj}IC{ds['IC'].values[i]}-frac_occ.png\", dpi=300)\n",
    "        plt.close(fig)\n",
    "        print(f\"su{subj} IC{ds['IC'].values[i]}\")\n",
    "    ds.close()"
   ]
  }
 ],
 "metadata": {
  "kernelspec": {
   "display_name": "Python 3",
   "language": "python",
   "name": "python3"
  },
  "language_info": {
   "codemirror_mode": {
    "name": "ipython",
    "version": 3
   },
   "file_extension": ".py",
   "mimetype": "text/x-python",
   "name": "python",
   "nbconvert_exporter": "python",
   "pygments_lexer": "ipython3",
   "version": "3.7.3"
  }
 },
 "nbformat": 4,
 "nbformat_minor": 2
}
