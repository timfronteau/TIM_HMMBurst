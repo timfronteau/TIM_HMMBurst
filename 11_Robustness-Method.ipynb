{
 "cells": [
  {
   "cell_type": "markdown",
   "metadata": {},
   "source": [
    "# Final: saving all HMM data, of which the states timecourses."
   ]
  },
  {
   "cell_type": "markdown",
   "metadata": {},
   "source": [
    "## The libraries and methods we need:"
   ]
  },
  {
   "cell_type": "code",
   "execution_count": 1,
   "metadata": {},
   "outputs": [],
   "source": [
    "import numpy as np\n",
    "from loader import load_oneIC"
   ]
  },
  {
   "cell_type": "code",
   "execution_count": 2,
   "metadata": {},
   "outputs": [],
   "source": [
    "from sklearn.decomposition import PCA\n",
    "from hmmlearn import hmm\n",
    "import scipy.signal as signal\n",
    "import pickle"
   ]
  },
  {
   "cell_type": "code",
   "execution_count": 3,
   "metadata": {},
   "outputs": [],
   "source": [
    "import matplotlib.pyplot as plt"
   ]
  },
  {
   "cell_type": "code",
   "execution_count": 4,
   "metadata": {},
   "outputs": [],
   "source": [
    "import h5py"
   ]
  },
  {
   "cell_type": "code",
   "execution_count": 5,
   "metadata": {},
   "outputs": [],
   "source": [
    "import xarray as xr"
   ]
  },
  {
   "cell_type": "code",
   "execution_count": 6,
   "metadata": {},
   "outputs": [],
   "source": [
    "directory = \"E:/timot/Documents/1 - Centrale Marseille/0.5 - Semestre S8/Stage/NIC_250819\"\n",
    "file = \"FCK_LOCKED_IC_JYOTIKA_250819.mat\"\n",
    "\n",
    "path = f\"{directory}/{file}\"\n",
    "\n",
    "mat_file = h5py.File(path, \"r\")\n",
    "cells_refs = mat_file['FCK_LOCKED_IC_JYOTIKA']\n",
    "\n",
    "n_IC = 4\n",
    "n_subj = 23"
   ]
  },
  {
   "cell_type": "markdown",
   "metadata": {},
   "source": [
    "## Functions:"
   ]
  },
  {
   "cell_type": "markdown",
   "metadata": {},
   "source": [
    "### Cumputing functions:"
   ]
  },
  {
   "cell_type": "code",
   "execution_count": 20,
   "metadata": {},
   "outputs": [],
   "source": [
    "# The embedx function copies the `x` array len(lags) times into `xe`\n",
    "# with lags (i.e. time delays) between lags[0] and lags[-1] (we implement the time-delay array for the HMM).\n",
    "\n",
    "def embedx(x, lags):\n",
    "    \n",
    "    Xe = np.zeros((x.shape[1], x.shape[0],  len(lags)))\n",
    "\n",
    "    for l in range(len(lags)):\n",
    "        Xe[:, :, l] = np.roll(x, lags[l], axis=0).swapaxes(0, 1)\n",
    "\n",
    "    # Remove edges\n",
    "    valid = np.ones((x.shape[0], 1), dtype=np.int8)\n",
    "    valid[:np.abs(np.min(lags)), :] = 0\n",
    "    valid[-np.abs(np.max(lags)):, :] = 0\n",
    "\n",
    "    Xe = Xe[:, valid[:, 0] == 1, :]\n",
    "\n",
    "    return Xe, valid\n",
    "\n",
    "\n",
    "# The hmm_tde function finds parameters for the HMM,\n",
    "# then uses them to determine the probability of presence of each found state over time.\n",
    "\n",
    "def hmm_tde(y: np.array, lags, subj, IC, n_lags, n_states=3, n_iter=100, n_components=8, \n",
    "            covariance_type='full', model_type='GMMHMM', tol=0.01, n_mix=1, **kwargs):\n",
    "    \n",
    "    if model_type=='GMMHMM':\n",
    "        model = hmm.GMMHMM(n_components=n_states, n_iter=n_iter,\n",
    "                            covariance_type=covariance_type, tol=tol, n_mix=n_mix, **kwargs)\n",
    "        \n",
    "    elif model_type=='GaussianHMM':\n",
    "        model = hmm.GaussianHMM(n_components=n_states, n_iter=n_iter,\n",
    "                            covariance_type=covariance_type, tol=tol, **kwargs)\n",
    "        \n",
    "    elif model_type=='MultinomialHMM':\n",
    "        model = hmm.MultinomialHMM(n_components=n_states, n_iter=n_iter, tol=tol, **kwargs)\n",
    "    \n",
    "    else: \n",
    "        return \"Non-exixting model_type. Please choose 'GMMHMM' or 'GaussianHMM' or 'MultinomialHMM'. default='GMMHMM'\"\n",
    "        \n",
    "    model.fit(y)\n",
    "    gamma = model.predict_proba(y)\n",
    "\n",
    "    return gamma, model"
   ]
  },
  {
   "cell_type": "markdown",
   "metadata": {},
   "source": [
    "## The routine:"
   ]
  },
  {
   "cell_type": "markdown",
   "metadata": {},
   "source": [
    "#### Model and parameters:\n",
    "|_ 58delays x (7s x 256Hz x 10trials)   -----PCA-----> |_ 40components x (7s x 256Hz x 10trials) -----> |_ TDE-HMM\n",
    "                                                                                                        (\n",
    "                                                                                                        1 Gaussian/state,\n",
    "                                                                                                        3 states\n",
    "                                                                                                        )"
   ]
  },
  {
   "cell_type": "code",
   "execution_count": 8,
   "metadata": {},
   "outputs": [],
   "source": [
    "# The parameters we change to hope for some results\n",
    "lags = np.arange(-29, 29)\n",
    "n_lags = lags.shape[0]\n",
    "n_iter=100\n",
    "n_states=3    # for the Hidden Markov Model\n",
    "n_components=40     # For the principal component analysis\n",
    "covariance_type='diag'\n",
    "model_type='GMMHMM'\n",
    "tol=0.01\n",
    "n_mix=1"
   ]
  },
  {
   "cell_type": "code",
   "execution_count": 24,
   "metadata": {},
   "outputs": [
    {
     "name": "stdout",
     "output_type": "stream",
     "text": [
      "Loading the raw timecourse\n",
      "Loading the raw timecourse\n",
      "Loading the raw timecourse\n",
      "Loading the raw timecourse\n"
     ]
    }
   ],
   "source": [
    "subj = 2\n",
    "\n",
    "# Loading all data for subject{subj}, IC{IC}\n",
    "datall = []\n",
    "for IC in range(1, n_IC+1):\n",
    "    data, n_trials = load_oneIC(mat_file, cells_refs, subj, IC, comp=False)\n",
    "    big_timecourse = np.concatenate([data[f'raw_timecourse_256Hz'][i] for i in range(n_trials)])\n",
    "    x = big_timecourse.reshape(-1, 1)\n",
    "    xe, valid = embedx(x, lags)\n",
    "    pca = PCA(n_components=n_components)\n",
    "    y = pca.fit_transform(xe[0, :, :])\n",
    "    datall.append(y)\n",
    "# ds = xr.open_dataset(origin_dir+f\"/su{subj}-3states_data.nc\")"
   ]
  },
  {
   "cell_type": "code",
   "execution_count": 27,
   "metadata": {},
   "outputs": [
    {
     "data": {
      "text/plain": [
       "(1210218, 160)"
      ]
     },
     "execution_count": 27,
     "metadata": {},
     "output_type": "execute_result"
    }
   ],
   "source": [
    "y = np.concatenate(datall, axis=1)\n",
    "gamma, model = hmm_tde(y, lags, subj, IC, n_lags, n_iter=n_iter, n_states=n_states, n_components=n_components, \n",
    "                           covariance_type=covariance_type, model_type=model_type, tol=tol, n_mix=n_mix)\n"
   ]
  },
  {
   "cell_type": "code",
   "execution_count": 9,
   "metadata": {},
   "outputs": [
    {
     "name": "stdout",
     "output_type": "stream",
     "text": [
      "Loading the raw timecourse\n",
      "Loading the raw timecourse\n",
      "Loading the raw timecourse\n",
      "Loading the raw timecourse\n"
     ]
    }
   ],
   "source": [
    "subj = 2\n",
    "\n",
    "# Loading all data for subject{subj}, IC{IC}\n",
    "datall = []\n",
    "for IC in range(1, n_IC+1):\n",
    "    data, n_trials = load_oneIC(mat_file, cells_refs, subj, IC, comp=False)\n",
    "    big_timecourse = np.concatenate([data[f'raw_timecourse_256Hz'][i] for i in range(n_trials)])\n",
    "    x = big_timecourse.reshape(-1, 1)\n",
    "    xe, valid = embedx(x, lags)\n",
    "    datall.append(xe)\n",
    "# ds = xr.open_dataset(origin_dir+f\"/su{subj}-3states_data.nc\")"
   ]
  },
  {
   "cell_type": "code",
   "execution_count": 10,
   "metadata": {},
   "outputs": [
    {
     "data": {
      "text/plain": [
       "(1, 1210218, 232)"
      ]
     },
     "execution_count": 10,
     "metadata": {},
     "output_type": "execute_result"
    }
   ],
   "source": [
    "xe = np.concatenate(datall, axis=2)\n",
    "xe.shape"
   ]
  },
  {
   "cell_type": "code",
   "execution_count": 12,
   "metadata": {},
   "outputs": [],
   "source": [
    "pca = PCA(n_components=n_components)\n",
    "y = pca.fit_transform(xe[0, :, :])\n"
   ]
  },
  {
   "cell_type": "code",
   "execution_count": 13,
   "metadata": {},
   "outputs": [
    {
     "data": {
      "text/plain": [
       "(1210218, 40)"
      ]
     },
     "execution_count": 13,
     "metadata": {},
     "output_type": "execute_result"
    }
   ],
   "source": [
    "y.shape"
   ]
  },
  {
   "cell_type": "code",
   "execution_count": 14,
   "metadata": {},
   "outputs": [],
   "source": [
    "gamma, model = hmm_tde(y, lags, subj, IC, n_lags, n_iter=n_iter, n_states=n_states, n_components=n_components, \n",
    "                           covariance_type=covariance_type, model_type=model_type, tol=tol, n_mix=n_mix)"
   ]
  },
  {
   "cell_type": "code",
   "execution_count": 26,
   "metadata": {},
   "outputs": [],
   "source": [
    "def show_bigstates(\n",
    "    gamma, n_states, xe, # the data we need for the plot\n",
    "    \n",
    "    subj, IC, # which IC of which subject is of interest here\n",
    "    \n",
    "    n_components, n_lags, covariance_type, model_type, n_mix, # infos we put in the .png name if we want to save it\n",
    "):\n",
    "\n",
    "    fig = plt.figure(figsize=(6, 6))\n",
    "    plt.title('State Power Spectrum')\n",
    "    max_power = np.zeros(n_states)\n",
    "    psd_all = np.zeros((n_states, 196))\n",
    "    for i in range(n_states):\n",
    "\n",
    "        # Compute PSD separately for each lag\n",
    "        tot = []\n",
    "        for seg in xe[0, gamma[:, i]> .6, :].T:\n",
    "            freqs, psd = signal.welch(x=seg, fs=256, nfft=1000)\n",
    "            tot.append(psd)\n",
    "        psd = np.mean(np.asarray(tot), 0)\n",
    "        \n",
    "        max_power[i] = np.amax(psd[80:])\n",
    "        \n",
    "        psd_all[i] = psd[:196]\n",
    "        plt.plot(freqs[:196], psd_all[i])\n",
    "    \n",
    "    plt.ylabel('PSD')\n",
    "    plt.xlabel('Frequencies (Hz)')\n",
    "    plt.legend([f'state {i+1}' for i in range(n_states)], loc='upper right')\n",
    "    plt.tight_layout()   \n",
    "\n",
    "    plt.savefig(f'tde-hmm2/png_files/test{ts}su{subj}IC{IC}All_lg{n_lags}co{n_components}st{n_states}'\n",
    "                    +f'{n_mix}'+model_type+'_states-info.png', dpi=600)\n",
    "    \n",
    "    plt.close(fig)\n",
    "    \n",
    "    return psd_all, freqs[:196], max_power"
   ]
  },
  {
   "cell_type": "code",
   "execution_count": 18,
   "metadata": {
    "scrolled": true
   },
   "outputs": [
    {
     "data": {
      "text/plain": [
       "(array([[0.00477107, 0.01115938, 0.01525541, 0.02001059, 0.02356244,\n",
       "         0.0249034 , 0.02413552, 0.02208548, 0.01969014, 0.01757487,\n",
       "         0.01597036, 0.01484768, 0.01408261, 0.01355042, 0.01315474,\n",
       "         0.01282893, 0.01253179, 0.01224061, 0.01194228, 0.01162649,\n",
       "         0.01128363, 0.01090635, 0.01049216, 0.01004503, 0.00957496,\n",
       "         0.00909607, 0.00862469, 0.00817881, 0.00777755, 0.00743796,\n",
       "         0.00716896, 0.00696675, 0.00681699, 0.00670425, 0.00662255,\n",
       "         0.00657883, 0.00658623, 0.00665216, 0.00676922, 0.00691416,\n",
       "         0.00705367, 0.00715212, 0.00717775, 0.00710691, 0.00692808,\n",
       "         0.0066458 , 0.00628216, 0.00587288, 0.00545774, 0.0050691 ,\n",
       "         0.00472411, 0.00442445, 0.00416239, 0.00392868, 0.00371747,\n",
       "         0.00352666, 0.00335568, 0.00320338, 0.0030675 , 0.00294533,\n",
       "         0.00283414, 0.00273126, 0.00263421, 0.00254127, 0.00245234,\n",
       "         0.00236913, 0.00229416, 0.00222911, 0.00217363, 0.00212546,\n",
       "         0.00208168, 0.00204014, 0.00200008, 0.00196177, 0.00192585,\n",
       "         0.00189294, 0.00186368, 0.00183881, 0.00181872, 0.00180296,\n",
       "         0.00179003, 0.00177797, 0.00176528, 0.00175133, 0.00173596,\n",
       "         0.0017187 , 0.00169856, 0.00167454, 0.00164649, 0.00161549,\n",
       "         0.00158338, 0.00155197, 0.00152243, 0.00149518, 0.00147003,\n",
       "         0.00144647, 0.00142404, 0.0014026 , 0.0013825 , 0.0013643 ,\n",
       "         0.00134844, 0.00133503, 0.00132406, 0.00131578, 0.00131081,\n",
       "         0.00130983, 0.00131339, 0.0013219 , 0.00133616, 0.00135761,\n",
       "         0.00138812, 0.00142904, 0.0014801 , 0.00153857, 0.00159927,\n",
       "         0.00165522, 0.00169874, 0.00172279, 0.00172226, 0.00169516,\n",
       "         0.0016432 , 0.00157148, 0.00148724, 0.0013982 , 0.00131108,\n",
       "         0.00123068, 0.0011597 , 0.00109873, 0.00104663, 0.00100112,\n",
       "         0.00095976, 0.00092082, 0.00088382, 0.00084924, 0.00081787,\n",
       "         0.00079009, 0.00076573, 0.00074429, 0.00072528, 0.00070844,\n",
       "         0.00069363, 0.00068066, 0.00066918, 0.0006587 , 0.00064874,\n",
       "         0.00063897, 0.0006293 , 0.00061985, 0.00061089, 0.00060266,\n",
       "         0.00059516, 0.00058817, 0.0005813 , 0.00057422, 0.0005668 ,\n",
       "         0.00055916, 0.00055166, 0.00054465, 0.00053828, 0.0005324 ,\n",
       "         0.0005266 , 0.00052049, 0.00051397, 0.00050728, 0.00050091,\n",
       "         0.0004953 , 0.00049053, 0.00048631, 0.0004821 , 0.00047746,\n",
       "         0.00047229, 0.00046683, 0.00046146, 0.00045645, 0.00045176,\n",
       "         0.00044723, 0.00044275, 0.0004383 , 0.00043394, 0.00042973,\n",
       "         0.00042573, 0.00042213, 0.00041921, 0.00041726, 0.00041656,\n",
       "         0.00041737, 0.00042005, 0.00042593, 0.00043968, 0.00047199,\n",
       "         0.00053949, 0.0006575 , 0.00082657, 0.00102092, 0.00119018,\n",
       "         0.00127888],\n",
       "        [0.00533425, 0.01245134, 0.01702218, 0.02250547, 0.02696411,\n",
       "         0.02929522, 0.02947031, 0.02815581, 0.02614373, 0.02399367,\n",
       "         0.02198448, 0.02022785, 0.01877115, 0.0176308 , 0.01679019,\n",
       "         0.01620194, 0.01580121, 0.01551952, 0.01529571, 0.01508713,\n",
       "         0.01487941, 0.014687  , 0.01454039, 0.01446822, 0.01448993,\n",
       "         0.01462901, 0.01493949, 0.01552493, 0.01653407, 0.01814144,\n",
       "         0.02054161, 0.02397663, 0.02877619, 0.03535241, 0.04409346,\n",
       "         0.05514885, 0.06816347, 0.08206614, 0.09503915, 0.10477889,\n",
       "         0.10907388, 0.10656134, 0.09734464, 0.08311489, 0.06662429,\n",
       "         0.05072459, 0.03745351, 0.02760843, 0.02091812, 0.01656889,\n",
       "         0.01371573, 0.01174839, 0.0103129 , 0.00922137, 0.00836715,\n",
       "         0.00768253, 0.00712307, 0.00665929, 0.00627084, 0.00594408,\n",
       "         0.00567092, 0.00544593, 0.00526231, 0.00511012, 0.00497815,\n",
       "         0.00485822, 0.00474856, 0.00465439, 0.00458571, 0.00455421,\n",
       "         0.00457098, 0.00464483, 0.0047806 , 0.00497734, 0.00522764,\n",
       "         0.00551923, 0.00583755, 0.00616652, 0.00648583, 0.0067666 ,\n",
       "         0.00696978, 0.00705111, 0.0069725 , 0.00671591, 0.00629331,\n",
       "         0.00574757, 0.00514274, 0.00454661, 0.00401272, 0.00356904,\n",
       "         0.00321769, 0.00294372, 0.00272695, 0.00255054, 0.00240391,\n",
       "         0.00228146, 0.00218039, 0.00209917, 0.00203667, 0.00199144,\n",
       "         0.00196092, 0.00194161, 0.00193003, 0.00192424, 0.00192444,\n",
       "         0.00193219, 0.00194861, 0.00197271, 0.00200135, 0.00203074,\n",
       "         0.00205854, 0.00208469, 0.00211011, 0.00213424, 0.00215318,\n",
       "         0.00216032, 0.00214897, 0.00211542, 0.00206032, 0.00198773,\n",
       "         0.00190298, 0.00181088, 0.0017153 , 0.00161978, 0.00152812,\n",
       "         0.00144384, 0.00136909, 0.00130363, 0.00124512, 0.00119054,\n",
       "         0.00113779, 0.00108656, 0.00103808, 0.00099415, 0.00095629,\n",
       "         0.00092517, 0.00090048, 0.00088093, 0.00086453, 0.00084903,\n",
       "         0.00083258, 0.00081424, 0.00079423, 0.00077385, 0.00075486,\n",
       "         0.00073884, 0.00072659, 0.00071794, 0.00071191, 0.00070717,\n",
       "         0.00070252, 0.0006972 , 0.00069091, 0.00068372, 0.00067587,\n",
       "         0.00066783, 0.00066013, 0.00065318, 0.00064698, 0.00064114,\n",
       "         0.00063527, 0.00062946, 0.00062433, 0.00062054, 0.00061795,\n",
       "         0.00061544, 0.00061135, 0.00060447, 0.00059477, 0.00058329,\n",
       "         0.00057148, 0.00056047, 0.00055073, 0.00054223, 0.0005348 ,\n",
       "         0.00052834, 0.00052281, 0.00051806, 0.0005138 , 0.00050976,\n",
       "         0.00050582, 0.00050209, 0.00049894, 0.00049697, 0.00049708,\n",
       "         0.00050032, 0.00050764, 0.00052002, 0.00053957, 0.00057111,\n",
       "         0.00062234, 0.00070022, 0.00080393, 0.00091883, 0.00101738,\n",
       "         0.00106939],\n",
       "        [0.00375347, 0.00882189, 0.01218005, 0.01616748, 0.01932905,\n",
       "         0.02085222, 0.02075537, 0.01959878, 0.01803831, 0.01653011,\n",
       "         0.01527507, 0.01430343, 0.01357054, 0.01300986, 0.01255527,\n",
       "         0.01215415, 0.01177533, 0.01140838, 0.01105599, 0.01072557,\n",
       "         0.01042336, 0.01015137, 0.00990753, 0.00968918, 0.00949893,\n",
       "         0.00935036, 0.00927271, 0.00931581, 0.00955906, 0.01013009,\n",
       "         0.01123439, 0.01317574, 0.0163169 , 0.02092767, 0.02693229,\n",
       "         0.03368289, 0.0399534 , 0.04426985, 0.04547851, 0.04325439,\n",
       "         0.03824541, 0.03176387, 0.02521948, 0.01962129, 0.01537853,\n",
       "         0.01240757, 0.01038507, 0.00897154, 0.00792189, 0.00709708,\n",
       "         0.00643061, 0.00589107, 0.0054577 , 0.0051097 , 0.00482546,\n",
       "         0.00458584, 0.00437668, 0.00418875, 0.00401635, 0.00385641,\n",
       "         0.00370798, 0.00357145, 0.00344763, 0.00333732, 0.00324183,\n",
       "         0.00316362, 0.00310611, 0.00307288, 0.00306701, 0.00309118,\n",
       "         0.00314741, 0.00323537, 0.00334909, 0.00347409, 0.00358771,\n",
       "         0.00366439, 0.00368394, 0.00363888, 0.00353638, 0.00339391,\n",
       "         0.00323159, 0.00306563, 0.00290583, 0.00275661, 0.00261927,\n",
       "         0.00249356, 0.0023785 , 0.00227311, 0.00217721, 0.00209178,\n",
       "         0.00201834, 0.0019577 , 0.00190895, 0.00186949, 0.00183607,\n",
       "         0.00180623, 0.00177937, 0.00175697, 0.00174198, 0.0017378 ,\n",
       "         0.00174743, 0.00177285, 0.00181477, 0.00187264, 0.00194477,\n",
       "         0.00202899, 0.00212335, 0.00222643, 0.00233666, 0.00245111,\n",
       "         0.00256439, 0.00266876, 0.00275513, 0.00281468, 0.00283994,\n",
       "         0.00282559, 0.00276892, 0.00267061, 0.00253541, 0.00237212,\n",
       "         0.00219251, 0.00200915, 0.00183293, 0.00167158, 0.0015293 ,\n",
       "         0.00140733, 0.00130483, 0.0012195 , 0.00114814, 0.00108744,\n",
       "         0.00103479, 0.00098866, 0.00094843, 0.00091372, 0.00088389,\n",
       "         0.00085791, 0.00083462, 0.00081313, 0.000793  , 0.00077429,\n",
       "         0.00075728, 0.00074213, 0.00072871, 0.00071654, 0.00070499,\n",
       "         0.00069352, 0.00068195, 0.00067042, 0.00065932, 0.00064893,\n",
       "         0.00063927, 0.0006301 , 0.00062119, 0.00061258, 0.00060456,\n",
       "         0.00059745, 0.00059123, 0.00058559, 0.00058009, 0.00057452,\n",
       "         0.00056888, 0.00056324, 0.00055747, 0.0005513 , 0.00054446,\n",
       "         0.00053699, 0.0005292 , 0.00052153, 0.00051437, 0.00050795,\n",
       "         0.00050234, 0.00049744, 0.00049303, 0.00048875, 0.00048433,\n",
       "         0.00047972, 0.0004752 , 0.00047115, 0.00046786, 0.00046538,\n",
       "         0.00046352, 0.00046212, 0.0004612 , 0.00046104, 0.00046217,\n",
       "         0.00046522, 0.00047105, 0.00048139, 0.00050009, 0.00053426,\n",
       "         0.0005932 , 0.00068363, 0.00080217, 0.00093012, 0.00103593,\n",
       "         0.00108718]]),\n",
       " array([ 0.   ,  0.256,  0.512,  0.768,  1.024,  1.28 ,  1.536,  1.792,\n",
       "         2.048,  2.304,  2.56 ,  2.816,  3.072,  3.328,  3.584,  3.84 ,\n",
       "         4.096,  4.352,  4.608,  4.864,  5.12 ,  5.376,  5.632,  5.888,\n",
       "         6.144,  6.4  ,  6.656,  6.912,  7.168,  7.424,  7.68 ,  7.936,\n",
       "         8.192,  8.448,  8.704,  8.96 ,  9.216,  9.472,  9.728,  9.984,\n",
       "        10.24 , 10.496, 10.752, 11.008, 11.264, 11.52 , 11.776, 12.032,\n",
       "        12.288, 12.544, 12.8  , 13.056, 13.312, 13.568, 13.824, 14.08 ,\n",
       "        14.336, 14.592, 14.848, 15.104, 15.36 , 15.616, 15.872, 16.128,\n",
       "        16.384, 16.64 , 16.896, 17.152, 17.408, 17.664, 17.92 , 18.176,\n",
       "        18.432, 18.688, 18.944, 19.2  , 19.456, 19.712, 19.968, 20.224,\n",
       "        20.48 , 20.736, 20.992, 21.248, 21.504, 21.76 , 22.016, 22.272,\n",
       "        22.528, 22.784, 23.04 , 23.296, 23.552, 23.808, 24.064, 24.32 ,\n",
       "        24.576, 24.832, 25.088, 25.344, 25.6  , 25.856, 26.112, 26.368,\n",
       "        26.624, 26.88 , 27.136, 27.392, 27.648, 27.904, 28.16 , 28.416,\n",
       "        28.672, 28.928, 29.184, 29.44 , 29.696, 29.952, 30.208, 30.464,\n",
       "        30.72 , 30.976, 31.232, 31.488, 31.744, 32.   , 32.256, 32.512,\n",
       "        32.768, 33.024, 33.28 , 33.536, 33.792, 34.048, 34.304, 34.56 ,\n",
       "        34.816, 35.072, 35.328, 35.584, 35.84 , 36.096, 36.352, 36.608,\n",
       "        36.864, 37.12 , 37.376, 37.632, 37.888, 38.144, 38.4  , 38.656,\n",
       "        38.912, 39.168, 39.424, 39.68 , 39.936, 40.192, 40.448, 40.704,\n",
       "        40.96 , 41.216, 41.472, 41.728, 41.984, 42.24 , 42.496, 42.752,\n",
       "        43.008, 43.264, 43.52 , 43.776, 44.032, 44.288, 44.544, 44.8  ,\n",
       "        45.056, 45.312, 45.568, 45.824, 46.08 , 46.336, 46.592, 46.848,\n",
       "        47.104, 47.36 , 47.616, 47.872, 48.128, 48.384, 48.64 , 48.896,\n",
       "        49.152, 49.408, 49.664, 49.92 ]),\n",
       " array([0.00179003, 0.00705111, 0.00323159]))"
      ]
     },
     "execution_count": 18,
     "metadata": {},
     "output_type": "execute_result"
    },
    {
     "data": {
      "image/png": "[encoded data removed]",
      "text/plain": [
       "<Figure size 432x432 with 1 Axes>"
      ]
     },
     "metadata": {
      "needs_background": "light"
     },
     "output_type": "display_data"
    }
   ],
   "source": [
    "show_bigstates(\n",
    "    gamma, n_states, xe, # the data we need for the plot\n",
    "    \n",
    "    subj, IC, # which IC of which subject is of interest here\n",
    "    \n",
    "    n_components, n_lags, covariance_type, model_type, n_mix, # infos we put in the .png name if we want to save it\n",
    ")"
   ]
  },
  {
   "cell_type": "code",
   "execution_count": 24,
   "metadata": {},
   "outputs": [
    {
     "name": "stdout",
     "output_type": "stream",
     "text": [
      "Loading the raw timecourse\n",
      "Loading the raw timecourse\n",
      "Loading the raw timecourse\n",
      "Loading the raw timecourse\n"
     ]
    }
   ],
   "source": [
    "subj = 2\n",
    "\n",
    "# random_state (RandomState or an int seed, optional) – A random number generator instance.       !!!!!!!!\n",
    "\n",
    "# Loading all data for subject{subj}, IC{IC}\n",
    "data, n_trials = load_oneIC(mat_file, cells_refs, subj, 1, comp=False)\n",
    "big_timecourse = np.concatenate([data[f'raw_timecourse_256Hz'][i] for i in range(n_trials)])\n",
    "x = big_timecourse.reshape(-1, 1)\n",
    "xe, valid = embedx(x, lags)\n",
    "pca = PCA(n_components=n_components)\n",
    "y = pca.fit_transform(xe[0, :, :])\n",
    "# ds = xr.open_dataset(origin_dir+f\"/su{subj}-3states_data.nc\")"
   ]
  },
  {
   "cell_type": "code",
   "execution_count": 27,
   "metadata": {},
   "outputs": [
    {
     "name": "stdout",
     "output_type": "stream",
     "text": [
      "test 0: -66341471.35651044\n",
      "test 1: -66341471.353711456\n",
      "test 2: -66341471.35435833\n",
      "test 3: -66341471.355418205\n"
     ]
    },
    {
     "ename": "KeyboardInterrupt",
     "evalue": "",
     "output_type": "error",
     "traceback": [
      "\u001b[1;31m---------------------------------------------------------------------------\u001b[0m",
      "\u001b[1;31mKeyboardInterrupt\u001b[0m                         Traceback (most recent call last)",
      "\u001b[1;32m<ipython-input-27-6a814d273e9f>\u001b[0m in \u001b[0;36m<module>\u001b[1;34m\u001b[0m\n\u001b[0;32m      7\u001b[0m         \u001b[0mgamma\u001b[0m\u001b[1;33m,\u001b[0m \u001b[0mn_states\u001b[0m\u001b[1;33m,\u001b[0m \u001b[0mxe\u001b[0m\u001b[1;33m,\u001b[0m \u001b[1;31m# the data we need for the plot\u001b[0m\u001b[1;33m\u001b[0m\u001b[1;33m\u001b[0m\u001b[0m\n\u001b[0;32m      8\u001b[0m         \u001b[0msubj\u001b[0m\u001b[1;33m,\u001b[0m \u001b[0mIC\u001b[0m\u001b[1;33m,\u001b[0m \u001b[1;31m# which IC of which subject is of interest here\u001b[0m\u001b[1;33m\u001b[0m\u001b[1;33m\u001b[0m\u001b[0m\n\u001b[1;32m----> 9\u001b[1;33m         \u001b[0mn_components\u001b[0m\u001b[1;33m,\u001b[0m \u001b[0mn_lags\u001b[0m\u001b[1;33m,\u001b[0m \u001b[0mcovariance_type\u001b[0m\u001b[1;33m,\u001b[0m \u001b[0mmodel_type\u001b[0m\u001b[1;33m,\u001b[0m \u001b[0mn_mix\u001b[0m\u001b[1;33m,\u001b[0m \u001b[1;31m# infos we put in the .png name if we want to save it\u001b[0m\u001b[1;33m\u001b[0m\u001b[1;33m\u001b[0m\u001b[0m\n\u001b[0m\u001b[0;32m     10\u001b[0m     )\n\u001b[0;32m     11\u001b[0m     \u001b[0mprint\u001b[0m\u001b[1;33m(\u001b[0m\u001b[1;34mf\"test {ts}:\"\u001b[0m\u001b[1;33m,\u001b[0m \u001b[0mmodel\u001b[0m\u001b[1;33m.\u001b[0m\u001b[0mscore\u001b[0m\u001b[1;33m(\u001b[0m\u001b[0my\u001b[0m\u001b[1;33m)\u001b[0m\u001b[1;33m)\u001b[0m\u001b[1;33m\u001b[0m\u001b[1;33m\u001b[0m\u001b[0m\n",
      "\u001b[1;32m<ipython-input-26-2350b0bdddf0>\u001b[0m in \u001b[0;36mshow_bigstates\u001b[1;34m(gamma, n_states, xe, subj, IC, n_components, n_lags, covariance_type, model_type, n_mix)\u001b[0m\n\u001b[0;32m     16\u001b[0m         \u001b[0mtot\u001b[0m \u001b[1;33m=\u001b[0m \u001b[1;33m[\u001b[0m\u001b[1;33m]\u001b[0m\u001b[1;33m\u001b[0m\u001b[1;33m\u001b[0m\u001b[0m\n\u001b[0;32m     17\u001b[0m         \u001b[1;32mfor\u001b[0m \u001b[0mseg\u001b[0m \u001b[1;32min\u001b[0m \u001b[0mxe\u001b[0m\u001b[1;33m[\u001b[0m\u001b[1;36m0\u001b[0m\u001b[1;33m,\u001b[0m \u001b[0mgamma\u001b[0m\u001b[1;33m[\u001b[0m\u001b[1;33m:\u001b[0m\u001b[1;33m,\u001b[0m \u001b[0mi\u001b[0m\u001b[1;33m]\u001b[0m\u001b[1;33m>\u001b[0m \u001b[1;36m.6\u001b[0m\u001b[1;33m,\u001b[0m \u001b[1;33m:\u001b[0m\u001b[1;33m]\u001b[0m\u001b[1;33m.\u001b[0m\u001b[0mT\u001b[0m\u001b[1;33m:\u001b[0m\u001b[1;33m\u001b[0m\u001b[1;33m\u001b[0m\u001b[0m\n\u001b[1;32m---> 18\u001b[1;33m             \u001b[0mfreqs\u001b[0m\u001b[1;33m,\u001b[0m \u001b[0mpsd\u001b[0m \u001b[1;33m=\u001b[0m \u001b[0msignal\u001b[0m\u001b[1;33m.\u001b[0m\u001b[0mwelch\u001b[0m\u001b[1;33m(\u001b[0m\u001b[0mx\u001b[0m\u001b[1;33m=\u001b[0m\u001b[0mseg\u001b[0m\u001b[1;33m,\u001b[0m \u001b[0mfs\u001b[0m\u001b[1;33m=\u001b[0m\u001b[1;36m256\u001b[0m\u001b[1;33m,\u001b[0m \u001b[0mnfft\u001b[0m\u001b[1;33m=\u001b[0m\u001b[1;36m1000\u001b[0m\u001b[1;33m)\u001b[0m\u001b[1;33m\u001b[0m\u001b[1;33m\u001b[0m\u001b[0m\n\u001b[0m\u001b[0;32m     19\u001b[0m             \u001b[0mtot\u001b[0m\u001b[1;33m.\u001b[0m\u001b[0mappend\u001b[0m\u001b[1;33m(\u001b[0m\u001b[0mpsd\u001b[0m\u001b[1;33m)\u001b[0m\u001b[1;33m\u001b[0m\u001b[1;33m\u001b[0m\u001b[0m\n\u001b[0;32m     20\u001b[0m         \u001b[0mpsd\u001b[0m \u001b[1;33m=\u001b[0m \u001b[0mnp\u001b[0m\u001b[1;33m.\u001b[0m\u001b[0mmean\u001b[0m\u001b[1;33m(\u001b[0m\u001b[0mnp\u001b[0m\u001b[1;33m.\u001b[0m\u001b[0masarray\u001b[0m\u001b[1;33m(\u001b[0m\u001b[0mtot\u001b[0m\u001b[1;33m)\u001b[0m\u001b[1;33m,\u001b[0m \u001b[1;36m0\u001b[0m\u001b[1;33m)\u001b[0m\u001b[1;33m\u001b[0m\u001b[1;33m\u001b[0m\u001b[0m\n",
      "\u001b[1;32mC:\\ProgramData\\Anaconda3\\lib\\site-packages\\scipy\\signal\\spectral.py\u001b[0m in \u001b[0;36mwelch\u001b[1;34m(x, fs, window, nperseg, noverlap, nfft, detrend, return_onesided, scaling, axis, average)\u001b[0m\n\u001b[0;32m    453\u001b[0m                      \u001b[0mnoverlap\u001b[0m\u001b[1;33m=\u001b[0m\u001b[0mnoverlap\u001b[0m\u001b[1;33m,\u001b[0m \u001b[0mnfft\u001b[0m\u001b[1;33m=\u001b[0m\u001b[0mnfft\u001b[0m\u001b[1;33m,\u001b[0m \u001b[0mdetrend\u001b[0m\u001b[1;33m=\u001b[0m\u001b[0mdetrend\u001b[0m\u001b[1;33m,\u001b[0m\u001b[1;33m\u001b[0m\u001b[1;33m\u001b[0m\u001b[0m\n\u001b[0;32m    454\u001b[0m                      \u001b[0mreturn_onesided\u001b[0m\u001b[1;33m=\u001b[0m\u001b[0mreturn_onesided\u001b[0m\u001b[1;33m,\u001b[0m \u001b[0mscaling\u001b[0m\u001b[1;33m=\u001b[0m\u001b[0mscaling\u001b[0m\u001b[1;33m,\u001b[0m\u001b[1;33m\u001b[0m\u001b[1;33m\u001b[0m\u001b[0m\n\u001b[1;32m--> 455\u001b[1;33m                      axis=axis, average=average)\n\u001b[0m\u001b[0;32m    456\u001b[0m \u001b[1;33m\u001b[0m\u001b[0m\n\u001b[0;32m    457\u001b[0m     \u001b[1;32mreturn\u001b[0m \u001b[0mfreqs\u001b[0m\u001b[1;33m,\u001b[0m \u001b[0mPxx\u001b[0m\u001b[1;33m.\u001b[0m\u001b[0mreal\u001b[0m\u001b[1;33m\u001b[0m\u001b[1;33m\u001b[0m\u001b[0m\n",
      "\u001b[1;32mC:\\ProgramData\\Anaconda3\\lib\\site-packages\\scipy\\signal\\spectral.py\u001b[0m in \u001b[0;36mcsd\u001b[1;34m(x, y, fs, window, nperseg, noverlap, nfft, detrend, return_onesided, scaling, axis, average)\u001b[0m\n\u001b[0;32m    592\u001b[0m                 \u001b[0mPxy\u001b[0m \u001b[1;33m=\u001b[0m \u001b[0mnp\u001b[0m\u001b[1;33m.\u001b[0m\u001b[0mmedian\u001b[0m\u001b[1;33m(\u001b[0m\u001b[0mPxy\u001b[0m\u001b[1;33m,\u001b[0m \u001b[0maxis\u001b[0m\u001b[1;33m=\u001b[0m\u001b[1;33m-\u001b[0m\u001b[1;36m1\u001b[0m\u001b[1;33m)\u001b[0m \u001b[1;33m/\u001b[0m \u001b[0m_median_bias\u001b[0m\u001b[1;33m(\u001b[0m\u001b[0mPxy\u001b[0m\u001b[1;33m.\u001b[0m\u001b[0mshape\u001b[0m\u001b[1;33m[\u001b[0m\u001b[1;33m-\u001b[0m\u001b[1;36m1\u001b[0m\u001b[1;33m]\u001b[0m\u001b[1;33m)\u001b[0m\u001b[1;33m\u001b[0m\u001b[1;33m\u001b[0m\u001b[0m\n\u001b[0;32m    593\u001b[0m             \u001b[1;32melif\u001b[0m \u001b[0maverage\u001b[0m \u001b[1;33m==\u001b[0m \u001b[1;34m'mean'\u001b[0m\u001b[1;33m:\u001b[0m\u001b[1;33m\u001b[0m\u001b[1;33m\u001b[0m\u001b[0m\n\u001b[1;32m--> 594\u001b[1;33m                 \u001b[0mPxy\u001b[0m \u001b[1;33m=\u001b[0m \u001b[0mPxy\u001b[0m\u001b[1;33m.\u001b[0m\u001b[0mmean\u001b[0m\u001b[1;33m(\u001b[0m\u001b[0maxis\u001b[0m\u001b[1;33m=\u001b[0m\u001b[1;33m-\u001b[0m\u001b[1;36m1\u001b[0m\u001b[1;33m)\u001b[0m\u001b[1;33m\u001b[0m\u001b[1;33m\u001b[0m\u001b[0m\n\u001b[0m\u001b[0;32m    595\u001b[0m             \u001b[1;32melse\u001b[0m\u001b[1;33m:\u001b[0m\u001b[1;33m\u001b[0m\u001b[1;33m\u001b[0m\u001b[0m\n\u001b[0;32m    596\u001b[0m                 raise ValueError('average must be \"median\" or \"mean\", got %s'\n",
      "\u001b[1;32m~\\AppData\\Roaming\\Python\\Python37\\site-packages\\numpy\\core\\_methods.py\u001b[0m in \u001b[0;36m_mean\u001b[1;34m(a, axis, dtype, out, keepdims)\u001b[0m\n\u001b[0;32m    158\u001b[0m             \u001b[0mis_float16_result\u001b[0m \u001b[1;33m=\u001b[0m \u001b[1;32mTrue\u001b[0m\u001b[1;33m\u001b[0m\u001b[1;33m\u001b[0m\u001b[0m\n\u001b[0;32m    159\u001b[0m \u001b[1;33m\u001b[0m\u001b[0m\n\u001b[1;32m--> 160\u001b[1;33m     \u001b[0mret\u001b[0m \u001b[1;33m=\u001b[0m \u001b[0mumr_sum\u001b[0m\u001b[1;33m(\u001b[0m\u001b[0marr\u001b[0m\u001b[1;33m,\u001b[0m \u001b[0maxis\u001b[0m\u001b[1;33m,\u001b[0m \u001b[0mdtype\u001b[0m\u001b[1;33m,\u001b[0m \u001b[0mout\u001b[0m\u001b[1;33m,\u001b[0m \u001b[0mkeepdims\u001b[0m\u001b[1;33m)\u001b[0m\u001b[1;33m\u001b[0m\u001b[1;33m\u001b[0m\u001b[0m\n\u001b[0m\u001b[0;32m    161\u001b[0m     \u001b[1;32mif\u001b[0m \u001b[0misinstance\u001b[0m\u001b[1;33m(\u001b[0m\u001b[0mret\u001b[0m\u001b[1;33m,\u001b[0m \u001b[0mmu\u001b[0m\u001b[1;33m.\u001b[0m\u001b[0mndarray\u001b[0m\u001b[1;33m)\u001b[0m\u001b[1;33m:\u001b[0m\u001b[1;33m\u001b[0m\u001b[1;33m\u001b[0m\u001b[0m\n\u001b[0;32m    162\u001b[0m         ret = um.true_divide(\n",
      "\u001b[1;31mKeyboardInterrupt\u001b[0m: "
     ]
    },
    {
     "data": {
      "image/png": "[encoded data removed]",
      "text/plain": [
       "<Figure size 432x432 with 1 Axes>"
      ]
     },
     "metadata": {
      "needs_background": "light"
     },
     "output_type": "display_data"
    }
   ],
   "source": [
    "for ts in range(5):\n",
    "    gamma, model = hmm_tde(\n",
    "        y, lags, subj, IC, n_lags, n_iter=n_iter, n_states=n_states, n_components=n_components, \n",
    "        covariance_type=covariance_type, model_type=model_type, tol=tol, n_mix=n_mix\n",
    "    )\n",
    "    psd, freqs, max_power = show_bigstates(\n",
    "        gamma, n_states, xe, # the data we need for the plot\n",
    "        subj, IC, # which IC of which subject is of interest here\n",
    "        n_components, n_lags, covariance_type, model_type, n_mix, # infos we put in the .png name if we want to save it\n",
    "    )\n",
    "    print(f\"test {ts}:\", model.score(y))"
   ]
  },
  {
   "cell_type": "code",
   "execution_count": 28,
   "metadata": {},
   "outputs": [
    {
     "name": "stdout",
     "output_type": "stream",
     "text": [
      "Loading the raw timecourse\n"
     ]
    }
   ],
   "source": [
    "subj = 11\n",
    "IC = 3\n",
    "\n",
    "# Loading all data for subject{subj}, IC{IC}\n",
    "data, n_trials = load_oneIC(mat_file, cells_refs, subj, IC, comp=False)\n",
    "big_timecourse = np.concatenate([data[f'raw_timecourse_256Hz'][i] for i in range(n_trials)])\n",
    "x = big_timecourse.reshape(-1, 1)\n",
    "xe, valid = embedx(x, lags)\n",
    "pca = PCA(n_components=n_components)\n",
    "y = pca.fit_transform(xe[0, :, :])\n",
    "# ds = xr.open_dataset(origin_dir+f\"/su{subj}-3states_data.nc\")"
   ]
  },
  {
   "cell_type": "code",
   "execution_count": 29,
   "metadata": {},
   "outputs": [
    {
     "name": "stdout",
     "output_type": "stream",
     "text": [
      "test 0: -39214176.315138936\n",
      "test 1: -39214176.315464154\n",
      "test 2: -39214176.31414524\n",
      "test 3: -39214176.31441659\n"
     ]
    }
   ],
   "source": [
    "for ts in range(4):\n",
    "    gamma, model = hmm_tde(\n",
    "        y, lags, subj, IC, n_lags, n_iter=n_iter, n_states=n_states, n_components=n_components, \n",
    "        covariance_type=covariance_type, model_type=model_type, tol=tol, n_mix=n_mix\n",
    "    )\n",
    "    psd, freqs, max_power = show_bigstates(\n",
    "        gamma, n_states, xe, # the data we need for the plot\n",
    "        subj, IC, # which IC of which subject is of interest here\n",
    "        n_components, n_lags, covariance_type, model_type, n_mix, # infos we put in the .png name if we want to save it\n",
    "    )\n",
    "    print(f\"test {ts}:\", model.score(y))"
   ]
  }
 ],
 "metadata": {
  "kernelspec": {
   "display_name": "Python 3",
   "language": "python",
   "name": "python3"
  },
  "language_info": {
   "codemirror_mode": {
    "name": "ipython",
    "version": 3
   },
   "file_extension": ".py",
   "mimetype": "text/x-python",
   "name": "python",
   "nbconvert_exporter": "python",
   "pygments_lexer": "ipython3",
   "version": "3.8.10"
  }
 },
 "nbformat": 4,
 "nbformat_minor": 2
}
