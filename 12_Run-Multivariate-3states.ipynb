{
 "cells": [
  {
   "cell_type": "markdown",
   "metadata": {},
   "source": [
    "# Final: saving all HMM data, of which the states timecourses."
   ]
  },
  {
   "cell_type": "markdown",
   "metadata": {},
   "source": [
    "## The libraries and methods we need:"
   ]
  },
  {
   "cell_type": "code",
   "execution_count": 3,
   "metadata": {},
   "outputs": [],
   "source": [
    "import numpy as np\n",
    "from loader import load_oneIC"
   ]
  },
  {
   "cell_type": "code",
   "execution_count": 4,
   "metadata": {},
   "outputs": [],
   "source": [
    "from sklearn.decomposition import PCA\n",
    "from hmmlearn import hmm\n",
    "import scipy.signal as signal\n",
    "import pickle"
   ]
  },
  {
   "cell_type": "code",
   "execution_count": 5,
   "metadata": {},
   "outputs": [],
   "source": [
    "import matplotlib.pyplot as plt"
   ]
  },
  {
   "cell_type": "code",
   "execution_count": 6,
   "metadata": {},
   "outputs": [],
   "source": [
    "import h5py"
   ]
  },
  {
   "cell_type": "code",
   "execution_count": 7,
   "metadata": {},
   "outputs": [],
   "source": [
    "import xarray as xr"
   ]
  },
  {
   "cell_type": "code",
   "execution_count": 8,
   "metadata": {},
   "outputs": [],
   "source": [
    "directory = \"/home/INT/malfait.n/Documents/NIC_250819\"\n",
    "file = \"FCK_LOCKED_IC_JYOTIKA_250819.mat\"\n",
    "\n",
    "path = f\"{directory}/{file}\"\n",
    "\n",
    "mat_file = h5py.File(path, \"r\")\n",
    "cells_refs = mat_file['FCK_LOCKED_IC_JYOTIKA']\n",
    "\n",
    "n_IC = 4\n",
    "n_subj = 23"
   ]
  },
  {
   "cell_type": "markdown",
   "metadata": {},
   "source": [
    "## Functions:"
   ]
  },
  {
   "cell_type": "markdown",
   "metadata": {},
   "source": [
    "### Cumputing functions:"
   ]
  },
  {
   "cell_type": "code",
   "execution_count": 11,
   "metadata": {},
   "outputs": [],
   "source": [
    "# The embedx function copies the `x` array len(lags) times into `xe`\n",
    "# with lags (i.e. time delays) between lags[0] and lags[-1] (we implement the time-delay array for the HMM).\n",
    "\n",
    "def embedx(x, lags):\n",
    "    \n",
    "    Xe = np.zeros((x.shape[1], x.shape[0],  len(lags)))\n",
    "\n",
    "    for l in range(len(lags)):\n",
    "        Xe[:, :, l] = np.roll(x, lags[l], axis=0).swapaxes(0, 1)\n",
    "\n",
    "    # Remove edges\n",
    "    valid = np.ones((x.shape[0], 1), dtype=np.int8)\n",
    "    valid[:np.abs(np.min(lags)), :] = 0\n",
    "    valid[-np.abs(np.max(lags)):, :] = 0\n",
    "\n",
    "    Xe = Xe[:, valid[:, 0] == 1, :]\n",
    "\n",
    "    return Xe, valid\n",
    "\n",
    "\n",
    "# The hmm_tde function finds parameters for the HMM,\n",
    "# then uses them to determine the probability of presence of each found state over time.\n",
    "\n",
    "def hmm_tde(y: np.array, n_states=3, n_iter=100, n_components=8, \n",
    "            covariance_type='full', model_type='GMMHMM', tol=0.01, n_mix=1, **kwargs):\n",
    "    \n",
    "    if model_type=='GMMHMM':\n",
    "        model = hmm.GMMHMM(n_components=n_states, n_iter=n_iter,\n",
    "                            covariance_type=covariance_type, tol=tol, n_mix=n_mix, **kwargs)\n",
    "        \n",
    "    elif model_type=='GaussianHMM':\n",
    "        model = hmm.GaussianHMM(n_components=n_states, n_iter=n_iter,\n",
    "                            covariance_type=covariance_type, tol=tol, **kwargs)\n",
    "        \n",
    "    elif model_type=='MultinomialHMM':\n",
    "        model = hmm.MultinomialHMM(n_components=n_states, n_iter=n_iter, tol=tol, **kwargs)\n",
    "    \n",
    "    else: \n",
    "        return \"Non-exixting model_type. Please choose 'GMMHMM' or 'GaussianHMM' or 'MultinomialHMM'. default='GMMHMM'\"\n",
    "        \n",
    "    model.fit(y)\n",
    "    gamma = model.predict_proba(y)\n",
    "\n",
    "    return gamma, model"
   ]
  },
  {
   "cell_type": "code",
   "execution_count": 18,
   "metadata": {},
   "outputs": [],
   "source": [
    "def show_bigstates(\n",
    "    gamma, n_states, xe, # the data we need for the plot\n",
    "    \n",
    "    subj, IC, # which IC of which subject is of interest here\n",
    "    \n",
    "    n_components, n_lags, covariance_type, model_type, n_mix, # infos we put in the .png name if we want to save it\n",
    "):\n",
    "\n",
    "#     fig = plt.figure(figsize=(6, 6))\n",
    "#     plt.title('Power Spectrum Density')\n",
    "    max_power = np.zeros(n_states)\n",
    "    psd_all = np.zeros((n_states, 196))\n",
    "    for i in range(n_states):\n",
    "\n",
    "        # Compute PSD separately for each lag\n",
    "        tot = []\n",
    "        for seg in xe[0, gamma[:, i]> .6, :].T:\n",
    "            freqs, psd = signal.welch(x=seg, fs=256, nfft=1000)\n",
    "            tot.append(psd)\n",
    "        psd = np.mean(np.asarray(tot), 0)\n",
    "        \n",
    "        max_power[i] = np.amax(psd[80:])\n",
    "        \n",
    "        psd_all[i] = psd[:196]\n",
    "#         plt.plot(freqs[:196], psd_all[i])\n",
    "    \n",
    "#     plt.ylabel('PSD')\n",
    "#     plt.xlabel('Frequencies (Hz)')\n",
    "#     plt.legend([f'state {i+1}' for i in range(n_states)], loc='upper right')\n",
    "#     plt.tight_layout()   \n",
    "\n",
    "#     plt.savefig(f'tde-hmm2/png_files/test{ts}su{subj}IC{IC}All_lg{n_lags}co{n_components}st{n_states}'\n",
    "#                     +f'{n_mix}'+model_type+'_states-info.png', dpi=600)\n",
    "    \n",
    "#     plt.close(fig)\n",
    "    \n",
    "    return psd_all"
   ]
  },
  {
   "cell_type": "markdown",
   "metadata": {},
   "source": [
    "## The routine:"
   ]
  },
  {
   "cell_type": "markdown",
   "metadata": {},
   "source": [
    "#### Model and parameters:\n",
    "|_ (58delays x 4IC)  x (7s x 256Hz x Ntrials)   -----PCA-----> |_ (40components x 4IC) x (7s x 256Hz x Ntrials) -----> |_ TDE-HMM ( 1 Gaussian/state, 3 states )"
   ]
  },
  {
   "cell_type": "code",
   "execution_count": 13,
   "metadata": {},
   "outputs": [],
   "source": [
    "# The parameters we change to hope for some results\n",
    "lags = np.arange(-29, 29)\n",
    "n_lags = lags.shape[0]\n",
    "n_iter=100\n",
    "n_states=3    # for the Hidden Markov Model\n",
    "n_components=40     # For the principal component analysis\n",
    "covariance_type='diag'\n",
    "model_type='GaussianHMM'\n",
    "tol=0.01\n",
    "n_mix=1"
   ]
  },
  {
   "cell_type": "markdown",
   "metadata": {},
   "source": [
    "##### Complete script"
   ]
  },
  {
   "cell_type": "code",
   "execution_count": null,
   "metadata": {},
   "outputs": [],
   "source": [
    "subj_list = [i for i in range(2,9)] + [i for i in range(10,13)] + [14] + [i for i in range(16, n_subj+1)] \n",
    "                                                                            # All except subjects 1, 9, 13, 15\n",
    "complete_time = tm.time()\n",
    "freqs = np.arange(0, 50, 50/196)\n",
    "for subj in subj_list:\n",
    "    print(f\"---- SUBJECT{subj} ----\")\n",
    "    start_time = tm.time()\n",
    "    # Create the input matrix for the TDE-HMM:\n",
    "    print(\"Computing the imput matrix for the model\")\n",
    "    datall = []\n",
    "    xeall = []\n",
    "    IC_list = []\n",
    "    for IC in range(1, n_IC+1):\n",
    "        try:\n",
    "            data, n_trials = load_oneIC(mat_file, cells_refs, subj, IC, comp=False)\n",
    "            big_timecourse = np.concatenate([data[f'raw_timecourse_256Hz'][i] for i in range(n_trials)])\n",
    "            x = big_timecourse.reshape(-1, 1)\n",
    "            xe, valid = embedx(x, lags)\n",
    "            xeall.append(xe)\n",
    "            pca = PCA(n_components=n_components)\n",
    "            y = pca.fit_transform(xe[0, :, :])\n",
    "            datall.append(y)\n",
    "            IC_list.append(IC)\n",
    "            print(f\"IC{IC} loaded\")\n",
    "        except:\n",
    "            pass\n",
    "    y = np.concatenate(datall, axis=1)\n",
    "    # Compute the model and the states timecourses\n",
    "    print(\"Computing and saving the model\")\n",
    "    gamma, model = hmm_tde(y, n_iter=n_iter, n_states=n_states, n_components=n_components, \n",
    "                            covariance_type=covariance_type, model_type=model_type, tol=tol, n_mix=n_mix)\n",
    "    with open(f\"tde-hmm2/pkl_files/su{subj}All_lg{n_lags}co{n_components}st{n_states}\"\n",
    "        +f\"{n_mix}\"+model_type+\"_model.pkl\", \"wb\") as file: pickle.dump(model, file)\n",
    "    # Compute the Power Spectral Density of each state\n",
    "    print(\"Computing the PSD of each state\")\n",
    "    psds = []\n",
    "    for i in range(len(IC_list)):\n",
    "        psd = show_bigstates(\n",
    "            gamma, n_states, xeall[i], # the data we need for the plot\n",
    "            subj, IC_list[i], # which IC of which subject is of interest here\n",
    "            n_components, n_lags, covariance_type, model_type, n_mix, # infos we put in the .png name if we want to save it\n",
    "        )\n",
    "        psd = psd[np.newaxis,]\n",
    "        psds.append(psd)\n",
    "    # Save the states timecourses and PSDs thanks to xarray and netCDF\n",
    "    print(\"Saving the states timecourses and PSDs\")\n",
    "    tcourse = np.concatenate(\n",
    "        (np.zeros((29,n_states)), gamma, np.zeros((28,n_states)))\n",
    "    )\n",
    "    time_axis = data[\"time_axis\"]\n",
    "    t_len = time_axis.shape[0]\n",
    "    tcourse_trials = np.zeros((n_trials, t_len, n_states))\n",
    "    for tr in range(n_trials):\n",
    "        tcourse_trials[tr] = tcourse[tr*t_len:(tr+1)*t_len]\n",
    "    ds = xr.Dataset(\n",
    "        {\n",
    "            \"states_timecourse\": ((\"trials\",\"time\", \"states\"), tcourse_trials),\n",
    "            \"states_psd\": ((\"IC\", \"states\", \"freq\"), np.concatenate((psds))),\n",
    "        },\n",
    "        {\n",
    "            \"IC\":IC_list,\n",
    "            \"time\":time_axis,\n",
    "            \"states\":np.arange(1, n_states+1),\n",
    "            \"freq\": freqs,\n",
    "        }\n",
    "    )\n",
    "    ds.to_netcdf(f\"tde-hmm2/nc_files/su{subj}-{n_states}states_data.nc\")\n",
    "\n",
    "    print(\"%s seconds\" % (tm.time() - start_time))\n",
    "    print(f\"subj{subj}, IC{IC}: OK\")\n",
    "\n",
    "sec_time = tm.time() - complete_time\n",
    "hr_time = int(sec_time/3600)\n",
    "sec_time = sec_time - (hr_time*3600)\n",
    "mn_time = int(sec_time/60)\n",
    "sec_time = sec_time - (mn_time*60)\n",
    "print(f\"{hr_time}h{mn_time}mn{sec_time}s\")"
   ]
  },
  {
   "cell_type": "markdown",
   "metadata": {},
   "source": [
    "##### Save the fractional occupancy, and plot it with the PSD in each IC"
   ]
  },
  {
   "cell_type": "code",
   "execution_count": 51,
   "metadata": {},
   "outputs": [
    {
     "name": "stdout",
     "output_type": "stream",
     "text": [
      "su2\n"
     ]
    }
   ],
   "source": [
    "for subj in subj_list:\n",
    "    ds = xr.open_dataset(f\"tde-hmm2/nc_files/su{subj}-{n_states}states_data.nc\")\n",
    "    ds = ds.assign(frac_occ = (ds[\"states_timecourse\"].sum(\"trials\")/ds.sizes[\"trials\"]))\n",
    "    ds.to_netcdf(f\"tde-hmm2/nc_files/su{subj}-{n_states}states_data_Multi.nc\", mode=\"w\")\n",
    "    labels = [f\"state {state}\" for state in ds[\"states\"].values]\n",
    "    fig = plt.figure(figsize=(6*(len(ds[\"IC\"].values)+1),6))\n",
    "    plt.subplot(1, len(ds[\"IC\"].values)+1, 1)\n",
    "    plt.title(f'Frac. Occupancy')\n",
    "    plt.plot(ds[\"time\"], ds[\"frac_occ\"].values)\n",
    "    plt.xlabel('Time (s)')\n",
    "    plt.ylabel('Frac. occupancy')\n",
    "    plt.legend(labels, loc='upper left')\n",
    "    for i in range(len(ds[\"IC\"].values)):\n",
    "        plt.subplot(1, len(ds[\"IC\"].values)+1, i+2)\n",
    "        plt.title(f\"Power Spectrum Density of IC{ds['IC'].values[i]}\")\n",
    "        plt.plot(ds[\"freq\"], ds[\"states_psd\"].values[i,].T)\n",
    "        plt.xlabel('Frequency (Hz)')\n",
    "        plt.ylabel('PSD')\n",
    "        plt.legend(labels, loc='upper right')\n",
    "    plt.savefig(f\"tde-hmm2/png_files/su{subj}-frac_occ_Multi.png\", dpi=300)\n",
    "    plt.close(fig)\n",
    "    print(f\"su{subj}\")\n",
    "    ds.close()"
   ]
  },
  {
   "cell_type": "markdown",
   "metadata": {},
   "source": [
    "##### Tests"
   ]
  },
  {
   "cell_type": "code",
   "execution_count": 15,
   "metadata": {},
   "outputs": [
    {
     "name": "stdout",
     "output_type": "stream",
     "text": [
      "Computing the imput matrix for the model\n",
      "Loading the raw timecourse\n",
      "IC1 loaded\n",
      "Loading the raw timecourse\n",
      "IC2 loaded\n",
      "Loading the raw timecourse\n",
      "IC3 loaded\n",
      "Loading the raw timecourse\n",
      "IC4 loaded\n"
     ]
    }
   ],
   "source": [
    "subj = 2\n",
    "freqs = np.arange(0, 50, 50/196)\n",
    "\n",
    "# Loading all data for subject{subj}, IC{IC}\n",
    "print(\"Computing the imput matrix for the model\")\n",
    "datall = []\n",
    "IC_list = []\n",
    "for IC in range(1, n_IC+1):\n",
    "    try:\n",
    "        data, n_trials = load_oneIC(mat_file, cells_refs, subj, IC, comp=False)\n",
    "        big_timecourse = np.concatenate([data[f'raw_timecourse_256Hz'][i] for i in range(n_trials)])\n",
    "        x = big_timecourse.reshape(-1, 1)\n",
    "        xe, valid = embedx(x, lags)\n",
    "        pca = PCA(n_components=n_components)\n",
    "        y = pca.fit_transform(xe[0, :, :])\n",
    "        datall.append(y)\n",
    "        IC_list.append(IC)\n",
    "        print(f\"IC{IC} loaded\")\n",
    "    except:\n",
    "        pass\n",
    "y = np.concatenate(datall, axis=1)"
   ]
  },
  {
   "cell_type": "code",
   "execution_count": 45,
   "metadata": {},
   "outputs": [
    {
     "name": "stdout",
     "output_type": "stream",
     "text": [
      "Loading the raw timecourse\n",
      "IC1 loaded\n",
      "Loading the raw timecourse\n",
      "IC2 loaded\n",
      "Loading the raw timecourse\n",
      "IC3 loaded\n",
      "Loading the raw timecourse\n",
      "IC4 loaded\n",
      "4 (1, 1210218, 58)\n"
     ]
    }
   ],
   "source": [
    "xeall = []\n",
    "IC_list = []\n",
    "for IC in range(1, n_IC+1):\n",
    "    try:\n",
    "        data, n_trials = load_oneIC(mat_file, cells_refs, subj, IC, comp=False)\n",
    "        big_timecourse = np.concatenate([data[f'raw_timecourse_256Hz'][i] for i in range(n_trials)])\n",
    "        x = big_timecourse.reshape(-1, 1)\n",
    "        xe, valid = embedx(x, lags)\n",
    "        xeall.append(xe)\n",
    "        \n",
    "        IC_list.append(IC)\n",
    "        print(f\"IC{IC} loaded\")\n",
    "    except:\n",
    "        pass\n",
    "print(len(xeall), xeall[0].shape)"
   ]
  },
  {
   "cell_type": "code",
   "execution_count": 16,
   "metadata": {},
   "outputs": [
    {
     "name": "stdout",
     "output_type": "stream",
     "text": [
      "Computing and saving the model\n"
     ]
    }
   ],
   "source": [
    "print(\"Computing and saving the model\")\n",
    "gamma, model = hmm_tde(y, n_iter=n_iter, n_states=n_states, n_components=n_components, \n",
    "                        covariance_type=covariance_type, model_type=model_type, tol=tol, n_mix=n_mix)\n",
    "with open(f\"tde-hmm2/pkl_files/su{subj}All_lg{n_lags}co{n_components}st{n_states}\"\n",
    "    +f\"{n_mix}\"+model_type+\"_model.pkl\", \"wb\") as file: pickle.dump(model, file)"
   ]
  },
  {
   "cell_type": "code",
   "execution_count": 46,
   "metadata": {},
   "outputs": [
    {
     "name": "stdout",
     "output_type": "stream",
     "text": [
      "Computing the PSD of each state\n"
     ]
    }
   ],
   "source": [
    "print(\"Computing the PSD of each state\")\n",
    "psds = []\n",
    "for i in range(len(IC_list)):\n",
    "    psd = show_bigstates(\n",
    "        gamma, n_states, xeall[i], # the data we need for the plot\n",
    "        subj, IC_list[i], # which IC of which subject is of interest here\n",
    "        n_components, n_lags, covariance_type, model_type, n_mix, # infos we put in the .png name if we want to save it\n",
    "    )\n",
    "    psd = psd[np.newaxis,]\n",
    "    psds.append(psd)"
   ]
  },
  {
   "cell_type": "code",
   "execution_count": 20,
   "metadata": {},
   "outputs": [
    {
     "data": {
      "text/plain": [
       "(1210218, 3)"
      ]
     },
     "execution_count": 20,
     "metadata": {},
     "output_type": "execute_result"
    }
   ],
   "source": [
    "gamma.shape"
   ]
  },
  {
   "cell_type": "code",
   "execution_count": 47,
   "metadata": {},
   "outputs": [
    {
     "data": {
      "text/plain": [
       "4"
      ]
     },
     "execution_count": 47,
     "metadata": {},
     "output_type": "execute_result"
    }
   ],
   "source": [
    "len(psds)"
   ]
  },
  {
   "cell_type": "code",
   "execution_count": 48,
   "metadata": {},
   "outputs": [
    {
     "data": {
      "text/plain": [
       "(1, 3, 196)"
      ]
     },
     "execution_count": 48,
     "metadata": {},
     "output_type": "execute_result"
    }
   ],
   "source": [
    "psds[0].shape"
   ]
  },
  {
   "cell_type": "code",
   "execution_count": 24,
   "metadata": {},
   "outputs": [
    {
     "name": "stdout",
     "output_type": "stream",
     "text": [
      "Saving the states timecourses and PSDs\n"
     ]
    }
   ],
   "source": [
    "print(\"Saving the states timecourses and PSDs\")\n",
    "tcourse = np.concatenate(\n",
    "    (np.zeros((29,n_states)), gamma, np.zeros((28,n_states)))\n",
    ")\n",
    "time_axis = data[\"time_axis\"]\n",
    "t_len = time_axis.shape[0]\n",
    "tcourse_trials = np.zeros((n_trials, t_len, n_states))\n",
    "for tr in range(n_trials):\n",
    "    tcourse_trials[tr] = tcourse[tr*t_len:(tr+1)*t_len]"
   ]
  },
  {
   "cell_type": "code",
   "execution_count": 25,
   "metadata": {},
   "outputs": [
    {
     "data": {
      "text/plain": [
       "(675, 1793, 3)"
      ]
     },
     "execution_count": 25,
     "metadata": {},
     "output_type": "execute_result"
    }
   ],
   "source": [
    "tcourse_trials.shape"
   ]
  },
  {
   "cell_type": "code",
   "execution_count": 26,
   "metadata": {},
   "outputs": [
    {
     "data": {
      "text/plain": [
       "[1, 2, 3, 4]"
      ]
     },
     "execution_count": 26,
     "metadata": {},
     "output_type": "execute_result"
    }
   ],
   "source": [
    "IC_list"
   ]
  },
  {
   "cell_type": "code",
   "execution_count": 27,
   "metadata": {},
   "outputs": [
    {
     "data": {
      "text/plain": [
       "(1793,)"
      ]
     },
     "execution_count": 27,
     "metadata": {},
     "output_type": "execute_result"
    }
   ],
   "source": [
    "time_axis.shape"
   ]
  },
  {
   "cell_type": "code",
   "execution_count": 28,
   "metadata": {},
   "outputs": [
    {
     "data": {
      "text/plain": [
       "(196,)"
      ]
     },
     "execution_count": 28,
     "metadata": {},
     "output_type": "execute_result"
    }
   ],
   "source": [
    "freqs.shape"
   ]
  },
  {
   "cell_type": "code",
   "execution_count": 49,
   "metadata": {},
   "outputs": [],
   "source": [
    "ds = xr.Dataset(\n",
    "    {\n",
    "        \"states_timecourse\": ((\"trials\",\"time\", \"states\"), tcourse_trials),\n",
    "        \"states_psd\": ((\"IC\", \"states\", \"freq\"), np.concatenate((psds))),\n",
    "    },\n",
    "    {\n",
    "        \"IC\":IC_list,\n",
    "        \"time\":time_axis,\n",
    "        \"states\":np.arange(1, n_states+1),\n",
    "        \"freq\": freqs,\n",
    "    }\n",
    ")\n",
    "ds.to_netcdf(f\"tde-hmm2/nc_files/su{subj}-{n_states}states_data.nc\")"
   ]
  },
  {
   "cell_type": "code",
   "execution_count": 50,
   "metadata": {},
   "outputs": [
    {
     "data": {
      "text/html": [
       "<div><svg style=\"position: absolute; width: 0; height: 0; overflow: hidden\">\n",
       "<defs>\n",
       "<symbol id=\"icon-database\" viewBox=\"0 0 32 32\">\n",
       "<path d=\"M16 0c-8.837 0-16 2.239-16 5v4c0 2.761 7.163 5 16 5s16-2.239 16-5v-4c0-2.761-7.163-5-16-5z\"></path>\n",
       "<path d=\"M16 17c-8.837 0-16-2.239-16-5v6c0 2.761 7.163 5 16 5s16-2.239 16-5v-6c0 2.761-7.163 5-16 5z\"></path>\n",
       "<path d=\"M16 26c-8.837 0-16-2.239-16-5v6c0 2.761 7.163 5 16 5s16-2.239 16-5v-6c0 2.761-7.163 5-16 5z\"></path>\n",
       "</symbol>\n",
       "<symbol id=\"icon-file-text2\" viewBox=\"0 0 32 32\">\n",
       "<path d=\"M28.681 7.159c-0.694-0.947-1.662-2.053-2.724-3.116s-2.169-2.030-3.116-2.724c-1.612-1.182-2.393-1.319-2.841-1.319h-15.5c-1.378 0-2.5 1.121-2.5 2.5v27c0 1.378 1.122 2.5 2.5 2.5h23c1.378 0 2.5-1.122 2.5-2.5v-19.5c0-0.448-0.137-1.23-1.319-2.841zM24.543 5.457c0.959 0.959 1.712 1.825 2.268 2.543h-4.811v-4.811c0.718 0.556 1.584 1.309 2.543 2.268zM28 29.5c0 0.271-0.229 0.5-0.5 0.5h-23c-0.271 0-0.5-0.229-0.5-0.5v-27c0-0.271 0.229-0.5 0.5-0.5 0 0 15.499-0 15.5 0v7c0 0.552 0.448 1 1 1h7v19.5z\"></path>\n",
       "<path d=\"M23 26h-14c-0.552 0-1-0.448-1-1s0.448-1 1-1h14c0.552 0 1 0.448 1 1s-0.448 1-1 1z\"></path>\n",
       "<path d=\"M23 22h-14c-0.552 0-1-0.448-1-1s0.448-1 1-1h14c0.552 0 1 0.448 1 1s-0.448 1-1 1z\"></path>\n",
       "<path d=\"M23 18h-14c-0.552 0-1-0.448-1-1s0.448-1 1-1h14c0.552 0 1 0.448 1 1s-0.448 1-1 1z\"></path>\n",
       "</symbol>\n",
       "</defs>\n",
       "</svg>\n",
       "<style>/* CSS stylesheet for displaying xarray objects in jupyterlab.\n",
       " *\n",
       " */\n",
       "\n",
       ":root {\n",
       "  --xr-font-color0: var(--jp-content-font-color0, rgba(0, 0, 0, 1));\n",
       "  --xr-font-color2: var(--jp-content-font-color2, rgba(0, 0, 0, 0.54));\n",
       "  --xr-font-color3: var(--jp-content-font-color3, rgba(0, 0, 0, 0.38));\n",
       "  --xr-border-color: var(--jp-border-color2, #e0e0e0);\n",
       "  --xr-disabled-color: var(--jp-layout-color3, #bdbdbd);\n",
       "  --xr-background-color: var(--jp-layout-color0, white);\n",
       "  --xr-background-color-row-even: var(--jp-layout-color1, white);\n",
       "  --xr-background-color-row-odd: var(--jp-layout-color2, #eeeeee);\n",
       "}\n",
       "\n",
       "html[theme=dark],\n",
       "body.vscode-dark {\n",
       "  --xr-font-color0: rgba(255, 255, 255, 1);\n",
       "  --xr-font-color2: rgba(255, 255, 255, 0.54);\n",
       "  --xr-font-color3: rgba(255, 255, 255, 0.38);\n",
       "  --xr-border-color: #1F1F1F;\n",
       "  --xr-disabled-color: #515151;\n",
       "  --xr-background-color: #111111;\n",
       "  --xr-background-color-row-even: #111111;\n",
       "  --xr-background-color-row-odd: #313131;\n",
       "}\n",
       "\n",
       ".xr-wrap {\n",
       "  display: block;\n",
       "  min-width: 300px;\n",
       "  max-width: 700px;\n",
       "}\n",
       "\n",
       ".xr-text-repr-fallback {\n",
       "  /* fallback to plain text repr when CSS is not injected (untrusted notebook) */\n",
       "  display: none;\n",
       "}\n",
       "\n",
       ".xr-header {\n",
       "  padding-top: 6px;\n",
       "  padding-bottom: 6px;\n",
       "  margin-bottom: 4px;\n",
       "  border-bottom: solid 1px var(--xr-border-color);\n",
       "}\n",
       "\n",
       ".xr-header > div,\n",
       ".xr-header > ul {\n",
       "  display: inline;\n",
       "  margin-top: 0;\n",
       "  margin-bottom: 0;\n",
       "}\n",
       "\n",
       ".xr-obj-type,\n",
       ".xr-array-name {\n",
       "  margin-left: 2px;\n",
       "  margin-right: 10px;\n",
       "}\n",
       "\n",
       ".xr-obj-type {\n",
       "  color: var(--xr-font-color2);\n",
       "}\n",
       "\n",
       ".xr-sections {\n",
       "  padding-left: 0 !important;\n",
       "  display: grid;\n",
       "  grid-template-columns: 150px auto auto 1fr 20px 20px;\n",
       "}\n",
       "\n",
       ".xr-section-item {\n",
       "  display: contents;\n",
       "}\n",
       "\n",
       ".xr-section-item input {\n",
       "  display: none;\n",
       "}\n",
       "\n",
       ".xr-section-item input + label {\n",
       "  color: var(--xr-disabled-color);\n",
       "}\n",
       "\n",
       ".xr-section-item input:enabled + label {\n",
       "  cursor: pointer;\n",
       "  color: var(--xr-font-color2);\n",
       "}\n",
       "\n",
       ".xr-section-item input:enabled + label:hover {\n",
       "  color: var(--xr-font-color0);\n",
       "}\n",
       "\n",
       ".xr-section-summary {\n",
       "  grid-column: 1;\n",
       "  color: var(--xr-font-color2);\n",
       "  font-weight: 500;\n",
       "}\n",
       "\n",
       ".xr-section-summary > span {\n",
       "  display: inline-block;\n",
       "  padding-left: 0.5em;\n",
       "}\n",
       "\n",
       ".xr-section-summary-in:disabled + label {\n",
       "  color: var(--xr-font-color2);\n",
       "}\n",
       "\n",
       ".xr-section-summary-in + label:before {\n",
       "  display: inline-block;\n",
       "  content: '►';\n",
       "  font-size: 11px;\n",
       "  width: 15px;\n",
       "  text-align: center;\n",
       "}\n",
       "\n",
       ".xr-section-summary-in:disabled + label:before {\n",
       "  color: var(--xr-disabled-color);\n",
       "}\n",
       "\n",
       ".xr-section-summary-in:checked + label:before {\n",
       "  content: '▼';\n",
       "}\n",
       "\n",
       ".xr-section-summary-in:checked + label > span {\n",
       "  display: none;\n",
       "}\n",
       "\n",
       ".xr-section-summary,\n",
       ".xr-section-inline-details {\n",
       "  padding-top: 4px;\n",
       "  padding-bottom: 4px;\n",
       "}\n",
       "\n",
       ".xr-section-inline-details {\n",
       "  grid-column: 2 / -1;\n",
       "}\n",
       "\n",
       ".xr-section-details {\n",
       "  display: none;\n",
       "  grid-column: 1 / -1;\n",
       "  margin-bottom: 5px;\n",
       "}\n",
       "\n",
       ".xr-section-summary-in:checked ~ .xr-section-details {\n",
       "  display: contents;\n",
       "}\n",
       "\n",
       ".xr-array-wrap {\n",
       "  grid-column: 1 / -1;\n",
       "  display: grid;\n",
       "  grid-template-columns: 20px auto;\n",
       "}\n",
       "\n",
       ".xr-array-wrap > label {\n",
       "  grid-column: 1;\n",
       "  vertical-align: top;\n",
       "}\n",
       "\n",
       ".xr-preview {\n",
       "  color: var(--xr-font-color3);\n",
       "}\n",
       "\n",
       ".xr-array-preview,\n",
       ".xr-array-data {\n",
       "  padding: 0 5px !important;\n",
       "  grid-column: 2;\n",
       "}\n",
       "\n",
       ".xr-array-data,\n",
       ".xr-array-in:checked ~ .xr-array-preview {\n",
       "  display: none;\n",
       "}\n",
       "\n",
       ".xr-array-in:checked ~ .xr-array-data,\n",
       ".xr-array-preview {\n",
       "  display: inline-block;\n",
       "}\n",
       "\n",
       ".xr-dim-list {\n",
       "  display: inline-block !important;\n",
       "  list-style: none;\n",
       "  padding: 0 !important;\n",
       "  margin: 0;\n",
       "}\n",
       "\n",
       ".xr-dim-list li {\n",
       "  display: inline-block;\n",
       "  padding: 0;\n",
       "  margin: 0;\n",
       "}\n",
       "\n",
       ".xr-dim-list:before {\n",
       "  content: '(';\n",
       "}\n",
       "\n",
       ".xr-dim-list:after {\n",
       "  content: ')';\n",
       "}\n",
       "\n",
       ".xr-dim-list li:not(:last-child):after {\n",
       "  content: ',';\n",
       "  padding-right: 5px;\n",
       "}\n",
       "\n",
       ".xr-has-index {\n",
       "  font-weight: bold;\n",
       "}\n",
       "\n",
       ".xr-var-list,\n",
       ".xr-var-item {\n",
       "  display: contents;\n",
       "}\n",
       "\n",
       ".xr-var-item > div,\n",
       ".xr-var-item label,\n",
       ".xr-var-item > .xr-var-name span {\n",
       "  background-color: var(--xr-background-color-row-even);\n",
       "  margin-bottom: 0;\n",
       "}\n",
       "\n",
       ".xr-var-item > .xr-var-name:hover span {\n",
       "  padding-right: 5px;\n",
       "}\n",
       "\n",
       ".xr-var-list > li:nth-child(odd) > div,\n",
       ".xr-var-list > li:nth-child(odd) > label,\n",
       ".xr-var-list > li:nth-child(odd) > .xr-var-name span {\n",
       "  background-color: var(--xr-background-color-row-odd);\n",
       "}\n",
       "\n",
       ".xr-var-name {\n",
       "  grid-column: 1;\n",
       "}\n",
       "\n",
       ".xr-var-dims {\n",
       "  grid-column: 2;\n",
       "}\n",
       "\n",
       ".xr-var-dtype {\n",
       "  grid-column: 3;\n",
       "  text-align: right;\n",
       "  color: var(--xr-font-color2);\n",
       "}\n",
       "\n",
       ".xr-var-preview {\n",
       "  grid-column: 4;\n",
       "}\n",
       "\n",
       ".xr-var-name,\n",
       ".xr-var-dims,\n",
       ".xr-var-dtype,\n",
       ".xr-preview,\n",
       ".xr-attrs dt {\n",
       "  white-space: nowrap;\n",
       "  overflow: hidden;\n",
       "  text-overflow: ellipsis;\n",
       "  padding-right: 10px;\n",
       "}\n",
       "\n",
       ".xr-var-name:hover,\n",
       ".xr-var-dims:hover,\n",
       ".xr-var-dtype:hover,\n",
       ".xr-attrs dt:hover {\n",
       "  overflow: visible;\n",
       "  width: auto;\n",
       "  z-index: 1;\n",
       "}\n",
       "\n",
       ".xr-var-attrs,\n",
       ".xr-var-data {\n",
       "  display: none;\n",
       "  background-color: var(--xr-background-color) !important;\n",
       "  padding-bottom: 5px !important;\n",
       "}\n",
       "\n",
       ".xr-var-attrs-in:checked ~ .xr-var-attrs,\n",
       ".xr-var-data-in:checked ~ .xr-var-data {\n",
       "  display: block;\n",
       "}\n",
       "\n",
       ".xr-var-data > table {\n",
       "  float: right;\n",
       "}\n",
       "\n",
       ".xr-var-name span,\n",
       ".xr-var-data,\n",
       ".xr-attrs {\n",
       "  padding-left: 25px !important;\n",
       "}\n",
       "\n",
       ".xr-attrs,\n",
       ".xr-var-attrs,\n",
       ".xr-var-data {\n",
       "  grid-column: 1 / -1;\n",
       "}\n",
       "\n",
       "dl.xr-attrs {\n",
       "  padding: 0;\n",
       "  margin: 0;\n",
       "  display: grid;\n",
       "  grid-template-columns: 125px auto;\n",
       "}\n",
       "\n",
       ".xr-attrs dt,\n",
       ".xr-attrs dd {\n",
       "  padding: 0;\n",
       "  margin: 0;\n",
       "  float: left;\n",
       "  padding-right: 10px;\n",
       "  width: auto;\n",
       "}\n",
       "\n",
       ".xr-attrs dt {\n",
       "  font-weight: normal;\n",
       "  grid-column: 1;\n",
       "}\n",
       "\n",
       ".xr-attrs dt:hover span {\n",
       "  display: inline-block;\n",
       "  background: var(--xr-background-color);\n",
       "  padding-right: 10px;\n",
       "}\n",
       "\n",
       ".xr-attrs dd {\n",
       "  grid-column: 2;\n",
       "  white-space: pre-wrap;\n",
       "  word-break: break-all;\n",
       "}\n",
       "\n",
       ".xr-icon-database,\n",
       ".xr-icon-file-text2 {\n",
       "  display: inline-block;\n",
       "  vertical-align: middle;\n",
       "  width: 1em;\n",
       "  height: 1.5em !important;\n",
       "  stroke-width: 0;\n",
       "  stroke: currentColor;\n",
       "  fill: currentColor;\n",
       "}\n",
       "</style><pre class='xr-text-repr-fallback'>&lt;xarray.Dataset&gt;\n",
       "Dimensions:            (IC: 4, freq: 196, states: 3, time: 1793, trials: 675)\n",
       "Coordinates:\n",
       "  * IC                 (IC) int64 1 2 3 4\n",
       "  * time               (time) float64 -4.0 -3.996 -3.992 ... 2.992 2.996 3.0\n",
       "  * states             (states) int64 1 2 3\n",
       "  * freq               (freq) float64 0.0 0.2551 0.5102 ... 49.23 49.49 49.74\n",
       "Dimensions without coordinates: trials\n",
       "Data variables:\n",
       "    states_timecourse  (trials, time, states) float64 0.0 0.0 0.0 ... 0.0 0.0\n",
       "    states_psd         (IC, states, freq) float64 0.005619 0.01309 ... 0.0002529</pre><div class='xr-wrap' hidden><div class='xr-header'><div class='xr-obj-type'>xarray.Dataset</div></div><ul class='xr-sections'><li class='xr-section-item'><input id='section-ff29532b-d11a-4e0d-9854-9a247e6d3ab6' class='xr-section-summary-in' type='checkbox' disabled ><label for='section-ff29532b-d11a-4e0d-9854-9a247e6d3ab6' class='xr-section-summary'  title='Expand/collapse section'>Dimensions:</label><div class='xr-section-inline-details'><ul class='xr-dim-list'><li><span class='xr-has-index'>IC</span>: 4</li><li><span class='xr-has-index'>freq</span>: 196</li><li><span class='xr-has-index'>states</span>: 3</li><li><span class='xr-has-index'>time</span>: 1793</li><li><span>trials</span>: 675</li></ul></div><div class='xr-section-details'></div></li><li class='xr-section-item'><input id='section-0b535ee8-1b4c-4e1d-b3d6-800e07e897dd' class='xr-section-summary-in' type='checkbox'  checked><label for='section-0b535ee8-1b4c-4e1d-b3d6-800e07e897dd' class='xr-section-summary' >Coordinates: <span>(4)</span></label><div class='xr-section-inline-details'></div><div class='xr-section-details'><ul class='xr-var-list'><li class='xr-var-item'><div class='xr-var-name'><span class='xr-has-index'>IC</span></div><div class='xr-var-dims'>(IC)</div><div class='xr-var-dtype'>int64</div><div class='xr-var-preview xr-preview'>1 2 3 4</div><input id='attrs-43bb6c09-7ab8-4a74-8c47-eeeb1ffad1f8' class='xr-var-attrs-in' type='checkbox' disabled><label for='attrs-43bb6c09-7ab8-4a74-8c47-eeeb1ffad1f8' title='Show/Hide attributes'><svg class='icon xr-icon-file-text2'><use xlink:href='#icon-file-text2'></use></svg></label><input id='data-3067cb79-64b2-468b-87b6-d8a7f825a099' class='xr-var-data-in' type='checkbox'><label for='data-3067cb79-64b2-468b-87b6-d8a7f825a099' title='Show/Hide data repr'><svg class='icon xr-icon-database'><use xlink:href='#icon-database'></use></svg></label><div class='xr-var-attrs'><dl class='xr-attrs'></dl></div><div class='xr-var-data'><pre>array([1, 2, 3, 4])</pre></div></li><li class='xr-var-item'><div class='xr-var-name'><span class='xr-has-index'>time</span></div><div class='xr-var-dims'>(time)</div><div class='xr-var-dtype'>float64</div><div class='xr-var-preview xr-preview'>-4.0 -3.996 -3.992 ... 2.996 3.0</div><input id='attrs-63323806-1444-4351-9611-08854f6f8a76' class='xr-var-attrs-in' type='checkbox' disabled><label for='attrs-63323806-1444-4351-9611-08854f6f8a76' title='Show/Hide attributes'><svg class='icon xr-icon-file-text2'><use xlink:href='#icon-file-text2'></use></svg></label><input id='data-210ab588-d9f2-4144-993f-f96937095057' class='xr-var-data-in' type='checkbox'><label for='data-210ab588-d9f2-4144-993f-f96937095057' title='Show/Hide data repr'><svg class='icon xr-icon-database'><use xlink:href='#icon-database'></use></svg></label><div class='xr-var-attrs'><dl class='xr-attrs'></dl></div><div class='xr-var-data'><pre>array([-4.      , -3.996094, -3.992188, ...,  2.992188,  2.996094,  3.      ])</pre></div></li><li class='xr-var-item'><div class='xr-var-name'><span class='xr-has-index'>states</span></div><div class='xr-var-dims'>(states)</div><div class='xr-var-dtype'>int64</div><div class='xr-var-preview xr-preview'>1 2 3</div><input id='attrs-57eecb29-288f-4c9a-80d9-7916a7250c16' class='xr-var-attrs-in' type='checkbox' disabled><label for='attrs-57eecb29-288f-4c9a-80d9-7916a7250c16' title='Show/Hide attributes'><svg class='icon xr-icon-file-text2'><use xlink:href='#icon-file-text2'></use></svg></label><input id='data-75e2327e-02b1-482a-99e1-63e1299eda97' class='xr-var-data-in' type='checkbox'><label for='data-75e2327e-02b1-482a-99e1-63e1299eda97' title='Show/Hide data repr'><svg class='icon xr-icon-database'><use xlink:href='#icon-database'></use></svg></label><div class='xr-var-attrs'><dl class='xr-attrs'></dl></div><div class='xr-var-data'><pre>array([1, 2, 3])</pre></div></li><li class='xr-var-item'><div class='xr-var-name'><span class='xr-has-index'>freq</span></div><div class='xr-var-dims'>(freq)</div><div class='xr-var-dtype'>float64</div><div class='xr-var-preview xr-preview'>0.0 0.2551 0.5102 ... 49.49 49.74</div><input id='attrs-636a2953-c6f4-4a81-aad4-b7affcc0ff33' class='xr-var-attrs-in' type='checkbox' disabled><label for='attrs-636a2953-c6f4-4a81-aad4-b7affcc0ff33' title='Show/Hide attributes'><svg class='icon xr-icon-file-text2'><use xlink:href='#icon-file-text2'></use></svg></label><input id='data-18443fdf-b948-493e-9c47-51c5cbad60b8' class='xr-var-data-in' type='checkbox'><label for='data-18443fdf-b948-493e-9c47-51c5cbad60b8' title='Show/Hide data repr'><svg class='icon xr-icon-database'><use xlink:href='#icon-database'></use></svg></label><div class='xr-var-attrs'><dl class='xr-attrs'></dl></div><div class='xr-var-data'><pre>array([ 0.      ,  0.255102,  0.510204,  0.765306,  1.020408,  1.27551 ,\n",
       "        1.530612,  1.785714,  2.040816,  2.295918,  2.55102 ,  2.806122,\n",
       "        3.061224,  3.316327,  3.571429,  3.826531,  4.081633,  4.336735,\n",
       "        4.591837,  4.846939,  5.102041,  5.357143,  5.612245,  5.867347,\n",
       "        6.122449,  6.377551,  6.632653,  6.887755,  7.142857,  7.397959,\n",
       "        7.653061,  7.908163,  8.163265,  8.418367,  8.673469,  8.928571,\n",
       "        9.183673,  9.438776,  9.693878,  9.94898 , 10.204082, 10.459184,\n",
       "       10.714286, 10.969388, 11.22449 , 11.479592, 11.734694, 11.989796,\n",
       "       12.244898, 12.5     , 12.755102, 13.010204, 13.265306, 13.520408,\n",
       "       13.77551 , 14.030612, 14.285714, 14.540816, 14.795918, 15.05102 ,\n",
       "       15.306122, 15.561224, 15.816327, 16.071429, 16.326531, 16.581633,\n",
       "       16.836735, 17.091837, 17.346939, 17.602041, 17.857143, 18.112245,\n",
       "       18.367347, 18.622449, 18.877551, 19.132653, 19.387755, 19.642857,\n",
       "       19.897959, 20.153061, 20.408163, 20.663265, 20.918367, 21.173469,\n",
       "       21.428571, 21.683673, 21.938776, 22.193878, 22.44898 , 22.704082,\n",
       "       22.959184, 23.214286, 23.469388, 23.72449 , 23.979592, 24.234694,\n",
       "       24.489796, 24.744898, 25.      , 25.255102, 25.510204, 25.765306,\n",
       "       26.020408, 26.27551 , 26.530612, 26.785714, 27.040816, 27.295918,\n",
       "       27.55102 , 27.806122, 28.061224, 28.316327, 28.571429, 28.826531,\n",
       "       29.081633, 29.336735, 29.591837, 29.846939, 30.102041, 30.357143,\n",
       "       30.612245, 30.867347, 31.122449, 31.377551, 31.632653, 31.887755,\n",
       "       32.142857, 32.397959, 32.653061, 32.908163, 33.163265, 33.418367,\n",
       "       33.673469, 33.928571, 34.183673, 34.438776, 34.693878, 34.94898 ,\n",
       "       35.204082, 35.459184, 35.714286, 35.969388, 36.22449 , 36.479592,\n",
       "       36.734694, 36.989796, 37.244898, 37.5     , 37.755102, 38.010204,\n",
       "       38.265306, 38.520408, 38.77551 , 39.030612, 39.285714, 39.540816,\n",
       "       39.795918, 40.05102 , 40.306122, 40.561224, 40.816327, 41.071429,\n",
       "       41.326531, 41.581633, 41.836735, 42.091837, 42.346939, 42.602041,\n",
       "       42.857143, 43.112245, 43.367347, 43.622449, 43.877551, 44.132653,\n",
       "       44.387755, 44.642857, 44.897959, 45.153061, 45.408163, 45.663265,\n",
       "       45.918367, 46.173469, 46.428571, 46.683673, 46.938776, 47.193878,\n",
       "       47.44898 , 47.704082, 47.959184, 48.214286, 48.469388, 48.72449 ,\n",
       "       48.979592, 49.234694, 49.489796, 49.744898])</pre></div></li></ul></div></li><li class='xr-section-item'><input id='section-12301e36-c16c-4f6f-9c19-ef8546a4a1fd' class='xr-section-summary-in' type='checkbox'  checked><label for='section-12301e36-c16c-4f6f-9c19-ef8546a4a1fd' class='xr-section-summary' >Data variables: <span>(2)</span></label><div class='xr-section-inline-details'></div><div class='xr-section-details'><ul class='xr-var-list'><li class='xr-var-item'><div class='xr-var-name'><span>states_timecourse</span></div><div class='xr-var-dims'>(trials, time, states)</div><div class='xr-var-dtype'>float64</div><div class='xr-var-preview xr-preview'>0.0 0.0 0.0 0.0 ... 0.0 0.0 0.0 0.0</div><input id='attrs-32a76c6d-cabf-424d-8099-bad164e3ce1f' class='xr-var-attrs-in' type='checkbox' disabled><label for='attrs-32a76c6d-cabf-424d-8099-bad164e3ce1f' title='Show/Hide attributes'><svg class='icon xr-icon-file-text2'><use xlink:href='#icon-file-text2'></use></svg></label><input id='data-3ae2f042-7a3f-40ca-982f-5c800326e6f8' class='xr-var-data-in' type='checkbox'><label for='data-3ae2f042-7a3f-40ca-982f-5c800326e6f8' title='Show/Hide data repr'><svg class='icon xr-icon-database'><use xlink:href='#icon-database'></use></svg></label><div class='xr-var-attrs'><dl class='xr-attrs'></dl></div><div class='xr-var-data'><pre>array([[[0.00000000e+00, 0.00000000e+00, 0.00000000e+00],\n",
       "        [0.00000000e+00, 0.00000000e+00, 0.00000000e+00],\n",
       "        [0.00000000e+00, 0.00000000e+00, 0.00000000e+00],\n",
       "        ...,\n",
       "        [4.20720182e-10, 7.41033600e-07, 9.99999255e-01],\n",
       "        [7.79086960e-10, 9.89061202e-07, 9.99999009e-01],\n",
       "        [8.65912026e-10, 9.14679153e-07, 9.99999084e-01]],\n",
       "\n",
       "       [[1.36695527e-09, 1.03635737e-06, 9.99998964e-01],\n",
       "        [1.15893953e-09, 5.12499823e-07, 9.99999486e-01],\n",
       "        [1.16108098e-09, 6.02231189e-07, 9.99999397e-01],\n",
       "        ...,\n",
       "        [8.90795675e-07, 1.62870281e-05, 9.99982819e-01],\n",
       "        [1.04237640e-06, 3.24857626e-05, 9.99966473e-01],\n",
       "        [2.36200412e-06, 5.71589976e-05, 9.99940479e-01]],\n",
       "\n",
       "       [[4.62860640e-06, 8.83453876e-05, 9.99907029e-01],\n",
       "        [9.12508058e-06, 9.11996906e-05, 9.99899676e-01],\n",
       "        [1.56108214e-05, 5.03467798e-05, 9.99934042e-01],\n",
       "        ...,\n",
       "...\n",
       "        ...,\n",
       "        [1.60911415e-07, 9.99996148e-01, 3.68737584e-06],\n",
       "        [9.45541797e-08, 9.99997519e-01, 2.38879418e-06],\n",
       "        [3.31567312e-07, 9.99997176e-01, 2.48908974e-06]],\n",
       "\n",
       "       [[6.50237303e-07, 9.99994800e-01, 4.55086984e-06],\n",
       "        [7.46787770e-07, 9.99990240e-01, 9.01096696e-06],\n",
       "        [1.90766522e-06, 9.99983102e-01, 1.49909069e-05],\n",
       "        ...,\n",
       "        [4.85927853e-07, 9.99999233e-01, 2.83015530e-07],\n",
       "        [4.27888460e-07, 9.99999486e-01, 8.58494414e-08],\n",
       "        [5.08319754e-07, 9.99999419e-01, 7.33734432e-08]],\n",
       "\n",
       "       [[2.69859638e-07, 9.99999575e-01, 1.52885486e-07],\n",
       "        [2.57752355e-07, 9.99999180e-01, 5.64140751e-07],\n",
       "        [2.80069102e-07, 9.99998048e-01, 1.67338831e-06],\n",
       "        ...,\n",
       "        [0.00000000e+00, 0.00000000e+00, 0.00000000e+00],\n",
       "        [0.00000000e+00, 0.00000000e+00, 0.00000000e+00],\n",
       "        [0.00000000e+00, 0.00000000e+00, 0.00000000e+00]]])</pre></div></li><li class='xr-var-item'><div class='xr-var-name'><span>states_psd</span></div><div class='xr-var-dims'>(IC, states, freq)</div><div class='xr-var-dtype'>float64</div><div class='xr-var-preview xr-preview'>0.005619 0.01309 ... 0.0002529</div><input id='attrs-921c1bdf-b612-4580-9ea1-a317a5a96967' class='xr-var-attrs-in' type='checkbox' disabled><label for='attrs-921c1bdf-b612-4580-9ea1-a317a5a96967' title='Show/Hide attributes'><svg class='icon xr-icon-file-text2'><use xlink:href='#icon-file-text2'></use></svg></label><input id='data-e7f2f0ea-3b19-4740-9525-deceacf39e62' class='xr-var-data-in' type='checkbox'><label for='data-e7f2f0ea-3b19-4740-9525-deceacf39e62' title='Show/Hide data repr'><svg class='icon xr-icon-database'><use xlink:href='#icon-database'></use></svg></label><div class='xr-var-attrs'><dl class='xr-attrs'></dl></div><div class='xr-var-data'><pre>array([[[0.00561884, 0.013092  , 0.01783886, ..., 0.00082491,\n",
       "         0.00088488, 0.00091778],\n",
       "        [0.00589863, 0.0138765 , 0.01914649, ..., 0.00075688,\n",
       "         0.00081354, 0.00083715],\n",
       "        [0.00768578, 0.01801098, 0.02466004, ..., 0.00084041,\n",
       "         0.00094108, 0.00099194]],\n",
       "\n",
       "       [[0.00522658, 0.01221728, 0.01670047, ..., 0.00203403,\n",
       "         0.00240679, 0.00260645],\n",
       "        [0.00554977, 0.01299377, 0.0178472 , ..., 0.002072  ,\n",
       "         0.00246163, 0.00266551],\n",
       "        [0.00460313, 0.01081941, 0.01492158, ..., 0.0023869 ,\n",
       "         0.00293235, 0.00322004]],\n",
       "\n",
       "       [[0.00602071, 0.01415477, 0.01956098, ..., 0.00067656,\n",
       "         0.0007013 , 0.00071103],\n",
       "        [0.00366343, 0.00866854, 0.01208752, ..., 0.00059919,\n",
       "         0.00063312, 0.00064727],\n",
       "        [0.00421352, 0.00990567, 0.01364722, ..., 0.0006188 ,\n",
       "         0.0006648 , 0.00068759]],\n",
       "\n",
       "       [[0.0027531 , 0.006422  , 0.00872865, ..., 0.00035354,\n",
       "         0.00035203, 0.00035046],\n",
       "        [0.00274812, 0.00636533, 0.00856665, ..., 0.00030211,\n",
       "         0.00029854, 0.00029425],\n",
       "        [0.00223213, 0.00523397, 0.0071798 , ..., 0.00025536,\n",
       "         0.00025455, 0.00025291]]])</pre></div></li></ul></div></li><li class='xr-section-item'><input id='section-ff1f9af0-69c0-446f-afa5-67f978fa7959' class='xr-section-summary-in' type='checkbox' disabled ><label for='section-ff1f9af0-69c0-446f-afa5-67f978fa7959' class='xr-section-summary'  title='Expand/collapse section'>Attributes: <span>(0)</span></label><div class='xr-section-inline-details'></div><div class='xr-section-details'><dl class='xr-attrs'></dl></div></li></ul></div></div>"
      ],
      "text/plain": [
       "<xarray.Dataset>\n",
       "Dimensions:            (IC: 4, freq: 196, states: 3, time: 1793, trials: 675)\n",
       "Coordinates:\n",
       "  * IC                 (IC) int64 1 2 3 4\n",
       "  * time               (time) float64 -4.0 -3.996 -3.992 ... 2.992 2.996 3.0\n",
       "  * states             (states) int64 1 2 3\n",
       "  * freq               (freq) float64 0.0 0.2551 0.5102 ... 49.23 49.49 49.74\n",
       "Dimensions without coordinates: trials\n",
       "Data variables:\n",
       "    states_timecourse  (trials, time, states) float64 0.0 0.0 0.0 ... 0.0 0.0\n",
       "    states_psd         (IC, states, freq) float64 0.005619 0.01309 ... 0.0002529"
      ]
     },
     "execution_count": 50,
     "metadata": {},
     "output_type": "execute_result"
    }
   ],
   "source": [
    "ds"
   ]
  },
  {
   "cell_type": "code",
   "execution_count": null,
   "metadata": {},
   "outputs": [],
   "source": [
    "ds = xr.open_dataset(f\"tde-hmm2/nc_files/su{subj}-{n_states}states_data.nc\")\n",
    "ds = ds.assign(frac_occ = (ds[\"states_timecourse\"].sum(\"trials\")/ds.sizes[\"trials\"]))\n",
    "ds.to_netcdf(f\"tde-hmm2/nc_files/su{subj}-{n_states}states_data_Multi.nc\", mode=\"w\")\n",
    "labels = [f\"state {state}\" for state in ds[\"states\"].values]\n",
    "fig = plt.figure(figsize=(6*(len(ds[\"IC\"].values)+1),6))\n",
    "plt.subplot(1, len(ds[\"IC\"].values)+1, 1)\n",
    "plt.title(f'Frac. Occupancy')\n",
    "plt.plot(ds[\"time\"], ds[\"frac_occ\"].values)\n",
    "plt.xlabel('Time (s)')\n",
    "plt.ylabel('Frac. occupancy')\n",
    "plt.legend(labels, loc='upper left')\n",
    "for i in range(len(ds[\"IC\"].values)):\n",
    "    plt.subplot(1, len(ds[\"IC\"].values)+1, i+2)\n",
    "    plt.title(f\"Power Spectrum Density of IC{ds['IC'].values[i]}\")\n",
    "    plt.plot(ds[\"freq\"], ds[\"states_psd\"].values[i,].T)\n",
    "    plt.xlabel('Frequency (Hz)')\n",
    "    plt.ylabel('PSD')\n",
    "    plt.legend(labels, loc='upper right')\n",
    "plt.savefig(f\"tde-hmm2/png_files/su{subj}-frac_occ_Multi.png\", dpi=300)\n",
    "plt.close(fig)\n",
    "print(f\"su{subj}\")\n",
    "ds.close()"
   ]
  }
 ],
 "metadata": {
  "kernelspec": {
   "display_name": "Python 3",
   "language": "python",
   "name": "python3"
  },
  "language_info": {
   "codemirror_mode": {
    "name": "ipython",
    "version": 3
   },
   "file_extension": ".py",
   "mimetype": "text/x-python",
   "name": "python",
   "nbconvert_exporter": "python",
   "pygments_lexer": "ipython3",
   "version": "3.8.10"
  }
 },
 "nbformat": 4,
 "nbformat_minor": 2
}
