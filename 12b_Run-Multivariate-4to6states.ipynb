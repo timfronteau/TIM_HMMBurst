{
 "cells": [
  {
   "cell_type": "markdown",
   "metadata": {},
   "source": [
    "# Final: saving all HMM data, of which the states timecourses."
   ]
  },
  {
   "cell_type": "markdown",
   "metadata": {},
   "source": [
    "## The libraries and methods we need:"
   ]
  },
  {
   "cell_type": "code",
   "execution_count": null,
   "metadata": {},
   "outputs": [],
   "source": [
    "import numpy as np\n",
    "from loader import load_oneIC"
   ]
  },
  {
   "cell_type": "code",
   "execution_count": null,
   "metadata": {},
   "outputs": [],
   "source": [
    "from sklearn.decomposition import PCA\n",
    "from hmmlearn import hmm\n",
    "import scipy.signal as signal\n",
    "import pickle"
   ]
  },
  {
   "cell_type": "code",
   "execution_count": null,
   "metadata": {},
   "outputs": [],
   "source": [
    "import matplotlib.pyplot as plt"
   ]
  },
  {
   "cell_type": "code",
   "execution_count": null,
   "metadata": {},
   "outputs": [],
   "source": [
    "import h5py"
   ]
  },
  {
   "cell_type": "code",
   "execution_count": null,
   "metadata": {},
   "outputs": [],
   "source": [
    "import xarray as xr"
   ]
  },
  {
   "cell_type": "code",
   "execution_count": null,
   "metadata": {},
   "outputs": [],
   "source": [
    "import time as tm"
   ]
  },
  {
   "cell_type": "code",
   "execution_count": null,
   "metadata": {},
   "outputs": [],
   "source": [
    "directory = \"/home/INT/malfait.n/Documents/NIC_250819\"\n",
    "file = \"FCK_LOCKED_IC_JYOTIKA_250819.mat\"\n",
    "\n",
    "path = f\"{directory}/{file}\"\n",
    "\n",
    "mat_file = h5py.File(path, \"r\")\n",
    "cells_refs = mat_file['FCK_LOCKED_IC_JYOTIKA']\n",
    "\n",
    "n_IC = 4\n",
    "n_subj = 23"
   ]
  },
  {
   "cell_type": "markdown",
   "metadata": {},
   "source": [
    "## Functions:"
   ]
  },
  {
   "cell_type": "markdown",
   "metadata": {},
   "source": [
    "### Cumputing functions:"
   ]
  },
  {
   "cell_type": "code",
   "execution_count": null,
   "metadata": {},
   "outputs": [],
   "source": [
    "# The embedx function copies the `x` array len(lags) times into `xe`\n",
    "# with lags (i.e. time delays) between lags[0] and lags[-1] (we implement the time-delay array for the HMM).\n",
    "\n",
    "def embedx(x, lags):\n",
    "    \n",
    "    Xe = np.zeros((x.shape[1], x.shape[0],  len(lags)))\n",
    "\n",
    "    for l in range(len(lags)):\n",
    "        Xe[:, :, l] = np.roll(x, lags[l], axis=0).swapaxes(0, 1)\n",
    "\n",
    "    # Remove edges\n",
    "    valid = np.ones((x.shape[0], 1), dtype=np.int8)\n",
    "    valid[:np.abs(np.min(lags)), :] = 0\n",
    "    valid[-np.abs(np.max(lags)):, :] = 0\n",
    "\n",
    "    Xe = Xe[:, valid[:, 0] == 1, :]\n",
    "\n",
    "    return Xe, valid\n",
    "\n",
    "\n",
    "# The hmm_tde function finds parameters for the HMM,\n",
    "# then uses them to determine the probability of presence of each found state over time.\n",
    "\n",
    "def hmm_tde(y: np.array, n_states=3, n_iter=100, n_components=8, \n",
    "            covariance_type='full', model_type='GMMHMM', tol=0.01, n_mix=1, **kwargs):\n",
    "    \n",
    "    if model_type=='GMMHMM':\n",
    "        model = hmm.GMMHMM(n_components=n_states, n_iter=n_iter,\n",
    "                            covariance_type=covariance_type, tol=tol, n_mix=n_mix, **kwargs)\n",
    "        \n",
    "    elif model_type=='GaussianHMM':\n",
    "        model = hmm.GaussianHMM(n_components=n_states, n_iter=n_iter,\n",
    "                            covariance_type=covariance_type, tol=tol, **kwargs)\n",
    "        \n",
    "    elif model_type=='MultinomialHMM':\n",
    "        model = hmm.MultinomialHMM(n_components=n_states, n_iter=n_iter, tol=tol, **kwargs)\n",
    "    \n",
    "    else: \n",
    "        return \"Non-exixting model_type. Please choose 'GMMHMM' or 'GaussianHMM' or 'MultinomialHMM'. default='GMMHMM'\"\n",
    "        \n",
    "    model.fit(y)\n",
    "    gamma = model.predict_proba(y)\n",
    "\n",
    "    return gamma, model"
   ]
  },
  {
   "cell_type": "code",
   "execution_count": null,
   "metadata": {},
   "outputs": [],
   "source": [
    "def show_bigstates(\n",
    "    gamma, n_states, xe, # the data we need for the plot\n",
    "    \n",
    "    subj, IC, # which IC of which subject is of interest here\n",
    "    \n",
    "    n_components, n_lags, covariance_type, model_type, n_mix, # infos we put in the .png name if we want to save it\n",
    "):\n",
    "\n",
    "#     fig = plt.figure(figsize=(6, 6))\n",
    "#     plt.title('Power Spectrum Density')\n",
    "    max_power = np.zeros(n_states)\n",
    "    psd_all = np.zeros((n_states, 196))\n",
    "    for i in range(n_states):\n",
    "\n",
    "        # Compute PSD separately for each lag\n",
    "        tot = []\n",
    "        for seg in xe[0, gamma[:, i]> .6, :].T:\n",
    "            freqs, psd = signal.welch(x=seg, fs=256, nfft=1000)\n",
    "            tot.append(psd)\n",
    "        psd = np.mean(np.asarray(tot), 0)\n",
    "        \n",
    "        max_power[i] = np.amax(psd[80:])\n",
    "        \n",
    "        psd_all[i] = psd[:196]\n",
    "#         plt.plot(freqs[:196], psd_all[i])\n",
    "    \n",
    "#     plt.ylabel('PSD')\n",
    "#     plt.xlabel('Frequencies (Hz)')\n",
    "#     plt.legend([f'state {i+1}' for i in range(n_states)], loc='upper right')\n",
    "#     plt.tight_layout()   \n",
    "\n",
    "#     plt.savefig(f'tde-hmm2/png_files/test{ts}su{subj}IC{IC}All_lg{n_lags}co{n_components}st{n_states}'\n",
    "#                     +f'{n_mix}'+model_type+'_states-info.png', dpi=600)\n",
    "    \n",
    "#     plt.close(fig)\n",
    "    \n",
    "    return psd_all"
   ]
  },
  {
   "cell_type": "markdown",
   "metadata": {},
   "source": [
    "## The routine:"
   ]
  },
  {
   "cell_type": "markdown",
   "metadata": {},
   "source": [
    "#### Model and parameters:\n",
    "|_ (58delays x 4IC)  x (7s x 256Hz x Ntrials)   -----PCA-----> |_ (40components x 4IC) x (7s x 256Hz x Ntrials) -----> |_ TDE-HMM ( 1 Gaussian/state, 4 to 6 states )"
   ]
  },
  {
   "cell_type": "code",
   "execution_count": null,
   "metadata": {},
   "outputs": [],
   "source": [
    "# The parameters we change to hope for some results\n",
    "lags = np.arange(-29, 29)\n",
    "n_lags = lags.shape[0]\n",
    "n_iter=100\n",
    "n_states_max=6    # for the Hidden Markov Model\n",
    "n_components=40     # For the principal component analysis\n",
    "covariance_type='diag'\n",
    "model_type='GaussianHMM'\n",
    "tol=0.01\n",
    "n_mix=1"
   ]
  },
  {
   "cell_type": "markdown",
   "metadata": {},
   "source": [
    "##### Complete script"
   ]
  },
  {
   "cell_type": "code",
   "execution_count": null,
   "metadata": {},
   "outputs": [],
   "source": [
    "subj_list = [i for i in range(2,9)] + [i for i in range(10,13)] + [14] + [i for i in range(16, n_subj+1)] \n",
    "                                                                            # All except subjects 1, 9, 13, 15\n",
    "complete_time = tm.time()\n",
    "freqs = np.arange(0, 50, 50/196)\n",
    "for subj in subj_list:\n",
    "    print(f\"---- SUBJECT{subj} ----\")\n",
    "    # Create the input matrix for the TDE-HMM:\n",
    "    print(\"Computing the imput matrix for the model\")\n",
    "    datall = []\n",
    "    xeall = []\n",
    "    IC_list = []\n",
    "    for IC in range(1, n_IC+1):\n",
    "        try:\n",
    "            data, n_trials = load_oneIC(mat_file, cells_refs, subj, IC, comp=False)\n",
    "            big_timecourse = np.concatenate([data[f'raw_timecourse_256Hz'][i] for i in range(n_trials)])\n",
    "            x = big_timecourse.reshape(-1, 1)\n",
    "            xe, valid = embedx(x, lags)\n",
    "            xeall.append(xe)\n",
    "            pca = PCA(n_components=n_components)\n",
    "            y = pca.fit_transform(xe[0, :, :])\n",
    "            datall.append(y)\n",
    "            IC_list.append(IC)\n",
    "            print(f\"IC{IC} loaded\")\n",
    "        except:\n",
    "            pass\n",
    "    y = np.concatenate(datall, axis=1)\n",
    "    # Compute the model and the states timecourses\n",
    "    for n_states in range(n_states_max, 3, -1):\n",
    "        start_time = tm.time()\n",
    "        try:\n",
    "            print(f\"Computing and saving the model with {n_states} states\")\n",
    "            gamma, model = hmm_tde(y, n_iter=n_iter, n_states=n_states, n_components=n_components, \n",
    "                                    covariance_type=covariance_type, model_type=model_type, tol=tol, n_mix=n_mix)\n",
    "            print(\"Score:\", model.score(y))\n",
    "            with open(f\"tde-hmm2/pkl_files/su{subj}All_lg{n_lags}co{n_components}st{n_states}\"\n",
    "                +f\"{n_mix}\"+model_type+\"_model.pkl\", \"wb\") as file: pickle.dump(model, file)\n",
    "            # Compute the Power Spectral Density of each state\n",
    "            print(f\"Computing the PSD of each of the {n_states} states\")\n",
    "            psds = []\n",
    "            for i in range(len(IC_list)):\n",
    "                psd = show_bigstates(\n",
    "                    gamma, n_states, xeall[i], # the data we need for the plot\n",
    "                    subj, IC_list[i], # which IC of which subject is of interest here\n",
    "                    n_components, n_lags, covariance_type, model_type, n_mix, # infos we put in the .png name if we want to save it\n",
    "                )\n",
    "                psd = psd[np.newaxis,]\n",
    "                psds.append(psd)\n",
    "            # Save the states timecourses and PSDs thanks to xarray and netCDF\n",
    "            print(\"Saving the states timecourses and PSDs\")\n",
    "            tcourse = np.concatenate(\n",
    "                (np.zeros((29,n_states)), gamma, np.zeros((28,n_states)))\n",
    "            )\n",
    "            time_axis = data[\"time_axis\"]\n",
    "            t_len = time_axis.shape[0]\n",
    "            tcourse_trials = np.zeros((n_trials, t_len, n_states))\n",
    "            for tr in range(n_trials):\n",
    "                tcourse_trials[tr] = tcourse[tr*t_len:(tr+1)*t_len]\n",
    "            ds = xr.Dataset(\n",
    "                {\n",
    "                    \"states_timecourse\": ((\"trials\",\"time\", \"states\"), tcourse_trials),\n",
    "                    \"states_psd\": ((\"IC\", \"states\", \"freq\"), np.concatenate((psds))),\n",
    "                },\n",
    "                {\n",
    "                    \"IC\":IC_list,\n",
    "                    \"time\":time_axis,\n",
    "                    \"states\":np.arange(1, n_states+1),\n",
    "                    \"freq\": freqs,\n",
    "                }\n",
    "            )\n",
    "            ds.to_netcdf(f\"tde-hmm2/nc_files/su{subj}-{n_states}states_data.nc\")\n",
    "            print(f\"subj{subj}, IC{IC}: OK\")\n",
    "        except:\n",
    "            print(\"Oops!\")\n",
    "            pass\n",
    "        print(\"%s seconds\" % (tm.time() - start_time))\n",
    "\n",
    "sec_time = tm.time() - complete_time\n",
    "hr_time = int(sec_time/3600)\n",
    "sec_time = sec_time - (hr_time*3600)\n",
    "mn_time = int(sec_time/60)\n",
    "sec_time = sec_time - (mn_time*60)\n",
    "print(f\"{hr_time}h{mn_time}mn{sec_time}s\")"
   ]
  },
  {
   "cell_type": "markdown",
   "metadata": {},
   "source": [
    "##### Save the fractional occupancy, and plot it with the PSD in each IC"
   ]
  },
  {
   "cell_type": "code",
   "execution_count": null,
   "metadata": {},
   "outputs": [],
   "source": [
    "subj_list = [i for i in range(2,9)] + [i for i in range(10,13)] + [14] + [i for i in range(16, n_subj+1)] \n",
    "\n",
    "for subj in subj_list:\n",
    "    try:\n",
    "        print(f\"----- Subject{subj} -----\")\n",
    "        for n_states in range(n_states_max, 3, -1):\n",
    "            ds = xr.open_dataset(f\"tde-hmm2/nc_files/su{subj}-{n_states}states_data.nc\")\n",
    "            ds = ds.assign(frac_occ = (ds[\"states_timecourse\"].sum(\"trials\")/ds.sizes[\"trials\"]))\n",
    "            ds.to_netcdf(f\"tde-hmm2/nc_files/su{subj}-{n_states}states_data_Multi.nc\", mode=\"w\")\n",
    "            labels = [f\"state {state}\" for state in ds[\"states\"].values]\n",
    "            fig = plt.figure(figsize=(6*(len(ds[\"IC\"].values)+1),6))\n",
    "            plt.subplot(1, len(ds[\"IC\"].values)+1, 1)\n",
    "            plt.title(f'Frac. Occupancy')\n",
    "            plt.plot(ds[\"time\"], ds[\"frac_occ\"].values)\n",
    "            plt.xlabel('Time (s)')\n",
    "            plt.ylabel('Frac. occupancy')\n",
    "            plt.legend(labels, loc='upper left')\n",
    "            for i in range(len(ds[\"IC\"].values)):\n",
    "                plt.subplot(1, len(ds[\"IC\"].values)+1, i+2)\n",
    "                plt.title(f\"Power Spectrum Density of IC{ds['IC'].values[i]}\")\n",
    "                plt.plot(ds[\"freq\"], ds[\"states_psd\"].values[i,].T)\n",
    "                plt.xlabel('Frequency (Hz)')\n",
    "                plt.ylabel('PSD')\n",
    "                plt.legend(labels, loc='upper right')\n",
    "            plt.savefig(f\"tde-hmm2/png_files/su{subj}-frac_occ_{n_states}st_Multi.png\", dpi=300)\n",
    "            plt.close(fig)\n",
    "            print(f\"su{subj}, {n_states} states done\")\n",
    "    except:\n",
    "        print(\"Ouch!\")\n",
    "        pass"
   ]
  },
  {
   "cell_type": "code",
   "execution_count": null,
   "metadata": {},
   "outputs": [],
   "source": [
    "subj_list = [i for i in range(2,9)] + [i for i in range(10,13)] + [14] + [i for i in range(16, n_subj+1)] \n",
    "\n",
    "for subj in subj_list:\n",
    "    try:\n",
    "        print(f\"----- Subject{subj} -----\")\n",
    "        for n_states in [3]:\n",
    "            ds = xr.open_dataset(f\"tde-hmm2/nc_files/su{subj}-{n_states}states_data.nc\")\n",
    "            ds = ds.assign(frac_occ = (ds[\"states_timecourse\"].sum(\"trials\")/ds.sizes[\"trials\"]))\n",
    "            ds.to_netcdf(f\"tde-hmm2/nc_files/su{subj}-{n_states}states_data_Multi.nc\", mode=\"w\")\n",
    "            labels = [f\"state {state}\" for state in ds[\"states\"].values]\n",
    "            fig = plt.figure(figsize=(6*(len(ds[\"IC\"].values)+1),6))\n",
    "            plt.subplot(1, len(ds[\"IC\"].values)+1, 1)\n",
    "            plt.title(f'Frac. Occupancy')\n",
    "            plt.plot(ds[\"time\"], ds[\"frac_occ\"].values)\n",
    "            plt.xlabel('Time (s)')\n",
    "            plt.ylabel('Frac. occupancy')\n",
    "            plt.legend(labels, loc='upper left')\n",
    "            for i in range(len(ds[\"IC\"].values)):\n",
    "                plt.subplot(1, len(ds[\"IC\"].values)+1, i+2)\n",
    "                plt.title(f\"Power Spectrum Density of IC{ds['IC'].values[i]}\")\n",
    "                plt.plot(ds[\"freq\"], ds[\"states_psd\"].values[i,].T)\n",
    "                plt.xlabel('Frequency (Hz)')\n",
    "                plt.ylabel('PSD')\n",
    "                plt.legend(labels, loc='upper right')\n",
    "            plt.savefig(f\"tde-hmm2/png_files/su{subj}-frac_occ_{n_states}st_Multi.png\", dpi=300)\n",
    "            plt.close(fig)\n",
    "            print(f\"su{subj}, {n_states} states done\")\n",
    "    except:\n",
    "        print(\"Ouch!\")\n",
    "        pass"
   ]
  },
  {
   "cell_type": "markdown",
   "metadata": {},
   "source": [
    "##### Tests"
   ]
  },
  {
   "cell_type": "code",
   "execution_count": null,
   "metadata": {},
   "outputs": [],
   "source": [
    "subj = 2\n",
    "freqs = np.arange(0, 50, 50/196)\n",
    "\n",
    "# Loading all data for subject{subj}, IC{IC}\n",
    "print(\"Computing the imput matrix for the model\")\n",
    "datall = []\n",
    "IC_list = []\n",
    "for IC in range(1, n_IC+1):\n",
    "    try:\n",
    "        data, n_trials = load_oneIC(mat_file, cells_refs, subj, IC, comp=False)\n",
    "        big_timecourse = np.concatenate([data[f'raw_timecourse_256Hz'][i] for i in range(n_trials)])\n",
    "        x = big_timecourse.reshape(-1, 1)\n",
    "        xe, valid = embedx(x, lags)\n",
    "        pca = PCA(n_components=n_components)\n",
    "        y = pca.fit_transform(xe[0, :, :])\n",
    "        datall.append(y)\n",
    "        IC_list.append(IC)\n",
    "        print(f\"IC{IC} loaded\")\n",
    "    except:\n",
    "        pass\n",
    "y = np.concatenate(datall, axis=1)"
   ]
  },
  {
   "cell_type": "code",
   "execution_count": null,
   "metadata": {},
   "outputs": [],
   "source": [
    "xeall = []\n",
    "IC_list = []\n",
    "for IC in range(1, n_IC+1):\n",
    "    try:\n",
    "        data, n_trials = load_oneIC(mat_file, cells_refs, subj, IC, comp=False)\n",
    "        big_timecourse = np.concatenate([data[f'raw_timecourse_256Hz'][i] for i in range(n_trials)])\n",
    "        x = big_timecourse.reshape(-1, 1)\n",
    "        xe, valid = embedx(x, lags)\n",
    "        xeall.append(xe)\n",
    "        \n",
    "        IC_list.append(IC)\n",
    "        print(f\"IC{IC} loaded\")\n",
    "    except:\n",
    "        pass\n",
    "print(len(xeall), xeall[0].shape)"
   ]
  },
  {
   "cell_type": "code",
   "execution_count": null,
   "metadata": {},
   "outputs": [],
   "source": [
    "print(\"Computing and saving the model\")\n",
    "gamma, model = hmm_tde(y, n_iter=n_iter, n_states=n_states, n_components=n_components, \n",
    "                        covariance_type=covariance_type, model_type=model_type, tol=tol, n_mix=n_mix)\n",
    "with open(f\"tde-hmm2/pkl_files/su{subj}All_lg{n_lags}co{n_components}st{n_states}\"\n",
    "    +f\"{n_mix}\"+model_type+\"_model.pkl\", \"wb\") as file: pickle.dump(model, file)"
   ]
  },
  {
   "cell_type": "code",
   "execution_count": null,
   "metadata": {},
   "outputs": [],
   "source": [
    "print(\"Computing the PSD of each state\")\n",
    "psds = []\n",
    "for i in range(len(IC_list)):\n",
    "    psd = show_bigstates(\n",
    "        gamma, n_states, xeall[i], # the data we need for the plot\n",
    "        subj, IC_list[i], # which IC of which subject is of interest here\n",
    "        n_components, n_lags, covariance_type, model_type, n_mix, # infos we put in the .png name if we want to save it\n",
    "    )\n",
    "    psd = psd[np.newaxis,]\n",
    "    psds.append(psd)"
   ]
  },
  {
   "cell_type": "code",
   "execution_count": null,
   "metadata": {},
   "outputs": [],
   "source": [
    "gamma.shape"
   ]
  },
  {
   "cell_type": "code",
   "execution_count": null,
   "metadata": {},
   "outputs": [],
   "source": [
    "len(psds)"
   ]
  },
  {
   "cell_type": "code",
   "execution_count": null,
   "metadata": {},
   "outputs": [],
   "source": [
    "psds[0].shape"
   ]
  },
  {
   "cell_type": "code",
   "execution_count": null,
   "metadata": {},
   "outputs": [],
   "source": [
    "print(\"Saving the states timecourses and PSDs\")\n",
    "tcourse = np.concatenate(\n",
    "    (np.zeros((29,n_states)), gamma, np.zeros((28,n_states)))\n",
    ")\n",
    "time_axis = data[\"time_axis\"]\n",
    "t_len = time_axis.shape[0]\n",
    "tcourse_trials = np.zeros((n_trials, t_len, n_states))\n",
    "for tr in range(n_trials):\n",
    "    tcourse_trials[tr] = tcourse[tr*t_len:(tr+1)*t_len]"
   ]
  },
  {
   "cell_type": "code",
   "execution_count": null,
   "metadata": {},
   "outputs": [],
   "source": [
    "tcourse_trials.shape"
   ]
  },
  {
   "cell_type": "code",
   "execution_count": null,
   "metadata": {},
   "outputs": [],
   "source": [
    "IC_list"
   ]
  },
  {
   "cell_type": "code",
   "execution_count": null,
   "metadata": {},
   "outputs": [],
   "source": [
    "time_axis.shape"
   ]
  },
  {
   "cell_type": "code",
   "execution_count": null,
   "metadata": {},
   "outputs": [],
   "source": [
    "freqs.shape"
   ]
  },
  {
   "cell_type": "code",
   "execution_count": null,
   "metadata": {},
   "outputs": [],
   "source": [
    "ds = xr.Dataset(\n",
    "    {\n",
    "        \"states_timecourse\": ((\"trials\",\"time\", \"states\"), tcourse_trials),\n",
    "        \"states_psd\": ((\"IC\", \"states\", \"freq\"), np.concatenate((psds))),\n",
    "    },\n",
    "    {\n",
    "        \"IC\":IC_list,\n",
    "        \"time\":time_axis,\n",
    "        \"states\":np.arange(1, n_states+1),\n",
    "        \"freq\": freqs,\n",
    "    }\n",
    ")\n",
    "ds.to_netcdf(f\"tde-hmm2/nc_files/su{subj}-{n_states}states_data.nc\")"
   ]
  },
  {
   "cell_type": "code",
   "execution_count": null,
   "metadata": {},
   "outputs": [],
   "source": [
    "ds"
   ]
  },
  {
   "cell_type": "code",
   "execution_count": null,
   "metadata": {},
   "outputs": [],
   "source": [
    "ds = xr.open_dataset(f\"tde-hmm2/nc_files/su{subj}-{n_states}states_data.nc\")\n",
    "ds = ds.assign(frac_occ = (ds[\"states_timecourse\"].sum(\"trials\")/ds.sizes[\"trials\"]))\n",
    "ds.to_netcdf(f\"tde-hmm2/nc_files/su{subj}-{n_states}states_data_Multi.nc\", mode=\"w\")\n",
    "labels = [f\"state {state}\" for state in ds[\"states\"].values]\n",
    "fig = plt.figure(figsize=(6*(len(ds[\"IC\"].values)+1),6))\n",
    "plt.subplot(1, len(ds[\"IC\"].values)+1, 1)\n",
    "plt.title(f'Frac. Occupancy')\n",
    "plt.plot(ds[\"time\"], ds[\"frac_occ\"].values)\n",
    "plt.xlabel('Time (s)')\n",
    "plt.ylabel('Frac. occupancy')\n",
    "plt.legend(labels, loc='upper left')\n",
    "for i in range(len(ds[\"IC\"].values)):\n",
    "    plt.subplot(1, len(ds[\"IC\"].values)+1, i+2)\n",
    "    plt.title(f\"Power Spectrum Density of IC{ds['IC'].values[i]}\")\n",
    "    plt.plot(ds[\"freq\"], ds[\"states_psd\"].values[i,].T)\n",
    "    plt.xlabel('Frequency (Hz)')\n",
    "    plt.ylabel('PSD')\n",
    "    plt.legend(labels, loc='upper right')\n",
    "plt.savefig(f\"tde-hmm2/png_files/su{subj}-frac_occ_Multi.png\", dpi=300)\n",
    "plt.close(fig)\n",
    "print(f\"su{subj}\")\n",
    "ds.close()"
   ]
  }
 ],
 "metadata": {
  "kernelspec": {
   "display_name": "Python 3",
   "language": "python",
   "name": "python3"
  },
  "language_info": {
   "codemirror_mode": {
    "name": "ipython",
    "version": 3
   },
   "file_extension": ".py",
   "mimetype": "text/x-python",
   "name": "python",
   "nbconvert_exporter": "python",
   "pygments_lexer": "ipython3",
   "version": "3.8.10"
  }
 },
 "nbformat": 4,
 "nbformat_minor": 2
}
