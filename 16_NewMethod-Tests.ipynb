{
 "cells": [
  {
   "cell_type": "markdown",
   "metadata": {},
   "source": [
    "# Multivariate TDE-HMM on all subjects, following Quinn's method"
   ]
  },
  {
   "cell_type": "markdown",
   "metadata": {},
   "source": [
    "## Libraries and methods"
   ]
  },
  {
   "cell_type": "code",
   "execution_count": 1,
   "metadata": {},
   "outputs": [],
   "source": [
    "import numpy as np\n",
    "from loader import load_oneIC\n",
    "import h5py\n",
    "import xarray as xr"
   ]
  },
  {
   "cell_type": "code",
   "execution_count": 2,
   "metadata": {},
   "outputs": [],
   "source": [
    "from sklearn.decomposition import PCA\n",
    "from sklearn.preprocessing import scale\n",
    "from hmmlearn import hmm\n",
    "import scipy.signal as signal\n",
    "import pickle"
   ]
  },
  {
   "cell_type": "code",
   "execution_count": 3,
   "metadata": {},
   "outputs": [],
   "source": [
    "import matplotlib.pyplot as plt\n",
    "import matplotlib.colors as colors\n",
    "from wavelet_transform import wavelet_transform2"
   ]
  },
  {
   "cell_type": "code",
   "execution_count": 4,
   "metadata": {},
   "outputs": [],
   "source": [
    "import mne"
   ]
  },
  {
   "cell_type": "code",
   "execution_count": 5,
   "metadata": {},
   "outputs": [],
   "source": [
    "import time as tm"
   ]
  },
  {
   "cell_type": "code",
   "execution_count": 6,
   "metadata": {},
   "outputs": [],
   "source": [
    "directory = \"/home/INT/malfait.n/Documents/NIC_250819\"\n",
    "file = \"FCK_LOCKED_IC_JYOTIKA_250819.mat\"\n",
    "\n",
    "path = f\"{directory}/{file}\"\n",
    "\n",
    "mat_file = h5py.File(path, \"r\")\n",
    "cells_refs = mat_file['FCK_LOCKED_IC_JYOTIKA']\n",
    "\n",
    "n_IC = 4\n",
    "n_subj = 23"
   ]
  },
  {
   "cell_type": "code",
   "execution_count": 7,
   "metadata": {},
   "outputs": [],
   "source": [
    "target_dir = \"tde-hmm2/test_grids/\""
   ]
  },
  {
   "cell_type": "markdown",
   "metadata": {},
   "source": [
    "## Functions"
   ]
  },
  {
   "cell_type": "code",
   "execution_count": 8,
   "metadata": {},
   "outputs": [],
   "source": [
    "# The embedx function copies the `x` array len(lags) times into `xe`\n",
    "# with lags (i.e. time delays) between lags[0] and lags[-1] (we implement the time-delay array for the HMM).\n",
    "\n",
    "def embedx(x, lags):\n",
    "    \n",
    "    Xe = np.zeros((x.shape[1], x.shape[0],  len(lags)))\n",
    "\n",
    "    for l in range(len(lags)):\n",
    "        Xe[:, :, l] = np.roll(x, lags[l], axis=0).swapaxes(0, 1)\n",
    "\n",
    "    # Remove edges\n",
    "    valid = np.ones((x.shape[0], 1), dtype=np.int8)\n",
    "    valid[:np.abs(np.min(lags)), :] = 0\n",
    "    valid[-np.abs(np.max(lags)):, :] = 0\n",
    "\n",
    "    Xe = Xe[:, valid[:, 0] == 1, :]\n",
    "\n",
    "    return Xe, valid\n",
    "\n",
    "\n",
    "# The hmm_tde function finds parameters for the HMM,\n",
    "# then uses them to determine the probability of presence of each found state over time.\n",
    "\n",
    "def hmm_tde(y: np.array, n_states=3, n_iter=100, n_components=8, \n",
    "            covariance_type='full', model_type='GMMHMM', tol=0.01, n_mix=1, **kwargs):\n",
    "    \n",
    "    if model_type=='GMMHMM':\n",
    "        model = hmm.GMMHMM(n_components=n_states, n_iter=n_iter,\n",
    "                            covariance_type=covariance_type, tol=tol, n_mix=n_mix, **kwargs)\n",
    "        \n",
    "    elif model_type=='GaussianHMM':\n",
    "        model = hmm.GaussianHMM(n_components=n_states, n_iter=n_iter,\n",
    "                            covariance_type=covariance_type, tol=tol, **kwargs)\n",
    "        \n",
    "    elif model_type=='MultinomialHMM':\n",
    "        model = hmm.MultinomialHMM(n_components=n_states, n_iter=n_iter, tol=tol, **kwargs)\n",
    "    \n",
    "    else: \n",
    "        return \"Non-exixting model_type. Please choose 'GMMHMM' or 'GaussianHMM' or 'MultinomialHMM'. default='GMMHMM'\"\n",
    "        \n",
    "    model.fit(y)\n",
    "    gamma = model.predict_proba(y)\n",
    "\n",
    "    return gamma, model"
   ]
  },
  {
   "cell_type": "code",
   "execution_count": 9,
   "metadata": {},
   "outputs": [],
   "source": [
    "# def statesPSD(gamma, n_states, xe):\n",
    "\n",
    "#     psd_all = np.zeros((n_states, 196))\n",
    "#     for i in range(n_states):\n",
    "\n",
    "#         # Compute PSD separately for each lag\n",
    "#         tot = []\n",
    "#         for seg in xe[0, gamma[:, i]> .6, :].T:\n",
    "#             freqs, psd = signal.welch(x=seg, fs=256/6, nfft=1000)\n",
    "#             tot.append(psd)\n",
    "#         psd = np.mean(np.asarray(tot), 0)\n",
    "#         imax = np.searchsorted(freqs, 50, side='right')\n",
    "#         psd_all[i] = psd[:imax]\n",
    "#     psd_all = np.asarray(psd_all, 0)\n",
    "    \n",
    "#     return psd_all"
   ]
  },
  {
   "cell_type": "code",
   "execution_count": 53,
   "metadata": {},
   "outputs": [],
   "source": [
    "def statesPSD(gamma, n_states, xe):\n",
    "\n",
    "    psd_all = []\n",
    "    for i in range(n_states):\n",
    "\n",
    "        # Compute PSD separately for each lag\n",
    "        tot = []\n",
    "        for seg in xe[0, gamma[:, i]>(2/3), :].T:\n",
    "            freqs, psd = signal.welch(x=seg, fs=256/3, nfft=1000)\n",
    "            tot.append(psd)\n",
    "        psd = np.mean(np.asarray(tot), 0)\n",
    "#         imax = np.searchsorted(freqs, 50, side='right')\n",
    "        psd_all.append(psd)\n",
    "    \n",
    "    psd_all = np.asarray(psd_all)\n",
    "    \n",
    "    return freqs, psd_all"
   ]
  },
  {
   "cell_type": "markdown",
   "metadata": {},
   "source": [
    "## Final Script"
   ]
  },
  {
   "cell_type": "markdown",
   "metadata": {},
   "source": [
    "#### Model and parameters:\n",
    "|_ (??delays x 4IC)  x (7s x 256Hz x Ntrials)   -----PCA-----> |_ (??components x 4IC) x (7s x 256Hz x Ntrials) -----> |_ TDE-HMM ( 1 Gaussian/state, 3 to 6 states )"
   ]
  },
  {
   "cell_type": "code",
   "execution_count": 54,
   "metadata": {},
   "outputs": [],
   "source": [
    "# The parameters we change to hope for some results\n",
    "lags = np.arange(-11, 11)\n",
    "n_lags = lags.shape[0]\n",
    "n_iter=100\n",
    "n_states_max=6    # for the Hidden Markov Model\n",
    "n_components=8     # For the principal component analysis\n",
    "covariance_type='full'\n",
    "model_type='GaussianHMM'\n",
    "tol=0.01\n",
    "n_mix=1\n",
    "downsamp_rate = 3"
   ]
  },
  {
   "cell_type": "code",
   "execution_count": 12,
   "metadata": {},
   "outputs": [],
   "source": [
    "subj_list = [i for i in range(2,9)] + [i for i in range(10,13)] + [14] + [i for i in range(16, n_subj+1)] \n",
    "                                                                            # All except subjects 1, 9, 13, 15"
   ]
  },
  {
   "cell_type": "markdown",
   "metadata": {},
   "source": [
    "## Tests"
   ]
  },
  {
   "cell_type": "code",
   "execution_count": 13,
   "metadata": {},
   "outputs": [],
   "source": [
    "subj = 2\n",
    "freqs = np.arange(0, 50, 50/196)"
   ]
  },
  {
   "cell_type": "code",
   "execution_count": 14,
   "metadata": {},
   "outputs": [],
   "source": [
    "n_states = 3"
   ]
  },
  {
   "cell_type": "code",
   "execution_count": 55,
   "metadata": {
    "scrolled": true
   },
   "outputs": [
    {
     "name": "stdout",
     "output_type": "stream",
     "text": [
      "Computing the imput matrix for the model\n",
      "Loading the raw timecourse\n",
      "IC1 loaded\n",
      "Loading the raw timecourse\n",
      "IC2 loaded\n",
      "Loading the raw timecourse\n",
      "IC3 loaded\n",
      "Loading the raw timecourse\n",
      "IC4 loaded\n"
     ]
    }
   ],
   "source": [
    "# Loading all data for subject{subj}, IC{IC}\n",
    "print(\"Computing the imput matrix for the model\")\n",
    "datall = []\n",
    "xeall = []\n",
    "IC_list = []\n",
    "for IC in range(1, n_IC+1):\n",
    "#         try:\n",
    "        data, n_trials = load_oneIC(mat_file, cells_refs, subj, IC, comp=False)\n",
    "        big_timecourse = np.concatenate([data[f'raw_timecourse_256Hz'][i][::downsamp_rate] for i in range(n_trials)])\n",
    "            # Downsampled to 256/3 = 85,33333Hz\n",
    "        x = big_timecourse.reshape(-1, 1)\n",
    "        xe, valid = embedx(x, lags)\n",
    "        xeall.append(xe)\n",
    "        pca = PCA(n_components=n_components)\n",
    "        y = pca.fit_transform(xe[0, :, :])\n",
    "        datall.append(y)\n",
    "        IC_list.append(IC)\n",
    "        print(f\"IC{IC} loaded\")\n",
    "#         except:\n",
    "#             pass\n",
    "y = np.concatenate(datall, axis=1)"
   ]
  },
  {
   "cell_type": "code",
   "execution_count": 56,
   "metadata": {},
   "outputs": [
    {
     "data": {
      "text/plain": [
       "(1, 403629, 22)"
      ]
     },
     "execution_count": 56,
     "metadata": {},
     "output_type": "execute_result"
    }
   ],
   "source": [
    "xeall[0].shape"
   ]
  },
  {
   "cell_type": "code",
   "execution_count": 57,
   "metadata": {
    "scrolled": true
   },
   "outputs": [
    {
     "data": {
      "text/plain": [
       "597.9688888888888"
      ]
     },
     "execution_count": 57,
     "metadata": {},
     "output_type": "execute_result"
    }
   ],
   "source": [
    "y.shape[0]/n_trials"
   ]
  },
  {
   "cell_type": "markdown",
   "metadata": {},
   "source": [
    "When you don't have the model yet:"
   ]
  },
  {
   "cell_type": "code",
   "execution_count": 58,
   "metadata": {},
   "outputs": [
    {
     "name": "stdout",
     "output_type": "stream",
     "text": [
      "Computing and saving the model\n"
     ]
    }
   ],
   "source": [
    "\n",
    "print(\"Computing and saving the model\")\n",
    "gamma, model = hmm_tde(y, n_iter=n_iter, n_states=n_states, n_components=n_components, \n",
    "                        covariance_type=covariance_type, model_type=model_type, tol=tol, n_mix=n_mix)\n",
    "with open(f\"tde-hmm2/test_files/su{subj}All_lg{n_lags}co{n_components}st{n_states}\"\n",
    "    +f\"{n_mix}\"+model_type+\"_model.pkl\", \"wb\") as file: pickle.dump(model, file)"
   ]
  },
  {
   "cell_type": "code",
   "execution_count": 59,
   "metadata": {},
   "outputs": [
    {
     "name": "stdout",
     "output_type": "stream",
     "text": [
      "Computing the PSD of each state\n"
     ]
    }
   ],
   "source": [
    "print(\"Computing the PSD of each state\")\n",
    "psds = []\n",
    "for i in range(len(IC_list)):\n",
    "    freqs, psd = statesPSD(gamma, n_states, xeall[i])\n",
    "    psd = psd[np.newaxis,]\n",
    "    psds.append(psd)"
   ]
  },
  {
   "cell_type": "markdown",
   "metadata": {},
   "source": [
    "When you do have the model but want to compute the PSDs again because they are wrong (also, you have a new function to compute the PSD with a new name and fewer arguments because you got rid of everything that was useless):"
   ]
  },
  {
   "cell_type": "code",
   "execution_count": 19,
   "metadata": {},
   "outputs": [
    {
     "data": {
      "text/plain": [
       "(675, 299, 3)"
      ]
     },
     "execution_count": 19,
     "metadata": {},
     "output_type": "execute_result"
    }
   ],
   "source": [
    "ds = xr.open_dataset(f\"tde-hmm2/test_files/su{subj}-{n_states}states_data.nc\")\n",
    "tcourse = ds[\"states_timecourse\"].values\n",
    "tcourse.shape"
   ]
  },
  {
   "cell_type": "code",
   "execution_count": 20,
   "metadata": {},
   "outputs": [
    {
     "data": {
      "text/plain": [
       "(201825, 3)"
      ]
     },
     "execution_count": 20,
     "metadata": {},
     "output_type": "execute_result"
    }
   ],
   "source": [
    "gamma = np.zeros((675*299, 3))\n",
    "gamma.shape"
   ]
  },
  {
   "cell_type": "code",
   "execution_count": 21,
   "metadata": {},
   "outputs": [],
   "source": [
    "for i in range(n_states):\n",
    "    gamma[:,i] = tcourse[:,:,i].reshape(675*299)"
   ]
  },
  {
   "cell_type": "code",
   "execution_count": 28,
   "metadata": {},
   "outputs": [
    {
     "data": {
      "text/plain": [
       "(201804, 3)"
      ]
     },
     "execution_count": 28,
     "metadata": {},
     "output_type": "execute_result"
    }
   ],
   "source": [
    "gamma = gamma[abs(lags[0]):-lags[-1],:]\n",
    "gamma.shape"
   ]
  },
  {
   "cell_type": "code",
   "execution_count": 31,
   "metadata": {},
   "outputs": [
    {
     "data": {
      "text/plain": [
       "0.999998478220071"
      ]
     },
     "execution_count": 31,
     "metadata": {},
     "output_type": "execute_result"
    }
   ],
   "source": [
    "gamma[1,0]"
   ]
  },
  {
   "cell_type": "code",
   "execution_count": 52,
   "metadata": {},
   "outputs": [
    {
     "name": "stdout",
     "output_type": "stream",
     "text": [
      "Computing the PSD of each state\n",
      "50.176 128.0\n",
      "50.176 128.0\n",
      "50.176 128.0\n",
      "50.176 128.0\n",
      "50.176 128.0\n",
      "50.176 128.0\n",
      "50.176 128.0\n",
      "50.176 128.0\n",
      "50.176 128.0\n",
      "50.176 128.0\n",
      "50.176 128.0\n",
      "50.176 128.0\n"
     ]
    }
   ],
   "source": [
    "print(\"Computing the PSD of each state\")\n",
    "psds = []\n",
    "for i in range(len(IC_list)):\n",
    "    freqs, psd = statesPSD(gamma, n_states, xeall[i])\n",
    "    psd = psd[np.newaxis,]\n",
    "    psds.append(psd)"
   ]
  },
  {
   "cell_type": "code",
   "execution_count": 45,
   "metadata": {},
   "outputs": [
    {
     "data": {
      "text/plain": [
       "21.333333333333332"
      ]
     },
     "execution_count": 45,
     "metadata": {},
     "output_type": "execute_result"
    }
   ],
   "source": [
    "freqs[-1]"
   ]
  },
  {
   "cell_type": "code",
   "execution_count": 41,
   "metadata": {},
   "outputs": [
    {
     "data": {
      "text/plain": [
       "(1, 3, 501)"
      ]
     },
     "execution_count": 41,
     "metadata": {},
     "output_type": "execute_result"
    }
   ],
   "source": [
    "psds[0].shape"
   ]
  },
  {
   "cell_type": "code",
   "execution_count": 60,
   "metadata": {},
   "outputs": [
    {
     "data": {
      "text/plain": [
       "[<matplotlib.lines.Line2D at 0x7fde1fc2a730>,\n",
       " <matplotlib.lines.Line2D at 0x7fde1fc2a760>,\n",
       " <matplotlib.lines.Line2D at 0x7fde1fc2a880>]"
      ]
     },
     "execution_count": 60,
     "metadata": {},
     "output_type": "execute_result"
    },
    {
     "data": {
      "image/png": "[encoded data removed]",
      "text/plain": [
       "<Figure size 432x288 with 1 Axes>"
      ]
     },
     "metadata": {
      "needs_background": "light"
     },
     "output_type": "display_data"
    }
   ],
   "source": [
    "plt.plot(freqs, psds[0][0].T)"
   ]
  },
  {
   "cell_type": "markdown",
   "metadata": {},
   "source": [
    "End of the torture"
   ]
  },
  {
   "cell_type": "code",
   "execution_count": 61,
   "metadata": {},
   "outputs": [
    {
     "data": {
      "text/plain": [
       "(598,)"
      ]
     },
     "execution_count": 61,
     "metadata": {},
     "output_type": "execute_result"
    }
   ],
   "source": [
    "data[\"time_axis\"][::downsamp_rate].shape"
   ]
  },
  {
   "cell_type": "code",
   "execution_count": 62,
   "metadata": {},
   "outputs": [
    {
     "data": {
      "text/plain": [
       "598.0"
      ]
     },
     "execution_count": 62,
     "metadata": {},
     "output_type": "execute_result"
    }
   ],
   "source": [
    "(gamma.shape[0]+21)/n_trials"
   ]
  },
  {
   "cell_type": "code",
   "execution_count": 66,
   "metadata": {},
   "outputs": [
    {
     "name": "stdout",
     "output_type": "stream",
     "text": [
      "Saving the states timecourses and PSDs\n",
      "subj2, IC4: OK\n"
     ]
    }
   ],
   "source": [
    "# Save the states timecourses and PSDs thanks to xarray and netCDF\n",
    "print(\"Saving the states timecourses and PSDs\")\n",
    "tcourse = np.concatenate(\n",
    "    (np.zeros((abs(lags[0]),n_states)), gamma, np.zeros((lags[-1],n_states)))\n",
    ")\n",
    "time_axis = data[\"time_axis\"][::downsamp_rate]\n",
    "t_len = time_axis.shape[0]\n",
    "tcourse_trials = np.zeros((n_trials, t_len, n_states))\n",
    "for tr in range(n_trials):\n",
    "    tcourse_trials[tr] = tcourse[tr*t_len:(tr+1)*t_len]\n",
    "ds = xr.Dataset(\n",
    "    {\n",
    "        \"states_timecourse\": ((\"trials\",\"time\", \"states\"), tcourse_trials),\n",
    "        \"states_psd\": ((\"IC\", \"states\", \"freq\"), np.concatenate((psds))),\n",
    "    },\n",
    "    {\n",
    "        \"IC\":IC_list,\n",
    "        \"time\":time_axis,\n",
    "        \"states\":np.arange(1, n_states+1),\n",
    "        \"freq\": freqs,\n",
    "    }\n",
    ")\n",
    "ds.to_netcdf(f\"tde-hmm2/test_files/su{subj}-{n_states}states_data.nc\")\n",
    "print(f\"subj{subj}, IC{IC}: OK\")"
   ]
  },
  {
   "cell_type": "code",
   "execution_count": 67,
   "metadata": {},
   "outputs": [
    {
     "data": {
      "text/plain": [
       "(598,)"
      ]
     },
     "execution_count": 67,
     "metadata": {},
     "output_type": "execute_result"
    }
   ],
   "source": [
    "time_axis.shape"
   ]
  },
  {
   "cell_type": "code",
   "execution_count": 68,
   "metadata": {},
   "outputs": [
    {
     "data": {
      "text/html": [
       "<div><svg style=\"position: absolute; width: 0; height: 0; overflow: hidden\">\n",
       "<defs>\n",
       "<symbol id=\"icon-database\" viewBox=\"0 0 32 32\">\n",
       "<path d=\"M16 0c-8.837 0-16 2.239-16 5v4c0 2.761 7.163 5 16 5s16-2.239 16-5v-4c0-2.761-7.163-5-16-5z\"></path>\n",
       "<path d=\"M16 17c-8.837 0-16-2.239-16-5v6c0 2.761 7.163 5 16 5s16-2.239 16-5v-6c0 2.761-7.163 5-16 5z\"></path>\n",
       "<path d=\"M16 26c-8.837 0-16-2.239-16-5v6c0 2.761 7.163 5 16 5s16-2.239 16-5v-6c0 2.761-7.163 5-16 5z\"></path>\n",
       "</symbol>\n",
       "<symbol id=\"icon-file-text2\" viewBox=\"0 0 32 32\">\n",
       "<path d=\"M28.681 7.159c-0.694-0.947-1.662-2.053-2.724-3.116s-2.169-2.030-3.116-2.724c-1.612-1.182-2.393-1.319-2.841-1.319h-15.5c-1.378 0-2.5 1.121-2.5 2.5v27c0 1.378 1.122 2.5 2.5 2.5h23c1.378 0 2.5-1.122 2.5-2.5v-19.5c0-0.448-0.137-1.23-1.319-2.841zM24.543 5.457c0.959 0.959 1.712 1.825 2.268 2.543h-4.811v-4.811c0.718 0.556 1.584 1.309 2.543 2.268zM28 29.5c0 0.271-0.229 0.5-0.5 0.5h-23c-0.271 0-0.5-0.229-0.5-0.5v-27c0-0.271 0.229-0.5 0.5-0.5 0 0 15.499-0 15.5 0v7c0 0.552 0.448 1 1 1h7v19.5z\"></path>\n",
       "<path d=\"M23 26h-14c-0.552 0-1-0.448-1-1s0.448-1 1-1h14c0.552 0 1 0.448 1 1s-0.448 1-1 1z\"></path>\n",
       "<path d=\"M23 22h-14c-0.552 0-1-0.448-1-1s0.448-1 1-1h14c0.552 0 1 0.448 1 1s-0.448 1-1 1z\"></path>\n",
       "<path d=\"M23 18h-14c-0.552 0-1-0.448-1-1s0.448-1 1-1h14c0.552 0 1 0.448 1 1s-0.448 1-1 1z\"></path>\n",
       "</symbol>\n",
       "</defs>\n",
       "</svg>\n",
       "<style>/* CSS stylesheet for displaying xarray objects in jupyterlab.\n",
       " *\n",
       " */\n",
       "\n",
       ":root {\n",
       "  --xr-font-color0: var(--jp-content-font-color0, rgba(0, 0, 0, 1));\n",
       "  --xr-font-color2: var(--jp-content-font-color2, rgba(0, 0, 0, 0.54));\n",
       "  --xr-font-color3: var(--jp-content-font-color3, rgba(0, 0, 0, 0.38));\n",
       "  --xr-border-color: var(--jp-border-color2, #e0e0e0);\n",
       "  --xr-disabled-color: var(--jp-layout-color3, #bdbdbd);\n",
       "  --xr-background-color: var(--jp-layout-color0, white);\n",
       "  --xr-background-color-row-even: var(--jp-layout-color1, white);\n",
       "  --xr-background-color-row-odd: var(--jp-layout-color2, #eeeeee);\n",
       "}\n",
       "\n",
       "html[theme=dark],\n",
       "body.vscode-dark {\n",
       "  --xr-font-color0: rgba(255, 255, 255, 1);\n",
       "  --xr-font-color2: rgba(255, 255, 255, 0.54);\n",
       "  --xr-font-color3: rgba(255, 255, 255, 0.38);\n",
       "  --xr-border-color: #1F1F1F;\n",
       "  --xr-disabled-color: #515151;\n",
       "  --xr-background-color: #111111;\n",
       "  --xr-background-color-row-even: #111111;\n",
       "  --xr-background-color-row-odd: #313131;\n",
       "}\n",
       "\n",
       ".xr-wrap {\n",
       "  display: block;\n",
       "  min-width: 300px;\n",
       "  max-width: 700px;\n",
       "}\n",
       "\n",
       ".xr-text-repr-fallback {\n",
       "  /* fallback to plain text repr when CSS is not injected (untrusted notebook) */\n",
       "  display: none;\n",
       "}\n",
       "\n",
       ".xr-header {\n",
       "  padding-top: 6px;\n",
       "  padding-bottom: 6px;\n",
       "  margin-bottom: 4px;\n",
       "  border-bottom: solid 1px var(--xr-border-color);\n",
       "}\n",
       "\n",
       ".xr-header > div,\n",
       ".xr-header > ul {\n",
       "  display: inline;\n",
       "  margin-top: 0;\n",
       "  margin-bottom: 0;\n",
       "}\n",
       "\n",
       ".xr-obj-type,\n",
       ".xr-array-name {\n",
       "  margin-left: 2px;\n",
       "  margin-right: 10px;\n",
       "}\n",
       "\n",
       ".xr-obj-type {\n",
       "  color: var(--xr-font-color2);\n",
       "}\n",
       "\n",
       ".xr-sections {\n",
       "  padding-left: 0 !important;\n",
       "  display: grid;\n",
       "  grid-template-columns: 150px auto auto 1fr 20px 20px;\n",
       "}\n",
       "\n",
       ".xr-section-item {\n",
       "  display: contents;\n",
       "}\n",
       "\n",
       ".xr-section-item input {\n",
       "  display: none;\n",
       "}\n",
       "\n",
       ".xr-section-item input + label {\n",
       "  color: var(--xr-disabled-color);\n",
       "}\n",
       "\n",
       ".xr-section-item input:enabled + label {\n",
       "  cursor: pointer;\n",
       "  color: var(--xr-font-color2);\n",
       "}\n",
       "\n",
       ".xr-section-item input:enabled + label:hover {\n",
       "  color: var(--xr-font-color0);\n",
       "}\n",
       "\n",
       ".xr-section-summary {\n",
       "  grid-column: 1;\n",
       "  color: var(--xr-font-color2);\n",
       "  font-weight: 500;\n",
       "}\n",
       "\n",
       ".xr-section-summary > span {\n",
       "  display: inline-block;\n",
       "  padding-left: 0.5em;\n",
       "}\n",
       "\n",
       ".xr-section-summary-in:disabled + label {\n",
       "  color: var(--xr-font-color2);\n",
       "}\n",
       "\n",
       ".xr-section-summary-in + label:before {\n",
       "  display: inline-block;\n",
       "  content: '►';\n",
       "  font-size: 11px;\n",
       "  width: 15px;\n",
       "  text-align: center;\n",
       "}\n",
       "\n",
       ".xr-section-summary-in:disabled + label:before {\n",
       "  color: var(--xr-disabled-color);\n",
       "}\n",
       "\n",
       ".xr-section-summary-in:checked + label:before {\n",
       "  content: '▼';\n",
       "}\n",
       "\n",
       ".xr-section-summary-in:checked + label > span {\n",
       "  display: none;\n",
       "}\n",
       "\n",
       ".xr-section-summary,\n",
       ".xr-section-inline-details {\n",
       "  padding-top: 4px;\n",
       "  padding-bottom: 4px;\n",
       "}\n",
       "\n",
       ".xr-section-inline-details {\n",
       "  grid-column: 2 / -1;\n",
       "}\n",
       "\n",
       ".xr-section-details {\n",
       "  display: none;\n",
       "  grid-column: 1 / -1;\n",
       "  margin-bottom: 5px;\n",
       "}\n",
       "\n",
       ".xr-section-summary-in:checked ~ .xr-section-details {\n",
       "  display: contents;\n",
       "}\n",
       "\n",
       ".xr-array-wrap {\n",
       "  grid-column: 1 / -1;\n",
       "  display: grid;\n",
       "  grid-template-columns: 20px auto;\n",
       "}\n",
       "\n",
       ".xr-array-wrap > label {\n",
       "  grid-column: 1;\n",
       "  vertical-align: top;\n",
       "}\n",
       "\n",
       ".xr-preview {\n",
       "  color: var(--xr-font-color3);\n",
       "}\n",
       "\n",
       ".xr-array-preview,\n",
       ".xr-array-data {\n",
       "  padding: 0 5px !important;\n",
       "  grid-column: 2;\n",
       "}\n",
       "\n",
       ".xr-array-data,\n",
       ".xr-array-in:checked ~ .xr-array-preview {\n",
       "  display: none;\n",
       "}\n",
       "\n",
       ".xr-array-in:checked ~ .xr-array-data,\n",
       ".xr-array-preview {\n",
       "  display: inline-block;\n",
       "}\n",
       "\n",
       ".xr-dim-list {\n",
       "  display: inline-block !important;\n",
       "  list-style: none;\n",
       "  padding: 0 !important;\n",
       "  margin: 0;\n",
       "}\n",
       "\n",
       ".xr-dim-list li {\n",
       "  display: inline-block;\n",
       "  padding: 0;\n",
       "  margin: 0;\n",
       "}\n",
       "\n",
       ".xr-dim-list:before {\n",
       "  content: '(';\n",
       "}\n",
       "\n",
       ".xr-dim-list:after {\n",
       "  content: ')';\n",
       "}\n",
       "\n",
       ".xr-dim-list li:not(:last-child):after {\n",
       "  content: ',';\n",
       "  padding-right: 5px;\n",
       "}\n",
       "\n",
       ".xr-has-index {\n",
       "  font-weight: bold;\n",
       "}\n",
       "\n",
       ".xr-var-list,\n",
       ".xr-var-item {\n",
       "  display: contents;\n",
       "}\n",
       "\n",
       ".xr-var-item > div,\n",
       ".xr-var-item label,\n",
       ".xr-var-item > .xr-var-name span {\n",
       "  background-color: var(--xr-background-color-row-even);\n",
       "  margin-bottom: 0;\n",
       "}\n",
       "\n",
       ".xr-var-item > .xr-var-name:hover span {\n",
       "  padding-right: 5px;\n",
       "}\n",
       "\n",
       ".xr-var-list > li:nth-child(odd) > div,\n",
       ".xr-var-list > li:nth-child(odd) > label,\n",
       ".xr-var-list > li:nth-child(odd) > .xr-var-name span {\n",
       "  background-color: var(--xr-background-color-row-odd);\n",
       "}\n",
       "\n",
       ".xr-var-name {\n",
       "  grid-column: 1;\n",
       "}\n",
       "\n",
       ".xr-var-dims {\n",
       "  grid-column: 2;\n",
       "}\n",
       "\n",
       ".xr-var-dtype {\n",
       "  grid-column: 3;\n",
       "  text-align: right;\n",
       "  color: var(--xr-font-color2);\n",
       "}\n",
       "\n",
       ".xr-var-preview {\n",
       "  grid-column: 4;\n",
       "}\n",
       "\n",
       ".xr-var-name,\n",
       ".xr-var-dims,\n",
       ".xr-var-dtype,\n",
       ".xr-preview,\n",
       ".xr-attrs dt {\n",
       "  white-space: nowrap;\n",
       "  overflow: hidden;\n",
       "  text-overflow: ellipsis;\n",
       "  padding-right: 10px;\n",
       "}\n",
       "\n",
       ".xr-var-name:hover,\n",
       ".xr-var-dims:hover,\n",
       ".xr-var-dtype:hover,\n",
       ".xr-attrs dt:hover {\n",
       "  overflow: visible;\n",
       "  width: auto;\n",
       "  z-index: 1;\n",
       "}\n",
       "\n",
       ".xr-var-attrs,\n",
       ".xr-var-data {\n",
       "  display: none;\n",
       "  background-color: var(--xr-background-color) !important;\n",
       "  padding-bottom: 5px !important;\n",
       "}\n",
       "\n",
       ".xr-var-attrs-in:checked ~ .xr-var-attrs,\n",
       ".xr-var-data-in:checked ~ .xr-var-data {\n",
       "  display: block;\n",
       "}\n",
       "\n",
       ".xr-var-data > table {\n",
       "  float: right;\n",
       "}\n",
       "\n",
       ".xr-var-name span,\n",
       ".xr-var-data,\n",
       ".xr-attrs {\n",
       "  padding-left: 25px !important;\n",
       "}\n",
       "\n",
       ".xr-attrs,\n",
       ".xr-var-attrs,\n",
       ".xr-var-data {\n",
       "  grid-column: 1 / -1;\n",
       "}\n",
       "\n",
       "dl.xr-attrs {\n",
       "  padding: 0;\n",
       "  margin: 0;\n",
       "  display: grid;\n",
       "  grid-template-columns: 125px auto;\n",
       "}\n",
       "\n",
       ".xr-attrs dt,\n",
       ".xr-attrs dd {\n",
       "  padding: 0;\n",
       "  margin: 0;\n",
       "  float: left;\n",
       "  padding-right: 10px;\n",
       "  width: auto;\n",
       "}\n",
       "\n",
       ".xr-attrs dt {\n",
       "  font-weight: normal;\n",
       "  grid-column: 1;\n",
       "}\n",
       "\n",
       ".xr-attrs dt:hover span {\n",
       "  display: inline-block;\n",
       "  background: var(--xr-background-color);\n",
       "  padding-right: 10px;\n",
       "}\n",
       "\n",
       ".xr-attrs dd {\n",
       "  grid-column: 2;\n",
       "  white-space: pre-wrap;\n",
       "  word-break: break-all;\n",
       "}\n",
       "\n",
       ".xr-icon-database,\n",
       ".xr-icon-file-text2 {\n",
       "  display: inline-block;\n",
       "  vertical-align: middle;\n",
       "  width: 1em;\n",
       "  height: 1.5em !important;\n",
       "  stroke-width: 0;\n",
       "  stroke: currentColor;\n",
       "  fill: currentColor;\n",
       "}\n",
       "</style><pre class='xr-text-repr-fallback'>&lt;xarray.Dataset&gt;\n",
       "Dimensions:            (IC: 4, freq: 501, states: 3, time: 598, trials: 675)\n",
       "Coordinates:\n",
       "  * IC                 (IC) int64 1 2 3 4\n",
       "  * time               (time) float64 -4.0 -3.988 -3.977 ... 2.973 2.984 2.996\n",
       "  * states             (states) int64 1 2 3\n",
       "  * freq               (freq) float64 0.0 0.08533 0.1707 ... 42.5 42.58 42.67\n",
       "Dimensions without coordinates: trials\n",
       "Data variables:\n",
       "    states_timecourse  (trials, time, states) float64 0.0 0.0 0.0 ... 0.0 0.0\n",
       "    states_psd         (IC, states, freq) float64 0.003596 ... 0.0003449</pre><div class='xr-wrap' hidden><div class='xr-header'><div class='xr-obj-type'>xarray.Dataset</div></div><ul class='xr-sections'><li class='xr-section-item'><input id='section-2bcdac88-6282-45bd-9ede-a7b96b6813af' class='xr-section-summary-in' type='checkbox' disabled ><label for='section-2bcdac88-6282-45bd-9ede-a7b96b6813af' class='xr-section-summary'  title='Expand/collapse section'>Dimensions:</label><div class='xr-section-inline-details'><ul class='xr-dim-list'><li><span class='xr-has-index'>IC</span>: 4</li><li><span class='xr-has-index'>freq</span>: 501</li><li><span class='xr-has-index'>states</span>: 3</li><li><span class='xr-has-index'>time</span>: 598</li><li><span>trials</span>: 675</li></ul></div><div class='xr-section-details'></div></li><li class='xr-section-item'><input id='section-2d410e1a-1dfa-4551-a4e7-1d9ad76888a5' class='xr-section-summary-in' type='checkbox'  checked><label for='section-2d410e1a-1dfa-4551-a4e7-1d9ad76888a5' class='xr-section-summary' >Coordinates: <span>(4)</span></label><div class='xr-section-inline-details'></div><div class='xr-section-details'><ul class='xr-var-list'><li class='xr-var-item'><div class='xr-var-name'><span class='xr-has-index'>IC</span></div><div class='xr-var-dims'>(IC)</div><div class='xr-var-dtype'>int64</div><div class='xr-var-preview xr-preview'>1 2 3 4</div><input id='attrs-03318037-b89a-45e7-80dc-b21f252df6eb' class='xr-var-attrs-in' type='checkbox' disabled><label for='attrs-03318037-b89a-45e7-80dc-b21f252df6eb' title='Show/Hide attributes'><svg class='icon xr-icon-file-text2'><use xlink:href='#icon-file-text2'></use></svg></label><input id='data-2d4659e2-96fa-4a5b-a272-22d766bea3e6' class='xr-var-data-in' type='checkbox'><label for='data-2d4659e2-96fa-4a5b-a272-22d766bea3e6' title='Show/Hide data repr'><svg class='icon xr-icon-database'><use xlink:href='#icon-database'></use></svg></label><div class='xr-var-attrs'><dl class='xr-attrs'></dl></div><div class='xr-var-data'><pre>array([1, 2, 3, 4])</pre></div></li><li class='xr-var-item'><div class='xr-var-name'><span class='xr-has-index'>time</span></div><div class='xr-var-dims'>(time)</div><div class='xr-var-dtype'>float64</div><div class='xr-var-preview xr-preview'>-4.0 -3.988 -3.977 ... 2.984 2.996</div><input id='attrs-0bf8104a-37b4-4d76-b03f-8f553f0f8e36' class='xr-var-attrs-in' type='checkbox' disabled><label for='attrs-0bf8104a-37b4-4d76-b03f-8f553f0f8e36' title='Show/Hide attributes'><svg class='icon xr-icon-file-text2'><use xlink:href='#icon-file-text2'></use></svg></label><input id='data-ffdb2ebc-b98e-47af-8c5b-a9936637b8ba' class='xr-var-data-in' type='checkbox'><label for='data-ffdb2ebc-b98e-47af-8c5b-a9936637b8ba' title='Show/Hide data repr'><svg class='icon xr-icon-database'><use xlink:href='#icon-database'></use></svg></label><div class='xr-var-attrs'><dl class='xr-attrs'></dl></div><div class='xr-var-data'><pre>array([-4.      , -3.988281, -3.976562, ...,  2.972656,  2.984375,  2.996094])</pre></div></li><li class='xr-var-item'><div class='xr-var-name'><span class='xr-has-index'>states</span></div><div class='xr-var-dims'>(states)</div><div class='xr-var-dtype'>int64</div><div class='xr-var-preview xr-preview'>1 2 3</div><input id='attrs-9d0b82ab-45c5-4856-ac0e-2ca31ab0fcee' class='xr-var-attrs-in' type='checkbox' disabled><label for='attrs-9d0b82ab-45c5-4856-ac0e-2ca31ab0fcee' title='Show/Hide attributes'><svg class='icon xr-icon-file-text2'><use xlink:href='#icon-file-text2'></use></svg></label><input id='data-21697a07-0965-43d7-ae45-71fe860ac3f5' class='xr-var-data-in' type='checkbox'><label for='data-21697a07-0965-43d7-ae45-71fe860ac3f5' title='Show/Hide data repr'><svg class='icon xr-icon-database'><use xlink:href='#icon-database'></use></svg></label><div class='xr-var-attrs'><dl class='xr-attrs'></dl></div><div class='xr-var-data'><pre>array([1, 2, 3])</pre></div></li><li class='xr-var-item'><div class='xr-var-name'><span class='xr-has-index'>freq</span></div><div class='xr-var-dims'>(freq)</div><div class='xr-var-dtype'>float64</div><div class='xr-var-preview xr-preview'>0.0 0.08533 0.1707 ... 42.58 42.67</div><input id='attrs-515f2ebd-f177-4680-9564-79b4fa4b859f' class='xr-var-attrs-in' type='checkbox' disabled><label for='attrs-515f2ebd-f177-4680-9564-79b4fa4b859f' title='Show/Hide attributes'><svg class='icon xr-icon-file-text2'><use xlink:href='#icon-file-text2'></use></svg></label><input id='data-8b4460d6-0a53-447a-b389-179f65be5175' class='xr-var-data-in' type='checkbox'><label for='data-8b4460d6-0a53-447a-b389-179f65be5175' title='Show/Hide data repr'><svg class='icon xr-icon-database'><use xlink:href='#icon-database'></use></svg></label><div class='xr-var-attrs'><dl class='xr-attrs'></dl></div><div class='xr-var-data'><pre>array([ 0.      ,  0.085333,  0.170667, ..., 42.496   , 42.581333, 42.666667])</pre></div></li></ul></div></li><li class='xr-section-item'><input id='section-c029006a-42d4-4cdf-ac91-f5ef87577bd9' class='xr-section-summary-in' type='checkbox'  checked><label for='section-c029006a-42d4-4cdf-ac91-f5ef87577bd9' class='xr-section-summary' >Data variables: <span>(2)</span></label><div class='xr-section-inline-details'></div><div class='xr-section-details'><ul class='xr-var-list'><li class='xr-var-item'><div class='xr-var-name'><span>states_timecourse</span></div><div class='xr-var-dims'>(trials, time, states)</div><div class='xr-var-dtype'>float64</div><div class='xr-var-preview xr-preview'>0.0 0.0 0.0 0.0 ... 0.0 0.0 0.0 0.0</div><input id='attrs-4cc70a73-035a-4466-b185-782807bb5041' class='xr-var-attrs-in' type='checkbox' disabled><label for='attrs-4cc70a73-035a-4466-b185-782807bb5041' title='Show/Hide attributes'><svg class='icon xr-icon-file-text2'><use xlink:href='#icon-file-text2'></use></svg></label><input id='data-676e36f3-af57-4d4c-a37a-8649e984f816' class='xr-var-data-in' type='checkbox'><label for='data-676e36f3-af57-4d4c-a37a-8649e984f816' title='Show/Hide data repr'><svg class='icon xr-icon-database'><use xlink:href='#icon-database'></use></svg></label><div class='xr-var-attrs'><dl class='xr-attrs'></dl></div><div class='xr-var-data'><pre>array([[[0.00000000e+00, 0.00000000e+00, 0.00000000e+00],\n",
       "        [0.00000000e+00, 0.00000000e+00, 0.00000000e+00],\n",
       "        [0.00000000e+00, 0.00000000e+00, 0.00000000e+00],\n",
       "        ...,\n",
       "        [8.60725263e-08, 3.73414951e-06, 9.99996180e-01],\n",
       "        [4.12888568e-07, 2.16052580e-06, 9.99997426e-01],\n",
       "        [2.17100109e-05, 7.39387987e-06, 9.99970897e-01]],\n",
       "\n",
       "       [[1.13659302e-04, 7.11117638e-06, 9.99879230e-01],\n",
       "        [2.57212171e-03, 5.91495171e-05, 9.97368728e-01],\n",
       "        [5.99381544e-02, 4.45294752e-04, 9.39616551e-01],\n",
       "        ...,\n",
       "        [5.07111011e-01, 5.26685932e-03, 4.87622130e-01],\n",
       "        [9.61443932e-01, 3.77209240e-03, 3.47839756e-02],\n",
       "        [9.74767867e-01, 1.99585328e-03, 2.32362793e-02]],\n",
       "\n",
       "       [[9.99710931e-01, 6.71682601e-05, 2.21900610e-04],\n",
       "        [9.99903944e-01, 4.37230814e-06, 9.16839115e-05],\n",
       "        [9.98715431e-01, 3.41464999e-05, 1.25042225e-03],\n",
       "        ...,\n",
       "...\n",
       "        ...,\n",
       "        [2.19915347e-06, 4.95093892e-04, 9.99502706e-01],\n",
       "        [1.70429873e-06, 5.17515738e-04, 9.99480779e-01],\n",
       "        [1.37925045e-06, 4.18771801e-04, 9.99579849e-01]],\n",
       "\n",
       "       [[3.84907788e-06, 3.04698749e-04, 9.99691452e-01],\n",
       "        [9.52709684e-07, 1.29066414e-04, 9.99869981e-01],\n",
       "        [6.19536981e-07, 4.49540047e-05, 9.99954426e-01],\n",
       "        ...,\n",
       "        [5.75440370e-07, 9.99927488e-01, 7.19365728e-05],\n",
       "        [1.09871646e-06, 9.99940582e-01, 5.83189862e-05],\n",
       "        [1.02213792e-06, 9.99928902e-01, 7.00766433e-05]],\n",
       "\n",
       "       [[9.20116059e-07, 9.99875462e-01, 1.23618456e-04],\n",
       "        [1.00640130e-06, 9.99979763e-01, 1.92317159e-05],\n",
       "        [6.73337358e-07, 9.99981608e-01, 1.77176982e-05],\n",
       "        ...,\n",
       "        [0.00000000e+00, 0.00000000e+00, 0.00000000e+00],\n",
       "        [0.00000000e+00, 0.00000000e+00, 0.00000000e+00],\n",
       "        [0.00000000e+00, 0.00000000e+00, 0.00000000e+00]]])</pre></div></li><li class='xr-var-item'><div class='xr-var-name'><span>states_psd</span></div><div class='xr-var-dims'>(IC, states, freq)</div><div class='xr-var-dtype'>float64</div><div class='xr-var-preview xr-preview'>0.003596 0.008326 ... 0.0003449</div><input id='attrs-311bb6f5-bc86-4db6-9b25-d24f51fb6956' class='xr-var-attrs-in' type='checkbox' disabled><label for='attrs-311bb6f5-bc86-4db6-9b25-d24f51fb6956' title='Show/Hide attributes'><svg class='icon xr-icon-file-text2'><use xlink:href='#icon-file-text2'></use></svg></label><input id='data-2b0bc9fd-721a-4691-ab64-599f8afebbd7' class='xr-var-data-in' type='checkbox'><label for='data-2b0bc9fd-721a-4691-ab64-599f8afebbd7' title='Show/Hide data repr'><svg class='icon xr-icon-database'><use xlink:href='#icon-database'></use></svg></label><div class='xr-var-attrs'><dl class='xr-attrs'></dl></div><div class='xr-var-data'><pre>array([[[0.00359628, 0.00832572, 0.01135833, ..., 0.0012293 ,\n",
       "         0.0012264 , 0.00061251],\n",
       "        [0.00474588, 0.01104768, 0.01517824, ..., 0.00121282,\n",
       "         0.00122223, 0.00061281],\n",
       "        [0.00462029, 0.01045062, 0.01378493, ..., 0.00113273,\n",
       "         0.0011336 , 0.00056683]],\n",
       "\n",
       "       [[0.00393935, 0.00912199, 0.01244158, ..., 0.00095933,\n",
       "         0.00095201, 0.00047455],\n",
       "        [0.00309141, 0.00718307, 0.00982878, ..., 0.00092661,\n",
       "         0.00092997, 0.00046571],\n",
       "        [0.00287039, 0.00648081, 0.00852943, ..., 0.00088456,\n",
       "         0.00087944, 0.00043867]],\n",
       "\n",
       "       [[0.00369583, 0.00863082, 0.01189367, ..., 0.00152691,\n",
       "         0.00155585, 0.00078336],\n",
       "        [0.00276233, 0.00640385, 0.00875557, ..., 0.00116403,\n",
       "         0.00116557, 0.00058333],\n",
       "        [0.00307047, 0.00697306, 0.0092797 , ..., 0.00117219,\n",
       "         0.00117117, 0.00058546]],\n",
       "\n",
       "       [[0.00213279, 0.00484476, 0.00638576, ..., 0.00093869,\n",
       "         0.00094759, 0.00047543],\n",
       "        [0.00204772, 0.00460555, 0.00597864, ..., 0.00082292,\n",
       "         0.00083112, 0.00041721],\n",
       "        [0.00148539, 0.00336446, 0.00444917, ..., 0.0006899 ,\n",
       "         0.00068995, 0.00034491]]])</pre></div></li></ul></div></li><li class='xr-section-item'><input id='section-08ab69a1-5463-493d-90c6-3078f5bf6c12' class='xr-section-summary-in' type='checkbox' disabled ><label for='section-08ab69a1-5463-493d-90c6-3078f5bf6c12' class='xr-section-summary'  title='Expand/collapse section'>Attributes: <span>(0)</span></label><div class='xr-section-inline-details'></div><div class='xr-section-details'><dl class='xr-attrs'></dl></div></li></ul></div></div>"
      ],
      "text/plain": [
       "<xarray.Dataset>\n",
       "Dimensions:            (IC: 4, freq: 501, states: 3, time: 598, trials: 675)\n",
       "Coordinates:\n",
       "  * IC                 (IC) int64 1 2 3 4\n",
       "  * time               (time) float64 -4.0 -3.988 -3.977 ... 2.973 2.984 2.996\n",
       "  * states             (states) int64 1 2 3\n",
       "  * freq               (freq) float64 0.0 0.08533 0.1707 ... 42.5 42.58 42.67\n",
       "Dimensions without coordinates: trials\n",
       "Data variables:\n",
       "    states_timecourse  (trials, time, states) float64 0.0 0.0 0.0 ... 0.0 0.0\n",
       "    states_psd         (IC, states, freq) float64 0.003596 ... 0.0003449"
      ]
     },
     "execution_count": 68,
     "metadata": {},
     "output_type": "execute_result"
    }
   ],
   "source": [
    "ds"
   ]
  },
  {
   "cell_type": "code",
   "execution_count": 95,
   "metadata": {},
   "outputs": [
    {
     "data": {
      "text/plain": [
       "299.0"
      ]
     },
     "execution_count": 95,
     "metadata": {},
     "output_type": "execute_result"
    }
   ],
   "source": [
    "605475/675/3"
   ]
  },
  {
   "cell_type": "code",
   "execution_count": 73,
   "metadata": {},
   "outputs": [],
   "source": [
    "ds = xr.open_dataset(f\"tde-hmm2/test_files/su{subj}-{n_states}states_data.nc\")\n",
    "ds = ds.assign(frac_occ = (ds[\"states_timecourse\"].sum(\"trials\")/ds.sizes[\"trials\"]))"
   ]
  },
  {
   "cell_type": "code",
   "execution_count": 74,
   "metadata": {},
   "outputs": [
    {
     "data": {
      "text/html": [
       "<div><svg style=\"position: absolute; width: 0; height: 0; overflow: hidden\">\n",
       "<defs>\n",
       "<symbol id=\"icon-database\" viewBox=\"0 0 32 32\">\n",
       "<path d=\"M16 0c-8.837 0-16 2.239-16 5v4c0 2.761 7.163 5 16 5s16-2.239 16-5v-4c0-2.761-7.163-5-16-5z\"></path>\n",
       "<path d=\"M16 17c-8.837 0-16-2.239-16-5v6c0 2.761 7.163 5 16 5s16-2.239 16-5v-6c0 2.761-7.163 5-16 5z\"></path>\n",
       "<path d=\"M16 26c-8.837 0-16-2.239-16-5v6c0 2.761 7.163 5 16 5s16-2.239 16-5v-6c0 2.761-7.163 5-16 5z\"></path>\n",
       "</symbol>\n",
       "<symbol id=\"icon-file-text2\" viewBox=\"0 0 32 32\">\n",
       "<path d=\"M28.681 7.159c-0.694-0.947-1.662-2.053-2.724-3.116s-2.169-2.030-3.116-2.724c-1.612-1.182-2.393-1.319-2.841-1.319h-15.5c-1.378 0-2.5 1.121-2.5 2.5v27c0 1.378 1.122 2.5 2.5 2.5h23c1.378 0 2.5-1.122 2.5-2.5v-19.5c0-0.448-0.137-1.23-1.319-2.841zM24.543 5.457c0.959 0.959 1.712 1.825 2.268 2.543h-4.811v-4.811c0.718 0.556 1.584 1.309 2.543 2.268zM28 29.5c0 0.271-0.229 0.5-0.5 0.5h-23c-0.271 0-0.5-0.229-0.5-0.5v-27c0-0.271 0.229-0.5 0.5-0.5 0 0 15.499-0 15.5 0v7c0 0.552 0.448 1 1 1h7v19.5z\"></path>\n",
       "<path d=\"M23 26h-14c-0.552 0-1-0.448-1-1s0.448-1 1-1h14c0.552 0 1 0.448 1 1s-0.448 1-1 1z\"></path>\n",
       "<path d=\"M23 22h-14c-0.552 0-1-0.448-1-1s0.448-1 1-1h14c0.552 0 1 0.448 1 1s-0.448 1-1 1z\"></path>\n",
       "<path d=\"M23 18h-14c-0.552 0-1-0.448-1-1s0.448-1 1-1h14c0.552 0 1 0.448 1 1s-0.448 1-1 1z\"></path>\n",
       "</symbol>\n",
       "</defs>\n",
       "</svg>\n",
       "<style>/* CSS stylesheet for displaying xarray objects in jupyterlab.\n",
       " *\n",
       " */\n",
       "\n",
       ":root {\n",
       "  --xr-font-color0: var(--jp-content-font-color0, rgba(0, 0, 0, 1));\n",
       "  --xr-font-color2: var(--jp-content-font-color2, rgba(0, 0, 0, 0.54));\n",
       "  --xr-font-color3: var(--jp-content-font-color3, rgba(0, 0, 0, 0.38));\n",
       "  --xr-border-color: var(--jp-border-color2, #e0e0e0);\n",
       "  --xr-disabled-color: var(--jp-layout-color3, #bdbdbd);\n",
       "  --xr-background-color: var(--jp-layout-color0, white);\n",
       "  --xr-background-color-row-even: var(--jp-layout-color1, white);\n",
       "  --xr-background-color-row-odd: var(--jp-layout-color2, #eeeeee);\n",
       "}\n",
       "\n",
       "html[theme=dark],\n",
       "body.vscode-dark {\n",
       "  --xr-font-color0: rgba(255, 255, 255, 1);\n",
       "  --xr-font-color2: rgba(255, 255, 255, 0.54);\n",
       "  --xr-font-color3: rgba(255, 255, 255, 0.38);\n",
       "  --xr-border-color: #1F1F1F;\n",
       "  --xr-disabled-color: #515151;\n",
       "  --xr-background-color: #111111;\n",
       "  --xr-background-color-row-even: #111111;\n",
       "  --xr-background-color-row-odd: #313131;\n",
       "}\n",
       "\n",
       ".xr-wrap {\n",
       "  display: block;\n",
       "  min-width: 300px;\n",
       "  max-width: 700px;\n",
       "}\n",
       "\n",
       ".xr-text-repr-fallback {\n",
       "  /* fallback to plain text repr when CSS is not injected (untrusted notebook) */\n",
       "  display: none;\n",
       "}\n",
       "\n",
       ".xr-header {\n",
       "  padding-top: 6px;\n",
       "  padding-bottom: 6px;\n",
       "  margin-bottom: 4px;\n",
       "  border-bottom: solid 1px var(--xr-border-color);\n",
       "}\n",
       "\n",
       ".xr-header > div,\n",
       ".xr-header > ul {\n",
       "  display: inline;\n",
       "  margin-top: 0;\n",
       "  margin-bottom: 0;\n",
       "}\n",
       "\n",
       ".xr-obj-type,\n",
       ".xr-array-name {\n",
       "  margin-left: 2px;\n",
       "  margin-right: 10px;\n",
       "}\n",
       "\n",
       ".xr-obj-type {\n",
       "  color: var(--xr-font-color2);\n",
       "}\n",
       "\n",
       ".xr-sections {\n",
       "  padding-left: 0 !important;\n",
       "  display: grid;\n",
       "  grid-template-columns: 150px auto auto 1fr 20px 20px;\n",
       "}\n",
       "\n",
       ".xr-section-item {\n",
       "  display: contents;\n",
       "}\n",
       "\n",
       ".xr-section-item input {\n",
       "  display: none;\n",
       "}\n",
       "\n",
       ".xr-section-item input + label {\n",
       "  color: var(--xr-disabled-color);\n",
       "}\n",
       "\n",
       ".xr-section-item input:enabled + label {\n",
       "  cursor: pointer;\n",
       "  color: var(--xr-font-color2);\n",
       "}\n",
       "\n",
       ".xr-section-item input:enabled + label:hover {\n",
       "  color: var(--xr-font-color0);\n",
       "}\n",
       "\n",
       ".xr-section-summary {\n",
       "  grid-column: 1;\n",
       "  color: var(--xr-font-color2);\n",
       "  font-weight: 500;\n",
       "}\n",
       "\n",
       ".xr-section-summary > span {\n",
       "  display: inline-block;\n",
       "  padding-left: 0.5em;\n",
       "}\n",
       "\n",
       ".xr-section-summary-in:disabled + label {\n",
       "  color: var(--xr-font-color2);\n",
       "}\n",
       "\n",
       ".xr-section-summary-in + label:before {\n",
       "  display: inline-block;\n",
       "  content: '►';\n",
       "  font-size: 11px;\n",
       "  width: 15px;\n",
       "  text-align: center;\n",
       "}\n",
       "\n",
       ".xr-section-summary-in:disabled + label:before {\n",
       "  color: var(--xr-disabled-color);\n",
       "}\n",
       "\n",
       ".xr-section-summary-in:checked + label:before {\n",
       "  content: '▼';\n",
       "}\n",
       "\n",
       ".xr-section-summary-in:checked + label > span {\n",
       "  display: none;\n",
       "}\n",
       "\n",
       ".xr-section-summary,\n",
       ".xr-section-inline-details {\n",
       "  padding-top: 4px;\n",
       "  padding-bottom: 4px;\n",
       "}\n",
       "\n",
       ".xr-section-inline-details {\n",
       "  grid-column: 2 / -1;\n",
       "}\n",
       "\n",
       ".xr-section-details {\n",
       "  display: none;\n",
       "  grid-column: 1 / -1;\n",
       "  margin-bottom: 5px;\n",
       "}\n",
       "\n",
       ".xr-section-summary-in:checked ~ .xr-section-details {\n",
       "  display: contents;\n",
       "}\n",
       "\n",
       ".xr-array-wrap {\n",
       "  grid-column: 1 / -1;\n",
       "  display: grid;\n",
       "  grid-template-columns: 20px auto;\n",
       "}\n",
       "\n",
       ".xr-array-wrap > label {\n",
       "  grid-column: 1;\n",
       "  vertical-align: top;\n",
       "}\n",
       "\n",
       ".xr-preview {\n",
       "  color: var(--xr-font-color3);\n",
       "}\n",
       "\n",
       ".xr-array-preview,\n",
       ".xr-array-data {\n",
       "  padding: 0 5px !important;\n",
       "  grid-column: 2;\n",
       "}\n",
       "\n",
       ".xr-array-data,\n",
       ".xr-array-in:checked ~ .xr-array-preview {\n",
       "  display: none;\n",
       "}\n",
       "\n",
       ".xr-array-in:checked ~ .xr-array-data,\n",
       ".xr-array-preview {\n",
       "  display: inline-block;\n",
       "}\n",
       "\n",
       ".xr-dim-list {\n",
       "  display: inline-block !important;\n",
       "  list-style: none;\n",
       "  padding: 0 !important;\n",
       "  margin: 0;\n",
       "}\n",
       "\n",
       ".xr-dim-list li {\n",
       "  display: inline-block;\n",
       "  padding: 0;\n",
       "  margin: 0;\n",
       "}\n",
       "\n",
       ".xr-dim-list:before {\n",
       "  content: '(';\n",
       "}\n",
       "\n",
       ".xr-dim-list:after {\n",
       "  content: ')';\n",
       "}\n",
       "\n",
       ".xr-dim-list li:not(:last-child):after {\n",
       "  content: ',';\n",
       "  padding-right: 5px;\n",
       "}\n",
       "\n",
       ".xr-has-index {\n",
       "  font-weight: bold;\n",
       "}\n",
       "\n",
       ".xr-var-list,\n",
       ".xr-var-item {\n",
       "  display: contents;\n",
       "}\n",
       "\n",
       ".xr-var-item > div,\n",
       ".xr-var-item label,\n",
       ".xr-var-item > .xr-var-name span {\n",
       "  background-color: var(--xr-background-color-row-even);\n",
       "  margin-bottom: 0;\n",
       "}\n",
       "\n",
       ".xr-var-item > .xr-var-name:hover span {\n",
       "  padding-right: 5px;\n",
       "}\n",
       "\n",
       ".xr-var-list > li:nth-child(odd) > div,\n",
       ".xr-var-list > li:nth-child(odd) > label,\n",
       ".xr-var-list > li:nth-child(odd) > .xr-var-name span {\n",
       "  background-color: var(--xr-background-color-row-odd);\n",
       "}\n",
       "\n",
       ".xr-var-name {\n",
       "  grid-column: 1;\n",
       "}\n",
       "\n",
       ".xr-var-dims {\n",
       "  grid-column: 2;\n",
       "}\n",
       "\n",
       ".xr-var-dtype {\n",
       "  grid-column: 3;\n",
       "  text-align: right;\n",
       "  color: var(--xr-font-color2);\n",
       "}\n",
       "\n",
       ".xr-var-preview {\n",
       "  grid-column: 4;\n",
       "}\n",
       "\n",
       ".xr-var-name,\n",
       ".xr-var-dims,\n",
       ".xr-var-dtype,\n",
       ".xr-preview,\n",
       ".xr-attrs dt {\n",
       "  white-space: nowrap;\n",
       "  overflow: hidden;\n",
       "  text-overflow: ellipsis;\n",
       "  padding-right: 10px;\n",
       "}\n",
       "\n",
       ".xr-var-name:hover,\n",
       ".xr-var-dims:hover,\n",
       ".xr-var-dtype:hover,\n",
       ".xr-attrs dt:hover {\n",
       "  overflow: visible;\n",
       "  width: auto;\n",
       "  z-index: 1;\n",
       "}\n",
       "\n",
       ".xr-var-attrs,\n",
       ".xr-var-data {\n",
       "  display: none;\n",
       "  background-color: var(--xr-background-color) !important;\n",
       "  padding-bottom: 5px !important;\n",
       "}\n",
       "\n",
       ".xr-var-attrs-in:checked ~ .xr-var-attrs,\n",
       ".xr-var-data-in:checked ~ .xr-var-data {\n",
       "  display: block;\n",
       "}\n",
       "\n",
       ".xr-var-data > table {\n",
       "  float: right;\n",
       "}\n",
       "\n",
       ".xr-var-name span,\n",
       ".xr-var-data,\n",
       ".xr-attrs {\n",
       "  padding-left: 25px !important;\n",
       "}\n",
       "\n",
       ".xr-attrs,\n",
       ".xr-var-attrs,\n",
       ".xr-var-data {\n",
       "  grid-column: 1 / -1;\n",
       "}\n",
       "\n",
       "dl.xr-attrs {\n",
       "  padding: 0;\n",
       "  margin: 0;\n",
       "  display: grid;\n",
       "  grid-template-columns: 125px auto;\n",
       "}\n",
       "\n",
       ".xr-attrs dt,\n",
       ".xr-attrs dd {\n",
       "  padding: 0;\n",
       "  margin: 0;\n",
       "  float: left;\n",
       "  padding-right: 10px;\n",
       "  width: auto;\n",
       "}\n",
       "\n",
       ".xr-attrs dt {\n",
       "  font-weight: normal;\n",
       "  grid-column: 1;\n",
       "}\n",
       "\n",
       ".xr-attrs dt:hover span {\n",
       "  display: inline-block;\n",
       "  background: var(--xr-background-color);\n",
       "  padding-right: 10px;\n",
       "}\n",
       "\n",
       ".xr-attrs dd {\n",
       "  grid-column: 2;\n",
       "  white-space: pre-wrap;\n",
       "  word-break: break-all;\n",
       "}\n",
       "\n",
       ".xr-icon-database,\n",
       ".xr-icon-file-text2 {\n",
       "  display: inline-block;\n",
       "  vertical-align: middle;\n",
       "  width: 1em;\n",
       "  height: 1.5em !important;\n",
       "  stroke-width: 0;\n",
       "  stroke: currentColor;\n",
       "  fill: currentColor;\n",
       "}\n",
       "</style><pre class='xr-text-repr-fallback'>&lt;xarray.Dataset&gt;\n",
       "Dimensions:            (IC: 4, freq: 501, states: 3, time: 598, trials: 675)\n",
       "Coordinates:\n",
       "  * time               (time) float64 -4.0 -3.988 -3.977 ... 2.973 2.984 2.996\n",
       "  * freq               (freq) float64 0.0 0.08533 0.1707 ... 42.5 42.58 42.67\n",
       "  * IC                 (IC) int32 1 2 3 4\n",
       "  * states             (states) int32 1 2 3\n",
       "Dimensions without coordinates: trials\n",
       "Data variables:\n",
       "    states_timecourse  (trials, time, states) float64 0.0 0.0 0.0 ... 0.0 0.0\n",
       "    states_psd         (IC, states, freq) float64 0.003596 ... 0.0003449\n",
       "    frac_occ           (time, states) float64 0.1726 0.2019 ... 0.2028 0.6292</pre><div class='xr-wrap' hidden><div class='xr-header'><div class='xr-obj-type'>xarray.Dataset</div></div><ul class='xr-sections'><li class='xr-section-item'><input id='section-ddfcde8d-5a39-41c4-ae75-bacb44d3c0b4' class='xr-section-summary-in' type='checkbox' disabled ><label for='section-ddfcde8d-5a39-41c4-ae75-bacb44d3c0b4' class='xr-section-summary'  title='Expand/collapse section'>Dimensions:</label><div class='xr-section-inline-details'><ul class='xr-dim-list'><li><span class='xr-has-index'>IC</span>: 4</li><li><span class='xr-has-index'>freq</span>: 501</li><li><span class='xr-has-index'>states</span>: 3</li><li><span class='xr-has-index'>time</span>: 598</li><li><span>trials</span>: 675</li></ul></div><div class='xr-section-details'></div></li><li class='xr-section-item'><input id='section-822d4d3c-6792-4007-9dc1-fe1f64c63937' class='xr-section-summary-in' type='checkbox'  checked><label for='section-822d4d3c-6792-4007-9dc1-fe1f64c63937' class='xr-section-summary' >Coordinates: <span>(4)</span></label><div class='xr-section-inline-details'></div><div class='xr-section-details'><ul class='xr-var-list'><li class='xr-var-item'><div class='xr-var-name'><span class='xr-has-index'>time</span></div><div class='xr-var-dims'>(time)</div><div class='xr-var-dtype'>float64</div><div class='xr-var-preview xr-preview'>-4.0 -3.988 -3.977 ... 2.984 2.996</div><input id='attrs-18f7cf3c-eb24-424c-81c5-b3e9f5843ba0' class='xr-var-attrs-in' type='checkbox' disabled><label for='attrs-18f7cf3c-eb24-424c-81c5-b3e9f5843ba0' title='Show/Hide attributes'><svg class='icon xr-icon-file-text2'><use xlink:href='#icon-file-text2'></use></svg></label><input id='data-cc50e313-1e15-469d-adb9-b8f2a68f32ad' class='xr-var-data-in' type='checkbox'><label for='data-cc50e313-1e15-469d-adb9-b8f2a68f32ad' title='Show/Hide data repr'><svg class='icon xr-icon-database'><use xlink:href='#icon-database'></use></svg></label><div class='xr-var-attrs'><dl class='xr-attrs'></dl></div><div class='xr-var-data'><pre>array([-4.      , -3.988281, -3.976562, ...,  2.972656,  2.984375,  2.996094])</pre></div></li><li class='xr-var-item'><div class='xr-var-name'><span class='xr-has-index'>freq</span></div><div class='xr-var-dims'>(freq)</div><div class='xr-var-dtype'>float64</div><div class='xr-var-preview xr-preview'>0.0 0.08533 0.1707 ... 42.58 42.67</div><input id='attrs-b569b5ad-f3ae-47f3-9df1-a657c3bef2fd' class='xr-var-attrs-in' type='checkbox' disabled><label for='attrs-b569b5ad-f3ae-47f3-9df1-a657c3bef2fd' title='Show/Hide attributes'><svg class='icon xr-icon-file-text2'><use xlink:href='#icon-file-text2'></use></svg></label><input id='data-afc2a3fe-5e81-412b-adbe-0488ce5cc8fc' class='xr-var-data-in' type='checkbox'><label for='data-afc2a3fe-5e81-412b-adbe-0488ce5cc8fc' title='Show/Hide data repr'><svg class='icon xr-icon-database'><use xlink:href='#icon-database'></use></svg></label><div class='xr-var-attrs'><dl class='xr-attrs'></dl></div><div class='xr-var-data'><pre>array([ 0.      ,  0.085333,  0.170667, ..., 42.496   , 42.581333, 42.666667])</pre></div></li><li class='xr-var-item'><div class='xr-var-name'><span class='xr-has-index'>IC</span></div><div class='xr-var-dims'>(IC)</div><div class='xr-var-dtype'>int32</div><div class='xr-var-preview xr-preview'>1 2 3 4</div><input id='attrs-d6b66add-6aa9-4fab-9268-e1d6c8fba7fd' class='xr-var-attrs-in' type='checkbox' disabled><label for='attrs-d6b66add-6aa9-4fab-9268-e1d6c8fba7fd' title='Show/Hide attributes'><svg class='icon xr-icon-file-text2'><use xlink:href='#icon-file-text2'></use></svg></label><input id='data-650465b7-630b-4831-a06c-c481d5f555b0' class='xr-var-data-in' type='checkbox'><label for='data-650465b7-630b-4831-a06c-c481d5f555b0' title='Show/Hide data repr'><svg class='icon xr-icon-database'><use xlink:href='#icon-database'></use></svg></label><div class='xr-var-attrs'><dl class='xr-attrs'></dl></div><div class='xr-var-data'><pre>array([1, 2, 3, 4], dtype=int32)</pre></div></li><li class='xr-var-item'><div class='xr-var-name'><span class='xr-has-index'>states</span></div><div class='xr-var-dims'>(states)</div><div class='xr-var-dtype'>int32</div><div class='xr-var-preview xr-preview'>1 2 3</div><input id='attrs-c09308de-f61d-46ad-ba2d-72629cb890c5' class='xr-var-attrs-in' type='checkbox' disabled><label for='attrs-c09308de-f61d-46ad-ba2d-72629cb890c5' title='Show/Hide attributes'><svg class='icon xr-icon-file-text2'><use xlink:href='#icon-file-text2'></use></svg></label><input id='data-4eddb695-86cc-4d6a-9836-aa1531e3ad45' class='xr-var-data-in' type='checkbox'><label for='data-4eddb695-86cc-4d6a-9836-aa1531e3ad45' title='Show/Hide data repr'><svg class='icon xr-icon-database'><use xlink:href='#icon-database'></use></svg></label><div class='xr-var-attrs'><dl class='xr-attrs'></dl></div><div class='xr-var-data'><pre>array([1, 2, 3], dtype=int32)</pre></div></li></ul></div></li><li class='xr-section-item'><input id='section-2a05b9b0-f01c-4476-a618-5bd26eb5288b' class='xr-section-summary-in' type='checkbox'  checked><label for='section-2a05b9b0-f01c-4476-a618-5bd26eb5288b' class='xr-section-summary' >Data variables: <span>(3)</span></label><div class='xr-section-inline-details'></div><div class='xr-section-details'><ul class='xr-var-list'><li class='xr-var-item'><div class='xr-var-name'><span>states_timecourse</span></div><div class='xr-var-dims'>(trials, time, states)</div><div class='xr-var-dtype'>float64</div><div class='xr-var-preview xr-preview'>0.0 0.0 0.0 0.0 ... 0.0 0.0 0.0 0.0</div><input id='attrs-ae0f6074-cda9-46e0-a218-73724c321716' class='xr-var-attrs-in' type='checkbox' disabled><label for='attrs-ae0f6074-cda9-46e0-a218-73724c321716' title='Show/Hide attributes'><svg class='icon xr-icon-file-text2'><use xlink:href='#icon-file-text2'></use></svg></label><input id='data-631c2e73-0bd2-458e-a26c-47a50a0de8dc' class='xr-var-data-in' type='checkbox'><label for='data-631c2e73-0bd2-458e-a26c-47a50a0de8dc' title='Show/Hide data repr'><svg class='icon xr-icon-database'><use xlink:href='#icon-database'></use></svg></label><div class='xr-var-attrs'><dl class='xr-attrs'></dl></div><div class='xr-var-data'><pre>array([[[0.000000e+00, 0.000000e+00, 0.000000e+00],\n",
       "        [0.000000e+00, 0.000000e+00, 0.000000e+00],\n",
       "        ...,\n",
       "        [4.128886e-07, 2.160526e-06, 9.999974e-01],\n",
       "        [2.171001e-05, 7.393880e-06, 9.999709e-01]],\n",
       "\n",
       "       [[1.136593e-04, 7.111176e-06, 9.998792e-01],\n",
       "        [2.572122e-03, 5.914952e-05, 9.973687e-01],\n",
       "        ...,\n",
       "        [9.614439e-01, 3.772092e-03, 3.478398e-02],\n",
       "        [9.747679e-01, 1.995853e-03, 2.323628e-02]],\n",
       "\n",
       "       ...,\n",
       "\n",
       "       [[3.849078e-06, 3.046987e-04, 9.996915e-01],\n",
       "        [9.527097e-07, 1.290664e-04, 9.998700e-01],\n",
       "        ...,\n",
       "        [1.098716e-06, 9.999406e-01, 5.831899e-05],\n",
       "        [1.022138e-06, 9.999289e-01, 7.007664e-05]],\n",
       "\n",
       "       [[9.201161e-07, 9.998755e-01, 1.236185e-04],\n",
       "        [1.006401e-06, 9.999798e-01, 1.923172e-05],\n",
       "        ...,\n",
       "        [0.000000e+00, 0.000000e+00, 0.000000e+00],\n",
       "        [0.000000e+00, 0.000000e+00, 0.000000e+00]]])</pre></div></li><li class='xr-var-item'><div class='xr-var-name'><span>states_psd</span></div><div class='xr-var-dims'>(IC, states, freq)</div><div class='xr-var-dtype'>float64</div><div class='xr-var-preview xr-preview'>...</div><input id='attrs-d20ea9a1-27f1-40b5-a6a7-048c2e79d06e' class='xr-var-attrs-in' type='checkbox' disabled><label for='attrs-d20ea9a1-27f1-40b5-a6a7-048c2e79d06e' title='Show/Hide attributes'><svg class='icon xr-icon-file-text2'><use xlink:href='#icon-file-text2'></use></svg></label><input id='data-f07c1ce9-5b8b-4d4e-a54f-8b2a21d60716' class='xr-var-data-in' type='checkbox'><label for='data-f07c1ce9-5b8b-4d4e-a54f-8b2a21d60716' title='Show/Hide data repr'><svg class='icon xr-icon-database'><use xlink:href='#icon-database'></use></svg></label><div class='xr-var-attrs'><dl class='xr-attrs'></dl></div><div class='xr-var-data'><pre>array([[[0.003596, 0.008326, ..., 0.001226, 0.000613],\n",
       "        [0.004746, 0.011048, ..., 0.001222, 0.000613],\n",
       "        [0.00462 , 0.010451, ..., 0.001134, 0.000567]],\n",
       "\n",
       "       [[0.003939, 0.009122, ..., 0.000952, 0.000475],\n",
       "        [0.003091, 0.007183, ..., 0.00093 , 0.000466],\n",
       "        [0.00287 , 0.006481, ..., 0.000879, 0.000439]],\n",
       "\n",
       "       [[0.003696, 0.008631, ..., 0.001556, 0.000783],\n",
       "        [0.002762, 0.006404, ..., 0.001166, 0.000583],\n",
       "        [0.00307 , 0.006973, ..., 0.001171, 0.000585]],\n",
       "\n",
       "       [[0.002133, 0.004845, ..., 0.000948, 0.000475],\n",
       "        [0.002048, 0.004606, ..., 0.000831, 0.000417],\n",
       "        [0.001485, 0.003364, ..., 0.00069 , 0.000345]]])</pre></div></li><li class='xr-var-item'><div class='xr-var-name'><span>frac_occ</span></div><div class='xr-var-dims'>(time, states)</div><div class='xr-var-dtype'>float64</div><div class='xr-var-preview xr-preview'>0.1726 0.2019 ... 0.2028 0.6292</div><input id='attrs-20fa6aca-1742-4fae-bc8f-7a4c5da283ea' class='xr-var-attrs-in' type='checkbox' disabled><label for='attrs-20fa6aca-1742-4fae-bc8f-7a4c5da283ea' title='Show/Hide attributes'><svg class='icon xr-icon-file-text2'><use xlink:href='#icon-file-text2'></use></svg></label><input id='data-fa0b0756-adec-4916-9df4-d667aeb7ffd0' class='xr-var-data-in' type='checkbox'><label for='data-fa0b0756-adec-4916-9df4-d667aeb7ffd0' title='Show/Hide data repr'><svg class='icon xr-icon-database'><use xlink:href='#icon-database'></use></svg></label><div class='xr-var-attrs'><dl class='xr-attrs'></dl></div><div class='xr-var-data'><pre>array([[0.17256823, 0.20193097, 0.62401932],\n",
       "       [0.17917249, 0.20322838, 0.61611765],\n",
       "       [0.1829459 , 0.20548802, 0.6100846 ],\n",
       "       ...,\n",
       "       [0.13406312, 0.2092348 , 0.6552206 ],\n",
       "       [0.14984487, 0.20576931, 0.64290434],\n",
       "       [0.16645653, 0.20283691, 0.62922507]])</pre></div></li></ul></div></li><li class='xr-section-item'><input id='section-f38dacef-58d8-46dc-a3f6-5418ad3f1bdb' class='xr-section-summary-in' type='checkbox' disabled ><label for='section-f38dacef-58d8-46dc-a3f6-5418ad3f1bdb' class='xr-section-summary'  title='Expand/collapse section'>Attributes: <span>(0)</span></label><div class='xr-section-inline-details'></div><div class='xr-section-details'><dl class='xr-attrs'></dl></div></li></ul></div></div>"
      ],
      "text/plain": [
       "<xarray.Dataset>\n",
       "Dimensions:            (IC: 4, freq: 501, states: 3, time: 598, trials: 675)\n",
       "Coordinates:\n",
       "  * time               (time) float64 -4.0 -3.988 -3.977 ... 2.973 2.984 2.996\n",
       "  * freq               (freq) float64 0.0 0.08533 0.1707 ... 42.5 42.58 42.67\n",
       "  * IC                 (IC) int32 1 2 3 4\n",
       "  * states             (states) int32 1 2 3\n",
       "Dimensions without coordinates: trials\n",
       "Data variables:\n",
       "    states_timecourse  (trials, time, states) float64 0.0 0.0 0.0 ... 0.0 0.0\n",
       "    states_psd         (IC, states, freq) float64 ...\n",
       "    frac_occ           (time, states) float64 0.1726 0.2019 ... 0.2028 0.6292"
      ]
     },
     "execution_count": 74,
     "metadata": {},
     "output_type": "execute_result"
    }
   ],
   "source": [
    "ds"
   ]
  },
  {
   "cell_type": "code",
   "execution_count": 75,
   "metadata": {},
   "outputs": [
    {
     "data": {
      "text/plain": [
       "array([1, 2, 3], dtype=int32)"
      ]
     },
     "execution_count": 75,
     "metadata": {},
     "output_type": "execute_result"
    }
   ],
   "source": [
    "ds[\"states\"].values"
   ]
  },
  {
   "cell_type": "code",
   "execution_count": 76,
   "metadata": {},
   "outputs": [
    {
     "data": {
      "image/png": "[encoded data removed]",
      "text/plain": [
       "<Figure size 2160x432 with 5 Axes>"
      ]
     },
     "metadata": {
      "needs_background": "light"
     },
     "output_type": "display_data"
    }
   ],
   "source": [
    "labels = [f\"state {state}\" for state in ds[\"states\"].values]\n",
    "fig = plt.figure(figsize=(6*(len(ds[\"IC\"].values)+1),6))\n",
    "plt.subplot(1, len(ds[\"IC\"].values)+1, 1)\n",
    "plt.title(f'Frac. Occupancy')\n",
    "plt.plot(ds[\"time\"].values, ds[\"frac_occ\"].values)\n",
    "plt.xlabel('Time (s)')\n",
    "plt.ylabel('Frac. occupancy')\n",
    "plt.legend(labels, loc='upper left')\n",
    "for i in range(len(ds[\"IC\"].values)):\n",
    "    plt.subplot(1, len(ds[\"IC\"].values)+1, i+2)\n",
    "    plt.title(f\"Power Spectrum Density of IC{ds['IC'].values[i]}\")\n",
    "    plt.plot(ds[\"freq\"], ds[\"states_psd\"].values[i,].T)\n",
    "    plt.xlabel('Frequency (Hz)')\n",
    "    plt.ylabel('PSD')\n",
    "    plt.legend(labels, loc='upper right')"
   ]
  },
  {
   "cell_type": "code",
   "execution_count": 77,
   "metadata": {},
   "outputs": [
    {
     "name": "stdout",
     "output_type": "stream",
     "text": [
      "su2, 3 states done\n"
     ]
    }
   ],
   "source": [
    "ds = xr.open_dataset(f\"tde-hmm2/test_files/su{subj}-{n_states}states_data.nc\")\n",
    "ds = ds.assign(frac_occ = (ds[\"states_timecourse\"].sum(\"trials\")/ds.sizes[\"trials\"]))\n",
    "ds.to_netcdf(f\"tde-hmm2/test_files/su{subj}-{n_states}states_data_Multi.nc\", mode=\"w\")\n",
    "labels = [f\"state {state}\" for state in ds[\"states\"].values]\n",
    "fig = plt.figure(figsize=(6*(len(ds[\"IC\"].values)+1),6))\n",
    "plt.subplot(1, len(ds[\"IC\"].values)+1, 1)\n",
    "plt.title(f'Frac. Occupancy')\n",
    "plt.plot(ds[\"time\"].values, ds[\"frac_occ\"].values)\n",
    "plt.xlabel('Time (s)')\n",
    "plt.ylabel('Frac. occupancy')\n",
    "plt.legend(labels, loc='upper left')\n",
    "for i in range(len(ds[\"IC\"].values)):\n",
    "    plt.subplot(1, len(ds[\"IC\"].values)+1, i+2)\n",
    "    plt.title(f\"Power Spectrum Density of IC{ds['IC'].values[i]}\")\n",
    "    plt.plot(ds[\"freq\"], ds[\"states_psd\"].values[i,].T)\n",
    "    plt.xlabel('Frequency (Hz)')\n",
    "    plt.ylabel('PSD')\n",
    "    plt.legend(labels, loc='upper right')\n",
    "plt.savefig(f\"tde-hmm2/test_png/su{subj}-frac_occ_{n_states}st_Multi.png\", dpi=300)\n",
    "plt.close(fig)\n",
    "print(f\"su{subj}, {n_states} states done\")"
   ]
  },
  {
   "cell_type": "code",
   "execution_count": 78,
   "metadata": {},
   "outputs": [],
   "source": [
    "widths = [14, 1, 5]\n",
    "heights = [1,1,1,4,4,4,4]"
   ]
  },
  {
   "cell_type": "code",
   "execution_count": 79,
   "metadata": {},
   "outputs": [],
   "source": [
    "gs_kw = dict(width_ratios=widths, height_ratios=heights, wspace=0.0, hspace=0.0)\n",
    "\n",
    "info = mne.create_info(ch_names=['signal'], sfreq=256, ch_types=['eeg'])"
   ]
  },
  {
   "cell_type": "code",
   "execution_count": 80,
   "metadata": {},
   "outputs": [
    {
     "name": "stdout",
     "output_type": "stream",
     "text": [
      "Loading the raw timecourse\n",
      "Loading the raw timecourse\n",
      "Loading the raw timecourse\n",
      "Loading the raw timecourse\n"
     ]
    }
   ],
   "source": [
    "fig, f_axes = plt.subplots(figsize=(sum(widths),sum(heights)), ncols=3, nrows=(n_states+4), constrained_layout=True,\n",
    "                         gridspec_kw=gs_kw)\n",
    "ds = xr.open_dataset(f\"tde-hmm2/test_files/su{subj}-{n_states}states_data_Multi.nc\")\n",
    "for state in ds[\"states\"].values:\n",
    "    ax = f_axes[state-1,0]\n",
    "#         ax.set_xticks([])\n",
    "    ax.plot(ds[\"time\"].values, ds[\"frac_occ\"].values[:, state-1], color=f\"C{state-1}\")\n",
    "    ax.set_xlim([-4, 3])\n",
    "    ax.set_ylabel(f\"state {state}\")\n",
    "for IC in ds[\"IC\"].values:\n",
    "    ax = f_axes[IC+n_states-1,0]\n",
    "    data, n_trials = load_oneIC(mat_file, cells_refs, subj, IC, comp=False)\n",
    "    tfr = wavelet_transform2(data, info, trial=np.arange(1,n_trials+1))\n",
    "    mappable = ax.imshow(tfr[0], aspect='auto', origin='lower', extent=[-4, 3, 2, 50], \n",
    "                           norm=colors.PowerNorm(gamma=0.5), cmap='RdYlBu_r')\n",
    "    ax.set_ylabel(f'Frequencies IC{IC} (Hz)')\n",
    "    fig.colorbar(mappable, cax=f_axes[IC+n_states-1,1])\n",
    "#         if IC!=4:\n",
    "#             ax.set_xticks([])\n",
    "for i in range(len(ds[\"IC\"].values)):\n",
    "    IC = ds[\"IC\"].values[i]\n",
    "    ax = f_axes[IC+n_states-1,2]\n",
    "    ax.plot(ds[\"freq\"].values, ds[\"states_psd\"].values[i,].T)\n",
    "    ax.set_ylabel(f'PSD IC{IC}')\n",
    "ax = f_axes[n_states,2]\n",
    "lines = ax.get_lines()\n",
    "labels = [f\"State {i}\" for i in range (1, n_states+1)]\n",
    "ax = f_axes[0,2]\n",
    "ax.legend(lines, labels, loc='upper left')\n",
    "ax = f_axes[n_states+3,0]\n",
    "ax.set_xlabel(f'Time (s)') \n",
    "ax = f_axes[n_states+3,2]\n",
    "ax.set_xlabel(f'Frequency (Hz)')   \n",
    "\n",
    "fig.savefig(target_dir + f'grid-{n_states}states-subj{subj}.png', dpi=300)\n",
    "plt.close(fig)"
   ]
  },
  {
   "cell_type": "code",
   "execution_count": 82,
   "metadata": {},
   "outputs": [],
   "source": [
    "n_trials_to_plot = 5"
   ]
  },
  {
   "cell_type": "code",
   "execution_count": 83,
   "metadata": {},
   "outputs": [],
   "source": [
    "fig, f_axes = plt.subplots(figsize=(20,n_states*n_trials_to_plot), ncols=1, nrows=(n_states*n_trials_to_plot), constrained_layout=True)\n",
    "ds = xr.open_dataset(f\"tde-hmm2/test_files/su{subj}-{n_states}states_data_Multi.nc\")\n",
    "for state in range(1, n_states+1):\n",
    "    color = f\"C{state-1}\"\n",
    "    for trial in range(n_trials_to_plot):\n",
    "        ax = f_axes[n_trials_to_plot*(state-1)+trial]\n",
    "        ax.fill_between(ds[\"time\"], ds[\"states_timecourse\"].values[trial, :, state-1], color=color)\n",
    "        ax.set_xlim([-4, 3])\n",
    "        ax.set_ylim([0, 1])\n",
    "        ax.set_ylabel(f\"Prob. st{state} tr{trial}\")\n",
    "ax.set_xlabel(\"Time (s)\")\n",
    "fig.savefig(target_dir + f'tcourses-{n_states}states-subj{subj}.png', dpi=300)\n",
    "plt.close(fig)"
   ]
  },
  {
   "cell_type": "code",
   "execution_count": null,
   "metadata": {},
   "outputs": [],
   "source": []
  }
 ],
 "metadata": {
  "kernelspec": {
   "display_name": "Python 3",
   "language": "python",
   "name": "python3"
  },
  "language_info": {
   "codemirror_mode": {
    "name": "ipython",
    "version": 3
   },
   "file_extension": ".py",
   "mimetype": "text/x-python",
   "name": "python",
   "nbconvert_exporter": "python",
   "pygments_lexer": "ipython3",
   "version": "3.8.10"
  }
 },
 "nbformat": 4,
 "nbformat_minor": 4
}
