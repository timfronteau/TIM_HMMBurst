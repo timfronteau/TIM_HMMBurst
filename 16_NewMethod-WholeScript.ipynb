{
 "cells": [
  {
   "cell_type": "markdown",
   "metadata": {},
   "source": [
    "# Multivariate TDE-HMM on all subjects, following Quinn's method"
   ]
  },
  {
   "cell_type": "markdown",
   "metadata": {},
   "source": [
    "## Libraries and methods"
   ]
  },
  {
   "cell_type": "code",
   "execution_count": 3,
   "metadata": {},
   "outputs": [],
   "source": [
    "import numpy as np\n",
    "from loader import load_oneIC\n",
    "import h5py\n",
    "import xarray as xr"
   ]
  },
  {
   "cell_type": "code",
   "execution_count": 2,
   "metadata": {},
   "outputs": [],
   "source": [
    "from sklearn.decomposition import PCA\n",
    "from sklearn.preprocessing import scale\n",
    "from hmmlearn import hmm\n",
    "import scipy.signal as signal\n",
    "import pickle"
   ]
  },
  {
   "cell_type": "code",
   "execution_count": 83,
   "metadata": {},
   "outputs": [],
   "source": [
    "import matplotlib.pyplot as plt\n",
    "import matplotlib.colors as colors\n",
    "from wavelet_transform import wavelet_transform2"
   ]
  },
  {
   "cell_type": "code",
   "execution_count": 84,
   "metadata": {},
   "outputs": [],
   "source": [
    "import mne"
   ]
  },
  {
   "cell_type": "code",
   "execution_count": 5,
   "metadata": {},
   "outputs": [],
   "source": [
    "import time as tm"
   ]
  },
  {
   "cell_type": "code",
   "execution_count": 6,
   "metadata": {},
   "outputs": [],
   "source": [
    "directory = \"/home/INT/malfait.n/Documents/NIC_250819\"\n",
    "file = \"FCK_LOCKED_IC_JYOTIKA_250819.mat\"\n",
    "\n",
    "path = f\"{directory}/{file}\"\n",
    "\n",
    "mat_file = h5py.File(path, \"r\")\n",
    "cells_refs = mat_file['FCK_LOCKED_IC_JYOTIKA']\n",
    "\n",
    "n_IC = 4\n",
    "n_subj = 23"
   ]
  },
  {
   "cell_type": "code",
   "execution_count": 89,
   "metadata": {},
   "outputs": [],
   "source": [
    "target_dir = \"tde-hmm2/test_grids/\""
   ]
  },
  {
   "cell_type": "markdown",
   "metadata": {},
   "source": [
    "## Functions"
   ]
  },
  {
   "cell_type": "code",
   "execution_count": 7,
   "metadata": {},
   "outputs": [],
   "source": [
    "# The embedx function copies the `x` array len(lags) times into `xe`\n",
    "# with lags (i.e. time delays) between lags[0] and lags[-1] (we implement the time-delay array for the HMM).\n",
    "\n",
    "def embedx(x, lags):\n",
    "    \n",
    "    Xe = np.zeros((x.shape[1], x.shape[0],  len(lags)))\n",
    "\n",
    "    for l in range(len(lags)):\n",
    "        Xe[:, :, l] = np.roll(x, lags[l], axis=0).swapaxes(0, 1)\n",
    "\n",
    "    # Remove edges\n",
    "    valid = np.ones((x.shape[0], 1), dtype=np.int8)\n",
    "    valid[:np.abs(np.min(lags)), :] = 0\n",
    "    valid[-np.abs(np.max(lags)):, :] = 0\n",
    "\n",
    "    Xe = Xe[:, valid[:, 0] == 1, :]\n",
    "\n",
    "    return Xe, valid\n",
    "\n",
    "\n",
    "# The hmm_tde function finds parameters for the HMM,\n",
    "# then uses them to determine the probability of presence of each found state over time.\n",
    "\n",
    "def hmm_tde(y: np.array, n_states=3, n_iter=100, n_components=8, \n",
    "            covariance_type='full', model_type='GMMHMM', tol=0.01, n_mix=1, **kwargs):\n",
    "    \n",
    "    if model_type=='GMMHMM':\n",
    "        model = hmm.GMMHMM(n_components=n_states, n_iter=n_iter,\n",
    "                            covariance_type=covariance_type, tol=tol, n_mix=n_mix, **kwargs)\n",
    "        \n",
    "    elif model_type=='GaussianHMM':\n",
    "        model = hmm.GaussianHMM(n_components=n_states, n_iter=n_iter,\n",
    "                            covariance_type=covariance_type, tol=tol, **kwargs)\n",
    "        \n",
    "    elif model_type=='MultinomialHMM':\n",
    "        model = hmm.MultinomialHMM(n_components=n_states, n_iter=n_iter, tol=tol, **kwargs)\n",
    "    \n",
    "    else: \n",
    "        return \"Non-exixting model_type. Please choose 'GMMHMM' or 'GaussianHMM' or 'MultinomialHMM'. default='GMMHMM'\"\n",
    "        \n",
    "    model.fit(y)\n",
    "    gamma = model.predict_proba(y)\n",
    "\n",
    "    return gamma, model"
   ]
  },
  {
   "cell_type": "code",
   "execution_count": 8,
   "metadata": {},
   "outputs": [],
   "source": [
    "def show_bigstates(\n",
    "    gamma, n_states, xe, # the data we need for the plot\n",
    "    \n",
    "    subj, IC, # which IC of which subject is of interest here\n",
    "    \n",
    "    n_components, n_lags, covariance_type, model_type, n_mix, # infos we put in the .png name if we want to save it\n",
    "):\n",
    "\n",
    "#     fig = plt.figure(figsize=(6, 6))\n",
    "#     plt.title('Power Spectrum Density')\n",
    "    max_power = np.zeros(n_states)\n",
    "    psd_all = np.zeros((n_states, 196))\n",
    "    for i in range(n_states):\n",
    "\n",
    "        # Compute PSD separately for each lag\n",
    "        tot = []\n",
    "        for seg in xe[0, gamma[:, i]> .6, :].T:\n",
    "            freqs, psd = signal.welch(x=seg, fs=256, nfft=1000)\n",
    "            tot.append(psd)\n",
    "        psd = np.mean(np.asarray(tot), 0)\n",
    "        \n",
    "        max_power[i] = np.amax(psd[80:])\n",
    "        \n",
    "        psd_all[i] = psd[:196]\n",
    "#         plt.plot(freqs[:196], psd_all[i])\n",
    "    \n",
    "#     plt.ylabel('PSD')\n",
    "#     plt.xlabel('Frequencies (Hz)')\n",
    "#     plt.legend([f'state {i+1}' for i in range(n_states)], loc='upper right')\n",
    "#     plt.tight_layout()   \n",
    "\n",
    "#     plt.savefig(f'tde-hmm2/png_files/test{ts}su{subj}IC{IC}All_lg{n_lags}co{n_components}st{n_states}'\n",
    "#                     +f'{n_mix}'+model_type+'_states-info.png', dpi=600)\n",
    "    \n",
    "#     plt.close(fig)\n",
    "    \n",
    "    return psd_all"
   ]
  },
  {
   "cell_type": "markdown",
   "metadata": {},
   "source": [
    "## Final Script"
   ]
  },
  {
   "cell_type": "markdown",
   "metadata": {},
   "source": [
    "#### Model and parameters:\n",
    "|_ (??delays x 4IC)  x (7s x 256Hz x Ntrials)   -----PCA-----> |_ (??components x 4IC) x (7s x 256Hz x Ntrials) -----> |_ TDE-HMM ( 1 Gaussian/state, 3 to 6 states )"
   ]
  },
  {
   "cell_type": "code",
   "execution_count": 30,
   "metadata": {},
   "outputs": [],
   "source": [
    "# The parameters we change to hope for some results\n",
    "lags = np.arange(-5, 5)\n",
    "n_lags = lags.shape[0]\n",
    "n_iter=100\n",
    "n_states_max=6    # for the Hidden Markov Model\n",
    "n_components=8     # For the principal component analysis\n",
    "covariance_type='diag'\n",
    "model_type='GaussianHMM'\n",
    "tol=0.01\n",
    "n_mix=1"
   ]
  },
  {
   "cell_type": "code",
   "execution_count": 76,
   "metadata": {},
   "outputs": [],
   "source": [
    "# The parameters we change to hope for some results\n",
    "lags = np.arange(-11, 11)\n",
    "n_lags = lags.shape[0]\n",
    "n_iter=100\n",
    "n_states_max=6    # for the Hidden Markov Model\n",
    "n_components=8     # For the principal component analysis\n",
    "covariance_type='full'\n",
    "model_type='GaussianHMM'\n",
    "tol=0.01\n",
    "n_mix=1"
   ]
  },
  {
   "cell_type": "code",
   "execution_count": 43,
   "metadata": {},
   "outputs": [],
   "source": [
    "subj_list = [i for i in range(2,9)] + [i for i in range(10,13)] + [14] + [i for i in range(16, n_subj+1)] \n",
    "                                                                            # All except subjects 1, 9, 13, 15"
   ]
  },
  {
   "cell_type": "markdown",
   "metadata": {},
   "source": [
    "## Tests"
   ]
  },
  {
   "cell_type": "code",
   "execution_count": 44,
   "metadata": {},
   "outputs": [],
   "source": [
    "subj = 2\n",
    "freqs = np.arange(0, 50, 50/196)"
   ]
  },
  {
   "cell_type": "code",
   "execution_count": 49,
   "metadata": {},
   "outputs": [],
   "source": [
    "n_states = 3"
   ]
  },
  {
   "cell_type": "code",
   "execution_count": 66,
   "metadata": {
    "scrolled": true
   },
   "outputs": [
    {
     "name": "stdout",
     "output_type": "stream",
     "text": [
      "Computing the imput matrix for the model\n",
      "Loading the raw timecourse\n",
      "IC1 loaded\n",
      "Loading the raw timecourse\n",
      "IC2 loaded\n",
      "Loading the raw timecourse\n",
      "IC3 loaded\n",
      "Loading the raw timecourse\n",
      "IC4 loaded\n"
     ]
    }
   ],
   "source": [
    "# Loading all data for subject{subj}, IC{IC}\n",
    "print(\"Computing the imput matrix for the model\")\n",
    "datall = []\n",
    "xeall = []\n",
    "IC_list = []\n",
    "for IC in range(1, n_IC+1):\n",
    "#         try:\n",
    "        data, n_trials = load_oneIC(mat_file, cells_refs, subj, IC, comp=False)\n",
    "        big_timecourse = np.concatenate([data[f'raw_timecourse_256Hz'][i][::6] for i in range(n_trials)])\n",
    "            # Downsampled to 256/6 = 42,66666667Hz\n",
    "        x = big_timecourse.reshape(-1, 1)\n",
    "        xe, valid = embedx(x, lags)\n",
    "        xeall.append(xe)\n",
    "        pca = PCA(n_components=n_components)\n",
    "        y = pca.fit_transform(xe[0, :, :])\n",
    "        datall.append(y)\n",
    "        IC_list.append(IC)\n",
    "        print(f\"IC{IC} loaded\")\n",
    "#         except:\n",
    "#             pass\n",
    "y = np.concatenate(datall, axis=1)"
   ]
  },
  {
   "cell_type": "code",
   "execution_count": 67,
   "metadata": {},
   "outputs": [
    {
     "data": {
      "text/plain": [
       "(1, 201804, 22)"
      ]
     },
     "execution_count": 67,
     "metadata": {},
     "output_type": "execute_result"
    }
   ],
   "source": [
    "xeall[0].shape"
   ]
  },
  {
   "cell_type": "code",
   "execution_count": 69,
   "metadata": {},
   "outputs": [
    {
     "data": {
      "text/plain": [
       "298.9688888888889"
      ]
     },
     "execution_count": 69,
     "metadata": {},
     "output_type": "execute_result"
    }
   ],
   "source": [
    "y.shape[0]/n_trials"
   ]
  },
  {
   "cell_type": "code",
   "execution_count": 77,
   "metadata": {},
   "outputs": [
    {
     "name": "stdout",
     "output_type": "stream",
     "text": [
      "Computing and saving the model\n"
     ]
    }
   ],
   "source": [
    "print(\"Computing and saving the model\")\n",
    "gamma, model = hmm_tde(y, n_iter=n_iter, n_states=n_states, n_components=n_components, \n",
    "                        covariance_type=covariance_type, model_type=model_type, tol=tol, n_mix=n_mix)\n",
    "with open(f\"tde-hmm2/test_files/su{subj}All_lg{n_lags}co{n_components}st{n_states}\"\n",
    "    +f\"{n_mix}\"+model_type+\"_model.pkl\", \"wb\") as file: pickle.dump(model, file)"
   ]
  },
  {
   "cell_type": "code",
   "execution_count": 78,
   "metadata": {},
   "outputs": [
    {
     "name": "stdout",
     "output_type": "stream",
     "text": [
      "Computing the PSD of each state\n"
     ]
    }
   ],
   "source": [
    "print(\"Computing the PSD of each state\")\n",
    "psds = []\n",
    "for i in range(len(IC_list)):\n",
    "    psd = show_bigstates(\n",
    "        gamma, n_states, xeall[i], # the data we need for the plot\n",
    "        subj, IC_list[i], # which IC of which subject is of interest here\n",
    "        n_components, n_lags, covariance_type, model_type, n_mix, # infos we put in the .png name if we want to save it\n",
    "    )\n",
    "    psd = psd[np.newaxis,]\n",
    "    psds.append(psd)"
   ]
  },
  {
   "cell_type": "code",
   "execution_count": 79,
   "metadata": {},
   "outputs": [
    {
     "data": {
      "text/plain": [
       "(299,)"
      ]
     },
     "execution_count": 79,
     "metadata": {},
     "output_type": "execute_result"
    }
   ],
   "source": [
    "data[\"time_axis\"][::6].shape"
   ]
  },
  {
   "cell_type": "code",
   "execution_count": 80,
   "metadata": {},
   "outputs": [
    {
     "data": {
      "text/plain": [
       "299.0"
      ]
     },
     "execution_count": 80,
     "metadata": {},
     "output_type": "execute_result"
    }
   ],
   "source": [
    "(gamma.shape[0]+21)/n_trials"
   ]
  },
  {
   "cell_type": "code",
   "execution_count": 81,
   "metadata": {},
   "outputs": [
    {
     "name": "stdout",
     "output_type": "stream",
     "text": [
      "Saving the states timecourses and PSDs\n",
      "subj2, IC4: OK\n"
     ]
    }
   ],
   "source": [
    "# Save the states timecourses and PSDs thanks to xarray and netCDF\n",
    "print(\"Saving the states timecourses and PSDs\")\n",
    "tcourse = np.concatenate(\n",
    "    (np.zeros((11,n_states)), gamma, np.zeros((10,n_states)))\n",
    ")\n",
    "time_axis = data[\"time_axis\"][::6]\n",
    "t_len = time_axis.shape[0]\n",
    "tcourse_trials = np.zeros((n_trials, t_len, n_states))\n",
    "for tr in range(n_trials):\n",
    "    tcourse_trials[tr] = tcourse[tr*t_len:(tr+1)*t_len]\n",
    "ds = xr.Dataset(\n",
    "    {\n",
    "        \"states_timecourse\": ((\"trials\",\"time\", \"states\"), tcourse_trials),\n",
    "        \"states_psd\": ((\"IC\", \"states\", \"freq\"), np.concatenate((psds))),\n",
    "    },\n",
    "    {\n",
    "        \"IC\":IC_list,\n",
    "        \"time\":time_axis,\n",
    "        \"states\":np.arange(1, n_states+1),\n",
    "        \"freq\": freqs,\n",
    "    }\n",
    ")\n",
    "ds.to_netcdf(f\"tde-hmm2/test_files/su{subj}-{n_states}states_data.nc\")\n",
    "print(f\"subj{subj}, IC{IC}: OK\")"
   ]
  },
  {
   "cell_type": "code",
   "execution_count": 92,
   "metadata": {},
   "outputs": [
    {
     "data": {
      "text/plain": [
       "(299,)"
      ]
     },
     "execution_count": 92,
     "metadata": {},
     "output_type": "execute_result"
    }
   ],
   "source": [
    "time_axis.shape"
   ]
  },
  {
   "cell_type": "code",
   "execution_count": 94,
   "metadata": {},
   "outputs": [
    {
     "data": {
      "text/html": [
       "<div><svg style=\"position: absolute; width: 0; height: 0; overflow: hidden\">\n",
       "<defs>\n",
       "<symbol id=\"icon-database\" viewBox=\"0 0 32 32\">\n",
       "<path d=\"M16 0c-8.837 0-16 2.239-16 5v4c0 2.761 7.163 5 16 5s16-2.239 16-5v-4c0-2.761-7.163-5-16-5z\"></path>\n",
       "<path d=\"M16 17c-8.837 0-16-2.239-16-5v6c0 2.761 7.163 5 16 5s16-2.239 16-5v-6c0 2.761-7.163 5-16 5z\"></path>\n",
       "<path d=\"M16 26c-8.837 0-16-2.239-16-5v6c0 2.761 7.163 5 16 5s16-2.239 16-5v-6c0 2.761-7.163 5-16 5z\"></path>\n",
       "</symbol>\n",
       "<symbol id=\"icon-file-text2\" viewBox=\"0 0 32 32\">\n",
       "<path d=\"M28.681 7.159c-0.694-0.947-1.662-2.053-2.724-3.116s-2.169-2.030-3.116-2.724c-1.612-1.182-2.393-1.319-2.841-1.319h-15.5c-1.378 0-2.5 1.121-2.5 2.5v27c0 1.378 1.122 2.5 2.5 2.5h23c1.378 0 2.5-1.122 2.5-2.5v-19.5c0-0.448-0.137-1.23-1.319-2.841zM24.543 5.457c0.959 0.959 1.712 1.825 2.268 2.543h-4.811v-4.811c0.718 0.556 1.584 1.309 2.543 2.268zM28 29.5c0 0.271-0.229 0.5-0.5 0.5h-23c-0.271 0-0.5-0.229-0.5-0.5v-27c0-0.271 0.229-0.5 0.5-0.5 0 0 15.499-0 15.5 0v7c0 0.552 0.448 1 1 1h7v19.5z\"></path>\n",
       "<path d=\"M23 26h-14c-0.552 0-1-0.448-1-1s0.448-1 1-1h14c0.552 0 1 0.448 1 1s-0.448 1-1 1z\"></path>\n",
       "<path d=\"M23 22h-14c-0.552 0-1-0.448-1-1s0.448-1 1-1h14c0.552 0 1 0.448 1 1s-0.448 1-1 1z\"></path>\n",
       "<path d=\"M23 18h-14c-0.552 0-1-0.448-1-1s0.448-1 1-1h14c0.552 0 1 0.448 1 1s-0.448 1-1 1z\"></path>\n",
       "</symbol>\n",
       "</defs>\n",
       "</svg>\n",
       "<style>/* CSS stylesheet for displaying xarray objects in jupyterlab.\n",
       " *\n",
       " */\n",
       "\n",
       ":root {\n",
       "  --xr-font-color0: var(--jp-content-font-color0, rgba(0, 0, 0, 1));\n",
       "  --xr-font-color2: var(--jp-content-font-color2, rgba(0, 0, 0, 0.54));\n",
       "  --xr-font-color3: var(--jp-content-font-color3, rgba(0, 0, 0, 0.38));\n",
       "  --xr-border-color: var(--jp-border-color2, #e0e0e0);\n",
       "  --xr-disabled-color: var(--jp-layout-color3, #bdbdbd);\n",
       "  --xr-background-color: var(--jp-layout-color0, white);\n",
       "  --xr-background-color-row-even: var(--jp-layout-color1, white);\n",
       "  --xr-background-color-row-odd: var(--jp-layout-color2, #eeeeee);\n",
       "}\n",
       "\n",
       "html[theme=dark],\n",
       "body.vscode-dark {\n",
       "  --xr-font-color0: rgba(255, 255, 255, 1);\n",
       "  --xr-font-color2: rgba(255, 255, 255, 0.54);\n",
       "  --xr-font-color3: rgba(255, 255, 255, 0.38);\n",
       "  --xr-border-color: #1F1F1F;\n",
       "  --xr-disabled-color: #515151;\n",
       "  --xr-background-color: #111111;\n",
       "  --xr-background-color-row-even: #111111;\n",
       "  --xr-background-color-row-odd: #313131;\n",
       "}\n",
       "\n",
       ".xr-wrap {\n",
       "  display: block;\n",
       "  min-width: 300px;\n",
       "  max-width: 700px;\n",
       "}\n",
       "\n",
       ".xr-text-repr-fallback {\n",
       "  /* fallback to plain text repr when CSS is not injected (untrusted notebook) */\n",
       "  display: none;\n",
       "}\n",
       "\n",
       ".xr-header {\n",
       "  padding-top: 6px;\n",
       "  padding-bottom: 6px;\n",
       "  margin-bottom: 4px;\n",
       "  border-bottom: solid 1px var(--xr-border-color);\n",
       "}\n",
       "\n",
       ".xr-header > div,\n",
       ".xr-header > ul {\n",
       "  display: inline;\n",
       "  margin-top: 0;\n",
       "  margin-bottom: 0;\n",
       "}\n",
       "\n",
       ".xr-obj-type,\n",
       ".xr-array-name {\n",
       "  margin-left: 2px;\n",
       "  margin-right: 10px;\n",
       "}\n",
       "\n",
       ".xr-obj-type {\n",
       "  color: var(--xr-font-color2);\n",
       "}\n",
       "\n",
       ".xr-sections {\n",
       "  padding-left: 0 !important;\n",
       "  display: grid;\n",
       "  grid-template-columns: 150px auto auto 1fr 20px 20px;\n",
       "}\n",
       "\n",
       ".xr-section-item {\n",
       "  display: contents;\n",
       "}\n",
       "\n",
       ".xr-section-item input {\n",
       "  display: none;\n",
       "}\n",
       "\n",
       ".xr-section-item input + label {\n",
       "  color: var(--xr-disabled-color);\n",
       "}\n",
       "\n",
       ".xr-section-item input:enabled + label {\n",
       "  cursor: pointer;\n",
       "  color: var(--xr-font-color2);\n",
       "}\n",
       "\n",
       ".xr-section-item input:enabled + label:hover {\n",
       "  color: var(--xr-font-color0);\n",
       "}\n",
       "\n",
       ".xr-section-summary {\n",
       "  grid-column: 1;\n",
       "  color: var(--xr-font-color2);\n",
       "  font-weight: 500;\n",
       "}\n",
       "\n",
       ".xr-section-summary > span {\n",
       "  display: inline-block;\n",
       "  padding-left: 0.5em;\n",
       "}\n",
       "\n",
       ".xr-section-summary-in:disabled + label {\n",
       "  color: var(--xr-font-color2);\n",
       "}\n",
       "\n",
       ".xr-section-summary-in + label:before {\n",
       "  display: inline-block;\n",
       "  content: '►';\n",
       "  font-size: 11px;\n",
       "  width: 15px;\n",
       "  text-align: center;\n",
       "}\n",
       "\n",
       ".xr-section-summary-in:disabled + label:before {\n",
       "  color: var(--xr-disabled-color);\n",
       "}\n",
       "\n",
       ".xr-section-summary-in:checked + label:before {\n",
       "  content: '▼';\n",
       "}\n",
       "\n",
       ".xr-section-summary-in:checked + label > span {\n",
       "  display: none;\n",
       "}\n",
       "\n",
       ".xr-section-summary,\n",
       ".xr-section-inline-details {\n",
       "  padding-top: 4px;\n",
       "  padding-bottom: 4px;\n",
       "}\n",
       "\n",
       ".xr-section-inline-details {\n",
       "  grid-column: 2 / -1;\n",
       "}\n",
       "\n",
       ".xr-section-details {\n",
       "  display: none;\n",
       "  grid-column: 1 / -1;\n",
       "  margin-bottom: 5px;\n",
       "}\n",
       "\n",
       ".xr-section-summary-in:checked ~ .xr-section-details {\n",
       "  display: contents;\n",
       "}\n",
       "\n",
       ".xr-array-wrap {\n",
       "  grid-column: 1 / -1;\n",
       "  display: grid;\n",
       "  grid-template-columns: 20px auto;\n",
       "}\n",
       "\n",
       ".xr-array-wrap > label {\n",
       "  grid-column: 1;\n",
       "  vertical-align: top;\n",
       "}\n",
       "\n",
       ".xr-preview {\n",
       "  color: var(--xr-font-color3);\n",
       "}\n",
       "\n",
       ".xr-array-preview,\n",
       ".xr-array-data {\n",
       "  padding: 0 5px !important;\n",
       "  grid-column: 2;\n",
       "}\n",
       "\n",
       ".xr-array-data,\n",
       ".xr-array-in:checked ~ .xr-array-preview {\n",
       "  display: none;\n",
       "}\n",
       "\n",
       ".xr-array-in:checked ~ .xr-array-data,\n",
       ".xr-array-preview {\n",
       "  display: inline-block;\n",
       "}\n",
       "\n",
       ".xr-dim-list {\n",
       "  display: inline-block !important;\n",
       "  list-style: none;\n",
       "  padding: 0 !important;\n",
       "  margin: 0;\n",
       "}\n",
       "\n",
       ".xr-dim-list li {\n",
       "  display: inline-block;\n",
       "  padding: 0;\n",
       "  margin: 0;\n",
       "}\n",
       "\n",
       ".xr-dim-list:before {\n",
       "  content: '(';\n",
       "}\n",
       "\n",
       ".xr-dim-list:after {\n",
       "  content: ')';\n",
       "}\n",
       "\n",
       ".xr-dim-list li:not(:last-child):after {\n",
       "  content: ',';\n",
       "  padding-right: 5px;\n",
       "}\n",
       "\n",
       ".xr-has-index {\n",
       "  font-weight: bold;\n",
       "}\n",
       "\n",
       ".xr-var-list,\n",
       ".xr-var-item {\n",
       "  display: contents;\n",
       "}\n",
       "\n",
       ".xr-var-item > div,\n",
       ".xr-var-item label,\n",
       ".xr-var-item > .xr-var-name span {\n",
       "  background-color: var(--xr-background-color-row-even);\n",
       "  margin-bottom: 0;\n",
       "}\n",
       "\n",
       ".xr-var-item > .xr-var-name:hover span {\n",
       "  padding-right: 5px;\n",
       "}\n",
       "\n",
       ".xr-var-list > li:nth-child(odd) > div,\n",
       ".xr-var-list > li:nth-child(odd) > label,\n",
       ".xr-var-list > li:nth-child(odd) > .xr-var-name span {\n",
       "  background-color: var(--xr-background-color-row-odd);\n",
       "}\n",
       "\n",
       ".xr-var-name {\n",
       "  grid-column: 1;\n",
       "}\n",
       "\n",
       ".xr-var-dims {\n",
       "  grid-column: 2;\n",
       "}\n",
       "\n",
       ".xr-var-dtype {\n",
       "  grid-column: 3;\n",
       "  text-align: right;\n",
       "  color: var(--xr-font-color2);\n",
       "}\n",
       "\n",
       ".xr-var-preview {\n",
       "  grid-column: 4;\n",
       "}\n",
       "\n",
       ".xr-var-name,\n",
       ".xr-var-dims,\n",
       ".xr-var-dtype,\n",
       ".xr-preview,\n",
       ".xr-attrs dt {\n",
       "  white-space: nowrap;\n",
       "  overflow: hidden;\n",
       "  text-overflow: ellipsis;\n",
       "  padding-right: 10px;\n",
       "}\n",
       "\n",
       ".xr-var-name:hover,\n",
       ".xr-var-dims:hover,\n",
       ".xr-var-dtype:hover,\n",
       ".xr-attrs dt:hover {\n",
       "  overflow: visible;\n",
       "  width: auto;\n",
       "  z-index: 1;\n",
       "}\n",
       "\n",
       ".xr-var-attrs,\n",
       ".xr-var-data {\n",
       "  display: none;\n",
       "  background-color: var(--xr-background-color) !important;\n",
       "  padding-bottom: 5px !important;\n",
       "}\n",
       "\n",
       ".xr-var-attrs-in:checked ~ .xr-var-attrs,\n",
       ".xr-var-data-in:checked ~ .xr-var-data {\n",
       "  display: block;\n",
       "}\n",
       "\n",
       ".xr-var-data > table {\n",
       "  float: right;\n",
       "}\n",
       "\n",
       ".xr-var-name span,\n",
       ".xr-var-data,\n",
       ".xr-attrs {\n",
       "  padding-left: 25px !important;\n",
       "}\n",
       "\n",
       ".xr-attrs,\n",
       ".xr-var-attrs,\n",
       ".xr-var-data {\n",
       "  grid-column: 1 / -1;\n",
       "}\n",
       "\n",
       "dl.xr-attrs {\n",
       "  padding: 0;\n",
       "  margin: 0;\n",
       "  display: grid;\n",
       "  grid-template-columns: 125px auto;\n",
       "}\n",
       "\n",
       ".xr-attrs dt,\n",
       ".xr-attrs dd {\n",
       "  padding: 0;\n",
       "  margin: 0;\n",
       "  float: left;\n",
       "  padding-right: 10px;\n",
       "  width: auto;\n",
       "}\n",
       "\n",
       ".xr-attrs dt {\n",
       "  font-weight: normal;\n",
       "  grid-column: 1;\n",
       "}\n",
       "\n",
       ".xr-attrs dt:hover span {\n",
       "  display: inline-block;\n",
       "  background: var(--xr-background-color);\n",
       "  padding-right: 10px;\n",
       "}\n",
       "\n",
       ".xr-attrs dd {\n",
       "  grid-column: 2;\n",
       "  white-space: pre-wrap;\n",
       "  word-break: break-all;\n",
       "}\n",
       "\n",
       ".xr-icon-database,\n",
       ".xr-icon-file-text2 {\n",
       "  display: inline-block;\n",
       "  vertical-align: middle;\n",
       "  width: 1em;\n",
       "  height: 1.5em !important;\n",
       "  stroke-width: 0;\n",
       "  stroke: currentColor;\n",
       "  fill: currentColor;\n",
       "}\n",
       "</style><pre class='xr-text-repr-fallback'>&lt;xarray.Dataset&gt;\n",
       "Dimensions:            (IC: 4, freq: 196, states: 3, time: 299, trials: 675)\n",
       "Coordinates:\n",
       "  * time               (time) float64 -4.0 -3.977 -3.953 ... 2.938 2.961 2.984\n",
       "  * freq               (freq) float64 0.0 0.2551 0.5102 ... 49.23 49.49 49.74\n",
       "  * IC                 (IC) int32 1 2 3 4\n",
       "  * states             (states) int32 1 2 3\n",
       "Dimensions without coordinates: trials\n",
       "Data variables:\n",
       "    states_timecourse  (trials, time, states) float64 ...\n",
       "    frac_occ           (time, states) float64 0.5772 0.00628 ... 0.006653 0.3983\n",
       "    states_psd         (IC, states, freq) float64 0.0004613 ... 0.004508</pre><div class='xr-wrap' hidden><div class='xr-header'><div class='xr-obj-type'>xarray.Dataset</div></div><ul class='xr-sections'><li class='xr-section-item'><input id='section-74d114f1-c42d-43f6-a83a-4f0d2a9b1e30' class='xr-section-summary-in' type='checkbox' disabled ><label for='section-74d114f1-c42d-43f6-a83a-4f0d2a9b1e30' class='xr-section-summary'  title='Expand/collapse section'>Dimensions:</label><div class='xr-section-inline-details'><ul class='xr-dim-list'><li><span class='xr-has-index'>IC</span>: 4</li><li><span class='xr-has-index'>freq</span>: 196</li><li><span class='xr-has-index'>states</span>: 3</li><li><span class='xr-has-index'>time</span>: 299</li><li><span>trials</span>: 675</li></ul></div><div class='xr-section-details'></div></li><li class='xr-section-item'><input id='section-ffc87d57-5e73-4ce8-981a-5b63ea7ecf75' class='xr-section-summary-in' type='checkbox'  checked><label for='section-ffc87d57-5e73-4ce8-981a-5b63ea7ecf75' class='xr-section-summary' >Coordinates: <span>(4)</span></label><div class='xr-section-inline-details'></div><div class='xr-section-details'><ul class='xr-var-list'><li class='xr-var-item'><div class='xr-var-name'><span class='xr-has-index'>time</span></div><div class='xr-var-dims'>(time)</div><div class='xr-var-dtype'>float64</div><div class='xr-var-preview xr-preview'>-4.0 -3.977 -3.953 ... 2.961 2.984</div><input id='attrs-890d6e72-f692-407d-98cd-5f83dee74072' class='xr-var-attrs-in' type='checkbox' disabled><label for='attrs-890d6e72-f692-407d-98cd-5f83dee74072' title='Show/Hide attributes'><svg class='icon xr-icon-file-text2'><use xlink:href='#icon-file-text2'></use></svg></label><input id='data-f9298045-cd2d-41b1-9fc7-752cb00de399' class='xr-var-data-in' type='checkbox'><label for='data-f9298045-cd2d-41b1-9fc7-752cb00de399' title='Show/Hide data repr'><svg class='icon xr-icon-database'><use xlink:href='#icon-database'></use></svg></label><div class='xr-var-attrs'><dl class='xr-attrs'></dl></div><div class='xr-var-data'><pre>array([-4.      , -3.976562, -3.953125, ...,  2.9375  ,  2.960938,  2.984375])</pre></div></li><li class='xr-var-item'><div class='xr-var-name'><span class='xr-has-index'>freq</span></div><div class='xr-var-dims'>(freq)</div><div class='xr-var-dtype'>float64</div><div class='xr-var-preview xr-preview'>0.0 0.2551 0.5102 ... 49.49 49.74</div><input id='attrs-36c42c25-aa3f-4eb9-be86-c06d35de86e8' class='xr-var-attrs-in' type='checkbox' disabled><label for='attrs-36c42c25-aa3f-4eb9-be86-c06d35de86e8' title='Show/Hide attributes'><svg class='icon xr-icon-file-text2'><use xlink:href='#icon-file-text2'></use></svg></label><input id='data-d66cfc5d-5774-49de-8d39-dd3aa68c3d72' class='xr-var-data-in' type='checkbox'><label for='data-d66cfc5d-5774-49de-8d39-dd3aa68c3d72' title='Show/Hide data repr'><svg class='icon xr-icon-database'><use xlink:href='#icon-database'></use></svg></label><div class='xr-var-attrs'><dl class='xr-attrs'></dl></div><div class='xr-var-data'><pre>array([ 0.      ,  0.255102,  0.510204,  0.765306,  1.020408,  1.27551 ,\n",
       "        1.530612,  1.785714,  2.040816,  2.295918,  2.55102 ,  2.806122,\n",
       "        3.061224,  3.316327,  3.571429,  3.826531,  4.081633,  4.336735,\n",
       "        4.591837,  4.846939,  5.102041,  5.357143,  5.612245,  5.867347,\n",
       "        6.122449,  6.377551,  6.632653,  6.887755,  7.142857,  7.397959,\n",
       "        7.653061,  7.908163,  8.163265,  8.418367,  8.673469,  8.928571,\n",
       "        9.183673,  9.438776,  9.693878,  9.94898 , 10.204082, 10.459184,\n",
       "       10.714286, 10.969388, 11.22449 , 11.479592, 11.734694, 11.989796,\n",
       "       12.244898, 12.5     , 12.755102, 13.010204, 13.265306, 13.520408,\n",
       "       13.77551 , 14.030612, 14.285714, 14.540816, 14.795918, 15.05102 ,\n",
       "       15.306122, 15.561224, 15.816327, 16.071429, 16.326531, 16.581633,\n",
       "       16.836735, 17.091837, 17.346939, 17.602041, 17.857143, 18.112245,\n",
       "       18.367347, 18.622449, 18.877551, 19.132653, 19.387755, 19.642857,\n",
       "       19.897959, 20.153061, 20.408163, 20.663265, 20.918367, 21.173469,\n",
       "       21.428571, 21.683673, 21.938776, 22.193878, 22.44898 , 22.704082,\n",
       "       22.959184, 23.214286, 23.469388, 23.72449 , 23.979592, 24.234694,\n",
       "       24.489796, 24.744898, 25.      , 25.255102, 25.510204, 25.765306,\n",
       "       26.020408, 26.27551 , 26.530612, 26.785714, 27.040816, 27.295918,\n",
       "       27.55102 , 27.806122, 28.061224, 28.316327, 28.571429, 28.826531,\n",
       "       29.081633, 29.336735, 29.591837, 29.846939, 30.102041, 30.357143,\n",
       "       30.612245, 30.867347, 31.122449, 31.377551, 31.632653, 31.887755,\n",
       "       32.142857, 32.397959, 32.653061, 32.908163, 33.163265, 33.418367,\n",
       "       33.673469, 33.928571, 34.183673, 34.438776, 34.693878, 34.94898 ,\n",
       "       35.204082, 35.459184, 35.714286, 35.969388, 36.22449 , 36.479592,\n",
       "       36.734694, 36.989796, 37.244898, 37.5     , 37.755102, 38.010204,\n",
       "       38.265306, 38.520408, 38.77551 , 39.030612, 39.285714, 39.540816,\n",
       "       39.795918, 40.05102 , 40.306122, 40.561224, 40.816327, 41.071429,\n",
       "       41.326531, 41.581633, 41.836735, 42.091837, 42.346939, 42.602041,\n",
       "       42.857143, 43.112245, 43.367347, 43.622449, 43.877551, 44.132653,\n",
       "       44.387755, 44.642857, 44.897959, 45.153061, 45.408163, 45.663265,\n",
       "       45.918367, 46.173469, 46.428571, 46.683673, 46.938776, 47.193878,\n",
       "       47.44898 , 47.704082, 47.959184, 48.214286, 48.469388, 48.72449 ,\n",
       "       48.979592, 49.234694, 49.489796, 49.744898])</pre></div></li><li class='xr-var-item'><div class='xr-var-name'><span class='xr-has-index'>IC</span></div><div class='xr-var-dims'>(IC)</div><div class='xr-var-dtype'>int32</div><div class='xr-var-preview xr-preview'>1 2 3 4</div><input id='attrs-25b222ed-0f0a-4631-b7a4-702eeda5f00b' class='xr-var-attrs-in' type='checkbox' disabled><label for='attrs-25b222ed-0f0a-4631-b7a4-702eeda5f00b' title='Show/Hide attributes'><svg class='icon xr-icon-file-text2'><use xlink:href='#icon-file-text2'></use></svg></label><input id='data-3266efd8-0e24-426f-8431-9883b6f7bdff' class='xr-var-data-in' type='checkbox'><label for='data-3266efd8-0e24-426f-8431-9883b6f7bdff' title='Show/Hide data repr'><svg class='icon xr-icon-database'><use xlink:href='#icon-database'></use></svg></label><div class='xr-var-attrs'><dl class='xr-attrs'></dl></div><div class='xr-var-data'><pre>array([1, 2, 3, 4], dtype=int32)</pre></div></li><li class='xr-var-item'><div class='xr-var-name'><span class='xr-has-index'>states</span></div><div class='xr-var-dims'>(states)</div><div class='xr-var-dtype'>int32</div><div class='xr-var-preview xr-preview'>1 2 3</div><input id='attrs-402b717c-ce0f-466a-96f0-6efc97bcf8d9' class='xr-var-attrs-in' type='checkbox' disabled><label for='attrs-402b717c-ce0f-466a-96f0-6efc97bcf8d9' title='Show/Hide attributes'><svg class='icon xr-icon-file-text2'><use xlink:href='#icon-file-text2'></use></svg></label><input id='data-a60b6748-d494-479f-a5dc-ab5eb3d753a1' class='xr-var-data-in' type='checkbox'><label for='data-a60b6748-d494-479f-a5dc-ab5eb3d753a1' title='Show/Hide data repr'><svg class='icon xr-icon-database'><use xlink:href='#icon-database'></use></svg></label><div class='xr-var-attrs'><dl class='xr-attrs'></dl></div><div class='xr-var-data'><pre>array([1, 2, 3], dtype=int32)</pre></div></li></ul></div></li><li class='xr-section-item'><input id='section-fece402b-1e58-48b2-b3b0-982cd8f2a7a4' class='xr-section-summary-in' type='checkbox'  checked><label for='section-fece402b-1e58-48b2-b3b0-982cd8f2a7a4' class='xr-section-summary' >Data variables: <span>(3)</span></label><div class='xr-section-inline-details'></div><div class='xr-section-details'><ul class='xr-var-list'><li class='xr-var-item'><div class='xr-var-name'><span>states_timecourse</span></div><div class='xr-var-dims'>(trials, time, states)</div><div class='xr-var-dtype'>float64</div><div class='xr-var-preview xr-preview'>...</div><input id='attrs-5f088010-4e53-414c-b23c-b14089aa2d39' class='xr-var-attrs-in' type='checkbox' disabled><label for='attrs-5f088010-4e53-414c-b23c-b14089aa2d39' title='Show/Hide attributes'><svg class='icon xr-icon-file-text2'><use xlink:href='#icon-file-text2'></use></svg></label><input id='data-d1eb7503-f4c4-438c-a0a5-22b54e70693c' class='xr-var-data-in' type='checkbox'><label for='data-d1eb7503-f4c4-438c-a0a5-22b54e70693c' title='Show/Hide data repr'><svg class='icon xr-icon-database'><use xlink:href='#icon-database'></use></svg></label><div class='xr-var-attrs'><dl class='xr-attrs'></dl></div><div class='xr-var-data'><pre>[605475 values with dtype=float64]</pre></div></li><li class='xr-var-item'><div class='xr-var-name'><span>frac_occ</span></div><div class='xr-var-dims'>(time, states)</div><div class='xr-var-dtype'>float64</div><div class='xr-var-preview xr-preview'>0.5772 0.00628 ... 0.006653 0.3983</div><input id='attrs-c883799a-1710-4f31-8eae-57643a2234bc' class='xr-var-attrs-in' type='checkbox' disabled><label for='attrs-c883799a-1710-4f31-8eae-57643a2234bc' title='Show/Hide attributes'><svg class='icon xr-icon-file-text2'><use xlink:href='#icon-file-text2'></use></svg></label><input id='data-cac51981-d9a2-483d-ad87-48c4207526f7' class='xr-var-data-in' type='checkbox'><label for='data-cac51981-d9a2-483d-ad87-48c4207526f7' title='Show/Hide data repr'><svg class='icon xr-icon-database'><use xlink:href='#icon-database'></use></svg></label><div class='xr-var-attrs'><dl class='xr-attrs'></dl></div><div class='xr-var-data'><pre>array([[0.577202, 0.00628 , 0.415036],\n",
       "       [0.555575, 0.006909, 0.436034],\n",
       "       [0.537054, 0.008046, 0.453418],\n",
       "       ...,\n",
       "       [0.630132, 0.004577, 0.36381 ],\n",
       "       [0.608362, 0.006418, 0.383738],\n",
       "       [0.59356 , 0.006653, 0.398306]])</pre></div></li><li class='xr-var-item'><div class='xr-var-name'><span>states_psd</span></div><div class='xr-var-dims'>(IC, states, freq)</div><div class='xr-var-dtype'>float64</div><div class='xr-var-preview xr-preview'>0.0004613 0.001031 ... 0.004508</div><input id='attrs-85a1393a-1ab2-403e-b8a9-7237782a59dd' class='xr-var-attrs-in' type='checkbox' disabled><label for='attrs-85a1393a-1ab2-403e-b8a9-7237782a59dd' title='Show/Hide attributes'><svg class='icon xr-icon-file-text2'><use xlink:href='#icon-file-text2'></use></svg></label><input id='data-4e7bd381-3d3e-4c83-be2f-f6f6fbccfa41' class='xr-var-data-in' type='checkbox'><label for='data-4e7bd381-3d3e-4c83-be2f-f6f6fbccfa41' title='Show/Hide data repr'><svg class='icon xr-icon-database'><use xlink:href='#icon-database'></use></svg></label><div class='xr-var-attrs'><dl class='xr-attrs'></dl></div><div class='xr-var-data'><pre>array([[[0.000461, 0.001031, ..., 0.00158 , 0.001549],\n",
       "        [0.000537, 0.001214, ..., 0.0025  , 0.002413],\n",
       "        [0.000569, 0.0013  , ..., 0.001814, 0.001817]],\n",
       "\n",
       "       [[0.000317, 0.000709, ..., 0.001512, 0.001549],\n",
       "        [0.000351, 0.000817, ..., 0.002008, 0.002038],\n",
       "        [0.0004  , 0.000917, ..., 0.002516, 0.002522]],\n",
       "\n",
       "       [[0.000317, 0.000714, ..., 0.001555, 0.001555],\n",
       "        [0.000501, 0.00116 , ..., 0.007424, 0.007662],\n",
       "        [0.00037 , 0.000843, ..., 0.001692, 0.001673]],\n",
       "\n",
       "       [[0.000172, 0.000388, ..., 0.000719, 0.00072 ],\n",
       "        [0.000277, 0.000628, ..., 0.005268, 0.005736],\n",
       "        [0.000217, 0.000494, ..., 0.004262, 0.004508]]])</pre></div></li></ul></div></li><li class='xr-section-item'><input id='section-e6a380eb-c432-4225-b43a-6b51b756b4e3' class='xr-section-summary-in' type='checkbox' disabled ><label for='section-e6a380eb-c432-4225-b43a-6b51b756b4e3' class='xr-section-summary'  title='Expand/collapse section'>Attributes: <span>(0)</span></label><div class='xr-section-inline-details'></div><div class='xr-section-details'><dl class='xr-attrs'></dl></div></li></ul></div></div>"
      ],
      "text/plain": [
       "<xarray.Dataset>\n",
       "Dimensions:            (IC: 4, freq: 196, states: 3, time: 299, trials: 675)\n",
       "Coordinates:\n",
       "  * time               (time) float64 -4.0 -3.977 -3.953 ... 2.938 2.961 2.984\n",
       "  * freq               (freq) float64 0.0 0.2551 0.5102 ... 49.23 49.49 49.74\n",
       "  * IC                 (IC) int32 1 2 3 4\n",
       "  * states             (states) int32 1 2 3\n",
       "Dimensions without coordinates: trials\n",
       "Data variables:\n",
       "    states_timecourse  (trials, time, states) float64 ...\n",
       "    frac_occ           (time, states) float64 0.5772 0.00628 ... 0.006653 0.3983\n",
       "    states_psd         (IC, states, freq) float64 0.0004613 ... 0.004508"
      ]
     },
     "execution_count": 94,
     "metadata": {},
     "output_type": "execute_result"
    }
   ],
   "source": [
    "ds"
   ]
  },
  {
   "cell_type": "code",
   "execution_count": 95,
   "metadata": {},
   "outputs": [
    {
     "data": {
      "text/plain": [
       "299.0"
      ]
     },
     "execution_count": 95,
     "metadata": {},
     "output_type": "execute_result"
    }
   ],
   "source": [
    "605475/675/3"
   ]
  },
  {
   "cell_type": "code",
   "execution_count": 82,
   "metadata": {},
   "outputs": [
    {
     "name": "stdout",
     "output_type": "stream",
     "text": [
      "su2, 3 states done\n"
     ]
    }
   ],
   "source": [
    "ds = xr.open_dataset(f\"tde-hmm2/test_files/su{subj}-{n_states}states_data.nc\")\n",
    "ds = ds.assign(frac_occ = (ds[\"states_timecourse\"].sum(\"trials\")/ds.sizes[\"trials\"]))\n",
    "ds.to_netcdf(f\"tde-hmm2/test_files/su{subj}-{n_states}states_data_Multi.nc\", mode=\"w\")\n",
    "labels = [f\"state {state}\" for state in ds[\"states\"].values]\n",
    "fig = plt.figure(figsize=(6*(len(ds[\"IC\"].values)+1),6))\n",
    "plt.subplot(1, len(ds[\"IC\"].values)+1, 1)\n",
    "plt.title(f'Frac. Occupancy')\n",
    "plt.plot(ds[\"time\"], ds[\"frac_occ\"].values)\n",
    "plt.xlabel('Time (s)')\n",
    "plt.ylabel('Frac. occupancy')\n",
    "plt.legend(labels, loc='upper left')\n",
    "for i in range(len(ds[\"IC\"].values)):\n",
    "    plt.subplot(1, len(ds[\"IC\"].values)+1, i+2)\n",
    "    plt.title(f\"Power Spectrum Density of IC{ds['IC'].values[i]}\")\n",
    "    plt.plot(ds[\"freq\"], ds[\"states_psd\"].values[i,].T)\n",
    "    plt.xlabel('Frequency (Hz)')\n",
    "    plt.ylabel('PSD')\n",
    "    plt.legend(labels, loc='upper right')\n",
    "plt.savefig(f\"tde-hmm2/test_png/su{subj}-frac_occ_{n_states}st_Multi.png\", dpi=300)\n",
    "plt.close(fig)\n",
    "print(f\"su{subj}, {n_states} states done\")"
   ]
  },
  {
   "cell_type": "code",
   "execution_count": 86,
   "metadata": {},
   "outputs": [],
   "source": [
    "widths = [14, 1, 5]\n",
    "heights = [1,1,1,4,4,4,4]"
   ]
  },
  {
   "cell_type": "code",
   "execution_count": 87,
   "metadata": {},
   "outputs": [],
   "source": [
    "gs_kw = dict(width_ratios=widths, height_ratios=heights, wspace=0.0, hspace=0.0)\n",
    "\n",
    "info = mne.create_info(ch_names=['signal'], sfreq=256, ch_types=['eeg'])"
   ]
  },
  {
   "cell_type": "code",
   "execution_count": 93,
   "metadata": {},
   "outputs": [
    {
     "name": "stdout",
     "output_type": "stream",
     "text": [
      "Loading the raw timecourse\n",
      "Loading the raw timecourse\n",
      "Loading the raw timecourse\n",
      "Loading the raw timecourse\n"
     ]
    }
   ],
   "source": [
    "fig, f_axes = plt.subplots(figsize=(sum(widths),sum(heights)), ncols=3, nrows=(n_states+4), constrained_layout=True,\n",
    "                         gridspec_kw=gs_kw)\n",
    "ds = xr.open_dataset(f\"tde-hmm2/test_files/su{subj}-{n_states}states_data_Multi.nc\")\n",
    "for state in ds[\"states\"].values:\n",
    "    ax = f_axes[state-1,0]\n",
    "#         ax.set_xticks([])\n",
    "    ax.plot(ds[\"time\"].values, ds[\"frac_occ\"].values[:, state-1], color=f\"C{state-1}\")\n",
    "    ax.set_xlim([-4, 3])\n",
    "    ax.set_ylabel(f\"state {state}\")\n",
    "for IC in ds[\"IC\"].values:\n",
    "    ax = f_axes[IC+n_states-1,0]\n",
    "    data, n_trials = load_oneIC(mat_file, cells_refs, subj, IC, comp=False)\n",
    "    tfr = wavelet_transform2(data, info, trial=np.arange(1,n_trials+1))\n",
    "    mappable = ax.imshow(tfr[0], aspect='auto', origin='lower', extent=[-4, 3, 2, 50], \n",
    "                           norm=colors.PowerNorm(gamma=0.5), cmap='RdYlBu_r')\n",
    "    ax.set_ylabel(f'Frequencies IC{IC} (Hz)')\n",
    "    fig.colorbar(mappable, cax=f_axes[IC+n_states-1,1])\n",
    "#         if IC!=4:\n",
    "#             ax.set_xticks([])\n",
    "for i in range(len(ds[\"IC\"].values)):\n",
    "    IC = ds[\"IC\"].values[i]\n",
    "    ax = f_axes[IC+n_states-1,2]\n",
    "    ax.plot(ds[\"freq\"].values, ds[\"states_psd\"].values[i,].T)\n",
    "    ax.set_ylabel(f'PSD IC{IC}')\n",
    "ax = f_axes[n_states,2]\n",
    "lines = ax.get_lines()\n",
    "labels = [f\"State {i}\" for i in range (1, n_states+1)]\n",
    "ax = f_axes[0,2]\n",
    "ax.legend(lines, labels, loc='upper left')\n",
    "ax = f_axes[n_states+3,0]\n",
    "ax.set_xlabel(f'Time (s)') \n",
    "ax = f_axes[n_states+3,2]\n",
    "ax.set_xlabel(f'Frequency (Hz)')   \n",
    "\n",
    "fig.savefig(target_dir + f'grid-{n_states}states-subj{subj}.png', dpi=300)\n",
    "plt.close(fig)"
   ]
  }
 ],
 "metadata": {
  "kernelspec": {
   "display_name": "Python 3",
   "language": "python",
   "name": "python3"
  },
  "language_info": {
   "codemirror_mode": {
    "name": "ipython",
    "version": 3
   },
   "file_extension": ".py",
   "mimetype": "text/x-python",
   "name": "python",
   "nbconvert_exporter": "python",
   "pygments_lexer": "ipython3",
   "version": "3.8.10"
  }
 },
 "nbformat": 4,
 "nbformat_minor": 4
}
