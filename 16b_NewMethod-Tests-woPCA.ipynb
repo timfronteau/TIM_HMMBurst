{
 "cells": [
  {
   "cell_type": "markdown",
   "metadata": {},
   "source": [
    "# Multivariate TDE-HMM on all subjects, following Quinn's method"
   ]
  },
  {
   "cell_type": "markdown",
   "metadata": {},
   "source": [
    "## Libraries and methods"
   ]
  },
  {
   "cell_type": "code",
   "execution_count": 1,
   "metadata": {},
   "outputs": [],
   "source": [
    "import numpy as np\n",
    "from loader import load_oneIC\n",
    "import h5py\n",
    "import xarray as xr"
   ]
  },
  {
   "cell_type": "code",
   "execution_count": 2,
   "metadata": {},
   "outputs": [],
   "source": [
    "from sklearn.decomposition import PCA\n",
    "from sklearn.preprocessing import scale\n",
    "from hmmlearn import hmm\n",
    "import scipy.signal as signal\n",
    "import pickle"
   ]
  },
  {
   "cell_type": "code",
   "execution_count": 3,
   "metadata": {},
   "outputs": [],
   "source": [
    "import matplotlib.pyplot as plt\n",
    "import matplotlib.colors as colors\n",
    "from wavelet_transform import wavelet_transform2"
   ]
  },
  {
   "cell_type": "code",
   "execution_count": 4,
   "metadata": {},
   "outputs": [],
   "source": [
    "import mne"
   ]
  },
  {
   "cell_type": "code",
   "execution_count": 5,
   "metadata": {},
   "outputs": [],
   "source": [
    "import time as tm"
   ]
  },
  {
   "cell_type": "code",
   "execution_count": 6,
   "metadata": {},
   "outputs": [],
   "source": [
    "directory = \"/home/INT/malfait.n/Documents/NIC_250819\"\n",
    "file = \"FCK_LOCKED_IC_JYOTIKA_250819.mat\"\n",
    "\n",
    "path = f\"{directory}/{file}\"\n",
    "\n",
    "mat_file = h5py.File(path, \"r\")\n",
    "cells_refs = mat_file['FCK_LOCKED_IC_JYOTIKA']\n",
    "\n",
    "n_IC = 4\n",
    "n_subj = 23"
   ]
  },
  {
   "cell_type": "code",
   "execution_count": 7,
   "metadata": {},
   "outputs": [],
   "source": [
    "target_dir = \"tde-hmm2/test_grids/\""
   ]
  },
  {
   "cell_type": "markdown",
   "metadata": {},
   "source": [
    "## Functions"
   ]
  },
  {
   "cell_type": "code",
   "execution_count": 8,
   "metadata": {},
   "outputs": [],
   "source": [
    "# The embedx function copies the `x` array len(lags) times into `xe`\n",
    "# with lags (i.e. time delays) between lags[0] and lags[-1] (we implement the time-delay array for the HMM).\n",
    "\n",
    "def embedx(x, lags):\n",
    "    \n",
    "    Xe = np.zeros((x.shape[1], x.shape[0],  len(lags)))\n",
    "\n",
    "    for l in range(len(lags)):\n",
    "        Xe[:, :, l] = np.roll(x, lags[l], axis=0).swapaxes(0, 1)\n",
    "\n",
    "    # Remove edges\n",
    "    valid = np.ones((x.shape[0], 1), dtype=np.int8)\n",
    "    valid[:np.abs(np.min(lags)), :] = 0\n",
    "    valid[-np.abs(np.max(lags)):, :] = 0\n",
    "\n",
    "    Xe = Xe[:, valid[:, 0] == 1, :]\n",
    "\n",
    "    return Xe, valid\n",
    "\n",
    "\n",
    "# The hmm_tde function finds parameters for the HMM,\n",
    "# then uses them to determine the probability of presence of each found state over time.\n",
    "\n",
    "def hmm_tde(y: np.array, n_states=3, n_iter=100, n_components=8, \n",
    "            covariance_type='full', model_type='GMMHMM', tol=0.01, n_mix=1, **kwargs):\n",
    "    \n",
    "    if model_type=='GMMHMM':\n",
    "        model = hmm.GMMHMM(n_components=n_states, n_iter=n_iter,\n",
    "                            covariance_type=covariance_type, tol=tol, n_mix=n_mix, **kwargs)\n",
    "        \n",
    "    elif model_type=='GaussianHMM':\n",
    "        model = hmm.GaussianHMM(n_components=n_states, n_iter=n_iter,\n",
    "                            covariance_type=covariance_type, tol=tol, **kwargs)\n",
    "        \n",
    "    elif model_type=='MultinomialHMM':\n",
    "        model = hmm.MultinomialHMM(n_components=n_states, n_iter=n_iter, tol=tol, **kwargs)\n",
    "    \n",
    "    else: \n",
    "        return \"Non-exixting model_type. Please choose 'GMMHMM' or 'GaussianHMM' or 'MultinomialHMM'. default='GMMHMM'\"\n",
    "        \n",
    "    model.fit(y)\n",
    "    gamma = model.predict_proba(y)\n",
    "\n",
    "    return gamma, model"
   ]
  },
  {
   "cell_type": "code",
   "execution_count": 53,
   "metadata": {},
   "outputs": [],
   "source": [
    "def statesPSD(gamma, n_states, xe):\n",
    "\n",
    "    psd_all = []\n",
    "    for i in range(n_states):\n",
    "\n",
    "        # Compute PSD separately for each lag\n",
    "        tot = []\n",
    "        for seg in xe[0, gamma[:, i]>(2/3), :].T:\n",
    "            freqs, psd = signal.welch(x=seg, fs=256/3, nfft=1000)\n",
    "            tot.append(psd)\n",
    "        psd = np.mean(np.asarray(tot), 0)\n",
    "#         imax = np.searchsorted(freqs, 50, side='right')\n",
    "        psd_all.append(psd)\n",
    "    \n",
    "    psd_all = np.asarray(psd_all)\n",
    "    \n",
    "    return freqs, psd_all"
   ]
  },
  {
   "cell_type": "markdown",
   "metadata": {},
   "source": [
    "## Final Script"
   ]
  },
  {
   "cell_type": "markdown",
   "metadata": {},
   "source": [
    "#### Model and parameters:\n",
    "|_ (??delays x 4IC)  x (7s x 256Hz x Ntrials)   -----PCA-----> |_ (??components x 4IC) x (7s x 256Hz x Ntrials) -----> |_ TDE-HMM ( 1 Gaussian/state, 3 to 6 states )"
   ]
  },
  {
   "cell_type": "code",
   "execution_count": 87,
   "metadata": {},
   "outputs": [],
   "source": [
    "# The parameters we change to hope for some results\n",
    "lags = np.arange(-5, 5)\n",
    "n_lags = lags.shape[0]\n",
    "n_iter=100\n",
    "n_states_max=6    # for the Hidden Markov Model\n",
    "n_components=0     # For the principal component analysis\n",
    "covariance_type='full'\n",
    "model_type='GaussianHMM'\n",
    "tol=0.01\n",
    "n_mix=1\n",
    "downsamp_rate = 3"
   ]
  },
  {
   "cell_type": "code",
   "execution_count": 12,
   "metadata": {},
   "outputs": [],
   "source": [
    "subj_list = [i for i in range(2,9)] + [i for i in range(10,13)] + [14] + [i for i in range(16, n_subj+1)] \n",
    "                                                                            # All except subjects 1, 9, 13, 15"
   ]
  },
  {
   "cell_type": "markdown",
   "metadata": {},
   "source": [
    "## Tests"
   ]
  },
  {
   "cell_type": "code",
   "execution_count": 13,
   "metadata": {},
   "outputs": [],
   "source": [
    "subj = 2\n",
    "freqs = np.arange(0, 50, 50/196)"
   ]
  },
  {
   "cell_type": "code",
   "execution_count": 14,
   "metadata": {},
   "outputs": [],
   "source": [
    "n_states = 3"
   ]
  },
  {
   "cell_type": "code",
   "execution_count": 89,
   "metadata": {
    "scrolled": true
   },
   "outputs": [
    {
     "name": "stdout",
     "output_type": "stream",
     "text": [
      "Computing the imput matrix for the model\n",
      "Loading the raw timecourse\n",
      "IC1 loaded\n",
      "Loading the raw timecourse\n",
      "IC2 loaded\n",
      "Loading the raw timecourse\n",
      "IC3 loaded\n",
      "Loading the raw timecourse\n",
      "IC4 loaded\n"
     ]
    }
   ],
   "source": [
    "# Loading all data for subject{subj}\n",
    "print(\"Computing the imput matrix for the model\")\n",
    "datall = []\n",
    "xeall = []\n",
    "IC_list = []\n",
    "for IC in range(1, n_IC+1):\n",
    "#         try:\n",
    "        data, n_trials = load_oneIC(mat_file, cells_refs, subj, IC, comp=False)\n",
    "        big_timecourse = np.concatenate([data[f'raw_timecourse_256Hz'][i][::downsamp_rate] for i in range(n_trials)])\n",
    "            # Downsampled to 256/3 = 85,33333Hz\n",
    "        x = big_timecourse.reshape(-1, 1)\n",
    "        xe, valid = embedx(x, lags)\n",
    "        xeall.append(xe)\n",
    "        y = xe[0, :, :]\n",
    "        datall.append(y)\n",
    "        IC_list.append(IC)\n",
    "        print(f\"IC{IC} loaded\")\n",
    "#         except:\n",
    "#             pass\n",
    "y = np.concatenate(datall, axis=1)"
   ]
  },
  {
   "cell_type": "code",
   "execution_count": 90,
   "metadata": {},
   "outputs": [
    {
     "data": {
      "text/plain": [
       "(1, 403641, 10)"
      ]
     },
     "execution_count": 90,
     "metadata": {},
     "output_type": "execute_result"
    }
   ],
   "source": [
    "xeall[0].shape"
   ]
  },
  {
   "cell_type": "code",
   "execution_count": 91,
   "metadata": {},
   "outputs": [
    {
     "data": {
      "text/plain": [
       "(403641, 10)"
      ]
     },
     "execution_count": 91,
     "metadata": {},
     "output_type": "execute_result"
    }
   ],
   "source": [
    "datall[0].shape"
   ]
  },
  {
   "cell_type": "markdown",
   "metadata": {},
   "source": [
    "When you don't have the model yet:"
   ]
  },
  {
   "cell_type": "code",
   "execution_count": 93,
   "metadata": {},
   "outputs": [
    {
     "name": "stdout",
     "output_type": "stream",
     "text": [
      "Computing and saving the model\n",
      "332.7677352428436 seconds\n"
     ]
    }
   ],
   "source": [
    "start_time = tm.time()\n",
    "print(\"Computing and saving the model\")\n",
    "gamma, model = hmm_tde(y, n_iter=n_iter, n_states=n_states, n_components=n_components, \n",
    "                        covariance_type=covariance_type, model_type=model_type, tol=tol, n_mix=n_mix)\n",
    "with open(f\"tde-hmm2/test_files/su{subj}All_lg{n_lags}co{n_components}st{n_states}\"\n",
    "    +f\"{n_mix}\"+model_type+\"_model.pkl\", \"wb\") as file: pickle.dump(model, file)\n",
    "print(\"%s seconds\" % (tm.time() - start_time))"
   ]
  },
  {
   "cell_type": "code",
   "execution_count": 94,
   "metadata": {},
   "outputs": [
    {
     "name": "stdout",
     "output_type": "stream",
     "text": [
      "Computing the PSD of each state\n"
     ]
    }
   ],
   "source": [
    "print(\"Computing the PSD of each state\")\n",
    "psds = []\n",
    "for i in range(len(IC_list)):\n",
    "    freqs, psd = statesPSD(gamma, n_states, xeall[i])\n",
    "    psd = psd[np.newaxis,]\n",
    "    psds.append(psd)"
   ]
  },
  {
   "cell_type": "markdown",
   "metadata": {},
   "source": [
    "When you do have the model but want to compute the PSDs again because they are wrong (also, you have a new function to compute the PSD with a new name and fewer arguments because you got rid of everything that was useless):"
   ]
  },
  {
   "cell_type": "code",
   "execution_count": 19,
   "metadata": {},
   "outputs": [
    {
     "data": {
      "text/plain": [
       "(675, 299, 3)"
      ]
     },
     "execution_count": 19,
     "metadata": {},
     "output_type": "execute_result"
    }
   ],
   "source": [
    "ds = xr.open_dataset(f\"tde-hmm2/test_files/su{subj}-{n_states}states_data.nc\")\n",
    "tcourse = ds[\"states_timecourse\"].values\n",
    "tcourse.shape"
   ]
  },
  {
   "cell_type": "code",
   "execution_count": 20,
   "metadata": {},
   "outputs": [
    {
     "data": {
      "text/plain": [
       "(201825, 3)"
      ]
     },
     "execution_count": 20,
     "metadata": {},
     "output_type": "execute_result"
    }
   ],
   "source": [
    "gamma = np.zeros((675*299, 3))\n",
    "gamma.shape"
   ]
  },
  {
   "cell_type": "code",
   "execution_count": 21,
   "metadata": {},
   "outputs": [],
   "source": [
    "for i in range(n_states):\n",
    "    gamma[:,i] = tcourse[:,:,i].reshape(675*299)"
   ]
  },
  {
   "cell_type": "code",
   "execution_count": 28,
   "metadata": {},
   "outputs": [
    {
     "data": {
      "text/plain": [
       "(201804, 3)"
      ]
     },
     "execution_count": 28,
     "metadata": {},
     "output_type": "execute_result"
    }
   ],
   "source": [
    "gamma = gamma[abs(lags[0]):-lags[-1],:]\n",
    "gamma.shape"
   ]
  },
  {
   "cell_type": "code",
   "execution_count": 31,
   "metadata": {},
   "outputs": [
    {
     "data": {
      "text/plain": [
       "0.999998478220071"
      ]
     },
     "execution_count": 31,
     "metadata": {},
     "output_type": "execute_result"
    }
   ],
   "source": [
    "gamma[1,0]"
   ]
  },
  {
   "cell_type": "code",
   "execution_count": 52,
   "metadata": {},
   "outputs": [
    {
     "name": "stdout",
     "output_type": "stream",
     "text": [
      "Computing the PSD of each state\n",
      "50.176 128.0\n",
      "50.176 128.0\n",
      "50.176 128.0\n",
      "50.176 128.0\n",
      "50.176 128.0\n",
      "50.176 128.0\n",
      "50.176 128.0\n",
      "50.176 128.0\n",
      "50.176 128.0\n",
      "50.176 128.0\n",
      "50.176 128.0\n",
      "50.176 128.0\n"
     ]
    }
   ],
   "source": [
    "print(\"Computing the PSD of each state\")\n",
    "psds = []\n",
    "for i in range(len(IC_list)):\n",
    "    freqs, psd = statesPSD(gamma, n_states, xeall[i])\n",
    "    psd = psd[np.newaxis,]\n",
    "    psds.append(psd)"
   ]
  },
  {
   "cell_type": "code",
   "execution_count": 45,
   "metadata": {},
   "outputs": [
    {
     "data": {
      "text/plain": [
       "21.333333333333332"
      ]
     },
     "execution_count": 45,
     "metadata": {},
     "output_type": "execute_result"
    }
   ],
   "source": [
    "freqs[-1]"
   ]
  },
  {
   "cell_type": "code",
   "execution_count": 41,
   "metadata": {},
   "outputs": [
    {
     "data": {
      "text/plain": [
       "(1, 3, 501)"
      ]
     },
     "execution_count": 41,
     "metadata": {},
     "output_type": "execute_result"
    }
   ],
   "source": [
    "psds[0].shape"
   ]
  },
  {
   "cell_type": "markdown",
   "metadata": {},
   "source": [
    "End of the torture"
   ]
  },
  {
   "cell_type": "code",
   "execution_count": 95,
   "metadata": {},
   "outputs": [
    {
     "data": {
      "text/plain": [
       "[<matplotlib.lines.Line2D at 0x7fde181b9610>,\n",
       " <matplotlib.lines.Line2D at 0x7fde181b96a0>,\n",
       " <matplotlib.lines.Line2D at 0x7fde181b97c0>]"
      ]
     },
     "execution_count": 95,
     "metadata": {},
     "output_type": "execute_result"
    },
    {
     "data": {
      "image/png": "[encoded data removed]",
      "text/plain": [
       "<Figure size 432x288 with 1 Axes>"
      ]
     },
     "metadata": {
      "needs_background": "light"
     },
     "output_type": "display_data"
    }
   ],
   "source": [
    "plt.plot(freqs, psds[0][0].T)"
   ]
  },
  {
   "cell_type": "code",
   "execution_count": 96,
   "metadata": {},
   "outputs": [
    {
     "data": {
      "text/plain": [
       "(598,)"
      ]
     },
     "execution_count": 96,
     "metadata": {},
     "output_type": "execute_result"
    }
   ],
   "source": [
    "data[\"time_axis\"][::downsamp_rate].shape"
   ]
  },
  {
   "cell_type": "code",
   "execution_count": 99,
   "metadata": {},
   "outputs": [
    {
     "data": {
      "text/plain": [
       "598.0"
      ]
     },
     "execution_count": 99,
     "metadata": {},
     "output_type": "execute_result"
    }
   ],
   "source": [
    "(gamma.shape[0]+9)/n_trials"
   ]
  },
  {
   "cell_type": "code",
   "execution_count": 100,
   "metadata": {},
   "outputs": [
    {
     "name": "stdout",
     "output_type": "stream",
     "text": [
      "Saving the states timecourses and PSDs\n",
      "subj2, IC4: OK\n"
     ]
    }
   ],
   "source": [
    "# Save the states timecourses and PSDs thanks to xarray and netCDF\n",
    "print(\"Saving the states timecourses and PSDs\")\n",
    "tcourse = np.concatenate(\n",
    "    (np.zeros((abs(lags[0]),n_states)), gamma, np.zeros((lags[-1],n_states)))\n",
    ")\n",
    "time_axis = data[\"time_axis\"][::downsamp_rate]\n",
    "t_len = time_axis.shape[0]\n",
    "tcourse_trials = np.zeros((n_trials, t_len, n_states))\n",
    "for tr in range(n_trials):\n",
    "    tcourse_trials[tr] = tcourse[tr*t_len:(tr+1)*t_len]\n",
    "ds = xr.Dataset(\n",
    "    {\n",
    "        \"states_timecourse\": ((\"trials\",\"time\", \"states\"), tcourse_trials),\n",
    "        \"states_psd\": ((\"IC\", \"states\", \"freq\"), np.concatenate((psds))),\n",
    "    },\n",
    "    {\n",
    "        \"IC\":IC_list,\n",
    "        \"time\":time_axis,\n",
    "        \"states\":np.arange(1, n_states+1),\n",
    "        \"freq\": freqs,\n",
    "    }\n",
    ")\n",
    "ds.to_netcdf(f\"tde-hmm2/test_files/su{subj}-{n_states}states_woPCA_data.nc\")\n",
    "print(f\"subj{subj}, IC{IC}: OK\")"
   ]
  },
  {
   "cell_type": "code",
   "execution_count": 101,
   "metadata": {},
   "outputs": [
    {
     "data": {
      "text/plain": [
       "(598,)"
      ]
     },
     "execution_count": 101,
     "metadata": {},
     "output_type": "execute_result"
    }
   ],
   "source": [
    "time_axis.shape"
   ]
  },
  {
   "cell_type": "code",
   "execution_count": 102,
   "metadata": {},
   "outputs": [
    {
     "data": {
      "text/html": [
       "<div><svg style=\"position: absolute; width: 0; height: 0; overflow: hidden\">\n",
       "<defs>\n",
       "<symbol id=\"icon-database\" viewBox=\"0 0 32 32\">\n",
       "<path d=\"M16 0c-8.837 0-16 2.239-16 5v4c0 2.761 7.163 5 16 5s16-2.239 16-5v-4c0-2.761-7.163-5-16-5z\"></path>\n",
       "<path d=\"M16 17c-8.837 0-16-2.239-16-5v6c0 2.761 7.163 5 16 5s16-2.239 16-5v-6c0 2.761-7.163 5-16 5z\"></path>\n",
       "<path d=\"M16 26c-8.837 0-16-2.239-16-5v6c0 2.761 7.163 5 16 5s16-2.239 16-5v-6c0 2.761-7.163 5-16 5z\"></path>\n",
       "</symbol>\n",
       "<symbol id=\"icon-file-text2\" viewBox=\"0 0 32 32\">\n",
       "<path d=\"M28.681 7.159c-0.694-0.947-1.662-2.053-2.724-3.116s-2.169-2.030-3.116-2.724c-1.612-1.182-2.393-1.319-2.841-1.319h-15.5c-1.378 0-2.5 1.121-2.5 2.5v27c0 1.378 1.122 2.5 2.5 2.5h23c1.378 0 2.5-1.122 2.5-2.5v-19.5c0-0.448-0.137-1.23-1.319-2.841zM24.543 5.457c0.959 0.959 1.712 1.825 2.268 2.543h-4.811v-4.811c0.718 0.556 1.584 1.309 2.543 2.268zM28 29.5c0 0.271-0.229 0.5-0.5 0.5h-23c-0.271 0-0.5-0.229-0.5-0.5v-27c0-0.271 0.229-0.5 0.5-0.5 0 0 15.499-0 15.5 0v7c0 0.552 0.448 1 1 1h7v19.5z\"></path>\n",
       "<path d=\"M23 26h-14c-0.552 0-1-0.448-1-1s0.448-1 1-1h14c0.552 0 1 0.448 1 1s-0.448 1-1 1z\"></path>\n",
       "<path d=\"M23 22h-14c-0.552 0-1-0.448-1-1s0.448-1 1-1h14c0.552 0 1 0.448 1 1s-0.448 1-1 1z\"></path>\n",
       "<path d=\"M23 18h-14c-0.552 0-1-0.448-1-1s0.448-1 1-1h14c0.552 0 1 0.448 1 1s-0.448 1-1 1z\"></path>\n",
       "</symbol>\n",
       "</defs>\n",
       "</svg>\n",
       "<style>/* CSS stylesheet for displaying xarray objects in jupyterlab.\n",
       " *\n",
       " */\n",
       "\n",
       ":root {\n",
       "  --xr-font-color0: var(--jp-content-font-color0, rgba(0, 0, 0, 1));\n",
       "  --xr-font-color2: var(--jp-content-font-color2, rgba(0, 0, 0, 0.54));\n",
       "  --xr-font-color3: var(--jp-content-font-color3, rgba(0, 0, 0, 0.38));\n",
       "  --xr-border-color: var(--jp-border-color2, #e0e0e0);\n",
       "  --xr-disabled-color: var(--jp-layout-color3, #bdbdbd);\n",
       "  --xr-background-color: var(--jp-layout-color0, white);\n",
       "  --xr-background-color-row-even: var(--jp-layout-color1, white);\n",
       "  --xr-background-color-row-odd: var(--jp-layout-color2, #eeeeee);\n",
       "}\n",
       "\n",
       "html[theme=dark],\n",
       "body.vscode-dark {\n",
       "  --xr-font-color0: rgba(255, 255, 255, 1);\n",
       "  --xr-font-color2: rgba(255, 255, 255, 0.54);\n",
       "  --xr-font-color3: rgba(255, 255, 255, 0.38);\n",
       "  --xr-border-color: #1F1F1F;\n",
       "  --xr-disabled-color: #515151;\n",
       "  --xr-background-color: #111111;\n",
       "  --xr-background-color-row-even: #111111;\n",
       "  --xr-background-color-row-odd: #313131;\n",
       "}\n",
       "\n",
       ".xr-wrap {\n",
       "  display: block;\n",
       "  min-width: 300px;\n",
       "  max-width: 700px;\n",
       "}\n",
       "\n",
       ".xr-text-repr-fallback {\n",
       "  /* fallback to plain text repr when CSS is not injected (untrusted notebook) */\n",
       "  display: none;\n",
       "}\n",
       "\n",
       ".xr-header {\n",
       "  padding-top: 6px;\n",
       "  padding-bottom: 6px;\n",
       "  margin-bottom: 4px;\n",
       "  border-bottom: solid 1px var(--xr-border-color);\n",
       "}\n",
       "\n",
       ".xr-header > div,\n",
       ".xr-header > ul {\n",
       "  display: inline;\n",
       "  margin-top: 0;\n",
       "  margin-bottom: 0;\n",
       "}\n",
       "\n",
       ".xr-obj-type,\n",
       ".xr-array-name {\n",
       "  margin-left: 2px;\n",
       "  margin-right: 10px;\n",
       "}\n",
       "\n",
       ".xr-obj-type {\n",
       "  color: var(--xr-font-color2);\n",
       "}\n",
       "\n",
       ".xr-sections {\n",
       "  padding-left: 0 !important;\n",
       "  display: grid;\n",
       "  grid-template-columns: 150px auto auto 1fr 20px 20px;\n",
       "}\n",
       "\n",
       ".xr-section-item {\n",
       "  display: contents;\n",
       "}\n",
       "\n",
       ".xr-section-item input {\n",
       "  display: none;\n",
       "}\n",
       "\n",
       ".xr-section-item input + label {\n",
       "  color: var(--xr-disabled-color);\n",
       "}\n",
       "\n",
       ".xr-section-item input:enabled + label {\n",
       "  cursor: pointer;\n",
       "  color: var(--xr-font-color2);\n",
       "}\n",
       "\n",
       ".xr-section-item input:enabled + label:hover {\n",
       "  color: var(--xr-font-color0);\n",
       "}\n",
       "\n",
       ".xr-section-summary {\n",
       "  grid-column: 1;\n",
       "  color: var(--xr-font-color2);\n",
       "  font-weight: 500;\n",
       "}\n",
       "\n",
       ".xr-section-summary > span {\n",
       "  display: inline-block;\n",
       "  padding-left: 0.5em;\n",
       "}\n",
       "\n",
       ".xr-section-summary-in:disabled + label {\n",
       "  color: var(--xr-font-color2);\n",
       "}\n",
       "\n",
       ".xr-section-summary-in + label:before {\n",
       "  display: inline-block;\n",
       "  content: '►';\n",
       "  font-size: 11px;\n",
       "  width: 15px;\n",
       "  text-align: center;\n",
       "}\n",
       "\n",
       ".xr-section-summary-in:disabled + label:before {\n",
       "  color: var(--xr-disabled-color);\n",
       "}\n",
       "\n",
       ".xr-section-summary-in:checked + label:before {\n",
       "  content: '▼';\n",
       "}\n",
       "\n",
       ".xr-section-summary-in:checked + label > span {\n",
       "  display: none;\n",
       "}\n",
       "\n",
       ".xr-section-summary,\n",
       ".xr-section-inline-details {\n",
       "  padding-top: 4px;\n",
       "  padding-bottom: 4px;\n",
       "}\n",
       "\n",
       ".xr-section-inline-details {\n",
       "  grid-column: 2 / -1;\n",
       "}\n",
       "\n",
       ".xr-section-details {\n",
       "  display: none;\n",
       "  grid-column: 1 / -1;\n",
       "  margin-bottom: 5px;\n",
       "}\n",
       "\n",
       ".xr-section-summary-in:checked ~ .xr-section-details {\n",
       "  display: contents;\n",
       "}\n",
       "\n",
       ".xr-array-wrap {\n",
       "  grid-column: 1 / -1;\n",
       "  display: grid;\n",
       "  grid-template-columns: 20px auto;\n",
       "}\n",
       "\n",
       ".xr-array-wrap > label {\n",
       "  grid-column: 1;\n",
       "  vertical-align: top;\n",
       "}\n",
       "\n",
       ".xr-preview {\n",
       "  color: var(--xr-font-color3);\n",
       "}\n",
       "\n",
       ".xr-array-preview,\n",
       ".xr-array-data {\n",
       "  padding: 0 5px !important;\n",
       "  grid-column: 2;\n",
       "}\n",
       "\n",
       ".xr-array-data,\n",
       ".xr-array-in:checked ~ .xr-array-preview {\n",
       "  display: none;\n",
       "}\n",
       "\n",
       ".xr-array-in:checked ~ .xr-array-data,\n",
       ".xr-array-preview {\n",
       "  display: inline-block;\n",
       "}\n",
       "\n",
       ".xr-dim-list {\n",
       "  display: inline-block !important;\n",
       "  list-style: none;\n",
       "  padding: 0 !important;\n",
       "  margin: 0;\n",
       "}\n",
       "\n",
       ".xr-dim-list li {\n",
       "  display: inline-block;\n",
       "  padding: 0;\n",
       "  margin: 0;\n",
       "}\n",
       "\n",
       ".xr-dim-list:before {\n",
       "  content: '(';\n",
       "}\n",
       "\n",
       ".xr-dim-list:after {\n",
       "  content: ')';\n",
       "}\n",
       "\n",
       ".xr-dim-list li:not(:last-child):after {\n",
       "  content: ',';\n",
       "  padding-right: 5px;\n",
       "}\n",
       "\n",
       ".xr-has-index {\n",
       "  font-weight: bold;\n",
       "}\n",
       "\n",
       ".xr-var-list,\n",
       ".xr-var-item {\n",
       "  display: contents;\n",
       "}\n",
       "\n",
       ".xr-var-item > div,\n",
       ".xr-var-item label,\n",
       ".xr-var-item > .xr-var-name span {\n",
       "  background-color: var(--xr-background-color-row-even);\n",
       "  margin-bottom: 0;\n",
       "}\n",
       "\n",
       ".xr-var-item > .xr-var-name:hover span {\n",
       "  padding-right: 5px;\n",
       "}\n",
       "\n",
       ".xr-var-list > li:nth-child(odd) > div,\n",
       ".xr-var-list > li:nth-child(odd) > label,\n",
       ".xr-var-list > li:nth-child(odd) > .xr-var-name span {\n",
       "  background-color: var(--xr-background-color-row-odd);\n",
       "}\n",
       "\n",
       ".xr-var-name {\n",
       "  grid-column: 1;\n",
       "}\n",
       "\n",
       ".xr-var-dims {\n",
       "  grid-column: 2;\n",
       "}\n",
       "\n",
       ".xr-var-dtype {\n",
       "  grid-column: 3;\n",
       "  text-align: right;\n",
       "  color: var(--xr-font-color2);\n",
       "}\n",
       "\n",
       ".xr-var-preview {\n",
       "  grid-column: 4;\n",
       "}\n",
       "\n",
       ".xr-var-name,\n",
       ".xr-var-dims,\n",
       ".xr-var-dtype,\n",
       ".xr-preview,\n",
       ".xr-attrs dt {\n",
       "  white-space: nowrap;\n",
       "  overflow: hidden;\n",
       "  text-overflow: ellipsis;\n",
       "  padding-right: 10px;\n",
       "}\n",
       "\n",
       ".xr-var-name:hover,\n",
       ".xr-var-dims:hover,\n",
       ".xr-var-dtype:hover,\n",
       ".xr-attrs dt:hover {\n",
       "  overflow: visible;\n",
       "  width: auto;\n",
       "  z-index: 1;\n",
       "}\n",
       "\n",
       ".xr-var-attrs,\n",
       ".xr-var-data {\n",
       "  display: none;\n",
       "  background-color: var(--xr-background-color) !important;\n",
       "  padding-bottom: 5px !important;\n",
       "}\n",
       "\n",
       ".xr-var-attrs-in:checked ~ .xr-var-attrs,\n",
       ".xr-var-data-in:checked ~ .xr-var-data {\n",
       "  display: block;\n",
       "}\n",
       "\n",
       ".xr-var-data > table {\n",
       "  float: right;\n",
       "}\n",
       "\n",
       ".xr-var-name span,\n",
       ".xr-var-data,\n",
       ".xr-attrs {\n",
       "  padding-left: 25px !important;\n",
       "}\n",
       "\n",
       ".xr-attrs,\n",
       ".xr-var-attrs,\n",
       ".xr-var-data {\n",
       "  grid-column: 1 / -1;\n",
       "}\n",
       "\n",
       "dl.xr-attrs {\n",
       "  padding: 0;\n",
       "  margin: 0;\n",
       "  display: grid;\n",
       "  grid-template-columns: 125px auto;\n",
       "}\n",
       "\n",
       ".xr-attrs dt,\n",
       ".xr-attrs dd {\n",
       "  padding: 0;\n",
       "  margin: 0;\n",
       "  float: left;\n",
       "  padding-right: 10px;\n",
       "  width: auto;\n",
       "}\n",
       "\n",
       ".xr-attrs dt {\n",
       "  font-weight: normal;\n",
       "  grid-column: 1;\n",
       "}\n",
       "\n",
       ".xr-attrs dt:hover span {\n",
       "  display: inline-block;\n",
       "  background: var(--xr-background-color);\n",
       "  padding-right: 10px;\n",
       "}\n",
       "\n",
       ".xr-attrs dd {\n",
       "  grid-column: 2;\n",
       "  white-space: pre-wrap;\n",
       "  word-break: break-all;\n",
       "}\n",
       "\n",
       ".xr-icon-database,\n",
       ".xr-icon-file-text2 {\n",
       "  display: inline-block;\n",
       "  vertical-align: middle;\n",
       "  width: 1em;\n",
       "  height: 1.5em !important;\n",
       "  stroke-width: 0;\n",
       "  stroke: currentColor;\n",
       "  fill: currentColor;\n",
       "}\n",
       "</style><pre class='xr-text-repr-fallback'>&lt;xarray.Dataset&gt;\n",
       "Dimensions:            (IC: 4, freq: 501, states: 3, time: 598, trials: 675)\n",
       "Coordinates:\n",
       "  * IC                 (IC) int64 1 2 3 4\n",
       "  * time               (time) float64 -4.0 -3.988 -3.977 ... 2.973 2.984 2.996\n",
       "  * states             (states) int64 1 2 3\n",
       "  * freq               (freq) float64 0.0 0.08533 0.1707 ... 42.5 42.58 42.67\n",
       "Dimensions without coordinates: trials\n",
       "Data variables:\n",
       "    states_timecourse  (trials, time, states) float64 0.0 0.0 0.0 ... 0.0 0.0\n",
       "    states_psd         (IC, states, freq) float64 0.003799 ... 0.0003401</pre><div class='xr-wrap' hidden><div class='xr-header'><div class='xr-obj-type'>xarray.Dataset</div></div><ul class='xr-sections'><li class='xr-section-item'><input id='section-42df4cee-b739-49cf-b872-d04548455514' class='xr-section-summary-in' type='checkbox' disabled ><label for='section-42df4cee-b739-49cf-b872-d04548455514' class='xr-section-summary'  title='Expand/collapse section'>Dimensions:</label><div class='xr-section-inline-details'><ul class='xr-dim-list'><li><span class='xr-has-index'>IC</span>: 4</li><li><span class='xr-has-index'>freq</span>: 501</li><li><span class='xr-has-index'>states</span>: 3</li><li><span class='xr-has-index'>time</span>: 598</li><li><span>trials</span>: 675</li></ul></div><div class='xr-section-details'></div></li><li class='xr-section-item'><input id='section-76f086e5-090e-4a3e-be6d-407b208b5257' class='xr-section-summary-in' type='checkbox'  checked><label for='section-76f086e5-090e-4a3e-be6d-407b208b5257' class='xr-section-summary' >Coordinates: <span>(4)</span></label><div class='xr-section-inline-details'></div><div class='xr-section-details'><ul class='xr-var-list'><li class='xr-var-item'><div class='xr-var-name'><span class='xr-has-index'>IC</span></div><div class='xr-var-dims'>(IC)</div><div class='xr-var-dtype'>int64</div><div class='xr-var-preview xr-preview'>1 2 3 4</div><input id='attrs-16790d79-adb3-45e3-bfa0-4f867bc59875' class='xr-var-attrs-in' type='checkbox' disabled><label for='attrs-16790d79-adb3-45e3-bfa0-4f867bc59875' title='Show/Hide attributes'><svg class='icon xr-icon-file-text2'><use xlink:href='#icon-file-text2'></use></svg></label><input id='data-b5642382-5f2c-4b26-aae9-190cb4706912' class='xr-var-data-in' type='checkbox'><label for='data-b5642382-5f2c-4b26-aae9-190cb4706912' title='Show/Hide data repr'><svg class='icon xr-icon-database'><use xlink:href='#icon-database'></use></svg></label><div class='xr-var-attrs'><dl class='xr-attrs'></dl></div><div class='xr-var-data'><pre>array([1, 2, 3, 4])</pre></div></li><li class='xr-var-item'><div class='xr-var-name'><span class='xr-has-index'>time</span></div><div class='xr-var-dims'>(time)</div><div class='xr-var-dtype'>float64</div><div class='xr-var-preview xr-preview'>-4.0 -3.988 -3.977 ... 2.984 2.996</div><input id='attrs-f02733cd-a9f4-49fb-84ef-08bbd32525fe' class='xr-var-attrs-in' type='checkbox' disabled><label for='attrs-f02733cd-a9f4-49fb-84ef-08bbd32525fe' title='Show/Hide attributes'><svg class='icon xr-icon-file-text2'><use xlink:href='#icon-file-text2'></use></svg></label><input id='data-43abcbaf-307e-458a-99e8-0cabfd4ae8d1' class='xr-var-data-in' type='checkbox'><label for='data-43abcbaf-307e-458a-99e8-0cabfd4ae8d1' title='Show/Hide data repr'><svg class='icon xr-icon-database'><use xlink:href='#icon-database'></use></svg></label><div class='xr-var-attrs'><dl class='xr-attrs'></dl></div><div class='xr-var-data'><pre>array([-4.      , -3.988281, -3.976562, ...,  2.972656,  2.984375,  2.996094])</pre></div></li><li class='xr-var-item'><div class='xr-var-name'><span class='xr-has-index'>states</span></div><div class='xr-var-dims'>(states)</div><div class='xr-var-dtype'>int64</div><div class='xr-var-preview xr-preview'>1 2 3</div><input id='attrs-c8629392-10de-4302-9e8f-7aa4f970fc7f' class='xr-var-attrs-in' type='checkbox' disabled><label for='attrs-c8629392-10de-4302-9e8f-7aa4f970fc7f' title='Show/Hide attributes'><svg class='icon xr-icon-file-text2'><use xlink:href='#icon-file-text2'></use></svg></label><input id='data-db0bc8d2-eb11-491d-86d2-20a77d0b2a60' class='xr-var-data-in' type='checkbox'><label for='data-db0bc8d2-eb11-491d-86d2-20a77d0b2a60' title='Show/Hide data repr'><svg class='icon xr-icon-database'><use xlink:href='#icon-database'></use></svg></label><div class='xr-var-attrs'><dl class='xr-attrs'></dl></div><div class='xr-var-data'><pre>array([1, 2, 3])</pre></div></li><li class='xr-var-item'><div class='xr-var-name'><span class='xr-has-index'>freq</span></div><div class='xr-var-dims'>(freq)</div><div class='xr-var-dtype'>float64</div><div class='xr-var-preview xr-preview'>0.0 0.08533 0.1707 ... 42.58 42.67</div><input id='attrs-af1112d1-98d7-4b15-83b5-7d706be6122f' class='xr-var-attrs-in' type='checkbox' disabled><label for='attrs-af1112d1-98d7-4b15-83b5-7d706be6122f' title='Show/Hide attributes'><svg class='icon xr-icon-file-text2'><use xlink:href='#icon-file-text2'></use></svg></label><input id='data-28a5f514-a9dd-405d-bd27-43fa8fe76f52' class='xr-var-data-in' type='checkbox'><label for='data-28a5f514-a9dd-405d-bd27-43fa8fe76f52' title='Show/Hide data repr'><svg class='icon xr-icon-database'><use xlink:href='#icon-database'></use></svg></label><div class='xr-var-attrs'><dl class='xr-attrs'></dl></div><div class='xr-var-data'><pre>array([ 0.      ,  0.085333,  0.170667, ..., 42.496   , 42.581333, 42.666667])</pre></div></li></ul></div></li><li class='xr-section-item'><input id='section-3c8df9d8-a6a1-4135-a68c-770052edf4ae' class='xr-section-summary-in' type='checkbox'  checked><label for='section-3c8df9d8-a6a1-4135-a68c-770052edf4ae' class='xr-section-summary' >Data variables: <span>(2)</span></label><div class='xr-section-inline-details'></div><div class='xr-section-details'><ul class='xr-var-list'><li class='xr-var-item'><div class='xr-var-name'><span>states_timecourse</span></div><div class='xr-var-dims'>(trials, time, states)</div><div class='xr-var-dtype'>float64</div><div class='xr-var-preview xr-preview'>0.0 0.0 0.0 0.0 ... 0.0 0.0 0.0 0.0</div><input id='attrs-72c6687e-9865-4423-99d2-e0d1de8f6b0a' class='xr-var-attrs-in' type='checkbox' disabled><label for='attrs-72c6687e-9865-4423-99d2-e0d1de8f6b0a' title='Show/Hide attributes'><svg class='icon xr-icon-file-text2'><use xlink:href='#icon-file-text2'></use></svg></label><input id='data-6517d495-52ea-4e3d-b7f0-9cc137ae6484' class='xr-var-data-in' type='checkbox'><label for='data-6517d495-52ea-4e3d-b7f0-9cc137ae6484' title='Show/Hide data repr'><svg class='icon xr-icon-database'><use xlink:href='#icon-database'></use></svg></label><div class='xr-var-attrs'><dl class='xr-attrs'></dl></div><div class='xr-var-data'><pre>array([[[0.00000000e+00, 0.00000000e+00, 0.00000000e+00],\n",
       "        [0.00000000e+00, 0.00000000e+00, 0.00000000e+00],\n",
       "        [0.00000000e+00, 0.00000000e+00, 0.00000000e+00],\n",
       "        ...,\n",
       "        [3.17898648e-07, 6.28492028e-06, 9.99993397e-01],\n",
       "        [1.52208181e-07, 5.00267404e-06, 9.99994845e-01],\n",
       "        [2.54813721e-07, 1.65371119e-05, 9.99983208e-01]],\n",
       "\n",
       "       [[1.47751072e-06, 1.02126067e-03, 9.98977262e-01],\n",
       "        [4.48026476e-05, 4.39037441e-02, 9.56051453e-01],\n",
       "        [1.64947400e-04, 2.96725145e-01, 7.03109907e-01],\n",
       "        ...,\n",
       "        [9.18394761e-02, 1.34613025e-04, 9.08025911e-01],\n",
       "        [5.50629183e-02, 2.03148196e-04, 9.44733933e-01],\n",
       "        [2.30384508e-02, 5.04168816e-04, 9.76457380e-01]],\n",
       "\n",
       "       [[1.64824022e-03, 3.21795875e-04, 9.98029963e-01],\n",
       "        [6.72596552e-05, 1.30025088e-04, 9.99802715e-01],\n",
       "        [3.69330803e-06, 1.90277718e-04, 9.99806029e-01],\n",
       "        ...,\n",
       "...\n",
       "        ...,\n",
       "        [4.32194554e-06, 9.80705905e-01, 1.92897733e-02],\n",
       "        [2.83247918e-06, 9.63493039e-01, 3.65041279e-02],\n",
       "        [4.39923647e-06, 9.54548933e-01, 4.54466684e-02]],\n",
       "\n",
       "       [[6.43249821e-06, 9.59439365e-01, 4.05542033e-02],\n",
       "        [3.91588869e-06, 9.70370296e-01, 2.96257884e-02],\n",
       "        [3.39938245e-06, 9.66477916e-01, 3.35186837e-02],\n",
       "        ...,\n",
       "        [1.18879432e-05, 9.99988009e-01, 1.02885056e-07],\n",
       "        [7.56532808e-06, 9.99992284e-01, 1.50843121e-07],\n",
       "        [1.25411480e-05, 9.99986934e-01, 5.25206447e-07]],\n",
       "\n",
       "       [[9.93947940e-05, 9.99631922e-01, 2.68684022e-04],\n",
       "        [4.36151327e-04, 9.38206540e-01, 6.13573085e-02],\n",
       "        [1.56154467e-05, 1.54161425e-01, 8.45822960e-01],\n",
       "        ...,\n",
       "        [0.00000000e+00, 0.00000000e+00, 0.00000000e+00],\n",
       "        [0.00000000e+00, 0.00000000e+00, 0.00000000e+00],\n",
       "        [0.00000000e+00, 0.00000000e+00, 0.00000000e+00]]])</pre></div></li><li class='xr-var-item'><div class='xr-var-name'><span>states_psd</span></div><div class='xr-var-dims'>(IC, states, freq)</div><div class='xr-var-dtype'>float64</div><div class='xr-var-preview xr-preview'>0.003799 0.008587 ... 0.0003401</div><input id='attrs-b92232a5-9dbf-41c4-a81e-913a6abda61b' class='xr-var-attrs-in' type='checkbox' disabled><label for='attrs-b92232a5-9dbf-41c4-a81e-913a6abda61b' title='Show/Hide attributes'><svg class='icon xr-icon-file-text2'><use xlink:href='#icon-file-text2'></use></svg></label><input id='data-70550670-1c1c-4148-982b-e52c37ac769a' class='xr-var-data-in' type='checkbox'><label for='data-70550670-1c1c-4148-982b-e52c37ac769a' title='Show/Hide data repr'><svg class='icon xr-icon-database'><use xlink:href='#icon-database'></use></svg></label><div class='xr-var-attrs'><dl class='xr-attrs'></dl></div><div class='xr-var-data'><pre>array([[[0.00379898, 0.00858671, 0.01122553, ..., 0.00135723,\n",
       "         0.00134683, 0.00067146],\n",
       "        [0.00427925, 0.00984282, 0.01327474, ..., 0.00119395,\n",
       "         0.00119558, 0.00059817],\n",
       "        [0.00422174, 0.00957701, 0.01270949, ..., 0.00116661,\n",
       "         0.00115958, 0.00057817]],\n",
       "\n",
       "       [[0.00369105, 0.0086114 , 0.01190502, ..., 0.00097142,\n",
       "         0.00095817, 0.00047664],\n",
       "        [0.00343719, 0.00794408, 0.01082285, ..., 0.00097395,\n",
       "         0.00096216, 0.00047889],\n",
       "        [0.00262357, 0.00598967, 0.00801506, ..., 0.00090229,\n",
       "         0.00089546, 0.00044639]],\n",
       "\n",
       "       [[0.00428847, 0.00964016, 0.01245465, ..., 0.00182665,\n",
       "         0.00182779, 0.00091354],\n",
       "        [0.00300901, 0.00682504, 0.0089822 , ..., 0.00111742,\n",
       "         0.0010936 , 0.00054222],\n",
       "        [0.00295966, 0.00669589, 0.00883451, ..., 0.00117747,\n",
       "         0.0011966 , 0.00060198]],\n",
       "\n",
       "       [[0.00210316, 0.0048178 , 0.00643348, ..., 0.00100581,\n",
       "         0.0010255 , 0.00051671],\n",
       "        [0.00187808, 0.00428814, 0.00570126, ..., 0.00081759,\n",
       "         0.0008159 , 0.00040757],\n",
       "        [0.00140263, 0.00321354, 0.00432138, ..., 0.00068337,\n",
       "         0.00068121, 0.00034013]]])</pre></div></li></ul></div></li><li class='xr-section-item'><input id='section-d4566b1b-1c31-4843-a2c1-ad906048af66' class='xr-section-summary-in' type='checkbox' disabled ><label for='section-d4566b1b-1c31-4843-a2c1-ad906048af66' class='xr-section-summary'  title='Expand/collapse section'>Attributes: <span>(0)</span></label><div class='xr-section-inline-details'></div><div class='xr-section-details'><dl class='xr-attrs'></dl></div></li></ul></div></div>"
      ],
      "text/plain": [
       "<xarray.Dataset>\n",
       "Dimensions:            (IC: 4, freq: 501, states: 3, time: 598, trials: 675)\n",
       "Coordinates:\n",
       "  * IC                 (IC) int64 1 2 3 4\n",
       "  * time               (time) float64 -4.0 -3.988 -3.977 ... 2.973 2.984 2.996\n",
       "  * states             (states) int64 1 2 3\n",
       "  * freq               (freq) float64 0.0 0.08533 0.1707 ... 42.5 42.58 42.67\n",
       "Dimensions without coordinates: trials\n",
       "Data variables:\n",
       "    states_timecourse  (trials, time, states) float64 0.0 0.0 0.0 ... 0.0 0.0\n",
       "    states_psd         (IC, states, freq) float64 0.003799 ... 0.0003401"
      ]
     },
     "execution_count": 102,
     "metadata": {},
     "output_type": "execute_result"
    }
   ],
   "source": [
    "ds"
   ]
  },
  {
   "cell_type": "code",
   "execution_count": 103,
   "metadata": {},
   "outputs": [],
   "source": [
    "ds = xr.open_dataset(f\"tde-hmm2/test_files/su{subj}-{n_states}states_woPCA_data.nc\")\n",
    "ds = ds.assign(frac_occ = (ds[\"states_timecourse\"].sum(\"trials\")/ds.sizes[\"trials\"]))"
   ]
  },
  {
   "cell_type": "code",
   "execution_count": 104,
   "metadata": {},
   "outputs": [
    {
     "data": {
      "text/html": [
       "<div><svg style=\"position: absolute; width: 0; height: 0; overflow: hidden\">\n",
       "<defs>\n",
       "<symbol id=\"icon-database\" viewBox=\"0 0 32 32\">\n",
       "<path d=\"M16 0c-8.837 0-16 2.239-16 5v4c0 2.761 7.163 5 16 5s16-2.239 16-5v-4c0-2.761-7.163-5-16-5z\"></path>\n",
       "<path d=\"M16 17c-8.837 0-16-2.239-16-5v6c0 2.761 7.163 5 16 5s16-2.239 16-5v-6c0 2.761-7.163 5-16 5z\"></path>\n",
       "<path d=\"M16 26c-8.837 0-16-2.239-16-5v6c0 2.761 7.163 5 16 5s16-2.239 16-5v-6c0 2.761-7.163 5-16 5z\"></path>\n",
       "</symbol>\n",
       "<symbol id=\"icon-file-text2\" viewBox=\"0 0 32 32\">\n",
       "<path d=\"M28.681 7.159c-0.694-0.947-1.662-2.053-2.724-3.116s-2.169-2.030-3.116-2.724c-1.612-1.182-2.393-1.319-2.841-1.319h-15.5c-1.378 0-2.5 1.121-2.5 2.5v27c0 1.378 1.122 2.5 2.5 2.5h23c1.378 0 2.5-1.122 2.5-2.5v-19.5c0-0.448-0.137-1.23-1.319-2.841zM24.543 5.457c0.959 0.959 1.712 1.825 2.268 2.543h-4.811v-4.811c0.718 0.556 1.584 1.309 2.543 2.268zM28 29.5c0 0.271-0.229 0.5-0.5 0.5h-23c-0.271 0-0.5-0.229-0.5-0.5v-27c0-0.271 0.229-0.5 0.5-0.5 0 0 15.499-0 15.5 0v7c0 0.552 0.448 1 1 1h7v19.5z\"></path>\n",
       "<path d=\"M23 26h-14c-0.552 0-1-0.448-1-1s0.448-1 1-1h14c0.552 0 1 0.448 1 1s-0.448 1-1 1z\"></path>\n",
       "<path d=\"M23 22h-14c-0.552 0-1-0.448-1-1s0.448-1 1-1h14c0.552 0 1 0.448 1 1s-0.448 1-1 1z\"></path>\n",
       "<path d=\"M23 18h-14c-0.552 0-1-0.448-1-1s0.448-1 1-1h14c0.552 0 1 0.448 1 1s-0.448 1-1 1z\"></path>\n",
       "</symbol>\n",
       "</defs>\n",
       "</svg>\n",
       "<style>/* CSS stylesheet for displaying xarray objects in jupyterlab.\n",
       " *\n",
       " */\n",
       "\n",
       ":root {\n",
       "  --xr-font-color0: var(--jp-content-font-color0, rgba(0, 0, 0, 1));\n",
       "  --xr-font-color2: var(--jp-content-font-color2, rgba(0, 0, 0, 0.54));\n",
       "  --xr-font-color3: var(--jp-content-font-color3, rgba(0, 0, 0, 0.38));\n",
       "  --xr-border-color: var(--jp-border-color2, #e0e0e0);\n",
       "  --xr-disabled-color: var(--jp-layout-color3, #bdbdbd);\n",
       "  --xr-background-color: var(--jp-layout-color0, white);\n",
       "  --xr-background-color-row-even: var(--jp-layout-color1, white);\n",
       "  --xr-background-color-row-odd: var(--jp-layout-color2, #eeeeee);\n",
       "}\n",
       "\n",
       "html[theme=dark],\n",
       "body.vscode-dark {\n",
       "  --xr-font-color0: rgba(255, 255, 255, 1);\n",
       "  --xr-font-color2: rgba(255, 255, 255, 0.54);\n",
       "  --xr-font-color3: rgba(255, 255, 255, 0.38);\n",
       "  --xr-border-color: #1F1F1F;\n",
       "  --xr-disabled-color: #515151;\n",
       "  --xr-background-color: #111111;\n",
       "  --xr-background-color-row-even: #111111;\n",
       "  --xr-background-color-row-odd: #313131;\n",
       "}\n",
       "\n",
       ".xr-wrap {\n",
       "  display: block;\n",
       "  min-width: 300px;\n",
       "  max-width: 700px;\n",
       "}\n",
       "\n",
       ".xr-text-repr-fallback {\n",
       "  /* fallback to plain text repr when CSS is not injected (untrusted notebook) */\n",
       "  display: none;\n",
       "}\n",
       "\n",
       ".xr-header {\n",
       "  padding-top: 6px;\n",
       "  padding-bottom: 6px;\n",
       "  margin-bottom: 4px;\n",
       "  border-bottom: solid 1px var(--xr-border-color);\n",
       "}\n",
       "\n",
       ".xr-header > div,\n",
       ".xr-header > ul {\n",
       "  display: inline;\n",
       "  margin-top: 0;\n",
       "  margin-bottom: 0;\n",
       "}\n",
       "\n",
       ".xr-obj-type,\n",
       ".xr-array-name {\n",
       "  margin-left: 2px;\n",
       "  margin-right: 10px;\n",
       "}\n",
       "\n",
       ".xr-obj-type {\n",
       "  color: var(--xr-font-color2);\n",
       "}\n",
       "\n",
       ".xr-sections {\n",
       "  padding-left: 0 !important;\n",
       "  display: grid;\n",
       "  grid-template-columns: 150px auto auto 1fr 20px 20px;\n",
       "}\n",
       "\n",
       ".xr-section-item {\n",
       "  display: contents;\n",
       "}\n",
       "\n",
       ".xr-section-item input {\n",
       "  display: none;\n",
       "}\n",
       "\n",
       ".xr-section-item input + label {\n",
       "  color: var(--xr-disabled-color);\n",
       "}\n",
       "\n",
       ".xr-section-item input:enabled + label {\n",
       "  cursor: pointer;\n",
       "  color: var(--xr-font-color2);\n",
       "}\n",
       "\n",
       ".xr-section-item input:enabled + label:hover {\n",
       "  color: var(--xr-font-color0);\n",
       "}\n",
       "\n",
       ".xr-section-summary {\n",
       "  grid-column: 1;\n",
       "  color: var(--xr-font-color2);\n",
       "  font-weight: 500;\n",
       "}\n",
       "\n",
       ".xr-section-summary > span {\n",
       "  display: inline-block;\n",
       "  padding-left: 0.5em;\n",
       "}\n",
       "\n",
       ".xr-section-summary-in:disabled + label {\n",
       "  color: var(--xr-font-color2);\n",
       "}\n",
       "\n",
       ".xr-section-summary-in + label:before {\n",
       "  display: inline-block;\n",
       "  content: '►';\n",
       "  font-size: 11px;\n",
       "  width: 15px;\n",
       "  text-align: center;\n",
       "}\n",
       "\n",
       ".xr-section-summary-in:disabled + label:before {\n",
       "  color: var(--xr-disabled-color);\n",
       "}\n",
       "\n",
       ".xr-section-summary-in:checked + label:before {\n",
       "  content: '▼';\n",
       "}\n",
       "\n",
       ".xr-section-summary-in:checked + label > span {\n",
       "  display: none;\n",
       "}\n",
       "\n",
       ".xr-section-summary,\n",
       ".xr-section-inline-details {\n",
       "  padding-top: 4px;\n",
       "  padding-bottom: 4px;\n",
       "}\n",
       "\n",
       ".xr-section-inline-details {\n",
       "  grid-column: 2 / -1;\n",
       "}\n",
       "\n",
       ".xr-section-details {\n",
       "  display: none;\n",
       "  grid-column: 1 / -1;\n",
       "  margin-bottom: 5px;\n",
       "}\n",
       "\n",
       ".xr-section-summary-in:checked ~ .xr-section-details {\n",
       "  display: contents;\n",
       "}\n",
       "\n",
       ".xr-array-wrap {\n",
       "  grid-column: 1 / -1;\n",
       "  display: grid;\n",
       "  grid-template-columns: 20px auto;\n",
       "}\n",
       "\n",
       ".xr-array-wrap > label {\n",
       "  grid-column: 1;\n",
       "  vertical-align: top;\n",
       "}\n",
       "\n",
       ".xr-preview {\n",
       "  color: var(--xr-font-color3);\n",
       "}\n",
       "\n",
       ".xr-array-preview,\n",
       ".xr-array-data {\n",
       "  padding: 0 5px !important;\n",
       "  grid-column: 2;\n",
       "}\n",
       "\n",
       ".xr-array-data,\n",
       ".xr-array-in:checked ~ .xr-array-preview {\n",
       "  display: none;\n",
       "}\n",
       "\n",
       ".xr-array-in:checked ~ .xr-array-data,\n",
       ".xr-array-preview {\n",
       "  display: inline-block;\n",
       "}\n",
       "\n",
       ".xr-dim-list {\n",
       "  display: inline-block !important;\n",
       "  list-style: none;\n",
       "  padding: 0 !important;\n",
       "  margin: 0;\n",
       "}\n",
       "\n",
       ".xr-dim-list li {\n",
       "  display: inline-block;\n",
       "  padding: 0;\n",
       "  margin: 0;\n",
       "}\n",
       "\n",
       ".xr-dim-list:before {\n",
       "  content: '(';\n",
       "}\n",
       "\n",
       ".xr-dim-list:after {\n",
       "  content: ')';\n",
       "}\n",
       "\n",
       ".xr-dim-list li:not(:last-child):after {\n",
       "  content: ',';\n",
       "  padding-right: 5px;\n",
       "}\n",
       "\n",
       ".xr-has-index {\n",
       "  font-weight: bold;\n",
       "}\n",
       "\n",
       ".xr-var-list,\n",
       ".xr-var-item {\n",
       "  display: contents;\n",
       "}\n",
       "\n",
       ".xr-var-item > div,\n",
       ".xr-var-item label,\n",
       ".xr-var-item > .xr-var-name span {\n",
       "  background-color: var(--xr-background-color-row-even);\n",
       "  margin-bottom: 0;\n",
       "}\n",
       "\n",
       ".xr-var-item > .xr-var-name:hover span {\n",
       "  padding-right: 5px;\n",
       "}\n",
       "\n",
       ".xr-var-list > li:nth-child(odd) > div,\n",
       ".xr-var-list > li:nth-child(odd) > label,\n",
       ".xr-var-list > li:nth-child(odd) > .xr-var-name span {\n",
       "  background-color: var(--xr-background-color-row-odd);\n",
       "}\n",
       "\n",
       ".xr-var-name {\n",
       "  grid-column: 1;\n",
       "}\n",
       "\n",
       ".xr-var-dims {\n",
       "  grid-column: 2;\n",
       "}\n",
       "\n",
       ".xr-var-dtype {\n",
       "  grid-column: 3;\n",
       "  text-align: right;\n",
       "  color: var(--xr-font-color2);\n",
       "}\n",
       "\n",
       ".xr-var-preview {\n",
       "  grid-column: 4;\n",
       "}\n",
       "\n",
       ".xr-var-name,\n",
       ".xr-var-dims,\n",
       ".xr-var-dtype,\n",
       ".xr-preview,\n",
       ".xr-attrs dt {\n",
       "  white-space: nowrap;\n",
       "  overflow: hidden;\n",
       "  text-overflow: ellipsis;\n",
       "  padding-right: 10px;\n",
       "}\n",
       "\n",
       ".xr-var-name:hover,\n",
       ".xr-var-dims:hover,\n",
       ".xr-var-dtype:hover,\n",
       ".xr-attrs dt:hover {\n",
       "  overflow: visible;\n",
       "  width: auto;\n",
       "  z-index: 1;\n",
       "}\n",
       "\n",
       ".xr-var-attrs,\n",
       ".xr-var-data {\n",
       "  display: none;\n",
       "  background-color: var(--xr-background-color) !important;\n",
       "  padding-bottom: 5px !important;\n",
       "}\n",
       "\n",
       ".xr-var-attrs-in:checked ~ .xr-var-attrs,\n",
       ".xr-var-data-in:checked ~ .xr-var-data {\n",
       "  display: block;\n",
       "}\n",
       "\n",
       ".xr-var-data > table {\n",
       "  float: right;\n",
       "}\n",
       "\n",
       ".xr-var-name span,\n",
       ".xr-var-data,\n",
       ".xr-attrs {\n",
       "  padding-left: 25px !important;\n",
       "}\n",
       "\n",
       ".xr-attrs,\n",
       ".xr-var-attrs,\n",
       ".xr-var-data {\n",
       "  grid-column: 1 / -1;\n",
       "}\n",
       "\n",
       "dl.xr-attrs {\n",
       "  padding: 0;\n",
       "  margin: 0;\n",
       "  display: grid;\n",
       "  grid-template-columns: 125px auto;\n",
       "}\n",
       "\n",
       ".xr-attrs dt,\n",
       ".xr-attrs dd {\n",
       "  padding: 0;\n",
       "  margin: 0;\n",
       "  float: left;\n",
       "  padding-right: 10px;\n",
       "  width: auto;\n",
       "}\n",
       "\n",
       ".xr-attrs dt {\n",
       "  font-weight: normal;\n",
       "  grid-column: 1;\n",
       "}\n",
       "\n",
       ".xr-attrs dt:hover span {\n",
       "  display: inline-block;\n",
       "  background: var(--xr-background-color);\n",
       "  padding-right: 10px;\n",
       "}\n",
       "\n",
       ".xr-attrs dd {\n",
       "  grid-column: 2;\n",
       "  white-space: pre-wrap;\n",
       "  word-break: break-all;\n",
       "}\n",
       "\n",
       ".xr-icon-database,\n",
       ".xr-icon-file-text2 {\n",
       "  display: inline-block;\n",
       "  vertical-align: middle;\n",
       "  width: 1em;\n",
       "  height: 1.5em !important;\n",
       "  stroke-width: 0;\n",
       "  stroke: currentColor;\n",
       "  fill: currentColor;\n",
       "}\n",
       "</style><pre class='xr-text-repr-fallback'>&lt;xarray.Dataset&gt;\n",
       "Dimensions:            (IC: 4, freq: 501, states: 3, time: 598, trials: 675)\n",
       "Coordinates:\n",
       "  * time               (time) float64 -4.0 -3.988 -3.977 ... 2.973 2.984 2.996\n",
       "  * freq               (freq) float64 0.0 0.08533 0.1707 ... 42.5 42.58 42.67\n",
       "  * IC                 (IC) int32 1 2 3 4\n",
       "  * states             (states) int32 1 2 3\n",
       "Dimensions without coordinates: trials\n",
       "Data variables:\n",
       "    states_timecourse  (trials, time, states) float64 0.0 0.0 0.0 ... 0.0 0.0\n",
       "    states_psd         (IC, states, freq) float64 0.003799 ... 0.0003401\n",
       "    frac_occ           (time, states) float64 0.0429 0.3929 ... 0.3833 0.5712</pre><div class='xr-wrap' hidden><div class='xr-header'><div class='xr-obj-type'>xarray.Dataset</div></div><ul class='xr-sections'><li class='xr-section-item'><input id='section-eb37e4ba-fd34-43e8-8177-506b302edfbf' class='xr-section-summary-in' type='checkbox' disabled ><label for='section-eb37e4ba-fd34-43e8-8177-506b302edfbf' class='xr-section-summary'  title='Expand/collapse section'>Dimensions:</label><div class='xr-section-inline-details'><ul class='xr-dim-list'><li><span class='xr-has-index'>IC</span>: 4</li><li><span class='xr-has-index'>freq</span>: 501</li><li><span class='xr-has-index'>states</span>: 3</li><li><span class='xr-has-index'>time</span>: 598</li><li><span>trials</span>: 675</li></ul></div><div class='xr-section-details'></div></li><li class='xr-section-item'><input id='section-6ce09cec-2420-4ced-b567-01acd4cb2322' class='xr-section-summary-in' type='checkbox'  checked><label for='section-6ce09cec-2420-4ced-b567-01acd4cb2322' class='xr-section-summary' >Coordinates: <span>(4)</span></label><div class='xr-section-inline-details'></div><div class='xr-section-details'><ul class='xr-var-list'><li class='xr-var-item'><div class='xr-var-name'><span class='xr-has-index'>time</span></div><div class='xr-var-dims'>(time)</div><div class='xr-var-dtype'>float64</div><div class='xr-var-preview xr-preview'>-4.0 -3.988 -3.977 ... 2.984 2.996</div><input id='attrs-73814b8a-8d03-48bc-9bd2-176ac1569eaf' class='xr-var-attrs-in' type='checkbox' disabled><label for='attrs-73814b8a-8d03-48bc-9bd2-176ac1569eaf' title='Show/Hide attributes'><svg class='icon xr-icon-file-text2'><use xlink:href='#icon-file-text2'></use></svg></label><input id='data-643f1dd6-1450-4c83-a088-baef6fec0960' class='xr-var-data-in' type='checkbox'><label for='data-643f1dd6-1450-4c83-a088-baef6fec0960' title='Show/Hide data repr'><svg class='icon xr-icon-database'><use xlink:href='#icon-database'></use></svg></label><div class='xr-var-attrs'><dl class='xr-attrs'></dl></div><div class='xr-var-data'><pre>array([-4.      , -3.988281, -3.976562, ...,  2.972656,  2.984375,  2.996094])</pre></div></li><li class='xr-var-item'><div class='xr-var-name'><span class='xr-has-index'>freq</span></div><div class='xr-var-dims'>(freq)</div><div class='xr-var-dtype'>float64</div><div class='xr-var-preview xr-preview'>0.0 0.08533 0.1707 ... 42.58 42.67</div><input id='attrs-4cdb708b-17f1-4958-9f09-f415135f0fe8' class='xr-var-attrs-in' type='checkbox' disabled><label for='attrs-4cdb708b-17f1-4958-9f09-f415135f0fe8' title='Show/Hide attributes'><svg class='icon xr-icon-file-text2'><use xlink:href='#icon-file-text2'></use></svg></label><input id='data-42d2bfdf-4b9c-4c72-bd1d-382094f349a0' class='xr-var-data-in' type='checkbox'><label for='data-42d2bfdf-4b9c-4c72-bd1d-382094f349a0' title='Show/Hide data repr'><svg class='icon xr-icon-database'><use xlink:href='#icon-database'></use></svg></label><div class='xr-var-attrs'><dl class='xr-attrs'></dl></div><div class='xr-var-data'><pre>array([ 0.      ,  0.085333,  0.170667, ..., 42.496   , 42.581333, 42.666667])</pre></div></li><li class='xr-var-item'><div class='xr-var-name'><span class='xr-has-index'>IC</span></div><div class='xr-var-dims'>(IC)</div><div class='xr-var-dtype'>int32</div><div class='xr-var-preview xr-preview'>1 2 3 4</div><input id='attrs-3c04f298-0e95-4b1f-9dd7-d6f52608dae6' class='xr-var-attrs-in' type='checkbox' disabled><label for='attrs-3c04f298-0e95-4b1f-9dd7-d6f52608dae6' title='Show/Hide attributes'><svg class='icon xr-icon-file-text2'><use xlink:href='#icon-file-text2'></use></svg></label><input id='data-d0f5bf94-244d-4a7f-8cf9-f9d22c577d3b' class='xr-var-data-in' type='checkbox'><label for='data-d0f5bf94-244d-4a7f-8cf9-f9d22c577d3b' title='Show/Hide data repr'><svg class='icon xr-icon-database'><use xlink:href='#icon-database'></use></svg></label><div class='xr-var-attrs'><dl class='xr-attrs'></dl></div><div class='xr-var-data'><pre>array([1, 2, 3, 4], dtype=int32)</pre></div></li><li class='xr-var-item'><div class='xr-var-name'><span class='xr-has-index'>states</span></div><div class='xr-var-dims'>(states)</div><div class='xr-var-dtype'>int32</div><div class='xr-var-preview xr-preview'>1 2 3</div><input id='attrs-3aa1ecc6-5df6-4d70-bb8b-8175722d8bcc' class='xr-var-attrs-in' type='checkbox' disabled><label for='attrs-3aa1ecc6-5df6-4d70-bb8b-8175722d8bcc' title='Show/Hide attributes'><svg class='icon xr-icon-file-text2'><use xlink:href='#icon-file-text2'></use></svg></label><input id='data-9800dabd-bc27-4284-8eee-268bb4104dbc' class='xr-var-data-in' type='checkbox'><label for='data-9800dabd-bc27-4284-8eee-268bb4104dbc' title='Show/Hide data repr'><svg class='icon xr-icon-database'><use xlink:href='#icon-database'></use></svg></label><div class='xr-var-attrs'><dl class='xr-attrs'></dl></div><div class='xr-var-data'><pre>array([1, 2, 3], dtype=int32)</pre></div></li></ul></div></li><li class='xr-section-item'><input id='section-e9ec1ec2-87f2-477a-84c2-52f94e31c7a0' class='xr-section-summary-in' type='checkbox'  checked><label for='section-e9ec1ec2-87f2-477a-84c2-52f94e31c7a0' class='xr-section-summary' >Data variables: <span>(3)</span></label><div class='xr-section-inline-details'></div><div class='xr-section-details'><ul class='xr-var-list'><li class='xr-var-item'><div class='xr-var-name'><span>states_timecourse</span></div><div class='xr-var-dims'>(trials, time, states)</div><div class='xr-var-dtype'>float64</div><div class='xr-var-preview xr-preview'>0.0 0.0 0.0 0.0 ... 0.0 0.0 0.0 0.0</div><input id='attrs-42ae3a36-ae45-487d-8fb4-2f7adad52ae0' class='xr-var-attrs-in' type='checkbox' disabled><label for='attrs-42ae3a36-ae45-487d-8fb4-2f7adad52ae0' title='Show/Hide attributes'><svg class='icon xr-icon-file-text2'><use xlink:href='#icon-file-text2'></use></svg></label><input id='data-fdb26de7-a69a-4be2-9308-4844fa4bd349' class='xr-var-data-in' type='checkbox'><label for='data-fdb26de7-a69a-4be2-9308-4844fa4bd349' title='Show/Hide data repr'><svg class='icon xr-icon-database'><use xlink:href='#icon-database'></use></svg></label><div class='xr-var-attrs'><dl class='xr-attrs'></dl></div><div class='xr-var-data'><pre>array([[[0.000000e+00, 0.000000e+00, 0.000000e+00],\n",
       "        [0.000000e+00, 0.000000e+00, 0.000000e+00],\n",
       "        ...,\n",
       "        [1.522082e-07, 5.002674e-06, 9.999948e-01],\n",
       "        [2.548137e-07, 1.653711e-05, 9.999832e-01]],\n",
       "\n",
       "       [[1.477511e-06, 1.021261e-03, 9.989773e-01],\n",
       "        [4.480265e-05, 4.390374e-02, 9.560515e-01],\n",
       "        ...,\n",
       "        [5.506292e-02, 2.031482e-04, 9.447339e-01],\n",
       "        [2.303845e-02, 5.041688e-04, 9.764574e-01]],\n",
       "\n",
       "       ...,\n",
       "\n",
       "       [[6.432498e-06, 9.594394e-01, 4.055420e-02],\n",
       "        [3.915889e-06, 9.703703e-01, 2.962579e-02],\n",
       "        ...,\n",
       "        [7.565328e-06, 9.999923e-01, 1.508431e-07],\n",
       "        [1.254115e-05, 9.999869e-01, 5.252064e-07]],\n",
       "\n",
       "       [[9.939479e-05, 9.996319e-01, 2.686840e-04],\n",
       "        [4.361513e-04, 9.382065e-01, 6.135731e-02],\n",
       "        ...,\n",
       "        [0.000000e+00, 0.000000e+00, 0.000000e+00],\n",
       "        [0.000000e+00, 0.000000e+00, 0.000000e+00]]])</pre></div></li><li class='xr-var-item'><div class='xr-var-name'><span>states_psd</span></div><div class='xr-var-dims'>(IC, states, freq)</div><div class='xr-var-dtype'>float64</div><div class='xr-var-preview xr-preview'>...</div><input id='attrs-fba15d54-81ac-4a4d-8a80-409533739c51' class='xr-var-attrs-in' type='checkbox' disabled><label for='attrs-fba15d54-81ac-4a4d-8a80-409533739c51' title='Show/Hide attributes'><svg class='icon xr-icon-file-text2'><use xlink:href='#icon-file-text2'></use></svg></label><input id='data-c0532278-c0b5-4272-a1c4-12ee86580a66' class='xr-var-data-in' type='checkbox'><label for='data-c0532278-c0b5-4272-a1c4-12ee86580a66' title='Show/Hide data repr'><svg class='icon xr-icon-database'><use xlink:href='#icon-database'></use></svg></label><div class='xr-var-attrs'><dl class='xr-attrs'></dl></div><div class='xr-var-data'><pre>array([[[0.003799, 0.008587, ..., 0.001347, 0.000671],\n",
       "        [0.004279, 0.009843, ..., 0.001196, 0.000598],\n",
       "        [0.004222, 0.009577, ..., 0.00116 , 0.000578]],\n",
       "\n",
       "       [[0.003691, 0.008611, ..., 0.000958, 0.000477],\n",
       "        [0.003437, 0.007944, ..., 0.000962, 0.000479],\n",
       "        [0.002624, 0.00599 , ..., 0.000895, 0.000446]],\n",
       "\n",
       "       [[0.004288, 0.00964 , ..., 0.001828, 0.000914],\n",
       "        [0.003009, 0.006825, ..., 0.001094, 0.000542],\n",
       "        [0.00296 , 0.006696, ..., 0.001197, 0.000602]],\n",
       "\n",
       "       [[0.002103, 0.004818, ..., 0.001025, 0.000517],\n",
       "        [0.001878, 0.004288, ..., 0.000816, 0.000408],\n",
       "        [0.001403, 0.003214, ..., 0.000681, 0.00034 ]]])</pre></div></li><li class='xr-var-item'><div class='xr-var-name'><span>frac_occ</span></div><div class='xr-var-dims'>(time, states)</div><div class='xr-var-dtype'>float64</div><div class='xr-var-preview xr-preview'>0.0429 0.3929 ... 0.3833 0.5712</div><input id='attrs-e15fb778-4068-4183-ae99-0186ce86817f' class='xr-var-attrs-in' type='checkbox' disabled><label for='attrs-e15fb778-4068-4183-ae99-0186ce86817f' title='Show/Hide attributes'><svg class='icon xr-icon-file-text2'><use xlink:href='#icon-file-text2'></use></svg></label><input id='data-95ae92ff-01b7-421f-b15a-799c53c602de' class='xr-var-data-in' type='checkbox'><label for='data-95ae92ff-01b7-421f-b15a-799c53c602de' title='Show/Hide data repr'><svg class='icon xr-icon-database'><use xlink:href='#icon-database'></use></svg></label><div class='xr-var-attrs'><dl class='xr-attrs'></dl></div><div class='xr-var-data'><pre>array([[0.04289802, 0.39287305, 0.56274745],\n",
       "       [0.04080682, 0.39989958, 0.55781212],\n",
       "       [0.03941617, 0.39748864, 0.56161371],\n",
       "       ...,\n",
       "       [0.04659606, 0.35879468, 0.59312778],\n",
       "       [0.04590316, 0.37215148, 0.58046388],\n",
       "       [0.04399785, 0.38332592, 0.57119475]])</pre></div></li></ul></div></li><li class='xr-section-item'><input id='section-c44ebd3d-1613-4890-95d2-446c247a310a' class='xr-section-summary-in' type='checkbox' disabled ><label for='section-c44ebd3d-1613-4890-95d2-446c247a310a' class='xr-section-summary'  title='Expand/collapse section'>Attributes: <span>(0)</span></label><div class='xr-section-inline-details'></div><div class='xr-section-details'><dl class='xr-attrs'></dl></div></li></ul></div></div>"
      ],
      "text/plain": [
       "<xarray.Dataset>\n",
       "Dimensions:            (IC: 4, freq: 501, states: 3, time: 598, trials: 675)\n",
       "Coordinates:\n",
       "  * time               (time) float64 -4.0 -3.988 -3.977 ... 2.973 2.984 2.996\n",
       "  * freq               (freq) float64 0.0 0.08533 0.1707 ... 42.5 42.58 42.67\n",
       "  * IC                 (IC) int32 1 2 3 4\n",
       "  * states             (states) int32 1 2 3\n",
       "Dimensions without coordinates: trials\n",
       "Data variables:\n",
       "    states_timecourse  (trials, time, states) float64 0.0 0.0 0.0 ... 0.0 0.0\n",
       "    states_psd         (IC, states, freq) float64 ...\n",
       "    frac_occ           (time, states) float64 0.0429 0.3929 ... 0.3833 0.5712"
      ]
     },
     "execution_count": 104,
     "metadata": {},
     "output_type": "execute_result"
    }
   ],
   "source": [
    "ds"
   ]
  },
  {
   "cell_type": "code",
   "execution_count": 106,
   "metadata": {},
   "outputs": [
    {
     "data": {
      "image/png": "[encoded data removed]",
      "text/plain": [
       "<Figure size 2160x432 with 5 Axes>"
      ]
     },
     "metadata": {
      "needs_background": "light"
     },
     "output_type": "display_data"
    }
   ],
   "source": [
    "labels = [f\"state {state}\" for state in ds[\"states\"].values]\n",
    "fig = plt.figure(figsize=(6*(len(ds[\"IC\"].values)+1),6))\n",
    "plt.subplot(1, len(ds[\"IC\"].values)+1, 1)\n",
    "plt.title(f'Frac. Occupancy')\n",
    "plt.plot(ds[\"time\"].values, ds[\"frac_occ\"].values)\n",
    "plt.xlabel('Time (s)')\n",
    "plt.ylabel('Frac. occupancy')\n",
    "plt.legend(labels, loc='upper left')\n",
    "for i in range(len(ds[\"IC\"].values)):\n",
    "    plt.subplot(1, len(ds[\"IC\"].values)+1, i+2)\n",
    "    plt.title(f\"Power Spectrum Density of IC{ds['IC'].values[i]}\")\n",
    "    plt.plot(ds[\"freq\"], ds[\"states_psd\"].values[i,].T)\n",
    "    plt.xlabel('Frequency (Hz)')\n",
    "    plt.ylabel('PSD')\n",
    "    plt.legend(labels, loc='upper right')"
   ]
  },
  {
   "cell_type": "code",
   "execution_count": 107,
   "metadata": {},
   "outputs": [
    {
     "name": "stdout",
     "output_type": "stream",
     "text": [
      "su2, 3 states done\n"
     ]
    }
   ],
   "source": [
    "ds.to_netcdf(f\"tde-hmm2/test_files/su{subj}-{n_states}states_woPCA_data_Multi.nc\", mode=\"w\")\n",
    "print(f\"su{subj}, {n_states} states done\")"
   ]
  },
  {
   "cell_type": "code",
   "execution_count": 108,
   "metadata": {},
   "outputs": [],
   "source": [
    "widths = [14, 1, 5]\n",
    "heights = [1,1,1,4,4,4,4]"
   ]
  },
  {
   "cell_type": "code",
   "execution_count": 109,
   "metadata": {},
   "outputs": [],
   "source": [
    "gs_kw = dict(width_ratios=widths, height_ratios=heights, wspace=0.0, hspace=0.0)\n",
    "\n",
    "info = mne.create_info(ch_names=['signal'], sfreq=256, ch_types=['eeg'])"
   ]
  },
  {
   "cell_type": "code",
   "execution_count": 110,
   "metadata": {},
   "outputs": [
    {
     "name": "stdout",
     "output_type": "stream",
     "text": [
      "Loading the raw timecourse\n",
      "Loading the raw timecourse\n",
      "Loading the raw timecourse\n",
      "Loading the raw timecourse\n"
     ]
    }
   ],
   "source": [
    "fig, f_axes = plt.subplots(figsize=(sum(widths),sum(heights)), ncols=3, nrows=(n_states+4), constrained_layout=True,\n",
    "                         gridspec_kw=gs_kw)\n",
    "ds = xr.open_dataset(f\"tde-hmm2/test_files/su{subj}-{n_states}states_woPCA_data_Multi.nc\")\n",
    "for state in ds[\"states\"].values:\n",
    "    ax = f_axes[state-1,0]\n",
    "#         ax.set_xticks([])\n",
    "    ax.plot(ds[\"time\"].values, ds[\"frac_occ\"].values[:, state-1], color=f\"C{state-1}\")\n",
    "    ax.set_xlim([-4, 3])\n",
    "    ax.set_ylabel(f\"state {state}\")\n",
    "for IC in ds[\"IC\"].values:\n",
    "    ax = f_axes[IC+n_states-1,0]\n",
    "    data, n_trials = load_oneIC(mat_file, cells_refs, subj, IC, comp=False)\n",
    "    tfr = wavelet_transform2(data, info, trial=np.arange(1,n_trials+1))\n",
    "    mappable = ax.imshow(tfr[0], aspect='auto', origin='lower', extent=[-4, 3, 2, 50], \n",
    "                           norm=colors.PowerNorm(gamma=0.5), cmap='RdYlBu_r')\n",
    "    ax.set_ylabel(f'Frequencies IC{IC} (Hz)')\n",
    "    fig.colorbar(mappable, cax=f_axes[IC+n_states-1,1])\n",
    "#         if IC!=4:\n",
    "#             ax.set_xticks([])\n",
    "for i in range(len(ds[\"IC\"].values)):\n",
    "    IC = ds[\"IC\"].values[i]\n",
    "    ax = f_axes[IC+n_states-1,2]\n",
    "    ax.plot(ds[\"freq\"].values, ds[\"states_psd\"].values[i,].T)\n",
    "    ax.set_ylabel(f'PSD IC{IC}')\n",
    "ax = f_axes[n_states,2]\n",
    "lines = ax.get_lines()\n",
    "labels = [f\"State {i}\" for i in range (1, n_states+1)]\n",
    "ax = f_axes[0,2]\n",
    "ax.legend(lines, labels, loc='upper left')\n",
    "ax = f_axes[n_states+3,0]\n",
    "ax.set_xlabel(f'Time (s)') \n",
    "ax = f_axes[n_states+3,2]\n",
    "ax.set_xlabel(f'Frequency (Hz)')   \n",
    "\n",
    "fig.savefig(target_dir + f'grid-{n_states}states-subj{subj}_woPCA.png', dpi=300)\n",
    "plt.close(fig)"
   ]
  },
  {
   "cell_type": "code",
   "execution_count": 111,
   "metadata": {},
   "outputs": [],
   "source": [
    "n_trials_to_plot = 5"
   ]
  },
  {
   "cell_type": "code",
   "execution_count": 115,
   "metadata": {},
   "outputs": [],
   "source": [
    "fig, f_axes = plt.subplots(figsize=(20,n_states*n_trials_to_plot), ncols=1, nrows=(n_states*n_trials_to_plot), constrained_layout=True)\n",
    "ds = xr.open_dataset(f\"tde-hmm2/test_files/su{subj}-{n_states}states_woPCA_data_Multi.nc\")\n",
    "for state in range(1, n_states+1):\n",
    "    color = f\"C{state-1}\"\n",
    "    for trial in range(1, n_trials_to_plot+1):\n",
    "        ax = f_axes[n_trials_to_plot*(state-1)+trial-1]\n",
    "        ax.fill_between(ds[\"time\"], ds[\"states_timecourse\"].values[trial, :, state-1], color=color)\n",
    "        ax.set_xlim([-4, 3])\n",
    "        ax.set_ylim([0, 1])\n",
    "        ax.set_ylabel(f\"Prob. st{state} tr{trial}\")\n",
    "ax.set_xlabel(\"Time (s)\")\n",
    "fig.savefig(target_dir + f'tcourses-{n_states}states-subj{subj}_woPCA.png', dpi=300)\n",
    "plt.close(fig)"
   ]
  },
  {
   "cell_type": "code",
   "execution_count": null,
   "metadata": {},
   "outputs": [],
   "source": []
  }
 ],
 "metadata": {
  "kernelspec": {
   "display_name": "Python 3",
   "language": "python",
   "name": "python3"
  },
  "language_info": {
   "codemirror_mode": {
    "name": "ipython",
    "version": 3
   },
   "file_extension": ".py",
   "mimetype": "text/x-python",
   "name": "python",
   "nbconvert_exporter": "python",
   "pygments_lexer": "ipython3",
   "version": "3.8.10"
  }
 },
 "nbformat": 4,
 "nbformat_minor": 4
}
