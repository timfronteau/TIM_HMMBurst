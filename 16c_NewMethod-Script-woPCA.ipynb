{
 "cells": [
  {
   "cell_type": "markdown",
   "metadata": {},
   "source": [
    "# Multivariate TDE-HMM on all subjects, following Quinn's method"
   ]
  },
  {
   "cell_type": "markdown",
   "metadata": {},
   "source": [
    "## Libraries and methods"
   ]
  },
  {
   "cell_type": "code",
   "execution_count": 1,
   "metadata": {},
   "outputs": [],
   "source": [
    "import numpy as np\n",
    "from loader import load_oneIC\n",
    "import h5py\n",
    "import xarray as xr"
   ]
  },
  {
   "cell_type": "code",
   "execution_count": 2,
   "metadata": {},
   "outputs": [],
   "source": [
    "from sklearn.decomposition import PCA\n",
    "from sklearn.preprocessing import scale\n",
    "from hmmlearn import hmm\n",
    "import scipy.signal as signal\n",
    "import pickle"
   ]
  },
  {
   "cell_type": "code",
   "execution_count": 3,
   "metadata": {},
   "outputs": [],
   "source": [
    "import matplotlib.pyplot as plt\n",
    "import matplotlib.colors as colors\n",
    "from wavelet_transform import wavelet_transform2"
   ]
  },
  {
   "cell_type": "code",
   "execution_count": 4,
   "metadata": {},
   "outputs": [],
   "source": [
    "import mne"
   ]
  },
  {
   "cell_type": "code",
   "execution_count": 5,
   "metadata": {},
   "outputs": [],
   "source": [
    "import time as tm"
   ]
  },
  {
   "cell_type": "code",
   "execution_count": 6,
   "metadata": {},
   "outputs": [],
   "source": [
    "directory = \"/home/INT/malfait.n/Documents/NIC_250819\"\n",
    "file = \"FCK_LOCKED_IC_JYOTIKA_250819.mat\"\n",
    "\n",
    "path = f\"{directory}/{file}\"\n",
    "\n",
    "mat_file = h5py.File(path, \"r\")\n",
    "cells_refs = mat_file['FCK_LOCKED_IC_JYOTIKA']\n",
    "\n",
    "n_IC = 4\n",
    "n_subj = 23"
   ]
  },
  {
   "cell_type": "code",
   "execution_count": 7,
   "metadata": {},
   "outputs": [],
   "source": [
    "target_dir = \"tde-hmm2/test_grids/\""
   ]
  },
  {
   "cell_type": "markdown",
   "metadata": {},
   "source": [
    "## Functions"
   ]
  },
  {
   "cell_type": "code",
   "execution_count": 8,
   "metadata": {},
   "outputs": [],
   "source": [
    "# # The embedx function copies the `x` array len(lags) times into `xe`\n",
    "# # with lags (i.e. time delays) between lags[0] and lags[-1] (we implement the time-delay array for the HMM).\n",
    "\n",
    "# def embedx(x, lags):\n",
    "    \n",
    "#     Xe = np.zeros((x.shape[1], x.shape[0],  len(lags)))\n",
    "\n",
    "#     for l in range(len(lags)):\n",
    "#         Xe[:, :, l] = np.roll(x, lags[l], axis=0).swapaxes(0, 1)\n",
    "\n",
    "#     # Remove edges\n",
    "#     valid = np.ones((x.shape[0], 1), dtype=np.int8)\n",
    "#     valid[:np.abs(np.min(lags)), :] = 0\n",
    "#     valid[-np.abs(np.max(lags)):, :] = 0\n",
    "\n",
    "#     Xe = Xe[:, valid[:, 0] == 1, :]\n",
    "\n",
    "#     return Xe, valid\n",
    "\n",
    "\n",
    "# # The hmm_tde function finds parameters for the HMM,\n",
    "# # then uses them to determine the probability of presence of each found state over time.\n",
    "\n",
    "# # def hmm_tde(y: np.array, n_states=3, n_iter=100, n_components=8, \n",
    "# #             covariance_type='full', model_type='GMMHMM', tol=0.01, n_mix=1, **kwargs):\n",
    "    \n",
    "# #     if model_type=='GMMHMM':\n",
    "# #         model = hmm.GMMHMM(n_components=n_states, n_iter=n_iter,\n",
    "# #                             covariance_type=covariance_type, tol=tol, n_mix=n_mix, **kwargs)\n",
    "        \n",
    "# #     elif model_type=='GaussianHMM':\n",
    "# #         model = hmm.GaussianHMM(n_components=n_states, n_iter=n_iter,\n",
    "# #                             covariance_type=covariance_type, tol=tol, **kwargs)\n",
    "        \n",
    "# #     elif model_type=='MultinomialHMM':\n",
    "# #         model = hmm.MultinomialHMM(n_components=n_states, n_iter=n_iter, tol=tol, **kwargs)\n",
    "    \n",
    "# #     else: \n",
    "# #         return \"Non-exixting model_type. Please choose 'GMMHMM' or 'GaussianHMM' or 'MultinomialHMM'. default='GMMHMM'\"\n",
    "        \n",
    "# #     model.fit(y)\n",
    "# #     gamma = model.predict_proba(y)\n",
    "\n",
    "# #     return gamma, model"
   ]
  },
  {
   "cell_type": "code",
   "execution_count": 9,
   "metadata": {},
   "outputs": [],
   "source": [
    "# The embedx function copies the `x` array len(lags) times into `xe`\n",
    "# with lags (i.e. time delays) between lags[0] and lags[-1] (we implement the time-delay array for the HMM).\n",
    "\n",
    "def embedx(x, lags):\n",
    "    \n",
    "    Xe = np.zeros((x.shape[1], x.shape[0],  len(lags)))\n",
    "\n",
    "    for l in range(len(lags)):\n",
    "        Xe[:, :, l] = np.roll(x, lags[l], axis=0).swapaxes(0, 1)\n",
    "\n",
    "    # Remove edges\n",
    "    valid = np.ones((x.shape[0], 1), dtype=np.int8)\n",
    "    valid[:np.abs(np.min(lags)), :] = 0\n",
    "    valid[-np.abs(np.max(lags)):, :] = 0\n",
    "\n",
    "    Xe = Xe[:, valid[:, 0] == 1, :]\n",
    "\n",
    "    return Xe, valid"
   ]
  },
  {
   "cell_type": "code",
   "execution_count": 10,
   "metadata": {},
   "outputs": [],
   "source": [
    "def statesPSD(gamma, n_states, xe, fs=256/3):\n",
    "\n",
    "    psd_all = []\n",
    "    for i in range(n_states):\n",
    "\n",
    "        # Compute PSD separately for each lag\n",
    "        tot = []\n",
    "        for seg in xe[gamma[:, i]>(2/3), :].T:\n",
    "            freqs, psd = signal.welch(x=seg, fs=fs, nfft=1000)\n",
    "            tot.append(psd)\n",
    "        psd = np.mean(np.asarray(tot), 0)\n",
    "        psd_all.append(psd)\n",
    "    \n",
    "    psd_all = np.asarray(psd_all)\n",
    "    \n",
    "    return freqs, psd_all"
   ]
  },
  {
   "cell_type": "markdown",
   "metadata": {},
   "source": [
    "## Final Script"
   ]
  },
  {
   "cell_type": "markdown",
   "metadata": {},
   "source": [
    "#### Model and parameters:\n",
    "|_ (??delays x 4IC)  x (7s x 256Hz x Ntrials)   -----PCA-----> |_ (??components x 4IC) x (7s x 256Hz x Ntrials) -----> |_ TDE-HMM ( 1 Gaussian/state, 3 to 6 states )"
   ]
  },
  {
   "cell_type": "code",
   "execution_count": 11,
   "metadata": {},
   "outputs": [],
   "source": [
    "# The parameters we change to hope for some results\n",
    "lags = np.arange(-5, 5)\n",
    "n_lags = lags.shape[0]\n",
    "n_iter=100\n",
    "n_states_max=6    # for the Hidden Markov Model\n",
    "n_components=0     # For the principal component analysis\n",
    "covariance_type='full'\n",
    "model_type='GaussianHMM'\n",
    "tol=0.01\n",
    "n_mix=1\n",
    "downsamp_rate = 3"
   ]
  },
  {
   "cell_type": "code",
   "execution_count": 46,
   "metadata": {},
   "outputs": [],
   "source": [
    "subj_list = [2, 3, 4, 6, 7, 8, 10, 11, 14, 16, 18, 19, 22]"
   ]
  },
  {
   "cell_type": "code",
   "execution_count": 47,
   "metadata": {},
   "outputs": [
    {
     "name": "stdout",
     "output_type": "stream",
     "text": [
      "Computing the imput matrix for the model\n",
      "Loading the raw timecourse\n",
      "IC1 loaded\n",
      "Loading the raw timecourse\n",
      "IC2 loaded\n",
      "Loading the raw timecourse\n",
      "IC3 loaded\n",
      "Loading the raw timecourse\n",
      "IC4 loaded\n",
      "Computing the imput matrix for the model\n",
      "Loading the raw timecourse\n",
      "IC1 loaded\n",
      "Loading the raw timecourse\n",
      "IC2 loaded\n",
      "Loading the raw timecourse\n",
      "IC3 loaded\n",
      "Loading the raw timecourse\n",
      "IC4 loaded\n",
      "Computing the imput matrix for the model\n",
      "Loading the raw timecourse\n",
      "IC1 loaded\n",
      "Loading the raw timecourse\n",
      "IC2 loaded\n",
      "Loading the raw timecourse\n",
      "IC3 loaded\n",
      "Loading the raw timecourse\n",
      "IC4 loaded\n",
      "Computing the imput matrix for the model\n",
      "Loading the raw timecourse\n",
      "IC1 loaded\n",
      "Loading the raw timecourse\n",
      "IC2 loaded\n",
      "Loading the raw timecourse\n",
      "IC3 loaded\n",
      "Loading the raw timecourse\n",
      "IC4 loaded\n",
      "Computing the imput matrix for the model\n",
      "Loading the raw timecourse\n",
      "IC1 loaded\n",
      "Loading the raw timecourse\n",
      "IC2 loaded\n",
      "Loading the raw timecourse\n",
      "IC3 loaded\n",
      "Loading the raw timecourse\n",
      "IC4 loaded\n",
      "Computing the imput matrix for the model\n",
      "Loading the raw timecourse\n",
      "IC1 loaded\n",
      "Loading the raw timecourse\n",
      "IC2 loaded\n",
      "Loading the raw timecourse\n",
      "IC3 loaded\n",
      "Loading the raw timecourse\n",
      "IC4 loaded\n",
      "Computing the imput matrix for the model\n",
      "Loading the raw timecourse\n",
      "IC1 loaded\n",
      "Loading the raw timecourse\n",
      "IC2 loaded\n",
      "Loading the raw timecourse\n",
      "IC3 loaded\n",
      "Loading the raw timecourse\n",
      "IC4 loaded\n",
      "Computing the imput matrix for the model\n",
      "Loading the raw timecourse\n",
      "IC1 loaded\n",
      "Loading the raw timecourse\n",
      "IC2 loaded\n",
      "Loading the raw timecourse\n",
      "IC3 loaded\n",
      "Loading the raw timecourse\n",
      "IC4 loaded\n",
      "Computing the imput matrix for the model\n",
      "Loading the raw timecourse\n",
      "IC1 loaded\n",
      "Loading the raw timecourse\n",
      "IC2 loaded\n",
      "Loading the raw timecourse\n",
      "IC3 loaded\n",
      "Loading the raw timecourse\n",
      "IC4 loaded\n",
      "Computing the imput matrix for the model\n",
      "Loading the raw timecourse\n",
      "IC1 loaded\n",
      "Loading the raw timecourse\n",
      "IC2 loaded\n",
      "Loading the raw timecourse\n",
      "IC3 loaded\n",
      "Loading the raw timecourse\n",
      "IC4 loaded\n",
      "Computing the imput matrix for the model\n",
      "Loading the raw timecourse\n",
      "IC1 loaded\n",
      "Loading the raw timecourse\n",
      "IC2 loaded\n",
      "Loading the raw timecourse\n",
      "IC3 loaded\n",
      "Loading the raw timecourse\n",
      "IC4 loaded\n",
      "Computing the imput matrix for the model\n",
      "Loading the raw timecourse\n",
      "IC1 loaded\n",
      "Loading the raw timecourse\n",
      "IC2 loaded\n",
      "Loading the raw timecourse\n",
      "IC3 loaded\n",
      "Loading the raw timecourse\n",
      "IC4 loaded\n",
      "Computing the imput matrix for the model\n",
      "Loading the raw timecourse\n",
      "IC1 loaded\n",
      "Loading the raw timecourse\n",
      "IC2 loaded\n",
      "Loading the raw timecourse\n",
      "IC3 loaded\n",
      "Loading the raw timecourse\n",
      "IC4 loaded\n"
     ]
    }
   ],
   "source": [
    "subj_lengths = []\n",
    "tde_imput = []\n",
    "new_subj_list = []\n",
    "for subj in subj_list:\n",
    "    # Loading all data for subject{subj}\n",
    "    print(\"Computing the imput matrix for the model\")\n",
    "    xeall = []\n",
    "    IC_list = []\n",
    "    for IC in range(1, n_IC+1):\n",
    "        data, n_trials = load_oneIC(mat_file, cells_refs, subj, IC, comp=False)\n",
    "        big_timecourse = np.concatenate([data[f'raw_timecourse_256Hz'][i][::downsamp_rate] for i in range(100)])\n",
    "            # Downsampled to 256/3 = 85,33333Hz\n",
    "        big_timecourse = scale(big_timecourse)\n",
    "        x = big_timecourse.reshape(-1, 1)\n",
    "        xe, valid = embedx(x, lags)\n",
    "        xeall.append(xe[0, :, :])\n",
    "        IC_list.append(IC)\n",
    "        print(f\"IC{IC} loaded\")\n",
    "    y = np.concatenate(xeall, axis=1)\n",
    "    tde_imput.append(y)\n",
    "    subj_lengths.append(xe.shape[1])\n",
    "    new_subj_list.append(subj)\n",
    "tde_imput = np.concatenate(tde_imput)"
   ]
  },
  {
   "cell_type": "code",
   "execution_count": 48,
   "metadata": {},
   "outputs": [
    {
     "data": {
      "text/plain": [
       "(777283, 40)"
      ]
     },
     "execution_count": 48,
     "metadata": {},
     "output_type": "execute_result"
    }
   ],
   "source": [
    "tde_imput.shape"
   ]
  },
  {
   "cell_type": "code",
   "execution_count": 49,
   "metadata": {},
   "outputs": [
    {
     "data": {
      "text/plain": [
       "13"
      ]
     },
     "execution_count": 49,
     "metadata": {},
     "output_type": "execute_result"
    }
   ],
   "source": [
    "len(new_subj_list)"
   ]
  },
  {
   "cell_type": "code",
   "execution_count": 50,
   "metadata": {},
   "outputs": [
    {
     "name": "stdout",
     "output_type": "stream",
     "text": [
      "13 777283\n"
     ]
    }
   ],
   "source": [
    "print(len(subj_lengths), sum(subj_lengths))"
   ]
  },
  {
   "cell_type": "code",
   "execution_count": 51,
   "metadata": {},
   "outputs": [
    {
     "name": "stdout",
     "output_type": "stream",
     "text": [
      "Computing and saving the model\n",
      "13243.292280197144 seconds\n",
      "Computing and saving the model\n",
      "2728.0732328891754 seconds\n",
      "Computing and saving the model\n",
      "3897.7819356918335 seconds\n"
     ]
    }
   ],
   "source": [
    "for n_states in [4,5,6]:\n",
    "    start_time = tm.time()\n",
    "    print(\"Computing and saving the model\")\n",
    "    model = hmm.GaussianHMM(n_components=n_states, n_iter=n_iter,\n",
    "                            covariance_type=covariance_type, tol=tol)\n",
    "    model.fit(tde_imput, subj_lengths)\n",
    "    # gamma = model.predict_proba(y)\n",
    "    with open(f\"tde-hmm2/test_files/suAll_lg{n_lags}co{n_components}st{n_states}\"\n",
    "        +f\"{n_mix}\"+model_type+\"_woPCA_preModel.pkl\", \"wb\") as file: pickle.dump(model, file)\n",
    "    print(\"%s seconds\" % (tm.time() - start_time))"
   ]
  },
  {
   "cell_type": "code",
   "execution_count": 41,
   "metadata": {},
   "outputs": [],
   "source": [
    "subj_list = new_subj_list"
   ]
  },
  {
   "cell_type": "code",
   "execution_count": 42,
   "metadata": {},
   "outputs": [
    {
     "data": {
      "text/plain": [
       "[2, 3, 4, 6, 7, 8, 10, 11, 14, 16, 18, 19, 22]"
      ]
     },
     "execution_count": 42,
     "metadata": {},
     "output_type": "execute_result"
    }
   ],
   "source": [
    "subj_list"
   ]
  },
  {
   "cell_type": "code",
   "execution_count": null,
   "metadata": {},
   "outputs": [],
   "source": [
    "n_states = 3"
   ]
  },
  {
   "cell_type": "code",
   "execution_count": 43,
   "metadata": {},
   "outputs": [
    {
     "name": "stdout",
     "output_type": "stream",
     "text": [
      "Computing the imput matrix for the model\n",
      "Loading the raw timecourse\n",
      "IC1 loaded\n",
      "Loading the raw timecourse\n",
      "IC2 loaded\n",
      "Loading the raw timecourse\n",
      "IC3 loaded\n",
      "Loading the raw timecourse\n",
      "IC4 loaded\n",
      "Computing the PSD of each state\n",
      "Saving the states timecourses and PSDs\n",
      "subj2: OK\n",
      "2.8892722129821777 seconds\n",
      "Computing the imput matrix for the model\n",
      "Loading the raw timecourse\n",
      "IC1 loaded\n",
      "Loading the raw timecourse\n",
      "IC2 loaded\n",
      "Loading the raw timecourse\n",
      "IC3 loaded\n",
      "Loading the raw timecourse\n",
      "IC4 loaded\n",
      "Computing the PSD of each state\n",
      "Saving the states timecourses and PSDs\n",
      "subj3: OK\n",
      "3.0071909427642822 seconds\n",
      "Computing the imput matrix for the model\n",
      "Loading the raw timecourse\n",
      "IC1 loaded\n",
      "Loading the raw timecourse\n",
      "IC2 loaded\n",
      "Loading the raw timecourse\n",
      "IC3 loaded\n",
      "Loading the raw timecourse\n",
      "IC4 loaded\n",
      "Computing the PSD of each state\n",
      "Saving the states timecourses and PSDs\n",
      "subj4: OK\n",
      "3.3936498165130615 seconds\n",
      "Computing the imput matrix for the model\n",
      "Loading the raw timecourse\n",
      "IC1 loaded\n",
      "Loading the raw timecourse\n",
      "IC2 loaded\n",
      "Loading the raw timecourse\n",
      "IC3 loaded\n",
      "Loading the raw timecourse\n",
      "IC4 loaded\n",
      "Computing the PSD of each state\n",
      "Saving the states timecourses and PSDs\n",
      "subj6: OK\n",
      "3.299173355102539 seconds\n",
      "Computing the imput matrix for the model\n",
      "Loading the raw timecourse\n",
      "IC1 loaded\n",
      "Loading the raw timecourse\n",
      "IC2 loaded\n",
      "Loading the raw timecourse\n",
      "IC3 loaded\n",
      "Loading the raw timecourse\n",
      "IC4 loaded\n",
      "Computing the PSD of each state\n",
      "Saving the states timecourses and PSDs\n",
      "subj7: OK\n",
      "3.107884645462036 seconds\n",
      "Computing the imput matrix for the model\n",
      "Loading the raw timecourse\n",
      "IC1 loaded\n",
      "Loading the raw timecourse\n",
      "IC2 loaded\n",
      "Loading the raw timecourse\n",
      "IC3 loaded\n",
      "Loading the raw timecourse\n",
      "IC4 loaded\n",
      "Computing the PSD of each state\n",
      "Saving the states timecourses and PSDs\n",
      "subj8: OK\n",
      "3.426683187484741 seconds\n",
      "Computing the imput matrix for the model\n",
      "Loading the raw timecourse\n",
      "IC1 loaded\n",
      "Loading the raw timecourse\n",
      "IC2 loaded\n",
      "Loading the raw timecourse\n",
      "IC3 loaded\n",
      "Loading the raw timecourse\n",
      "IC4 loaded\n",
      "Computing the PSD of each state\n",
      "Saving the states timecourses and PSDs\n",
      "subj10: OK\n",
      "3.1505126953125 seconds\n",
      "Computing the imput matrix for the model\n",
      "Loading the raw timecourse\n",
      "IC1 loaded\n",
      "Loading the raw timecourse\n",
      "IC2 loaded\n",
      "Loading the raw timecourse\n",
      "IC3 loaded\n",
      "Loading the raw timecourse\n",
      "IC4 loaded\n",
      "Computing the PSD of each state\n",
      "Saving the states timecourses and PSDs\n",
      "subj11: OK\n",
      "3.703124523162842 seconds\n",
      "Computing the imput matrix for the model\n",
      "Loading the raw timecourse\n",
      "IC1 loaded\n",
      "Loading the raw timecourse\n",
      "IC2 loaded\n",
      "Loading the raw timecourse\n",
      "IC3 loaded\n",
      "Loading the raw timecourse\n",
      "IC4 loaded\n",
      "Computing the PSD of each state\n",
      "Saving the states timecourses and PSDs\n",
      "subj14: OK\n",
      "3.050300359725952 seconds\n",
      "Computing the imput matrix for the model\n",
      "Loading the raw timecourse\n",
      "IC1 loaded\n",
      "Loading the raw timecourse\n",
      "IC2 loaded\n",
      "Loading the raw timecourse\n",
      "IC3 loaded\n",
      "Loading the raw timecourse\n",
      "IC4 loaded\n",
      "Computing the PSD of each state\n",
      "Saving the states timecourses and PSDs\n",
      "subj16: OK\n",
      "3.4820713996887207 seconds\n",
      "Computing the imput matrix for the model\n",
      "Loading the raw timecourse\n",
      "IC1 loaded\n",
      "Loading the raw timecourse\n",
      "IC2 loaded\n",
      "Loading the raw timecourse\n",
      "IC3 loaded\n",
      "Loading the raw timecourse\n",
      "IC4 loaded\n",
      "Computing the PSD of each state\n",
      "Saving the states timecourses and PSDs\n",
      "subj18: OK\n",
      "4.181981563568115 seconds\n",
      "Computing the imput matrix for the model\n",
      "Loading the raw timecourse\n",
      "IC1 loaded\n",
      "Loading the raw timecourse\n",
      "IC2 loaded\n",
      "Loading the raw timecourse\n",
      "IC3 loaded\n",
      "Loading the raw timecourse\n",
      "IC4 loaded\n",
      "Computing the PSD of each state\n",
      "Saving the states timecourses and PSDs\n",
      "subj19: OK\n",
      "3.9604053497314453 seconds\n",
      "Computing the imput matrix for the model\n",
      "Loading the raw timecourse\n",
      "IC1 loaded\n",
      "Loading the raw timecourse\n",
      "IC2 loaded\n",
      "Loading the raw timecourse\n",
      "IC3 loaded\n",
      "Loading the raw timecourse\n",
      "IC4 loaded\n",
      "Computing the PSD of each state\n",
      "Saving the states timecourses and PSDs\n",
      "subj22: OK\n",
      "4.006521224975586 seconds\n"
     ]
    }
   ],
   "source": [
    "for subj in subj_list:\n",
    "    start_time = tm.time()\n",
    "    # Loading all data for subject{subj}\n",
    "    print(\"Computing the imput matrix for the model\")\n",
    "    xeall = []\n",
    "    IC_list = []\n",
    "    for IC in range(1, n_IC+1):\n",
    "            try:\n",
    "                data, n_trials = load_oneIC(mat_file, cells_refs, subj, IC, comp=False)\n",
    "                big_timecourse = np.concatenate([data[f'raw_timecourse_256Hz'][i][::downsamp_rate] for i in range(n_trials)])\n",
    "                    # Downsampled to 256/3 = 85,33333Hz\n",
    "                big_timecourse = scale(big_timecourse)\n",
    "                x = big_timecourse.reshape(-1, 1)\n",
    "                xe, valid = embedx(x, lags)\n",
    "                xeall.append(xe[0, :, :])\n",
    "                IC_list.append(IC)\n",
    "                print(f\"IC{IC} loaded\")\n",
    "            except:\n",
    "                pass\n",
    "    y = np.concatenate(xeall, axis=1)\n",
    "    gamma = model.predict_proba(y)\n",
    "    print(\"Computing the PSD of each state\")\n",
    "    psds = []\n",
    "    for i in range(len(IC_list)):\n",
    "        freqs, psd = statesPSD(gamma, n_states, xeall[i])\n",
    "        psd = psd[np.newaxis,]\n",
    "        psds.append(psd)\n",
    "    # Save the states timecourses and PSDs thanks to xarray and netCDF\n",
    "    print(\"Saving the states timecourses and PSDs\")\n",
    "    tcourse = np.concatenate(\n",
    "        (np.zeros((abs(lags[0]),n_states)), gamma, np.zeros((lags[-1],n_states)))\n",
    "    )\n",
    "    time_axis = data[\"time_axis\"][::downsamp_rate]\n",
    "    t_len = time_axis.shape[0]\n",
    "    tcourse_trials = np.zeros((n_trials, t_len, n_states))\n",
    "    for tr in range(n_trials):\n",
    "        tcourse_trials[tr] = tcourse[tr*t_len:(tr+1)*t_len]\n",
    "    ds = xr.Dataset(\n",
    "        {\n",
    "            \"states_timecourse\": ((\"trials\",\"time\", \"states\"), tcourse_trials),\n",
    "            \"states_psd\": ((\"IC\", \"states\", \"freq\"), np.concatenate((psds))),\n",
    "        },\n",
    "        {\n",
    "            \"IC\":IC_list,\n",
    "            \"time\":time_axis,\n",
    "            \"states\":np.arange(1, n_states+1),\n",
    "            \"freq\": freqs,\n",
    "        }\n",
    "    )\n",
    "    ds = ds.assign(frac_occ = (ds[\"states_timecourse\"].sum(\"trials\")/ds.sizes[\"trials\"]))\n",
    "    ds.to_netcdf(f\"tde-hmm2/test_files/su{subj}-{n_states}states_woPCA_preModel_data_Multi.nc\")\n",
    "    \n",
    "    \n",
    "    print(f\"subj{subj}: OK\")\n",
    "    \n",
    "    print(\"%s seconds\" % (tm.time() - start_time))"
   ]
  },
  {
   "cell_type": "code",
   "execution_count": 44,
   "metadata": {},
   "outputs": [
    {
     "name": "stdout",
     "output_type": "stream",
     "text": [
      "Loading the raw timecourse\n",
      "Loading the raw timecourse\n",
      "Loading the raw timecourse\n",
      "Loading the raw timecourse\n",
      "Loading the raw timecourse\n",
      "Loading the raw timecourse\n",
      "Loading the raw timecourse\n",
      "Loading the raw timecourse\n",
      "Loading the raw timecourse\n",
      "Loading the raw timecourse\n",
      "Loading the raw timecourse\n",
      "Loading the raw timecourse\n",
      "Loading the raw timecourse\n",
      "Loading the raw timecourse\n",
      "Loading the raw timecourse\n",
      "Loading the raw timecourse\n",
      "Loading the raw timecourse\n",
      "Loading the raw timecourse\n",
      "Loading the raw timecourse\n",
      "Loading the raw timecourse\n",
      "Loading the raw timecourse\n",
      "Loading the raw timecourse\n",
      "Loading the raw timecourse\n",
      "Loading the raw timecourse\n",
      "Loading the raw timecourse\n",
      "Loading the raw timecourse\n",
      "Loading the raw timecourse\n",
      "Loading the raw timecourse\n",
      "Loading the raw timecourse\n",
      "Loading the raw timecourse\n",
      "Loading the raw timecourse\n",
      "Loading the raw timecourse\n",
      "Loading the raw timecourse\n",
      "Loading the raw timecourse\n",
      "Loading the raw timecourse\n",
      "Loading the raw timecourse\n",
      "Loading the raw timecourse\n",
      "Loading the raw timecourse\n",
      "Loading the raw timecourse\n",
      "Loading the raw timecourse\n",
      "Loading the raw timecourse\n",
      "Loading the raw timecourse\n",
      "Loading the raw timecourse\n",
      "Loading the raw timecourse\n",
      "Loading the raw timecourse\n",
      "Loading the raw timecourse\n",
      "Loading the raw timecourse\n",
      "Loading the raw timecourse\n",
      "Loading the raw timecourse\n",
      "Loading the raw timecourse\n",
      "Loading the raw timecourse\n",
      "Loading the raw timecourse\n"
     ]
    }
   ],
   "source": [
    "widths = [14, 1, 5]\n",
    "heights = [1,1,1,4,4,4,4]\n",
    "gs_kw = dict(width_ratios=widths, height_ratios=heights, wspace=0.0, hspace=0.0)\n",
    "info = mne.create_info(ch_names=['signal'], sfreq=256, ch_types=['eeg'])\n",
    "for subj in subj_list:\n",
    "    fig, f_axes = plt.subplots(figsize=(sum(widths),sum(heights)), ncols=3, nrows=(n_states+4), constrained_layout=True,\n",
    "                             gridspec_kw=gs_kw)\n",
    "    ds = xr.open_dataset(f\"tde-hmm2/test_files/su{subj}-{n_states}states_woPCA_preModel_data_Multi.nc\")\n",
    "    for state in ds[\"states\"].values:\n",
    "        ax = f_axes[state-1,0]\n",
    "    #         ax.set_xticks([])\n",
    "        ax.plot(ds[\"time\"].values, ds[\"frac_occ\"].values[:, state-1], color=f\"C{state-1}\")\n",
    "        ax.set_xlim([-4, 3])\n",
    "        ax.set_ylabel(f\"state {state}\")\n",
    "    for IC in ds[\"IC\"].values:\n",
    "        ax = f_axes[IC+n_states-1,0]\n",
    "        data, n_trials = load_oneIC(mat_file, cells_refs, subj, IC, comp=False)\n",
    "        tfr = wavelet_transform2(data, info, trial=np.arange(1,n_trials+1))\n",
    "        mappable = ax.imshow(tfr[0], aspect='auto', origin='lower', extent=[-4, 3, 2, 50], \n",
    "                               norm=colors.PowerNorm(gamma=0.5), cmap='RdYlBu_r')\n",
    "        ax.set_ylabel(f'Frequencies IC{IC} (Hz)')\n",
    "        fig.colorbar(mappable, cax=f_axes[IC+n_states-1,1])\n",
    "    #         if IC!=4:\n",
    "    #             ax.set_xticks([])\n",
    "    for i in range(len(ds[\"IC\"].values)):\n",
    "        IC = ds[\"IC\"].values[i]\n",
    "        ax = f_axes[IC+n_states-1,2]\n",
    "        ax.plot(ds[\"freq\"].values, ds[\"states_psd\"].values[i,].T)\n",
    "        ax.set_ylabel(f'PSD IC{IC}')\n",
    "    ax = f_axes[n_states,2]\n",
    "    lines = ax.get_lines()\n",
    "    labels = [f\"State {i}\" for i in range (1, n_states+1)]\n",
    "    ax = f_axes[0,2]\n",
    "    ax.legend(lines, labels, loc='upper left')\n",
    "    ax = f_axes[n_states+3,0]\n",
    "    ax.set_xlabel(f'Time (s)') \n",
    "    ax = f_axes[n_states+3,2]\n",
    "    ax.set_xlabel(f'Frequency (Hz)')   \n",
    "\n",
    "    fig.savefig(target_dir + f'grid-{n_states}states-subj{subj}_woPCA_preModel.png', dpi=300)\n",
    "    plt.close(fig)"
   ]
  },
  {
   "cell_type": "code",
   "execution_count": 45,
   "metadata": {},
   "outputs": [],
   "source": [
    "n_trials_to_plot = 5\n",
    "for subj in subj_list:\n",
    "    fig, f_axes = plt.subplots(figsize=(20,n_states*n_trials_to_plot), ncols=1, nrows=(n_states*n_trials_to_plot), constrained_layout=True)\n",
    "    ds = xr.open_dataset(f\"tde-hmm2/test_files/su{subj}-{n_states}states_woPCA_preModel_data_Multi.nc\")\n",
    "    for state in range(1, n_states+1):\n",
    "        color = f\"C{state-1}\"\n",
    "        for trial in range(1, n_trials_to_plot+1):\n",
    "            ax = f_axes[n_trials_to_plot*(state-1)+trial-1]\n",
    "            ax.fill_between(ds[\"time\"], ds[\"states_timecourse\"].values[trial, :, state-1], color=color)\n",
    "            ax.set_xlim([-4, 3])\n",
    "            ax.set_ylim([0, 1])\n",
    "            ax.set_ylabel(f\"Prob. st{state} tr{trial}\")\n",
    "    ax.set_xlabel(\"Time (s)\")\n",
    "    fig.savefig(target_dir + f'tcourses-{n_states}states-subj{subj}_woPCA_preModel.png', dpi=300)\n",
    "    plt.close(fig)"
   ]
  },
  {
   "cell_type": "markdown",
   "metadata": {},
   "source": [
    "## Tests"
   ]
  },
  {
   "cell_type": "code",
   "execution_count": 14,
   "metadata": {},
   "outputs": [],
   "source": [
    "subj = 2\n",
    "freqs = np.arange(0, 50, 50/196)"
   ]
  },
  {
   "cell_type": "code",
   "execution_count": 15,
   "metadata": {},
   "outputs": [],
   "source": [
    "n_states = 3"
   ]
  },
  {
   "cell_type": "code",
   "execution_count": 16,
   "metadata": {
    "scrolled": true
   },
   "outputs": [
    {
     "name": "stdout",
     "output_type": "stream",
     "text": [
      "Loading the raw timecourse\n",
      "IC1 loaded\n",
      "Loading the raw timecourse\n",
      "IC2 loaded\n",
      "Loading the raw timecourse\n",
      "IC3 loaded\n",
      "Loading the raw timecourse\n",
      "IC4 loaded\n"
     ]
    }
   ],
   "source": [
    "for IC in range(1, n_IC+1):\n",
    "#             try:\n",
    "    data, n_trials = load_oneIC(mat_file, cells_refs, subj, IC, comp=False)\n",
    "    big_timecourse = np.concatenate([data[f'raw_timecourse_256Hz'][i][::downsamp_rate] for i in range(100)])\n",
    "        # Downsampled to 256/3 = 85,33333Hz\n",
    "    big_timecourse = scale(big_timecourse)\n",
    "    x = big_timecourse.reshape(-1, 1)\n",
    "    xe, valid = embedx(x, lags)\n",
    "    xeall.append(xe[0, :, :])\n",
    "    IC_list.append(IC)\n",
    "    print(f\"IC{IC} loaded\")\n",
    "#             except:\n",
    "#                 pass"
   ]
  },
  {
   "cell_type": "code",
   "execution_count": 21,
   "metadata": {},
   "outputs": [
    {
     "data": {
      "text/plain": [
       "4"
      ]
     },
     "execution_count": 21,
     "metadata": {},
     "output_type": "execute_result"
    }
   ],
   "source": [
    "len(xeall)"
   ]
  },
  {
   "cell_type": "code",
   "execution_count": 20,
   "metadata": {},
   "outputs": [
    {
     "data": {
      "text/plain": [
       "[1, 2, 3, 4]"
      ]
     },
     "execution_count": 20,
     "metadata": {},
     "output_type": "execute_result"
    }
   ],
   "source": [
    "IC_list"
   ]
  },
  {
   "cell_type": "markdown",
   "metadata": {},
   "source": [
    "##### Concatenate all subjects and create array with sizes"
   ]
  },
  {
   "cell_type": "code",
   "execution_count": 38,
   "metadata": {},
   "outputs": [],
   "source": [
    "subj_lengths = []\n",
    "tde_imput = []"
   ]
  },
  {
   "cell_type": "code",
   "execution_count": 39,
   "metadata": {
    "scrolled": true
   },
   "outputs": [
    {
     "name": "stdout",
     "output_type": "stream",
     "text": [
      "Computing the imput matrix for the model\n",
      "Loading the raw timecourse\n",
      "IC1 loaded\n",
      "Loading the raw timecourse\n",
      "IC2 loaded\n",
      "Loading the raw timecourse\n",
      "IC3 loaded\n",
      "Loading the raw timecourse\n",
      "IC4 loaded\n"
     ]
    }
   ],
   "source": [
    "# Loading all data for subject{subj}\n",
    "print(\"Computing the imput matrix for the model\")\n",
    "xeall = []\n",
    "IC_list = []\n",
    "for IC in range(1, n_IC+1):\n",
    "#         try:\n",
    "        data, n_trials = load_oneIC(mat_file, cells_refs, subj, IC, comp=False)\n",
    "        big_timecourse = np.concatenate([data[f'raw_timecourse_256Hz'][i][::downsamp_rate] for i in range(n_trials)])\n",
    "            # Downsampled to 256/3 = 85,33333Hz\n",
    "        big_timecourse = scale(big_timecourse)\n",
    "        x = big_timecourse.reshape(-1, 1)\n",
    "        xe, valid = embedx(x, lags)\n",
    "        xeall.append(xe[0, :, :])\n",
    "        IC_list.append(IC)\n",
    "        print(f\"IC{IC} loaded\")\n",
    "#         except:\n",
    "#             pass\n",
    "y = np.concatenate(xeall, axis=1)\n",
    "tde_imput.append(y)\n",
    "subj_lengths.append(big_timecourse.shape[0])"
   ]
  },
  {
   "cell_type": "code",
   "execution_count": 40,
   "metadata": {},
   "outputs": [
    {
     "data": {
      "text/plain": [
       "(403641, 10)"
      ]
     },
     "execution_count": 40,
     "metadata": {},
     "output_type": "execute_result"
    }
   ],
   "source": [
    "xeall[0].shape"
   ]
  },
  {
   "cell_type": "code",
   "execution_count": 41,
   "metadata": {},
   "outputs": [
    {
     "name": "stdout",
     "output_type": "stream",
     "text": [
      "Computing and saving the model\n",
      "227.788507938385 seconds\n"
     ]
    }
   ],
   "source": [
    "start_time = tm.time()\n",
    "print(\"Computing and saving the model\")\n",
    "model = hmm.GaussianHMM(n_components=n_states, n_iter=n_iter,\n",
    "                        covariance_type=covariance_type, tol=tol)\n",
    "model.fit(y)\n",
    "gamma = model.predict_proba(y)\n",
    "with open(f\"tde-hmm2/test_files/su{subj}All_lg{n_lags}co{n_components}st{n_states}\"\n",
    "    +f\"{n_mix}\"+model_type+\"_woPCA_model.pkl\", \"wb\") as file: pickle.dump(model, file)\n",
    "print(\"%s seconds\" % (tm.time() - start_time))"
   ]
  },
  {
   "cell_type": "code",
   "execution_count": 42,
   "metadata": {},
   "outputs": [
    {
     "name": "stdout",
     "output_type": "stream",
     "text": [
      "Computing the PSD of each state\n"
     ]
    }
   ],
   "source": [
    "print(\"Computing the PSD of each state\")\n",
    "psds = []\n",
    "for i in range(len(IC_list)):\n",
    "    freqs, psd = statesPSD(gamma, n_states, xeall[i])\n",
    "    psd = psd[np.newaxis,]\n",
    "    psds.append(psd)"
   ]
  },
  {
   "cell_type": "code",
   "execution_count": 43,
   "metadata": {},
   "outputs": [
    {
     "data": {
      "text/plain": [
       "[<matplotlib.lines.Line2D at 0x7fe8b4ef23d0>,\n",
       " <matplotlib.lines.Line2D at 0x7fe8b4ef2340>,\n",
       " <matplotlib.lines.Line2D at 0x7fe8b4ee9970>]"
      ]
     },
     "execution_count": 43,
     "metadata": {},
     "output_type": "execute_result"
    },
    {
     "data": {
      "image/png": "[encoded data removed]",
      "text/plain": [
       "<Figure size 432x288 with 1 Axes>"
      ]
     },
     "metadata": {
      "needs_background": "light"
     },
     "output_type": "display_data"
    }
   ],
   "source": [
    "plt.plot(freqs, psds[0][0].T)"
   ]
  },
  {
   "cell_type": "code",
   "execution_count": 44,
   "metadata": {},
   "outputs": [
    {
     "data": {
      "text/plain": [
       "(598,)"
      ]
     },
     "execution_count": 44,
     "metadata": {},
     "output_type": "execute_result"
    }
   ],
   "source": [
    "data[\"time_axis\"][::downsamp_rate].shape"
   ]
  },
  {
   "cell_type": "code",
   "execution_count": 45,
   "metadata": {},
   "outputs": [
    {
     "data": {
      "text/plain": [
       "598.0"
      ]
     },
     "execution_count": 45,
     "metadata": {},
     "output_type": "execute_result"
    }
   ],
   "source": [
    "(gamma.shape[0]+9)/n_trials"
   ]
  },
  {
   "cell_type": "code",
   "execution_count": 46,
   "metadata": {},
   "outputs": [
    {
     "name": "stdout",
     "output_type": "stream",
     "text": [
      "Saving the states timecourses and PSDs\n",
      "subj2, IC4: OK\n"
     ]
    }
   ],
   "source": [
    "# Save the states timecourses and PSDs thanks to xarray and netCDF\n",
    "print(\"Saving the states timecourses and PSDs\")\n",
    "tcourse = np.concatenate(\n",
    "    (np.zeros((abs(lags[0]),n_states)), gamma, np.zeros((lags[-1],n_states)))\n",
    ")\n",
    "time_axis = data[\"time_axis\"][::downsamp_rate]\n",
    "t_len = time_axis.shape[0]\n",
    "tcourse_trials = np.zeros((n_trials, t_len, n_states))\n",
    "for tr in range(n_trials):\n",
    "    tcourse_trials[tr] = tcourse[tr*t_len:(tr+1)*t_len]\n",
    "ds = xr.Dataset(\n",
    "    {\n",
    "        \"states_timecourse\": ((\"trials\",\"time\", \"states\"), tcourse_trials),\n",
    "        \"states_psd\": ((\"IC\", \"states\", \"freq\"), np.concatenate((psds))),\n",
    "    },\n",
    "    {\n",
    "        \"IC\":IC_list,\n",
    "        \"time\":time_axis,\n",
    "        \"states\":np.arange(1, n_states+1),\n",
    "        \"freq\": freqs,\n",
    "    }\n",
    ")\n",
    "ds.to_netcdf(f\"tde-hmm2/test_files/su{subj}-{n_states}states_woPCA_data.nc\")\n",
    "print(f\"subj{subj}, IC{IC}: OK\")"
   ]
  },
  {
   "cell_type": "code",
   "execution_count": 47,
   "metadata": {},
   "outputs": [
    {
     "data": {
      "text/plain": [
       "(598,)"
      ]
     },
     "execution_count": 47,
     "metadata": {},
     "output_type": "execute_result"
    }
   ],
   "source": [
    "time_axis.shape"
   ]
  },
  {
   "cell_type": "code",
   "execution_count": 48,
   "metadata": {},
   "outputs": [
    {
     "data": {
      "text/html": [
       "<div><svg style=\"position: absolute; width: 0; height: 0; overflow: hidden\">\n",
       "<defs>\n",
       "<symbol id=\"icon-database\" viewBox=\"0 0 32 32\">\n",
       "<path d=\"M16 0c-8.837 0-16 2.239-16 5v4c0 2.761 7.163 5 16 5s16-2.239 16-5v-4c0-2.761-7.163-5-16-5z\"></path>\n",
       "<path d=\"M16 17c-8.837 0-16-2.239-16-5v6c0 2.761 7.163 5 16 5s16-2.239 16-5v-6c0 2.761-7.163 5-16 5z\"></path>\n",
       "<path d=\"M16 26c-8.837 0-16-2.239-16-5v6c0 2.761 7.163 5 16 5s16-2.239 16-5v-6c0 2.761-7.163 5-16 5z\"></path>\n",
       "</symbol>\n",
       "<symbol id=\"icon-file-text2\" viewBox=\"0 0 32 32\">\n",
       "<path d=\"M28.681 7.159c-0.694-0.947-1.662-2.053-2.724-3.116s-2.169-2.030-3.116-2.724c-1.612-1.182-2.393-1.319-2.841-1.319h-15.5c-1.378 0-2.5 1.121-2.5 2.5v27c0 1.378 1.122 2.5 2.5 2.5h23c1.378 0 2.5-1.122 2.5-2.5v-19.5c0-0.448-0.137-1.23-1.319-2.841zM24.543 5.457c0.959 0.959 1.712 1.825 2.268 2.543h-4.811v-4.811c0.718 0.556 1.584 1.309 2.543 2.268zM28 29.5c0 0.271-0.229 0.5-0.5 0.5h-23c-0.271 0-0.5-0.229-0.5-0.5v-27c0-0.271 0.229-0.5 0.5-0.5 0 0 15.499-0 15.5 0v7c0 0.552 0.448 1 1 1h7v19.5z\"></path>\n",
       "<path d=\"M23 26h-14c-0.552 0-1-0.448-1-1s0.448-1 1-1h14c0.552 0 1 0.448 1 1s-0.448 1-1 1z\"></path>\n",
       "<path d=\"M23 22h-14c-0.552 0-1-0.448-1-1s0.448-1 1-1h14c0.552 0 1 0.448 1 1s-0.448 1-1 1z\"></path>\n",
       "<path d=\"M23 18h-14c-0.552 0-1-0.448-1-1s0.448-1 1-1h14c0.552 0 1 0.448 1 1s-0.448 1-1 1z\"></path>\n",
       "</symbol>\n",
       "</defs>\n",
       "</svg>\n",
       "<style>/* CSS stylesheet for displaying xarray objects in jupyterlab.\n",
       " *\n",
       " */\n",
       "\n",
       ":root {\n",
       "  --xr-font-color0: var(--jp-content-font-color0, rgba(0, 0, 0, 1));\n",
       "  --xr-font-color2: var(--jp-content-font-color2, rgba(0, 0, 0, 0.54));\n",
       "  --xr-font-color3: var(--jp-content-font-color3, rgba(0, 0, 0, 0.38));\n",
       "  --xr-border-color: var(--jp-border-color2, #e0e0e0);\n",
       "  --xr-disabled-color: var(--jp-layout-color3, #bdbdbd);\n",
       "  --xr-background-color: var(--jp-layout-color0, white);\n",
       "  --xr-background-color-row-even: var(--jp-layout-color1, white);\n",
       "  --xr-background-color-row-odd: var(--jp-layout-color2, #eeeeee);\n",
       "}\n",
       "\n",
       "html[theme=dark],\n",
       "body.vscode-dark {\n",
       "  --xr-font-color0: rgba(255, 255, 255, 1);\n",
       "  --xr-font-color2: rgba(255, 255, 255, 0.54);\n",
       "  --xr-font-color3: rgba(255, 255, 255, 0.38);\n",
       "  --xr-border-color: #1F1F1F;\n",
       "  --xr-disabled-color: #515151;\n",
       "  --xr-background-color: #111111;\n",
       "  --xr-background-color-row-even: #111111;\n",
       "  --xr-background-color-row-odd: #313131;\n",
       "}\n",
       "\n",
       ".xr-wrap {\n",
       "  display: block;\n",
       "  min-width: 300px;\n",
       "  max-width: 700px;\n",
       "}\n",
       "\n",
       ".xr-text-repr-fallback {\n",
       "  /* fallback to plain text repr when CSS is not injected (untrusted notebook) */\n",
       "  display: none;\n",
       "}\n",
       "\n",
       ".xr-header {\n",
       "  padding-top: 6px;\n",
       "  padding-bottom: 6px;\n",
       "  margin-bottom: 4px;\n",
       "  border-bottom: solid 1px var(--xr-border-color);\n",
       "}\n",
       "\n",
       ".xr-header > div,\n",
       ".xr-header > ul {\n",
       "  display: inline;\n",
       "  margin-top: 0;\n",
       "  margin-bottom: 0;\n",
       "}\n",
       "\n",
       ".xr-obj-type,\n",
       ".xr-array-name {\n",
       "  margin-left: 2px;\n",
       "  margin-right: 10px;\n",
       "}\n",
       "\n",
       ".xr-obj-type {\n",
       "  color: var(--xr-font-color2);\n",
       "}\n",
       "\n",
       ".xr-sections {\n",
       "  padding-left: 0 !important;\n",
       "  display: grid;\n",
       "  grid-template-columns: 150px auto auto 1fr 20px 20px;\n",
       "}\n",
       "\n",
       ".xr-section-item {\n",
       "  display: contents;\n",
       "}\n",
       "\n",
       ".xr-section-item input {\n",
       "  display: none;\n",
       "}\n",
       "\n",
       ".xr-section-item input + label {\n",
       "  color: var(--xr-disabled-color);\n",
       "}\n",
       "\n",
       ".xr-section-item input:enabled + label {\n",
       "  cursor: pointer;\n",
       "  color: var(--xr-font-color2);\n",
       "}\n",
       "\n",
       ".xr-section-item input:enabled + label:hover {\n",
       "  color: var(--xr-font-color0);\n",
       "}\n",
       "\n",
       ".xr-section-summary {\n",
       "  grid-column: 1;\n",
       "  color: var(--xr-font-color2);\n",
       "  font-weight: 500;\n",
       "}\n",
       "\n",
       ".xr-section-summary > span {\n",
       "  display: inline-block;\n",
       "  padding-left: 0.5em;\n",
       "}\n",
       "\n",
       ".xr-section-summary-in:disabled + label {\n",
       "  color: var(--xr-font-color2);\n",
       "}\n",
       "\n",
       ".xr-section-summary-in + label:before {\n",
       "  display: inline-block;\n",
       "  content: '►';\n",
       "  font-size: 11px;\n",
       "  width: 15px;\n",
       "  text-align: center;\n",
       "}\n",
       "\n",
       ".xr-section-summary-in:disabled + label:before {\n",
       "  color: var(--xr-disabled-color);\n",
       "}\n",
       "\n",
       ".xr-section-summary-in:checked + label:before {\n",
       "  content: '▼';\n",
       "}\n",
       "\n",
       ".xr-section-summary-in:checked + label > span {\n",
       "  display: none;\n",
       "}\n",
       "\n",
       ".xr-section-summary,\n",
       ".xr-section-inline-details {\n",
       "  padding-top: 4px;\n",
       "  padding-bottom: 4px;\n",
       "}\n",
       "\n",
       ".xr-section-inline-details {\n",
       "  grid-column: 2 / -1;\n",
       "}\n",
       "\n",
       ".xr-section-details {\n",
       "  display: none;\n",
       "  grid-column: 1 / -1;\n",
       "  margin-bottom: 5px;\n",
       "}\n",
       "\n",
       ".xr-section-summary-in:checked ~ .xr-section-details {\n",
       "  display: contents;\n",
       "}\n",
       "\n",
       ".xr-array-wrap {\n",
       "  grid-column: 1 / -1;\n",
       "  display: grid;\n",
       "  grid-template-columns: 20px auto;\n",
       "}\n",
       "\n",
       ".xr-array-wrap > label {\n",
       "  grid-column: 1;\n",
       "  vertical-align: top;\n",
       "}\n",
       "\n",
       ".xr-preview {\n",
       "  color: var(--xr-font-color3);\n",
       "}\n",
       "\n",
       ".xr-array-preview,\n",
       ".xr-array-data {\n",
       "  padding: 0 5px !important;\n",
       "  grid-column: 2;\n",
       "}\n",
       "\n",
       ".xr-array-data,\n",
       ".xr-array-in:checked ~ .xr-array-preview {\n",
       "  display: none;\n",
       "}\n",
       "\n",
       ".xr-array-in:checked ~ .xr-array-data,\n",
       ".xr-array-preview {\n",
       "  display: inline-block;\n",
       "}\n",
       "\n",
       ".xr-dim-list {\n",
       "  display: inline-block !important;\n",
       "  list-style: none;\n",
       "  padding: 0 !important;\n",
       "  margin: 0;\n",
       "}\n",
       "\n",
       ".xr-dim-list li {\n",
       "  display: inline-block;\n",
       "  padding: 0;\n",
       "  margin: 0;\n",
       "}\n",
       "\n",
       ".xr-dim-list:before {\n",
       "  content: '(';\n",
       "}\n",
       "\n",
       ".xr-dim-list:after {\n",
       "  content: ')';\n",
       "}\n",
       "\n",
       ".xr-dim-list li:not(:last-child):after {\n",
       "  content: ',';\n",
       "  padding-right: 5px;\n",
       "}\n",
       "\n",
       ".xr-has-index {\n",
       "  font-weight: bold;\n",
       "}\n",
       "\n",
       ".xr-var-list,\n",
       ".xr-var-item {\n",
       "  display: contents;\n",
       "}\n",
       "\n",
       ".xr-var-item > div,\n",
       ".xr-var-item label,\n",
       ".xr-var-item > .xr-var-name span {\n",
       "  background-color: var(--xr-background-color-row-even);\n",
       "  margin-bottom: 0;\n",
       "}\n",
       "\n",
       ".xr-var-item > .xr-var-name:hover span {\n",
       "  padding-right: 5px;\n",
       "}\n",
       "\n",
       ".xr-var-list > li:nth-child(odd) > div,\n",
       ".xr-var-list > li:nth-child(odd) > label,\n",
       ".xr-var-list > li:nth-child(odd) > .xr-var-name span {\n",
       "  background-color: var(--xr-background-color-row-odd);\n",
       "}\n",
       "\n",
       ".xr-var-name {\n",
       "  grid-column: 1;\n",
       "}\n",
       "\n",
       ".xr-var-dims {\n",
       "  grid-column: 2;\n",
       "}\n",
       "\n",
       ".xr-var-dtype {\n",
       "  grid-column: 3;\n",
       "  text-align: right;\n",
       "  color: var(--xr-font-color2);\n",
       "}\n",
       "\n",
       ".xr-var-preview {\n",
       "  grid-column: 4;\n",
       "}\n",
       "\n",
       ".xr-var-name,\n",
       ".xr-var-dims,\n",
       ".xr-var-dtype,\n",
       ".xr-preview,\n",
       ".xr-attrs dt {\n",
       "  white-space: nowrap;\n",
       "  overflow: hidden;\n",
       "  text-overflow: ellipsis;\n",
       "  padding-right: 10px;\n",
       "}\n",
       "\n",
       ".xr-var-name:hover,\n",
       ".xr-var-dims:hover,\n",
       ".xr-var-dtype:hover,\n",
       ".xr-attrs dt:hover {\n",
       "  overflow: visible;\n",
       "  width: auto;\n",
       "  z-index: 1;\n",
       "}\n",
       "\n",
       ".xr-var-attrs,\n",
       ".xr-var-data {\n",
       "  display: none;\n",
       "  background-color: var(--xr-background-color) !important;\n",
       "  padding-bottom: 5px !important;\n",
       "}\n",
       "\n",
       ".xr-var-attrs-in:checked ~ .xr-var-attrs,\n",
       ".xr-var-data-in:checked ~ .xr-var-data {\n",
       "  display: block;\n",
       "}\n",
       "\n",
       ".xr-var-data > table {\n",
       "  float: right;\n",
       "}\n",
       "\n",
       ".xr-var-name span,\n",
       ".xr-var-data,\n",
       ".xr-attrs {\n",
       "  padding-left: 25px !important;\n",
       "}\n",
       "\n",
       ".xr-attrs,\n",
       ".xr-var-attrs,\n",
       ".xr-var-data {\n",
       "  grid-column: 1 / -1;\n",
       "}\n",
       "\n",
       "dl.xr-attrs {\n",
       "  padding: 0;\n",
       "  margin: 0;\n",
       "  display: grid;\n",
       "  grid-template-columns: 125px auto;\n",
       "}\n",
       "\n",
       ".xr-attrs dt,\n",
       ".xr-attrs dd {\n",
       "  padding: 0;\n",
       "  margin: 0;\n",
       "  float: left;\n",
       "  padding-right: 10px;\n",
       "  width: auto;\n",
       "}\n",
       "\n",
       ".xr-attrs dt {\n",
       "  font-weight: normal;\n",
       "  grid-column: 1;\n",
       "}\n",
       "\n",
       ".xr-attrs dt:hover span {\n",
       "  display: inline-block;\n",
       "  background: var(--xr-background-color);\n",
       "  padding-right: 10px;\n",
       "}\n",
       "\n",
       ".xr-attrs dd {\n",
       "  grid-column: 2;\n",
       "  white-space: pre-wrap;\n",
       "  word-break: break-all;\n",
       "}\n",
       "\n",
       ".xr-icon-database,\n",
       ".xr-icon-file-text2 {\n",
       "  display: inline-block;\n",
       "  vertical-align: middle;\n",
       "  width: 1em;\n",
       "  height: 1.5em !important;\n",
       "  stroke-width: 0;\n",
       "  stroke: currentColor;\n",
       "  fill: currentColor;\n",
       "}\n",
       "</style><pre class='xr-text-repr-fallback'>&lt;xarray.Dataset&gt;\n",
       "Dimensions:            (IC: 4, freq: 501, states: 3, time: 598, trials: 675)\n",
       "Coordinates:\n",
       "  * IC                 (IC) int64 1 2 3 4\n",
       "  * time               (time) float64 -4.0 -3.988 -3.977 ... 2.973 2.984 2.996\n",
       "  * states             (states) int64 1 2 3\n",
       "  * freq               (freq) float64 0.0 0.08533 0.1707 ... 42.5 42.58 42.67\n",
       "Dimensions without coordinates: trials\n",
       "Data variables:\n",
       "    states_timecourse  (trials, time, states) float64 0.0 0.0 0.0 ... 0.0 0.0\n",
       "    states_psd         (IC, states, freq) float64 0.0153 0.03468 ... 0.001337</pre><div class='xr-wrap' hidden><div class='xr-header'><div class='xr-obj-type'>xarray.Dataset</div></div><ul class='xr-sections'><li class='xr-section-item'><input id='section-acc6611c-1e08-489c-8270-3f7521ba9942' class='xr-section-summary-in' type='checkbox' disabled ><label for='section-acc6611c-1e08-489c-8270-3f7521ba9942' class='xr-section-summary'  title='Expand/collapse section'>Dimensions:</label><div class='xr-section-inline-details'><ul class='xr-dim-list'><li><span class='xr-has-index'>IC</span>: 4</li><li><span class='xr-has-index'>freq</span>: 501</li><li><span class='xr-has-index'>states</span>: 3</li><li><span class='xr-has-index'>time</span>: 598</li><li><span>trials</span>: 675</li></ul></div><div class='xr-section-details'></div></li><li class='xr-section-item'><input id='section-19b45b96-abd6-461a-aca9-4b0ced26327e' class='xr-section-summary-in' type='checkbox'  checked><label for='section-19b45b96-abd6-461a-aca9-4b0ced26327e' class='xr-section-summary' >Coordinates: <span>(4)</span></label><div class='xr-section-inline-details'></div><div class='xr-section-details'><ul class='xr-var-list'><li class='xr-var-item'><div class='xr-var-name'><span class='xr-has-index'>IC</span></div><div class='xr-var-dims'>(IC)</div><div class='xr-var-dtype'>int64</div><div class='xr-var-preview xr-preview'>1 2 3 4</div><input id='attrs-55c26f1d-6087-4938-a488-16766cd1ffa8' class='xr-var-attrs-in' type='checkbox' disabled><label for='attrs-55c26f1d-6087-4938-a488-16766cd1ffa8' title='Show/Hide attributes'><svg class='icon xr-icon-file-text2'><use xlink:href='#icon-file-text2'></use></svg></label><input id='data-0b4057cf-6a86-4563-9e84-3847a238adbd' class='xr-var-data-in' type='checkbox'><label for='data-0b4057cf-6a86-4563-9e84-3847a238adbd' title='Show/Hide data repr'><svg class='icon xr-icon-database'><use xlink:href='#icon-database'></use></svg></label><div class='xr-var-attrs'><dl class='xr-attrs'></dl></div><div class='xr-var-data'><pre>array([1, 2, 3, 4])</pre></div></li><li class='xr-var-item'><div class='xr-var-name'><span class='xr-has-index'>time</span></div><div class='xr-var-dims'>(time)</div><div class='xr-var-dtype'>float64</div><div class='xr-var-preview xr-preview'>-4.0 -3.988 -3.977 ... 2.984 2.996</div><input id='attrs-b99e2463-98ba-405f-8eed-c7c7696f99df' class='xr-var-attrs-in' type='checkbox' disabled><label for='attrs-b99e2463-98ba-405f-8eed-c7c7696f99df' title='Show/Hide attributes'><svg class='icon xr-icon-file-text2'><use xlink:href='#icon-file-text2'></use></svg></label><input id='data-f521ab9e-e19f-434a-9bf3-483bc3026f43' class='xr-var-data-in' type='checkbox'><label for='data-f521ab9e-e19f-434a-9bf3-483bc3026f43' title='Show/Hide data repr'><svg class='icon xr-icon-database'><use xlink:href='#icon-database'></use></svg></label><div class='xr-var-attrs'><dl class='xr-attrs'></dl></div><div class='xr-var-data'><pre>array([-4.      , -3.988281, -3.976562, ...,  2.972656,  2.984375,  2.996094])</pre></div></li><li class='xr-var-item'><div class='xr-var-name'><span class='xr-has-index'>states</span></div><div class='xr-var-dims'>(states)</div><div class='xr-var-dtype'>int64</div><div class='xr-var-preview xr-preview'>1 2 3</div><input id='attrs-b1e5541f-eb96-4b06-9575-35a9e44cf991' class='xr-var-attrs-in' type='checkbox' disabled><label for='attrs-b1e5541f-eb96-4b06-9575-35a9e44cf991' title='Show/Hide attributes'><svg class='icon xr-icon-file-text2'><use xlink:href='#icon-file-text2'></use></svg></label><input id='data-61a11257-a9a3-4fc4-a67d-b821f7fbdf6e' class='xr-var-data-in' type='checkbox'><label for='data-61a11257-a9a3-4fc4-a67d-b821f7fbdf6e' title='Show/Hide data repr'><svg class='icon xr-icon-database'><use xlink:href='#icon-database'></use></svg></label><div class='xr-var-attrs'><dl class='xr-attrs'></dl></div><div class='xr-var-data'><pre>array([1, 2, 3])</pre></div></li><li class='xr-var-item'><div class='xr-var-name'><span class='xr-has-index'>freq</span></div><div class='xr-var-dims'>(freq)</div><div class='xr-var-dtype'>float64</div><div class='xr-var-preview xr-preview'>0.0 0.08533 0.1707 ... 42.58 42.67</div><input id='attrs-4916875f-6f83-4da4-9c92-50ce512a4018' class='xr-var-attrs-in' type='checkbox' disabled><label for='attrs-4916875f-6f83-4da4-9c92-50ce512a4018' title='Show/Hide attributes'><svg class='icon xr-icon-file-text2'><use xlink:href='#icon-file-text2'></use></svg></label><input id='data-06e2982d-089d-4c2b-bc5c-ccf0a6ecbff2' class='xr-var-data-in' type='checkbox'><label for='data-06e2982d-089d-4c2b-bc5c-ccf0a6ecbff2' title='Show/Hide data repr'><svg class='icon xr-icon-database'><use xlink:href='#icon-database'></use></svg></label><div class='xr-var-attrs'><dl class='xr-attrs'></dl></div><div class='xr-var-data'><pre>array([ 0.      ,  0.085333,  0.170667, ..., 42.496   , 42.581333, 42.666667])</pre></div></li></ul></div></li><li class='xr-section-item'><input id='section-ab077b11-6f8c-405d-8ef6-53428a367215' class='xr-section-summary-in' type='checkbox'  checked><label for='section-ab077b11-6f8c-405d-8ef6-53428a367215' class='xr-section-summary' >Data variables: <span>(2)</span></label><div class='xr-section-inline-details'></div><div class='xr-section-details'><ul class='xr-var-list'><li class='xr-var-item'><div class='xr-var-name'><span>states_timecourse</span></div><div class='xr-var-dims'>(trials, time, states)</div><div class='xr-var-dtype'>float64</div><div class='xr-var-preview xr-preview'>0.0 0.0 0.0 0.0 ... 0.0 0.0 0.0 0.0</div><input id='attrs-6ab1b95c-2022-4845-bb04-d0f95f221c6b' class='xr-var-attrs-in' type='checkbox' disabled><label for='attrs-6ab1b95c-2022-4845-bb04-d0f95f221c6b' title='Show/Hide attributes'><svg class='icon xr-icon-file-text2'><use xlink:href='#icon-file-text2'></use></svg></label><input id='data-dcdfbd94-2ec0-4a93-a634-49b4ebd61c2d' class='xr-var-data-in' type='checkbox'><label for='data-dcdfbd94-2ec0-4a93-a634-49b4ebd61c2d' title='Show/Hide data repr'><svg class='icon xr-icon-database'><use xlink:href='#icon-database'></use></svg></label><div class='xr-var-attrs'><dl class='xr-attrs'></dl></div><div class='xr-var-data'><pre>array([[[0.00000000e+00, 0.00000000e+00, 0.00000000e+00],\n",
       "        [0.00000000e+00, 0.00000000e+00, 0.00000000e+00],\n",
       "        [0.00000000e+00, 0.00000000e+00, 0.00000000e+00],\n",
       "        ...,\n",
       "        [9.99993395e-01, 3.17921883e-07, 6.28516534e-06],\n",
       "        [9.99994844e-01, 1.52220070e-07, 5.00289147e-06],\n",
       "        [9.99983207e-01, 2.54836601e-07, 1.65388130e-05]],\n",
       "\n",
       "       [[9.98977175e-01, 1.47777425e-06, 1.02134542e-03],\n",
       "        [9.56047056e-01, 4.48061746e-05, 4.39081372e-02],\n",
       "        [7.03090676e-01, 1.64942564e-04, 2.96744380e-01],\n",
       "        ...,\n",
       "        [9.08009378e-01, 9.18559999e-02, 1.34623344e-04],\n",
       "        [9.44723017e-01, 5.50738224e-02, 2.03160297e-04],\n",
       "        [9.76452336e-01, 2.30434510e-02, 5.04211310e-04]],\n",
       "\n",
       "       [[9.98029600e-01, 1.64857570e-03, 3.21824096e-04],\n",
       "        [9.99802706e-01, 6.72732360e-05, 1.30022112e-04],\n",
       "        [9.99806050e-01, 3.69415432e-06, 1.90255103e-04],\n",
       "        ...,\n",
       "...\n",
       "        ...,\n",
       "        [1.92850241e-02, 4.32191397e-06, 9.80710653e-01],\n",
       "        [3.64954410e-02, 2.83235850e-06, 9.63501728e-01],\n",
       "        [4.54362509e-02, 4.39911347e-06, 9.54559350e-01]],\n",
       "\n",
       "       [[4.05441353e-02, 6.43235746e-06, 9.59449431e-01],\n",
       "        [2.96171450e-02, 3.91553169e-06, 9.70378939e-01],\n",
       "        [3.35097586e-02, 3.39920010e-06, 9.66486842e-01],\n",
       "        ...,\n",
       "        [1.02881642e-07, 1.18884637e-05, 9.99988008e-01],\n",
       "        [1.50834055e-07, 7.56537328e-06, 9.99992285e-01],\n",
       "        [5.25168656e-07, 1.25410920e-05, 9.99986935e-01]],\n",
       "\n",
       "       [[2.68673695e-04, 9.93957597e-05, 9.99631931e-01],\n",
       "        [6.13574034e-02, 4.36177024e-04, 9.38206418e-01],\n",
       "        [8.45818177e-01, 1.56160151e-05, 1.54166209e-01],\n",
       "        ...,\n",
       "        [0.00000000e+00, 0.00000000e+00, 0.00000000e+00],\n",
       "        [0.00000000e+00, 0.00000000e+00, 0.00000000e+00],\n",
       "        [0.00000000e+00, 0.00000000e+00, 0.00000000e+00]]])</pre></div></li><li class='xr-var-item'><div class='xr-var-name'><span>states_psd</span></div><div class='xr-var-dims'>(IC, states, freq)</div><div class='xr-var-dtype'>float64</div><div class='xr-var-preview xr-preview'>0.0153 0.03468 ... 0.001337</div><input id='attrs-e6f8632f-2fcf-460d-b073-f48ba311d153' class='xr-var-attrs-in' type='checkbox' disabled><label for='attrs-e6f8632f-2fcf-460d-b073-f48ba311d153' title='Show/Hide attributes'><svg class='icon xr-icon-file-text2'><use xlink:href='#icon-file-text2'></use></svg></label><input id='data-b778ebaa-86a0-4378-9044-32299edd4c6e' class='xr-var-data-in' type='checkbox'><label for='data-b778ebaa-86a0-4378-9044-32299edd4c6e' title='Show/Hide data repr'><svg class='icon xr-icon-database'><use xlink:href='#icon-database'></use></svg></label><div class='xr-var-attrs'><dl class='xr-attrs'></dl></div><div class='xr-var-data'><pre>array([[[0.01529677, 0.03467948, 0.04597365, ..., 0.00421303,\n",
       "         0.00418732, 0.00208778],\n",
       "        [0.01360665, 0.03080327, 0.0403876 , ..., 0.00492395,\n",
       "         0.00490399, 0.00244832],\n",
       "        [0.0154937 , 0.03562423, 0.04801445, ..., 0.00432344,\n",
       "         0.00433548, 0.00217039]],\n",
       "\n",
       "       [[0.00922882, 0.02106841, 0.02818955, ..., 0.00317587,\n",
       "         0.00315099, 0.00157062],\n",
       "        [0.012982  , 0.03030052, 0.04191274, ..., 0.00342181,\n",
       "         0.00337475, 0.00167865],\n",
       "        [0.01205364, 0.02787432, 0.03801283, ..., 0.00342   ,\n",
       "         0.00337826, 0.00168141]],\n",
       "\n",
       "       [[0.00949601, 0.021496  , 0.02839217, ..., 0.00378563,\n",
       "         0.00384609, 0.0019347 ],\n",
       "        [0.01382362, 0.03106476, 0.04011467, ..., 0.00591155,\n",
       "         0.00591539, 0.00295669],\n",
       "        [0.00964518, 0.02189347, 0.0288523 , ..., 0.00359814,\n",
       "         0.00352484, 0.00174842]],\n",
       "\n",
       "       [[0.00458741, 0.0105156 , 0.01415294, ..., 0.00223921,\n",
       "         0.00223156, 0.00111409],\n",
       "        [0.00690537, 0.01581326, 0.02110529, ..., 0.00330341,\n",
       "         0.00337679, 0.0017031 ],\n",
       "        [0.00616164, 0.01406452, 0.01869056, ..., 0.00268028,\n",
       "         0.00267526, 0.00133653]]])</pre></div></li></ul></div></li><li class='xr-section-item'><input id='section-367e5607-0560-401a-8872-af42a986343d' class='xr-section-summary-in' type='checkbox' disabled ><label for='section-367e5607-0560-401a-8872-af42a986343d' class='xr-section-summary'  title='Expand/collapse section'>Attributes: <span>(0)</span></label><div class='xr-section-inline-details'></div><div class='xr-section-details'><dl class='xr-attrs'></dl></div></li></ul></div></div>"
      ],
      "text/plain": [
       "<xarray.Dataset>\n",
       "Dimensions:            (IC: 4, freq: 501, states: 3, time: 598, trials: 675)\n",
       "Coordinates:\n",
       "  * IC                 (IC) int64 1 2 3 4\n",
       "  * time               (time) float64 -4.0 -3.988 -3.977 ... 2.973 2.984 2.996\n",
       "  * states             (states) int64 1 2 3\n",
       "  * freq               (freq) float64 0.0 0.08533 0.1707 ... 42.5 42.58 42.67\n",
       "Dimensions without coordinates: trials\n",
       "Data variables:\n",
       "    states_timecourse  (trials, time, states) float64 0.0 0.0 0.0 ... 0.0 0.0\n",
       "    states_psd         (IC, states, freq) float64 0.0153 0.03468 ... 0.001337"
      ]
     },
     "execution_count": 48,
     "metadata": {},
     "output_type": "execute_result"
    }
   ],
   "source": [
    "ds"
   ]
  },
  {
   "cell_type": "code",
   "execution_count": 49,
   "metadata": {},
   "outputs": [],
   "source": [
    "ds = xr.open_dataset(f\"tde-hmm2/test_files/su{subj}-{n_states}states_woPCA_data.nc\")\n",
    "ds = ds.assign(frac_occ = (ds[\"states_timecourse\"].sum(\"trials\")/ds.sizes[\"trials\"]))"
   ]
  },
  {
   "cell_type": "code",
   "execution_count": 50,
   "metadata": {},
   "outputs": [
    {
     "data": {
      "image/png": "[encoded data removed]",
      "text/plain": [
       "<Figure size 2160x432 with 5 Axes>"
      ]
     },
     "metadata": {
      "needs_background": "light"
     },
     "output_type": "display_data"
    }
   ],
   "source": [
    "labels = [f\"state {state}\" for state in ds[\"states\"].values]\n",
    "fig = plt.figure(figsize=(6*(len(ds[\"IC\"].values)+1),6))\n",
    "plt.subplot(1, len(ds[\"IC\"].values)+1, 1)\n",
    "plt.title(f'Frac. Occupancy')\n",
    "plt.plot(ds[\"time\"].values, ds[\"frac_occ\"].values)\n",
    "plt.xlabel('Time (s)')\n",
    "plt.ylabel('Frac. occupancy')\n",
    "plt.legend(labels, loc='upper left')\n",
    "for i in range(len(ds[\"IC\"].values)):\n",
    "    plt.subplot(1, len(ds[\"IC\"].values)+1, i+2)\n",
    "    plt.title(f\"Power Spectrum Density of IC{ds['IC'].values[i]}\")\n",
    "    plt.plot(ds[\"freq\"], ds[\"states_psd\"].values[i,].T)\n",
    "    plt.xlabel('Frequency (Hz)')\n",
    "    plt.ylabel('PSD')\n",
    "    plt.legend(labels, loc='upper right')"
   ]
  },
  {
   "cell_type": "code",
   "execution_count": 51,
   "metadata": {},
   "outputs": [
    {
     "name": "stdout",
     "output_type": "stream",
     "text": [
      "su2, 3 states done\n"
     ]
    }
   ],
   "source": [
    "ds.to_netcdf(f\"tde-hmm2/test_files/su{subj}-{n_states}states_woPCA_data_Multi.nc\", mode=\"w\")\n",
    "print(f\"su{subj}, {n_states} states done\")"
   ]
  },
  {
   "cell_type": "code",
   "execution_count": 52,
   "metadata": {},
   "outputs": [],
   "source": [
    "widths = [14, 1, 5]\n",
    "heights = [1,1,1,4,4,4,4]"
   ]
  },
  {
   "cell_type": "code",
   "execution_count": 53,
   "metadata": {},
   "outputs": [],
   "source": [
    "gs_kw = dict(width_ratios=widths, height_ratios=heights, wspace=0.0, hspace=0.0)\n",
    "\n",
    "info = mne.create_info(ch_names=['signal'], sfreq=256/downsamp_rate, ch_types=['eeg'])"
   ]
  },
  {
   "cell_type": "code",
   "execution_count": 54,
   "metadata": {},
   "outputs": [
    {
     "name": "stdout",
     "output_type": "stream",
     "text": [
      "Loading the raw timecourse\n",
      "Loading the raw timecourse\n",
      "Loading the raw timecourse\n",
      "Loading the raw timecourse\n"
     ]
    }
   ],
   "source": [
    "fig, f_axes = plt.subplots(figsize=(sum(widths),sum(heights)), ncols=3, nrows=(n_states+4), constrained_layout=True,\n",
    "                         gridspec_kw=gs_kw)\n",
    "ds = xr.open_dataset(f\"tde-hmm2/test_files/su{subj}-{n_states}states_woPCA_data_Multi.nc\")\n",
    "for state in ds[\"states\"].values:\n",
    "    ax = f_axes[state-1,0]\n",
    "#         ax.set_xticks([])\n",
    "    ax.plot(ds[\"time\"].values, ds[\"frac_occ\"].values[:, state-1], color=f\"C{state-1}\")\n",
    "    ax.set_xlim([-4, 3])\n",
    "    ax.set_ylabel(f\"state {state}\")\n",
    "for IC in ds[\"IC\"].values:\n",
    "    ax = f_axes[IC+n_states-1,0]\n",
    "    data, n_trials = load_oneIC(mat_file, cells_refs, subj, IC, comp=False)\n",
    "    tfr = wavelet_transform2(data, info, trial=np.arange(1,n_trials+1))\n",
    "    mappable = ax.imshow(tfr[0], aspect='auto', origin='lower', extent=[-4, 3, 2, 50], \n",
    "                           norm=colors.PowerNorm(gamma=0.5), cmap='RdYlBu_r')\n",
    "    ax.set_ylabel(f'Frequencies IC{IC} (Hz)')\n",
    "    fig.colorbar(mappable, cax=f_axes[IC+n_states-1,1])\n",
    "#         if IC!=4:\n",
    "#             ax.set_xticks([])\n",
    "for i in range(len(ds[\"IC\"].values)):\n",
    "    IC = ds[\"IC\"].values[i]\n",
    "    ax = f_axes[IC+n_states-1,2]\n",
    "    ax.plot(ds[\"freq\"].values, ds[\"states_psd\"].values[i,].T)\n",
    "    ax.set_ylabel(f'PSD IC{IC}')\n",
    "ax = f_axes[n_states,2]\n",
    "lines = ax.get_lines()\n",
    "labels = [f\"State {i}\" for i in range (1, n_states+1)]\n",
    "ax = f_axes[0,2]\n",
    "ax.legend(lines, labels, loc='upper left')\n",
    "ax = f_axes[n_states+3,0]\n",
    "ax.set_xlabel(f'Time (s)') \n",
    "ax = f_axes[n_states+3,2]\n",
    "ax.set_xlabel(f'Frequency (Hz)')   \n",
    "\n",
    "fig.savefig(target_dir + f'grid-{n_states}states-subj{subj}_woPCA.png', dpi=300)\n",
    "plt.close(fig)"
   ]
  },
  {
   "cell_type": "code",
   "execution_count": 55,
   "metadata": {},
   "outputs": [],
   "source": [
    "n_trials_to_plot = 5"
   ]
  },
  {
   "cell_type": "code",
   "execution_count": 56,
   "metadata": {},
   "outputs": [],
   "source": [
    "fig, f_axes = plt.subplots(figsize=(20,n_states*n_trials_to_plot), ncols=1, nrows=(n_states*n_trials_to_plot), constrained_layout=True)\n",
    "ds = xr.open_dataset(f\"tde-hmm2/test_files/su{subj}-{n_states}states_woPCA_data_Multi.nc\")\n",
    "for state in range(1, n_states+1):\n",
    "    color = f\"C{state-1}\"\n",
    "    for trial in range(1, n_trials_to_plot+1):\n",
    "        ax = f_axes[n_trials_to_plot*(state-1)+trial-1]\n",
    "        ax.fill_between(ds[\"time\"], ds[\"states_timecourse\"].values[trial, :, state-1], color=color)\n",
    "        ax.set_xlim([-4, 3])\n",
    "        ax.set_ylim([0, 1])\n",
    "        ax.set_ylabel(f\"Prob. st{state} tr{trial}\")\n",
    "ax.set_xlabel(\"Time (s)\")\n",
    "fig.savefig(target_dir + f'tcourses-{n_states}states-subj{subj}_woPCA.png', dpi=300)\n",
    "plt.close(fig)"
   ]
  },
  {
   "cell_type": "code",
   "execution_count": null,
   "metadata": {},
   "outputs": [],
   "source": []
  }
 ],
 "metadata": {
  "kernelspec": {
   "display_name": "Python 3",
   "language": "python",
   "name": "python3"
  },
  "language_info": {
   "codemirror_mode": {
    "name": "ipython",
    "version": 3
   },
   "file_extension": ".py",
   "mimetype": "text/x-python",
   "name": "python",
   "nbconvert_exporter": "python",
   "pygments_lexer": "ipython3",
   "version": "3.8.10"
  }
 },
 "nbformat": 4,
 "nbformat_minor": 4
}
