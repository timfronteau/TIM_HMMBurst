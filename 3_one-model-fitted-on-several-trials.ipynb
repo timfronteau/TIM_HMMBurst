{
 "cells": [
  {
   "cell_type": "markdown",
   "metadata": {},
   "source": [
    "In this part, we'll try to plot the time-course of 1 IC extracted from the EEG of 1 subject on 1 trial.\n",
    "\n",
    "# First let's extract the time scale data and the time-course data from the .mat file:"
   ]
  },
  {
   "cell_type": "code",
   "execution_count": 1,
   "metadata": {},
   "outputs": [],
   "source": [
    "import h5py\n",
    "import numpy as np\n",
    "# import xarray as xr\n",
    "# from utilities import flatten_dict"
   ]
  },
  {
   "cell_type": "code",
   "execution_count": 2,
   "metadata": {},
   "outputs": [],
   "source": [
    "path = \"E:/timot/Documents/1 - Centrale Marseille/0.5 - Semestre S8/Stage/NIC_250819/FCK_LOCKED_IC_JYOTIKA_250819.mat\"\n",
    "\n",
    "mat_file = h5py.File(path, \"r\")\n",
    "cells_refs = mat_file['FCK_LOCKED_IC_JYOTIKA']\n",
    "n_IC, n_subj = cells_refs.shape"
   ]
  },
  {
   "cell_type": "markdown",
   "metadata": {},
   "source": [
    "Here we define the functions that extract the data from the .mat file:"
   ]
  },
  {
   "cell_type": "code",
   "execution_count": 3,
   "metadata": {},
   "outputs": [],
   "source": [
    "def _load_raw_timecourse_256Hz(IC, subj):\n",
    "    cell = mat_file[cells_refs[IC, subj]]\n",
    "    raw_timecourse_256Hz = cell['raw_timecourse_256Hz'][:]\n",
    "    raw_timecourse_256Hz = np.transpose(raw_timecourse_256Hz)\n",
    "    return raw_timecourse_256Hz"
   ]
  },
  {
   "cell_type": "code",
   "execution_count": 4,
   "metadata": {},
   "outputs": [],
   "source": [
    "def _load_time_256Hz(IC,subj):\n",
    "    cell = mat_file[cells_refs[IC, subj]]\n",
    "    time_256Hz = cell['time_256Hz'][:]\n",
    "    time_256Hz = np.transpose(time_256Hz)[0]\n",
    "    return time_256Hz"
   ]
  },
  {
   "cell_type": "code",
   "execution_count": 5,
   "metadata": {},
   "outputs": [],
   "source": [
    "def _load_freq(IC,subj):\n",
    "    cell = mat_file[cells_refs[IC, subj]]\n",
    "    freq = cell['freq'][:]\n",
    "    freq = np.transpose(freq)[0]\n",
    "    return freq"
   ]
  },
  {
   "cell_type": "markdown",
   "metadata": {},
   "source": [
    "Here put in one dictionary every `'raw_timecourse_256Hz subject{subj+1}, IC{IC+1}'`, the `'time_axis'`, and the `'freq_axis'`:"
   ]
  },
  {
   "cell_type": "code",
   "execution_count": 6,
   "metadata": {},
   "outputs": [
    {
     "name": "stdout",
     "output_type": "stream",
     "text": [
      "The independent component IC1 of the subject 20 is not in the .mat file.\n",
      "The independent component IC1 of the subject 21 is not in the .mat file.\n",
      "The independent component IC2 of the subject 5 is not in the .mat file.\n",
      "The independent component IC2 of the subject 9 is not in the .mat file.\n",
      "The independent component IC3 of the subject 1 is not in the .mat file.\n",
      "The independent component IC3 of the subject 17 is not in the .mat file.\n",
      "The independent component IC3 of the subject 23 is not in the .mat file.\n",
      "The independent component IC4 of the subject 12 is not in the .mat file.\n"
     ]
    }
   ],
   "source": [
    "data = {} \n",
    "for IC in range(n_IC):\n",
    "    for subj in range(n_subj):\n",
    "        try:\n",
    "            data[f'raw_timecourse_256Hz subject{subj+1}, IC{IC+1}'] = _load_raw_timecourse_256Hz(IC, subj)\n",
    "        except:\n",
    "            print(f'The independent component IC{IC+1} of the subject {subj+1} is not in the .mat file.')"
   ]
  },
  {
   "cell_type": "code",
   "execution_count": 7,
   "metadata": {},
   "outputs": [],
   "source": [
    "data['freq_axis'] = _load_freq(0, 0)\n",
    "data['time_axis'] = _load_time_256Hz(0, 0)"
   ]
  },
  {
   "cell_type": "code",
   "execution_count": 8,
   "metadata": {},
   "outputs": [],
   "source": [
    "n_trials = data['raw_timecourse_256Hz subject1, IC1'].shape[0]"
   ]
  },
  {
   "cell_type": "markdown",
   "metadata": {},
   "source": [
    "# Now that we have the expected data, we plot the time-course:"
   ]
  },
  {
   "cell_type": "code",
   "execution_count": 9,
   "metadata": {},
   "outputs": [],
   "source": [
    "import mne\n",
    "from sklearn.decomposition import PCA\n",
    "from hmmlearn import hmm\n",
    "import scipy.signal as signal\n",
    "import matplotlib.pyplot as plt"
   ]
  },
  {
   "cell_type": "markdown",
   "metadata": {},
   "source": [
    "# Let's not wait any longer and try to plot a wavelet transform!"
   ]
  },
  {
   "cell_type": "code",
   "execution_count": 10,
   "metadata": {},
   "outputs": [],
   "source": [
    "# Use MNE to extract TFR\n",
    "def wavelet_transform (subj=1, IC=1, trial=1):\n",
    "    info = mne.create_info(ch_names=['signal'], sfreq=256, ch_types=['eeg'])\n",
    "    raw = mne.EpochsArray(data[f'raw_timecourse_256Hz subject{subj}, IC{IC}'][trial-1,np.newaxis,np.newaxis,:], info, verbose=False) \n",
    "    tfr = mne.time_frequency.tfr_morlet(raw, freqs=data['freq_axis'], n_cycles=data['freq_axis']/2, picks='eeg', return_itc=False)\n",
    "    return tfr._data"
   ]
  },
  {
   "cell_type": "code",
   "execution_count": 11,
   "metadata": {},
   "outputs": [],
   "source": [
    "# For a wavelet transform on several trials/all the trials:\n",
    "\n",
    "# raw = mne.EpochsArray(raw_timecourse_subj0_IC0[100:105, np.newaxis, :], info, verbose=False) \n",
    "# raw = mne.EpochsArray(raw_timecourse_subj0_IC0[:, np.newaxis, :], info, verbose=False) "
   ]
  },
  {
   "cell_type": "code",
   "execution_count": 12,
   "metadata": {},
   "outputs": [],
   "source": [
    "# Here we calculate and store in `data` the complete time-frequency data for each 1st trial\n",
    "def load_all_tfr_one_trial (trial=1):\n",
    "    for IC in range(1, n_IC+1):\n",
    "        for subj in range(1, n_subj+1):\n",
    "            try:\n",
    "                data[f'tfr_256Hz subject{subj}, IC{IC}, trial{trial}'] = wavelet_transform(subj, IC, trial)\n",
    "            except:\n",
    "                pass"
   ]
  },
  {
   "cell_type": "code",
   "execution_count": 13,
   "metadata": {},
   "outputs": [],
   "source": [
    "def load_all_tfr_one_subject (subj=1):\n",
    "    for IC in range(1, n_IC+1):\n",
    "        for trial in range(1, n_trials+1):\n",
    "            try:\n",
    "                data[f'tfr_256Hz subject{subj}, IC{IC}, trial{trial}'] = wavelet_transform(subj, IC, trial)\n",
    "            except:\n",
    "                pass"
   ]
  },
  {
   "cell_type": "code",
   "execution_count": 14,
   "metadata": {},
   "outputs": [],
   "source": [
    "load_all_tfr_one_trial()"
   ]
  },
  {
   "cell_type": "code",
   "execution_count": 15,
   "metadata": {},
   "outputs": [],
   "source": [
    "load_all_tfr_one_subject()"
   ]
  },
  {
   "cell_type": "markdown",
   "metadata": {},
   "source": [
    "# Now we'll implement the HMM method."
   ]
  },
  {
   "cell_type": "code",
   "execution_count": 16,
   "metadata": {},
   "outputs": [],
   "source": [
    "# La fonction embedx copie le vecteur `x` len(lags) fois dans `xe`\n",
    "# avec des décalages entre lags[0] et lags[-1] (on implémente le délai temporel pour le HMM)\n",
    "\n",
    "def embedx(x, lags):\n",
    "    \n",
    "    Xe = np.zeros((x.shape[1], x.shape[0],  len(lags)))\n",
    "\n",
    "    for l in range(len(lags)):\n",
    "        Xe[:, :, l] = np.roll(x, lags[l], axis=0).swapaxes(0, 1)\n",
    "\n",
    "    # Remove edges\n",
    "    valid = np.ones((x.shape[0], 1), dtype=np.int8)\n",
    "    valid[:np.abs(np.min(lags)), :] = 0\n",
    "    valid[-np.abs(np.max(lags)):, :] = 0\n",
    "\n",
    "    Xe = Xe[:, valid[:, 0] == 1, :]\n",
    "\n",
    "    return Xe, valid\n",
    "\n",
    "\n",
    "# La fonction hmm_tde trouve les paramètres du HMM\n",
    "\n",
    "def hmm_tde(data: np.array, lags, n_states=3, n_iter=100, n_components=8, \n",
    "            covariance_type='full', model_type='GMMHMM', tol=0.01, n_mix=1, **kwargs):\n",
    "    \n",
    "    # Embed time serie\n",
    "    xe, valid = embedx(data, lags)\n",
    "\n",
    "    pca = PCA(n_components=n_components)\n",
    "    y = pca.fit_transform(xe[0, :, :])\n",
    "    \n",
    "    if model_type=='GMMHMM':\n",
    "        model = hmm.GMMHMM(n_components=n_states, n_iter=n_iter,\n",
    "                            covariance_type=covariance_type, tol=tol, n_mix=n_mix, **kwargs)\n",
    "        \n",
    "    elif model_type=='GaussianHMM':\n",
    "        model = hmm.GaussianHMM(n_components=n_states, n_iter=n_iter,\n",
    "                            covariance_type=covariance_type, tol=tol, **kwargs)\n",
    "        \n",
    "    elif model_type=='MultinomialHMM':\n",
    "        model = hmm.MultinomialHMM(n_components=n_states, n_iter=n_iter, tol=tol, **kwargs)\n",
    "    \n",
    "    else: \n",
    "        return \"Non-exixting model_type. Please choose 'GMMHMM' or 'GaussianHMM' or 'MultinomialHMM'. default='GMMHMM'\"\n",
    "        \n",
    "    model.fit(y)\n",
    "    gamma = model.predict_proba(y)\n",
    "    \n",
    "    return gamma, model, xe"
   ]
  },
  {
   "cell_type": "code",
   "execution_count": 29,
   "metadata": {
    "scrolled": false
   },
   "outputs": [],
   "source": [
    "def show_states(fig, subj, IC, trial, lags, n_states, covariance_type, model_type, tol, n_mix, save=False):\n",
    "\n",
    "    plt.close(fig)\n",
    "\n",
    "    fig = plt.figure(figsize=(6, 6))\n",
    "    plt.title('State Power Spectrum')\n",
    "    max_power = np.zeros(n_states)\n",
    "    max_freq = np.zeros(n_states)\n",
    "    for i in range(n_states):\n",
    "\n",
    "        # Compute PSD separately for each lag\n",
    "        tot = []\n",
    "        for seg in xe[0, gamma[:, i]> .6, :].T:\n",
    "            freqs, psd = signal.welch(x=seg, fs=256, nfft=1000)\n",
    "            tot.append(psd)\n",
    "        psd = np.mean(np.asarray(tot), 0)\n",
    "        \n",
    "        max_freq[i] = freqs[np.argmax(psd)]\n",
    "        max_power[i] = np.amax(psd)\n",
    "\n",
    "        plt.plot(freqs, psd)\n",
    "    #     plt.fill_between(x=freqs, y1=psd, alpha=0.3)\n",
    "\n",
    "    plt.xlim(0, 50)\n",
    "    plt.ylabel('PSD')\n",
    "    plt.xlabel('Frequencies (Hz)')\n",
    "    plt.legend([f'state {i+1}' for i in range(n_states)], loc='upper right')\n",
    "    plt.tight_layout()   \n",
    "\n",
    "    if save==True:\n",
    "        plt.savefig(f'tde-hmm/states-info_subj{subj}IC{IC}trial{trial}_{n_states}states_'\n",
    "                    +covariance_type+'_'+model_type+f'_tol{tol}nmix{n_mix}.png', dpi=600)\n",
    "        \n",
    "    return fig, max_freq, max_power\n",
    "    "
   ]
  },
  {
   "cell_type": "code",
   "execution_count": 30,
   "metadata": {
    "scrolled": false
   },
   "outputs": [],
   "source": [
    "def plot_hmm_over_tfr(fig, subj, IC, trial, lags, n_states, covariance_type, model_type, tol, max_power, n_mix, save=False):\n",
    "    plt.close(fig)\n",
    "    fig = plt.figure(figsize=(16, 5))\n",
    "\n",
    "    plt.subplot(211)\n",
    "    plt.title('HMM States probability')\n",
    "    time = data['time_axis'][np.abs(np.min(lags)):-np.abs(np.max(lags))]\n",
    "\n",
    "    # plot noise state\n",
    "    burst = np.argmax(max_power) \n",
    "    \n",
    "    labels = ['']\n",
    "    states = np.where([i not in [burst] for i in range(n_states)])[0]\n",
    "    for i in states:\n",
    "        plt.fill_between(x=time, y1=gamma[:, i], alpha=0.2)\n",
    "        plt.xlim(-4, 3)\n",
    "        labels.append(f'state {i+1}')\n",
    "    plt.plot(time, gamma[:, burst]>0.6, 'red')\n",
    "    labels[0]=(f'burst state (state {burst+1})')\n",
    "    plt.fill_between(x=time, y1=gamma[:, burst], alpha=0.2, color='red')\n",
    "    plt.ylabel('State probability')\n",
    "    plt.legend(labels, loc='upper right')\n",
    "\n",
    "    # Time-frequency plot\n",
    "    plt.subplot(212)\n",
    "\n",
    "    plt.title('Wavelet transform')\n",
    "    plt.imshow(data[f'tfr_256Hz subject{subj}, IC{IC}, trial{trial}'][0], \n",
    "               aspect='auto', origin='lower', extent=[-4, 3, 2, 50], cmap='RdBu_r')\n",
    "    plt.xlabel('Time (s)')\n",
    "    plt.ylabel('Frequencies (Hz)')\n",
    "    plt.tight_layout()\n",
    "    if save == True:\n",
    "        plt.savefig(f'tde-hmm/tde-hmm_subj{subj}IC{IC}trial{trial}_{n_states}states_'\n",
    "                    +covariance_type+'_'+model_type+f'_tol{tol}nmix{n_mix}.png', dpi=600)\n",
    "    return fig\n"
   ]
  },
  {
   "cell_type": "code",
   "execution_count": 19,
   "metadata": {},
   "outputs": [],
   "source": [
    "def fit_hmm_to_trial(data: np.array, lags, model, n_components=8):\n",
    "    xe, valid = embedx(data, lags)\n",
    "\n",
    "    pca = PCA(n_components=n_components)\n",
    "    y = pca.fit_transform(xe[0, :, :])\n",
    "    \n",
    "    gamma = model.predict_proba(y)\n",
    "    \n",
    "    return gamma, model, xe"
   ]
  },
  {
   "cell_type": "code",
   "execution_count": 20,
   "metadata": {},
   "outputs": [],
   "source": [
    "# The data we want to analyse with the HMM method\n",
    "subj=1\n",
    "IC=1\n",
    "trial=1\n",
    "x = data[f'raw_timecourse_256Hz subject{subj}, IC{IC}'][trial-1, :].reshape(-1, 1)"
   ]
  },
  {
   "cell_type": "code",
   "execution_count": 21,
   "metadata": {},
   "outputs": [],
   "source": [
    "# The parameters we change to hope for some results\n",
    "lags = np.arange(-29, 29)\n",
    "n_iter=1000\n",
    "n_states=3    # nb d'états du modèle\n",
    "n_components=8     # nb de composantes principales à extraire\n",
    "covariance_type='diag'\n",
    "model_type='GMMHMM'\n",
    "tol=0.001\n",
    "n_mix=3\n",
    "\n",
    "save=False\n",
    "\n",
    "covars_prior=None\n",
    "covars_weight=None\n",
    "means_prior=0.0\n",
    "means_weight=0.0"
   ]
  },
  {
   "cell_type": "code",
   "execution_count": 22,
   "metadata": {},
   "outputs": [],
   "source": [
    "# Finding the model\n",
    "gamma, model, xe = hmm_tde(x, lags, n_iter=n_iter, n_states=n_states, n_components=n_components, \n",
    "                           covariance_type=covariance_type, model_type=model_type, tol=tol, n_mix=n_mix)"
   ]
  },
  {
   "cell_type": "code",
   "execution_count": 23,
   "metadata": {},
   "outputs": [
    {
     "data": {
      "text/plain": [
       "GMMHMM(algorithm='viterbi', covariance_type='diag',\n",
       "       covars_prior=array([[[-1.5, -1.5, -1.5, -1.5, -1.5, -1.5, -1.5, -1.5],\n",
       "        [-1.5, -1.5, -1.5, -1.5, -1.5, -1.5, -1.5, -1.5],\n",
       "        [-1.5, -1.5, -1.5, -1.5, -1.5, -1.5, -1.5, -1.5]],\n",
       "\n",
       "       [[-1.5, -1.5, -1.5, -1.5, -1.5, -1.5, -1.5, -1.5],\n",
       "        [-1.5, -1.5, -1.5, -1.5, -1.5, -1.5, -1.5, -1.5],\n",
       "        [-1.5, -1.5, -1.5, -1.5, -1.5, -1.5, -1.5, -1.5]],\n",
       "\n",
       "       [[-1.5, -1.5, -1.5, -1.5, -1...\n",
       "        [0., 0., 0., 0., 0., 0., 0., 0.]],\n",
       "\n",
       "       [[0., 0., 0., 0., 0., 0., 0., 0.],\n",
       "        [0., 0., 0., 0., 0., 0., 0., 0.],\n",
       "        [0., 0., 0., 0., 0., 0., 0., 0.]]]),\n",
       "       means_weight=array([[0., 0., 0.],\n",
       "       [0., 0., 0.],\n",
       "       [0., 0., 0.]]),\n",
       "       min_covar=0.001, n_components=3, n_iter=1000, n_mix=3, params='stmcw',\n",
       "       random_state=None, startprob_prior=1.0, tol=0.001, transmat_prior=1.0,\n",
       "       verbose=False,\n",
       "       weights_prior=array([[1., 1., 1.],\n",
       "       [1., 1., 1.],\n",
       "       [1., 1., 1.]]))"
      ]
     },
     "execution_count": 23,
     "metadata": {},
     "output_type": "execute_result"
    }
   ],
   "source": [
    "model"
   ]
  },
  {
   "cell_type": "code",
   "execution_count": 31,
   "metadata": {},
   "outputs": [
    {
     "name": "stderr",
     "output_type": "stream",
     "text": [
      "C:\\ProgramData\\Anaconda3\\lib\\site-packages\\scipy\\signal\\spectral.py:1970: UserWarning: nperseg = 256 is greater than input length  = 229, using nperseg = 229\n",
      "  .format(nperseg, input_length))\n",
      "C:\\ProgramData\\Anaconda3\\lib\\site-packages\\scipy\\signal\\spectral.py:1970: UserWarning: nperseg = 256 is greater than input length  = 122, using nperseg = 122\n",
      "  .format(nperseg, input_length))\n",
      "C:\\ProgramData\\Anaconda3\\lib\\site-packages\\scipy\\signal\\spectral.py:1970: UserWarning: nperseg = 256 is greater than input length  = 210, using nperseg = 210\n",
      "  .format(nperseg, input_length))\n",
      "C:\\ProgramData\\Anaconda3\\lib\\site-packages\\scipy\\signal\\spectral.py:1970: UserWarning: nperseg = 256 is greater than input length  = 164, using nperseg = 164\n",
      "  .format(nperseg, input_length))\n",
      "C:\\ProgramData\\Anaconda3\\lib\\site-packages\\scipy\\signal\\spectral.py:1970: UserWarning: nperseg = 256 is greater than input length  = 201, using nperseg = 201\n",
      "  .format(nperseg, input_length))\n",
      "C:\\ProgramData\\Anaconda3\\lib\\site-packages\\scipy\\signal\\spectral.py:1970: UserWarning: nperseg = 256 is greater than input length  = 144, using nperseg = 144\n",
      "  .format(nperseg, input_length))\n",
      "C:\\ProgramData\\Anaconda3\\lib\\site-packages\\scipy\\signal\\spectral.py:1970: UserWarning: nperseg = 256 is greater than input length  = 226, using nperseg = 226\n",
      "  .format(nperseg, input_length))\n",
      "C:\\ProgramData\\Anaconda3\\lib\\site-packages\\scipy\\signal\\spectral.py:1970: UserWarning: nperseg = 256 is greater than input length  = 123, using nperseg = 123\n",
      "  .format(nperseg, input_length))\n",
      "C:\\ProgramData\\Anaconda3\\lib\\site-packages\\scipy\\signal\\spectral.py:1970: UserWarning: nperseg = 256 is greater than input length  = 178, using nperseg = 178\n",
      "  .format(nperseg, input_length))\n"
     ]
    },
    {
     "data": {
      "image/png": "[encoded data removed]",
      "text/plain": [
       "<Figure size 432x432 with 1 Axes>"
      ]
     },
     "metadata": {
      "needs_background": "light"
     },
     "output_type": "display_data"
    }
   ],
   "source": [
    "# this cell is used for saving figures not for plotting them\n",
    "\n",
    "fig = plt.figure()\n",
    "for trial in range(2, 30):\n",
    "    x = data[f'raw_timecourse_256Hz subject{subj}, IC{IC}'][trial-1, :].reshape(-1, 1)\n",
    "    gamma, model, xe = fit_hmm_to_trial(x, lags, model, n_components=n_components)\n",
    "    fig, max_freq, max_power = show_states(fig, subj, IC, trial, lags, n_states, covariance_type, model_type, tol, n_mix, save)\n",
    "    fig = plot_hmm_over_tfr(fig, subj, IC, trial, lags, n_states, covariance_type, model_type, tol, max_power, n_mix, save)\n",
    "\n",
    "    plt.close(fig)\n",
    "    fig = plt.figure(figsize=(6, 6))\n",
    "    plt.title('State Autocovariance')\n",
    "    plt.imshow(np.cov(xe[0, gamma[:, 1]> .6, :].T), origin='lower', extent=[lags[0], lags[-1], lags[0], lags[-1]])\n",
    "    if save==True:\n",
    "        plt.savefig(f'tde-hmm/burst-cov_subj{subj}IC{IC}trial{trial}_{n_states}states_'\n",
    "                    +covariance_type+'_'+model_type+f'_tol{tol}nmix{n_mix}.png', dpi=600)\n",
    "    "
   ]
  }
 ],
 "metadata": {
  "kernelspec": {
   "display_name": "Python 3",
   "language": "python",
   "name": "python3"
  },
  "language_info": {
   "codemirror_mode": {
    "name": "ipython",
    "version": 3
   },
   "file_extension": ".py",
   "mimetype": "text/x-python",
   "name": "python",
   "nbconvert_exporter": "python",
   "pygments_lexer": "ipython3",
   "version": "3.7.3"
  }
 },
 "nbformat": 4,
 "nbformat_minor": 2
}
