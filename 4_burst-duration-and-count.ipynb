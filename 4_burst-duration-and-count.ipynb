{
 "cells": [
  {
   "cell_type": "markdown",
   "metadata": {},
   "source": [
    "In this part, we'll try to plot the time-course of 1 IC extracted from the EEG of 1 subject on 1 trial.\n",
    "\n",
    "# First let's extract the time scale data and the time-course data from the .mat file:"
   ]
  },
  {
   "cell_type": "code",
   "execution_count": 1,
   "metadata": {},
   "outputs": [],
   "source": [
    "import h5py\n",
    "import numpy as np\n",
    "# import xarray as xr\n",
    "# from utilities import flatten_dict"
   ]
  },
  {
   "cell_type": "code",
   "execution_count": 2,
   "metadata": {},
   "outputs": [],
   "source": [
    "path = \"E:/timot/Documents/1 - Centrale Marseille/0.5 - Semestre S8/Stage/NIC_250819/FCK_LOCKED_IC_JYOTIKA_250819.mat\"\n",
    "\n",
    "mat_file = h5py.File(path, \"r\")\n",
    "cells_refs = mat_file['FCK_LOCKED_IC_JYOTIKA']\n",
    "n_IC, n_subj = cells_refs.shape"
   ]
  },
  {
   "cell_type": "markdown",
   "metadata": {},
   "source": [
    "Here we define the functions that extract the data from the .mat file:"
   ]
  },
  {
   "cell_type": "code",
   "execution_count": 3,
   "metadata": {},
   "outputs": [],
   "source": [
    "def _load_raw_timecourse_256Hz(IC, subj):\n",
    "    cell = mat_file[cells_refs[IC, subj]]\n",
    "    raw_timecourse_256Hz = cell['raw_timecourse_256Hz'][:]\n",
    "    raw_timecourse_256Hz = np.transpose(raw_timecourse_256Hz)\n",
    "    return raw_timecourse_256Hz"
   ]
  },
  {
   "cell_type": "code",
   "execution_count": 4,
   "metadata": {},
   "outputs": [],
   "source": [
    "def _load_time_256Hz(IC,subj):\n",
    "    cell = mat_file[cells_refs[IC, subj]]\n",
    "    time_256Hz = cell['time_256Hz'][:]\n",
    "    time_256Hz = np.transpose(time_256Hz)[0]\n",
    "    return time_256Hz"
   ]
  },
  {
   "cell_type": "code",
   "execution_count": 5,
   "metadata": {},
   "outputs": [],
   "source": [
    "def _load_freq(IC,subj):\n",
    "    cell = mat_file[cells_refs[IC, subj]]\n",
    "    freq = cell['freq'][:]\n",
    "    freq = np.transpose(freq)[0]\n",
    "    return freq"
   ]
  },
  {
   "cell_type": "markdown",
   "metadata": {},
   "source": [
    "Here put in one dictionary every `'raw_timecourse_256Hz subject{subj+1}, IC{IC+1}'`, the `'time_axis'`, and the `'freq_axis'`:"
   ]
  },
  {
   "cell_type": "code",
   "execution_count": 6,
   "metadata": {},
   "outputs": [
    {
     "name": "stdout",
     "output_type": "stream",
     "text": [
      "The independent component IC1 of the subject 20 is not in the .mat file.\n",
      "The independent component IC1 of the subject 21 is not in the .mat file.\n",
      "The independent component IC2 of the subject 5 is not in the .mat file.\n",
      "The independent component IC2 of the subject 9 is not in the .mat file.\n",
      "The independent component IC3 of the subject 1 is not in the .mat file.\n",
      "The independent component IC3 of the subject 17 is not in the .mat file.\n",
      "The independent component IC3 of the subject 23 is not in the .mat file.\n",
      "The independent component IC4 of the subject 12 is not in the .mat file.\n"
     ]
    }
   ],
   "source": [
    "data = {} \n",
    "for IC in range(n_IC):\n",
    "    for subj in range(n_subj):\n",
    "        try:\n",
    "            data[f'raw_timecourse_256Hz subject{subj+1}, IC{IC+1}'] = _load_raw_timecourse_256Hz(IC, subj)\n",
    "        except:\n",
    "            print(f'The independent component IC{IC+1} of the subject {subj+1} is not in the .mat file.')"
   ]
  },
  {
   "cell_type": "code",
   "execution_count": 7,
   "metadata": {},
   "outputs": [],
   "source": [
    "data['freq_axis'] = _load_freq(0, 0)\n",
    "data['time_axis'] = _load_time_256Hz(0, 0)"
   ]
  },
  {
   "cell_type": "code",
   "execution_count": 8,
   "metadata": {},
   "outputs": [],
   "source": [
    "n_trials = data['raw_timecourse_256Hz subject1, IC1'].shape[0]"
   ]
  },
  {
   "cell_type": "markdown",
   "metadata": {},
   "source": [
    "# Now we'll implement the HMM method."
   ]
  },
  {
   "cell_type": "code",
   "execution_count": 9,
   "metadata": {},
   "outputs": [],
   "source": [
    "from sklearn.decomposition import PCA\n",
    "from hmmlearn import hmm\n",
    "import scipy.signal as signal"
   ]
  },
  {
   "cell_type": "code",
   "execution_count": 10,
   "metadata": {},
   "outputs": [],
   "source": [
    "# La fonction embedx copie le vecteur `x` len(lags) fois dans `xe`\n",
    "# avec des décalages entre lags[0] et lags[-1] (on implémente le délai temporel pour le HMM)\n",
    "\n",
    "def embedx(x, lags):\n",
    "    \n",
    "    Xe = np.zeros((x.shape[1], x.shape[0],  len(lags)))\n",
    "\n",
    "    for l in range(len(lags)):\n",
    "        Xe[:, :, l] = np.roll(x, lags[l], axis=0).swapaxes(0, 1)\n",
    "\n",
    "    # Remove edges\n",
    "    valid = np.ones((x.shape[0], 1), dtype=np.int8)\n",
    "    valid[:np.abs(np.min(lags)), :] = 0\n",
    "    valid[-np.abs(np.max(lags)):, :] = 0\n",
    "\n",
    "    Xe = Xe[:, valid[:, 0] == 1, :]\n",
    "\n",
    "    return Xe, valid\n",
    "\n",
    "\n",
    "# La fonction hmm_tde trouve les paramètres du HMM\n",
    "\n",
    "def hmm_tde(data: np.array, lags, n_states=3, n_iter=100, n_components=8, \n",
    "            covariance_type='full', model_type='GMMHMM', tol=0.01, n_mix=1, **kwargs):\n",
    "    \n",
    "    # Embed time serie\n",
    "    xe, valid = embedx(data, lags)\n",
    "\n",
    "    pca = PCA(n_components=n_components)\n",
    "    y = pca.fit_transform(xe[0, :, :])\n",
    "    \n",
    "    if model_type=='GMMHMM':\n",
    "        model = hmm.GMMHMM(n_components=n_states, n_iter=n_iter,\n",
    "                            covariance_type=covariance_type, tol=tol, n_mix=n_mix, **kwargs)\n",
    "        \n",
    "    elif model_type=='GaussianHMM':\n",
    "        model = hmm.GaussianHMM(n_components=n_states, n_iter=n_iter,\n",
    "                            covariance_type=covariance_type, tol=tol, **kwargs)\n",
    "        \n",
    "    elif model_type=='MultinomialHMM':\n",
    "        model = hmm.MultinomialHMM(n_components=n_states, n_iter=n_iter, tol=tol, **kwargs)\n",
    "    \n",
    "    else: \n",
    "        return \"Non-exixting model_type. Please choose 'GMMHMM' or 'GaussianHMM' or 'MultinomialHMM'. default='GMMHMM'\"\n",
    "        \n",
    "    model.fit(y)\n",
    "    gamma = model.predict_proba(y)\n",
    "    \n",
    "    return gamma, model, xe"
   ]
  },
  {
   "cell_type": "code",
   "execution_count": 11,
   "metadata": {},
   "outputs": [],
   "source": [
    "# The data we want to analyse with the HMM method\n",
    "subj=1\n",
    "IC=1\n",
    "trial=1\n",
    "x = data[f'raw_timecourse_256Hz subject{subj}, IC{IC}'][trial-1, :].reshape(-1, 1)"
   ]
  },
  {
   "cell_type": "code",
   "execution_count": 12,
   "metadata": {},
   "outputs": [],
   "source": [
    "# The parameters we change to hope for some results\n",
    "lags = np.arange(-29, 29)\n",
    "n_iter=1000\n",
    "n_states=3    # nb d'états du modèle\n",
    "n_components=8     # nb de composantes principales à extraire\n",
    "covariance_type='diag'\n",
    "model_type='GMMHMM'\n",
    "tol=0.001\n",
    "n_mix=3\n",
    "\n",
    "save=False\n",
    "\n",
    "covars_prior=None\n",
    "covars_weight=None\n",
    "means_prior=0.0\n",
    "means_weight=0.0"
   ]
  },
  {
   "cell_type": "code",
   "execution_count": 13,
   "metadata": {},
   "outputs": [],
   "source": [
    "# Finding the model\n",
    "gamma, model, xe = hmm_tde(x, lags, n_iter=n_iter, n_states=n_states, n_components=n_components, \n",
    "                           covariance_type=covariance_type, model_type=model_type, tol=tol, n_mix=n_mix)"
   ]
  },
  {
   "cell_type": "markdown",
   "metadata": {},
   "source": [
    "## Burst duration and count"
   ]
  },
  {
   "cell_type": "code",
   "execution_count": 14,
   "metadata": {},
   "outputs": [
    {
     "name": "stdout",
     "output_type": "stream",
     "text": [
      "6.77734375 (1736,)\n"
     ]
    },
    {
     "data": {
      "text/plain": [
       "1.9988479262672811"
      ]
     },
     "execution_count": 14,
     "metadata": {},
     "output_type": "execute_result"
    }
   ],
   "source": [
    "gamma_bin = gamma[:,1]>0.6\n",
    "time = data['time_axis'][np.abs(np.min(lags)):-np.abs(np.max(lags))]\n",
    "\n",
    "def burst_duration(gamma_bin, time):\n",
    "    m=0\n",
    "    for b in gamma_bin:\n",
    "        if b==True:\n",
    "            m+=1\n",
    "    mean=m*(time[-1]-time[0])/time.shape\n",
    "    return mean[0]\n",
    "\n",
    "print(time[-1]-time[0], time.shape)\n",
    "burst_duration(gamma_bin, time)"
   ]
  },
  {
   "cell_type": "code",
   "execution_count": 15,
   "metadata": {},
   "outputs": [
    {
     "data": {
      "text/plain": [
       "1.4755043227665705"
      ]
     },
     "execution_count": 15,
     "metadata": {},
     "output_type": "execute_result"
    }
   ],
   "source": [
    "def burst_count(gamma_bin, time):\n",
    "    nb=0\n",
    "    for i in range(gamma_bin.shape[0]-1):\n",
    "        if gamma_bin[i]==True and gamma_bin[i+1]==False: \n",
    "            nb+=1\n",
    "    t=time[-1]-time[0]\n",
    "    return nb/t\n",
    "\n",
    "burst_count(gamma_bin, time)"
   ]
  }
 ],
 "metadata": {
  "kernelspec": {
   "display_name": "Python 3",
   "language": "python",
   "name": "python3"
  },
  "language_info": {
   "codemirror_mode": {
    "name": "ipython",
    "version": 3
   },
   "file_extension": ".py",
   "mimetype": "text/x-python",
   "name": "python",
   "nbconvert_exporter": "python",
   "pygments_lexer": "ipython3",
   "version": "3.7.3"
  }
 },
 "nbformat": 4,
 "nbformat_minor": 2
}
