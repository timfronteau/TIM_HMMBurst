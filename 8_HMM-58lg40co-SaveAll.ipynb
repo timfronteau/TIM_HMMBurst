{
 "cells": [
  {
   "cell_type": "markdown",
   "metadata": {},
   "source": [
    "In this part, we'll try to plot the time-course of 1 IC extracted from the EEG of 1 subject on 1 trial.\n",
    "\n",
    "# First let's extract the time scale data and the time-course data from the .mat file:"
   ]
  },
  {
   "cell_type": "code",
   "execution_count": 1,
   "metadata": {},
   "outputs": [],
   "source": [
    "import numpy as np\n",
    "from loader import load"
   ]
  },
  {
   "cell_type": "code",
   "execution_count": 2,
   "metadata": {
    "scrolled": true
   },
   "outputs": [
    {
     "name": "stdout",
     "output_type": "stream",
     "text": [
      "loading the raw timecourses...\n",
      "The independent component IC1 of the subject 20 is not in the .mat file.\n",
      "The independent component IC1 of the subject 21 is not in the .mat file.\n",
      "The independent component IC2 of the subject 5 is not in the .mat file.\n",
      "The independent component IC2 of the subject 9 is not in the .mat file.\n",
      "The independent component IC3 of the subject 1 is not in the .mat file.\n",
      "The independent component IC3 of the subject 17 is not in the .mat file.\n",
      "The independent component IC3 of the subject 23 is not in the .mat file.\n",
      "The independent component IC4 of the subject 12 is not in the .mat file.\n",
      "Computing and loading the time-frequency wavelet transformation of all subjects for all IC, 22 trials...\n",
      "Loaded subject 1\n",
      "Loaded subject 2\n",
      "Loaded subject 3\n",
      "Loaded subject 4\n",
      "Loaded subject 5\n",
      "Loaded subject 6\n",
      "Loaded subject 7\n",
      "Loaded subject 8\n",
      "Loaded subject 9\n",
      "Loaded subject 10\n",
      "Loaded subject 11\n",
      "Loaded subject 12\n",
      "Loaded subject 13\n",
      "Loaded subject 14\n",
      "Loaded subject 15\n",
      "Loaded subject 16\n",
      "Loaded subject 17\n",
      "Loaded subject 18\n",
      "Loaded subject 19\n",
      "Loaded subject 20\n",
      "Loaded subject 21\n",
      "Loaded subject 22\n",
      "Loaded subject 23\n"
     ]
    }
   ],
   "source": [
    "directory = \"E:/timot/Documents/1 - Centrale Marseille/0.5 - Semestre S8/Stage/NIC_250819\"\n",
    "file = \"FCK_LOCKED_IC_JYOTIKA_250819.mat\"\n",
    "\n",
    "data, n_IC, n_subj, n_trials = load(directory, file, tfr=\"Comp256Hz\")"
   ]
  },
  {
   "cell_type": "markdown",
   "metadata": {},
   "source": [
    "# Now we'll implement the HMM method."
   ]
  },
  {
   "cell_type": "markdown",
   "metadata": {},
   "source": [
    "### Cumputing functions:"
   ]
  },
  {
   "cell_type": "code",
   "execution_count": 3,
   "metadata": {},
   "outputs": [],
   "source": [
    "from sklearn.decomposition import PCA\n",
    "from hmmlearn import hmm\n",
    "import scipy.signal as signal\n",
    "import pickle"
   ]
  },
  {
   "cell_type": "code",
   "execution_count": null,
   "metadata": {},
   "outputs": [],
   "source": [
    "'''\n",
    "!!! I removed the PCA: very different results\n",
    "'''"
   ]
  },
  {
   "cell_type": "code",
   "execution_count": 4,
   "metadata": {},
   "outputs": [],
   "source": [
    "# The embedx function copies the `x` array len(lags) times into `xe`\n",
    "# with lags (i.e. time delays) between lags[0] and lags[-1] (we implement the time-delay array for the HMM).\n",
    "\n",
    "def embedx(x, lags):\n",
    "    \n",
    "    Xe = np.zeros((x.shape[1], x.shape[0],  len(lags)))\n",
    "\n",
    "    for l in range(len(lags)):\n",
    "        Xe[:, :, l] = np.roll(x, lags[l], axis=0).swapaxes(0, 1)\n",
    "\n",
    "    # Remove edges\n",
    "    valid = np.ones((x.shape[0], 1), dtype=np.int8)\n",
    "    valid[:np.abs(np.min(lags)), :] = 0\n",
    "    valid[-np.abs(np.max(lags)):, :] = 0\n",
    "\n",
    "    Xe = Xe[:, valid[:, 0] == 1, :]\n",
    "\n",
    "    return Xe, valid\n",
    "\n",
    "\n",
    "# The hmm_tde function finds parameters for the HMM,\n",
    "# then uses them to determine the probability of presence of each found state over time.\n",
    "\n",
    "def hmm_tde(data: np.array, lags, subj, IC, trial, n_lags, n_states=3, n_iter=100, n_components=8, \n",
    "            covariance_type='full', model_type='GMMHMM', tol=0.01, n_mix=1, **kwargs):\n",
    "    \n",
    "    # Embed time serie\n",
    "    xe, valid = embedx(data, lags)\n",
    "\n",
    "    y = xe[0, :, :]\n",
    "    \n",
    "    if model_type=='GMMHMM':\n",
    "        model = hmm.GMMHMM(n_components=n_states, n_iter=n_iter,\n",
    "                            covariance_type=covariance_type, tol=tol, n_mix=n_mix, **kwargs)\n",
    "        \n",
    "    elif model_type=='GaussianHMM':\n",
    "        model = hmm.GaussianHMM(n_components=n_states, n_iter=n_iter,\n",
    "                            covariance_type=covariance_type, tol=tol, **kwargs)\n",
    "        \n",
    "    elif model_type=='MultinomialHMM':\n",
    "        model = hmm.MultinomialHMM(n_components=n_states, n_iter=n_iter, tol=tol, **kwargs)\n",
    "    \n",
    "    else: \n",
    "        return \"Non-exixting model_type. Please choose 'GMMHMM' or 'GaussianHMM' or 'MultinomialHMM'. default='GMMHMM'\"\n",
    "        \n",
    "    model.fit(y)\n",
    "    gamma = model.predict_proba(y)\n",
    "    \n",
    "    with open(f\"tde-hmm2/su{subj}IC{IC}tr{trial}_co{n_components}lg{n_lags}st{n_states}\"\n",
    "                +covariance_type+f\"{n_mix}\"+model_type+\"_model.pkl\", \"wb\") as file: pickle.dump(model, file)\n",
    "\n",
    "    return gamma, model, xe, y"
   ]
  },
  {
   "cell_type": "markdown",
   "metadata": {},
   "source": [
    "### Plotting functions:"
   ]
  },
  {
   "cell_type": "code",
   "execution_count": 5,
   "metadata": {},
   "outputs": [],
   "source": [
    "import matplotlib.pyplot as plt\n",
    "# from plotter import *"
   ]
  },
  {
   "cell_type": "code",
   "execution_count": 6,
   "metadata": {
    "scrolled": false
   },
   "outputs": [],
   "source": [
    "def show_bigstates(\n",
    "    gamma, n_states, # the data we need for the plot\n",
    "    \n",
    "    subj, IC, trial, # which IC of which subject is of interest here, how many trials\n",
    "    \n",
    "    n_components, n_lags, covariance_type, model_type, n_mix, # infos we put in the .png name if we want to save it\n",
    "    \n",
    "    save=False # do we really want to save the figure?\n",
    "):\n",
    "\n",
    "    fig = plt.figure(figsize=(6, 6))\n",
    "    plt.title('State Power Spectrum')\n",
    "    max_power = np.zeros(n_states)\n",
    "    max_freq = np.zeros(n_states)\n",
    "    for i in range(n_states):\n",
    "\n",
    "        # Compute PSD separately for each lag\n",
    "        tot = []\n",
    "        for seg in xe[0, gamma[:, i]> .6, :].T:\n",
    "            freqs, psd = signal.welch(x=seg, fs=256, nfft=1000)\n",
    "            tot.append(psd)\n",
    "        psd = np.mean(np.asarray(tot), 0)\n",
    "        \n",
    "        max_freq[i] = freqs[np.argmax(psd[50:])]\n",
    "        max_power[i] = np.amax(psd[50:])\n",
    "\n",
    "        plt.plot(freqs, psd)\n",
    "\n",
    "    plt.xlim(0, 50)\n",
    "    plt.ylabel('PSD')\n",
    "    plt.xlabel('Frequencies (Hz)')\n",
    "    plt.legend([f'state {i+1}' for i in range(n_states)], loc='upper right')\n",
    "    plt.tight_layout()   \n",
    "\n",
    "    if save==True:\n",
    "        plt.savefig(f'tde-hmm2/su{subj}IC{IC}tr{trial}_co{n_components}lg{n_lags}st{n_states}'\n",
    "                    +covariance_type+f'{n_mix}'+model_type+'_big-states-info.png', dpi=600)\n",
    "    \n",
    "    plt.close(fig)\n",
    "    \n",
    "    return max_freq, max_power\n",
    "    "
   ]
  },
  {
   "cell_type": "code",
   "execution_count": 7,
   "metadata": {},
   "outputs": [],
   "source": [
    "def plot_hmm_over_bigtfr(   \n",
    "    bigtime, bigtfr, gamma, lags, n_states, max_power, # the data we need for the plot\n",
    "    \n",
    "    subj, IC, trial, # which IC of which subject is of interest here, how many trials\n",
    "    \n",
    "    n_components, n_lags, covariance_type, model_type, n_mix, # infos we put in the .png name if we want to save it\n",
    "    \n",
    "    save=False # do we really want to save the figure?\n",
    "):\n",
    "    \n",
    "    fig = plt.figure(figsize=(16*3, 5))\n",
    "\n",
    "    # HMM states probability plot\n",
    "    plt.subplot(211)\n",
    "    plt.title('HMM States probability')\n",
    "    time = bigtime[np.abs(np.min(lags)):-np.abs(np.max(lags))]\n",
    "\n",
    "    burst = np.argmax(max_power) # this is the burst state index\n",
    "    \n",
    "    labels = ['']\n",
    "    states = np.where([i not in [burst] for i in range(n_states)])[0] # the other indexes\n",
    "    for i in states:\n",
    "        plt.fill_between(x=time[:1793*3-48], y1=gamma[:1793*3-48, i], alpha=0.2)\n",
    "        plt.xlim(0, 7*3)\n",
    "        labels.append(f'state {i+1}')\n",
    "    plt.plot(time[:1793*3-48], gamma[:1793*3-48, burst]>0.6, 'red')\n",
    "    labels[0]=(f'burst state (state {burst+1})')\n",
    "    plt.fill_between(x=time[:1793*3-48], y1=gamma[:1793*3-48, burst], alpha=0.2, color='red')\n",
    "    plt.ylabel('State probability')\n",
    "    plt.legend(labels, loc='upper left')\n",
    "\n",
    "    # Time-frequency plot\n",
    "    plt.subplot(212)\n",
    "\n",
    "    plt.title('Wavelet transform')\n",
    "    plt.imshow(bigtfr[0, :, :1793*3],\n",
    "               aspect='auto', origin='lower', extent=[0, 7*3, 2, 50], cmap='RdBu_r')\n",
    "    plt.xlabel('Time (s)')\n",
    "    plt.ylabel('Frequencies (Hz)')\n",
    "    plt.tight_layout()\n",
    "    \n",
    "    if save == True:\n",
    "        plt.savefig(f'tde-hmm2/su{subj}IC{IC}tr{trial}_co{n_components}lg{n_lags}st{n_states}'\n",
    "                    +covariance_type+f'{n_mix}'+model_type+'_big-tde-hmm.png', dpi=600)\n",
    "        \n",
    "    plt.close(fig)"
   ]
  },
  {
   "cell_type": "markdown",
   "metadata": {},
   "source": [
    "### Using the HMM method on a big timecourse (several variations)"
   ]
  },
  {
   "cell_type": "markdown",
   "metadata": {},
   "source": [
    "#### Variation1\n",
    "subj2, IC1, 10 trials concatenated\n",
    "\n",
    "|_ 58delays x (7s x 256Hz x 10trials)   -----PCA-----> |_ 40components x (7s x 256Hz x 10trials) -----> |_ TDE-HMM\n",
    "                                                                                                        (\n",
    "                                                                                                        1 Gaussian/state,\n",
    "                                                                                                        3 states\n",
    "                                                                                                        )"
   ]
  },
  {
   "cell_type": "code",
   "execution_count": null,
   "metadata": {},
   "outputs": [],
   "source": [
    "'''\n",
    "!!! We changed the parameters for little lags, no pca\n",
    "'''"
   ]
  },
  {
   "cell_type": "code",
   "execution_count": 20,
   "metadata": {},
   "outputs": [],
   "source": [
    "# The parameters we change to hope for some results\n",
    "lags = np.arange(-9, 10)\n",
    "n_lags = lags.shape[0]\n",
    "n_iter=100\n",
    "n_states=3    # for the Hidden Markov Model\n",
    "n_components=0     # For the principal component analysis\n",
    "covariance_type='diag'\n",
    "model_type='GMMHMM'\n",
    "tol=0.01\n",
    "n_mix=1\n",
    "save=True"
   ]
  },
  {
   "cell_type": "code",
   "execution_count": 21,
   "metadata": {},
   "outputs": [
    {
     "data": {
      "text/plain": [
       "(17912,)"
      ]
     },
     "execution_count": 21,
     "metadata": {},
     "output_type": "execute_result"
    }
   ],
   "source": [
    "# Creating a big time axis\n",
    "trial=10    # Number of trials in the timecourse\n",
    "time = data['time_axis']\n",
    "bigtime = np.concatenate([time+4+(7*i) for i in range(trial)])\n",
    "\n",
    "bigtime[np.abs(np.min(lags)):-np.abs(np.max(lags))].shape"
   ]
  },
  {
   "cell_type": "code",
   "execution_count": 22,
   "metadata": {},
   "outputs": [
    {
     "name": "stdout",
     "output_type": "stream",
     "text": [
      "subj2, IC1: OK\n"
     ]
    }
   ],
   "source": [
    "for subj in range(2, 3):\n",
    "    for IC in range(1, 2):\n",
    "        try:\n",
    "            # Finding and saving the model\n",
    "            big_timecourse = np.concatenate([data[f'raw_timecourse_256Hz subject{subj}, IC{IC}'][i] for i in range(trial)])\n",
    "            x = big_timecourse.reshape(-1, 1)\n",
    "            gamma, model, xe, y = hmm_tde(x, lags, subj, IC, trial, n_lags, n_iter=n_iter, n_states=n_states, n_components=n_components, \n",
    "                                       covariance_type=covariance_type, model_type=model_type, tol=tol, n_mix=n_mix)\n",
    "\n",
    "            # Saving the Power Spectral Density of each state\n",
    "            max_freq, max_power = show_bigstates(\n",
    "                gamma, n_states, # the data we need for the plot\n",
    "                subj, IC, trial, # which IC of which subject is of interest here, how many trials\n",
    "                n_components, n_lags, covariance_type, model_type, n_mix, # infos we put in the .png name if we want to save it\n",
    "                save # do we really want to save the figure?\n",
    "            )\n",
    "\n",
    "            # Saving probability timecourses of the states over the tfr \n",
    "            bigtfr = np.concatenate([data[f'tfr_256Hz subject{subj}, IC{IC}, trial{i+1}'] for i in range(trial)], axis=2)\n",
    "            plot_hmm_over_bigtfr(   \n",
    "                bigtime, bigtfr, gamma, lags, n_states, max_power, # the data we need for the plot\n",
    "                subj, IC, trial, # which IC of which subject is of interest here, how many trials\n",
    "                n_components, n_lags, covariance_type, model_type, n_mix, # infos we put in the .png name if we want to save it\n",
    "                save # do we really want to save the figure?\n",
    "            )\n",
    "            print(f\"subj{subj}, IC{IC}: OK\")\n",
    "        except:\n",
    "            print(f\"subj{subj}, IC{IC}: NOT POSSIBLE\")"
   ]
  },
  {
   "cell_type": "code",
   "execution_count": 23,
   "metadata": {},
   "outputs": [
    {
     "name": "stdout",
     "output_type": "stream",
     "text": [
      "startprob_: \n",
      " [1.00000000e+000 4.77064848e-311 1.36099554e-181] \n",
      "\n",
      "\n",
      "transmat_: \n",
      " [[9.48981431e-01 2.47263034e-02 2.62922658e-02]\n",
      " [4.38317749e-02 9.56168225e-01 1.52937572e-99]\n",
      " [4.11286666e-02 4.10558312e-04 9.58460775e-01]]\n",
      "\n",
      "\n",
      "\n",
      "means_:\n"
     ]
    },
    {
     "data": {
      "image/png": "[encoded data removed]",
      "text/plain": [
       "<Figure size 432x288 with 1 Axes>"
      ]
     },
     "metadata": {
      "needs_background": "light"
     },
     "output_type": "display_data"
    },
    {
     "name": "stdout",
     "output_type": "stream",
     "text": [
      "\n",
      "\n",
      "\n",
      "covars_:\n"
     ]
    },
    {
     "data": {
      "image/png": "[encoded data removed]",
      "text/plain": [
       "<Figure size 432x288 with 1 Axes>"
      ]
     },
     "metadata": {
      "needs_background": "light"
     },
     "output_type": "display_data"
    }
   ],
   "source": [
    "print(\"startprob_: \\n\", model.startprob_, \"\\n\\n\\ntransmat_: \\n\", model.transmat_,)\n",
    "\n",
    "print(\"\\n\\n\\nmeans_:\")\n",
    "plt.subplots()\n",
    "for i in range(n_states):\n",
    "    plt.plot(model.means_[i, 0, :])\n",
    "plt.legend([f'state {i+1}' for i in range(n_states)], loc='upper right')\n",
    "plt.show()\n",
    "\n",
    "print(\"\\n\\n\\ncovars_:\")\n",
    "plt.subplots()\n",
    "for i in range(n_states):\n",
    "    plt.plot(model.covars_[i, 0, :])\n",
    "plt.legend([f'state {i+1}' for i in range(n_states)], loc='upper right')\n",
    "plt.show()"
   ]
  },
  {
   "cell_type": "code",
   "execution_count": 25,
   "metadata": {},
   "outputs": [
    {
     "data": {
      "text/plain": [
       "array([-4.        , -3.99609375, -3.9921875 , ...,  2.9921875 ,\n",
       "        2.99609375,  3.        ])"
      ]
     },
     "execution_count": 25,
     "metadata": {},
     "output_type": "execute_result"
    }
   ],
   "source": [
    "time"
   ]
  }
 ],
 "metadata": {
  "kernelspec": {
   "display_name": "Python 3",
   "language": "python",
   "name": "python3"
  },
  "language_info": {
   "codemirror_mode": {
    "name": "ipython",
    "version": 3
   },
   "file_extension": ".py",
   "mimetype": "text/x-python",
   "name": "python",
   "nbconvert_exporter": "python",
   "pygments_lexer": "ipython3",
   "version": "3.8.10"
  }
 },
 "nbformat": 4,
 "nbformat_minor": 2
}
