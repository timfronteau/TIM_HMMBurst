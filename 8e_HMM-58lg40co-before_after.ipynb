{
 "cells": [
  {
   "cell_type": "markdown",
   "metadata": {},
   "source": [
    "# Final: saving all HMM data, of which the states timecourses."
   ]
  },
  {
   "cell_type": "markdown",
   "metadata": {},
   "source": [
    "## The libraries and methods we need:"
   ]
  },
  {
   "cell_type": "code",
   "execution_count": 1,
   "metadata": {},
   "outputs": [],
   "source": [
    "import numpy as np\n",
    "from loader import load_oneIC"
   ]
  },
  {
   "cell_type": "code",
   "execution_count": 2,
   "metadata": {},
   "outputs": [],
   "source": [
    "from sklearn.decomposition import PCA\n",
    "from hmmlearn import hmm\n",
    "import scipy.signal as signal\n",
    "import pickle"
   ]
  },
  {
   "cell_type": "code",
   "execution_count": 3,
   "metadata": {},
   "outputs": [],
   "source": [
    "import matplotlib.pyplot as plt"
   ]
  },
  {
   "cell_type": "code",
   "execution_count": 4,
   "metadata": {},
   "outputs": [],
   "source": [
    "import h5py"
   ]
  },
  {
   "cell_type": "code",
   "execution_count": 5,
   "metadata": {},
   "outputs": [],
   "source": [
    "import xarray as xr"
   ]
  },
  {
   "cell_type": "code",
   "execution_count": 6,
   "metadata": {},
   "outputs": [],
   "source": [
    "directory = \"E:/timot/Documents/1 - Centrale Marseille/0.5 - Semestre S8/Stage/NIC_250819\"\n",
    "file = \"FCK_LOCKED_IC_JYOTIKA_250819.mat\"\n",
    "\n",
    "path = f\"{directory}/{file}\"\n",
    "\n",
    "mat_file = h5py.File(path, \"r\")\n",
    "cells_refs = mat_file['FCK_LOCKED_IC_JYOTIKA']\n",
    "\n",
    "n_IC = 4\n",
    "n_subj = 23"
   ]
  },
  {
   "cell_type": "markdown",
   "metadata": {},
   "source": [
    "## Functions:"
   ]
  },
  {
   "cell_type": "markdown",
   "metadata": {},
   "source": [
    "### Cumputing functions:"
   ]
  },
  {
   "cell_type": "code",
   "execution_count": 7,
   "metadata": {},
   "outputs": [],
   "source": [
    "# The embedx function copies the `x` array len(lags) times into `xe`\n",
    "# with lags (i.e. time delays) between lags[0] and lags[-1] (we implement the time-delay array for the HMM).\n",
    "\n",
    "def embedx(x, lags):\n",
    "    \n",
    "    Xe = np.zeros((x.shape[1], x.shape[0],  len(lags)))\n",
    "\n",
    "    for l in range(len(lags)):\n",
    "        Xe[:, :, l] = np.roll(x, lags[l], axis=0).swapaxes(0, 1)\n",
    "\n",
    "    # Remove edges\n",
    "    valid = np.ones((x.shape[0], 1), dtype=np.int8)\n",
    "    valid[:np.abs(np.min(lags)), :] = 0\n",
    "    valid[-np.abs(np.max(lags)):, :] = 0\n",
    "\n",
    "    Xe = Xe[:, valid[:, 0] == 1, :]\n",
    "\n",
    "    return Xe, valid\n",
    "\n",
    "\n",
    "# The hmm_tde function finds parameters for the HMM,\n",
    "# then uses them to determine the probability of presence of each found state over time.\n",
    "\n",
    "def hmm_tde(data: np.array, lags, subj, IC, n_lags, n_states=3, n_iter=100, n_components=8, \n",
    "            covariance_type='full', model_type='GMMHMM', tol=0.01, n_mix=1, **kwargs):\n",
    "    \n",
    "    # Embed time serie\n",
    "    xe, valid = embedx(data, lags)\n",
    "\n",
    "    pca = PCA(n_components=n_components)\n",
    "    y = pca.fit_transform(xe[0, :, :])\n",
    "    \n",
    "    if model_type=='GMMHMM':\n",
    "        model = hmm.GMMHMM(n_components=n_states, n_iter=n_iter,\n",
    "                            covariance_type=covariance_type, tol=tol, n_mix=n_mix, **kwargs)\n",
    "        \n",
    "    elif model_type=='GaussianHMM':\n",
    "        model = hmm.GaussianHMM(n_components=n_states, n_iter=n_iter,\n",
    "                            covariance_type=covariance_type, tol=tol, **kwargs)\n",
    "        \n",
    "    elif model_type=='MultinomialHMM':\n",
    "        model = hmm.MultinomialHMM(n_components=n_states, n_iter=n_iter, tol=tol, **kwargs)\n",
    "    \n",
    "    else: \n",
    "        return \"Non-exixting model_type. Please choose 'GMMHMM' or 'GaussianHMM' or 'MultinomialHMM'. default='GMMHMM'\"\n",
    "        \n",
    "    model.fit(y)\n",
    "    gamma = model.predict_proba(y)\n",
    "\n",
    "    return gamma, model, xe"
   ]
  },
  {
   "cell_type": "markdown",
   "metadata": {},
   "source": [
    "### Plotting and saving functions:"
   ]
  },
  {
   "cell_type": "code",
   "execution_count": 14,
   "metadata": {
    "scrolled": false
   },
   "outputs": [],
   "source": [
    "def show_bigstates(\n",
    "    gamma, n_states, xe, # the data we need for the plot\n",
    "    \n",
    "    subj, IC, # which IC of which subject is of interest here\n",
    "    \n",
    "    n_components, n_lags, covariance_type, model_type, n_mix, temp, # infos we put in the .png name if we want to save it\n",
    "):\n",
    "\n",
    "    fig = plt.figure(figsize=(6, 6))\n",
    "    plt.title('State Power Spectrum')\n",
    "    max_power = np.zeros(n_states)\n",
    "    psd_all = np.zeros((n_states, 196))\n",
    "    for i in range(n_states):\n",
    "\n",
    "        # Compute PSD separately for each lag\n",
    "        tot = []\n",
    "        for seg in xe[0, gamma[:, i]> .6, :].T:\n",
    "            freqs, psd = signal.welch(x=seg, fs=256, nfft=1000)\n",
    "            tot.append(psd)\n",
    "        psd = np.mean(np.asarray(tot), 0)\n",
    "        \n",
    "        max_power[i] = np.amax(psd[80:])\n",
    "        \n",
    "        psd_all[i] = psd[:196]\n",
    "        plt.plot(freqs[:196], psd_all[i])\n",
    "    \n",
    "    plt.ylabel('PSD')\n",
    "    plt.xlabel('Frequencies (Hz)')\n",
    "    plt.legend([f'state {i+1}' for i in range(n_states)], loc='upper right')\n",
    "    plt.tight_layout()   \n",
    "\n",
    "    plt.savefig(f'tde-hmm2/png_files/su{subj}IC{IC}All'+temp+f'_lg{n_lags}co{n_components}st{n_states}'\n",
    "                    +f'{n_mix}'+model_type+'_states-info.png', dpi=600)\n",
    "    \n",
    "    plt.close(fig)\n",
    "    \n",
    "    return psd_all, freqs[:196], max_power\n",
    "    "
   ]
  },
  {
   "cell_type": "code",
   "execution_count": 9,
   "metadata": {},
   "outputs": [],
   "source": [
    "def plot_hmm_over_bigtfr(   \n",
    "    bigtime, bigtfr, gamma, lags, n_states, max_power, # the data we need for the plot\n",
    "    \n",
    "    subj, IC, # which IC of which subject is of interest here\n",
    "    \n",
    "    n_components, n_lags, covariance_type, model_type, n_mix, # infos we put in the .png name if we want to save it\n",
    "):\n",
    "    \n",
    "    fig = plt.figure(figsize=(16*3, 5))\n",
    "\n",
    "    # HMM states probability plot\n",
    "    plt.subplot(211)\n",
    "    plt.title('HMM States probability')\n",
    "    time = bigtime[np.abs(np.min(lags)):-np.abs(np.max(lags))]\n",
    "\n",
    "    burst = np.argmax(max_power) # this is the burst state index\n",
    "    \n",
    "    labels = ['']\n",
    "    states = np.where([i not in [burst] for i in range(n_states)])[0] # the other indexes\n",
    "    for i in states:\n",
    "        plt.fill_between(x=time[:1793*3-60], y1=gamma[:1793*3-60, i], alpha=0.2)\n",
    "        plt.xlim(0, 7*3)\n",
    "        labels.append(f'state {i+1}')\n",
    "    plt.plot(time[:1793*3-60], gamma[:1793*3-60, burst]>0.6, 'red')\n",
    "    labels[0]=(f'burst state (state {burst+1})')\n",
    "    plt.fill_between(x=time[:1793*3-60], y1=gamma[:1793*3-60, burst], alpha=0.2, color='red')\n",
    "    plt.ylabel('State probability')\n",
    "    plt.legend(labels, loc='upper left')\n",
    "\n",
    "    # Time-frequency plot\n",
    "    plt.subplot(212)\n",
    "\n",
    "    plt.title('Wavelet transform')\n",
    "    plt.imshow(bigtfr[0, :, :1793*3],\n",
    "               aspect='auto', origin='lower', extent=[0, 7*3, 2, 50], cmap='RdBu_r')\n",
    "    plt.xlabel('Time (s)')\n",
    "    plt.ylabel('Frequencies (Hz)')\n",
    "    plt.tight_layout()\n",
    "    \n",
    "    plt.savefig(f'tde-hmm2/png_files/su{subj}IC{IC}All_lg{n_lags}co{n_components}st{n_states}'\n",
    "                    +f'{n_mix}'+model_type+'_hmm-tfr.png', dpi=600)\n",
    "        \n",
    "    plt.close(fig)"
   ]
  },
  {
   "cell_type": "markdown",
   "metadata": {},
   "source": [
    "## The routine:"
   ]
  },
  {
   "cell_type": "markdown",
   "metadata": {},
   "source": [
    "#### Model and parameters:\n",
    "|_ 58delays x (7s x 256Hz x 10trials)   -----PCA-----> |_ 40components x (7s x 256Hz x 10trials) -----> |_ TDE-HMM\n",
    "                                                                                                        (\n",
    "                                                                                                        1 Gaussian/state,\n",
    "                                                                                                        3 states\n",
    "                                                                                                        )"
   ]
  },
  {
   "cell_type": "code",
   "execution_count": 10,
   "metadata": {},
   "outputs": [],
   "source": [
    "# The parameters we change to hope for some results\n",
    "lags = np.arange(-29, 29)\n",
    "n_lags = lags.shape[0]\n",
    "n_iter=100\n",
    "n_states=3    # for the Hidden Markov Model\n",
    "n_components=40     # For the principal component analysis\n",
    "covariance_type='diag'\n",
    "model_type='GMMHMM'\n",
    "tol=0.01\n",
    "n_mix=1"
   ]
  },
  {
   "cell_type": "code",
   "execution_count": 12,
   "metadata": {},
   "outputs": [],
   "source": [
    "import time as tm"
   ]
  },
  {
   "cell_type": "code",
   "execution_count": 17,
   "metadata": {
    "scrolled": true
   },
   "outputs": [
    {
     "name": "stdout",
     "output_type": "stream",
     "text": [
      "---- SUBJECT14, IC1 ----\n",
      "Loading the raw timecourse\n",
      "Computing and loading the time-frequency wavelet transformation for 3 trials\n",
      "0.7035543918609619 seconds\n",
      "Computing the two models\n",
      "676.0312111377716 seconds\n",
      "Saving the model\n",
      "Saving the states timecourse\n",
      "0.568690299987793 seconds\n",
      "Computing the PSD of each states and saving a plot\n",
      "subj14, IC1: NOT POSSIBLE\n",
      "0h11mn17.32025170326233s\n"
     ]
    }
   ],
   "source": [
    "subj_list = [i for i in range(2,9)] + [i for i in range(10,13)] + [14] + [i for i in range(16, n_subj+1)] \n",
    "                                                                            # All except subjects 1, 9, 13, 15\n",
    "complete_time = tm.time()\n",
    "for subj in subj_list:  \n",
    "    for IC in range(1, n_IC+1): \n",
    "# for subj in [14]:\n",
    "#     for IC in [1]:\n",
    "        start_time = tm.time()\n",
    "        try:\n",
    "            print(f\"---- SUBJECT{subj}, IC{IC} ----\")\n",
    "            # Loading all data for subject{subj}, IC{IC}\n",
    "            data, n_trials = load_oneIC(mat_file, cells_refs, subj, IC)\n",
    "            \n",
    "            time = data['time_axis']\n",
    "            ind = 1024\n",
    "#             while time[ind]<0:\n",
    "#                 ind+=1\n",
    "            \n",
    "            data_before = np.concatenate([data[f'raw_timecourse_256Hz'][i, :ind] for i in range(n_trials)])\n",
    "            data_after = np.concatenate([data[f'raw_timecourse_256Hz'][i, ind:] for i in range(n_trials)])\n",
    "                        \n",
    "            # Finding and saving the models\n",
    "            x_before = data_before.reshape(-1, 1)\n",
    "            x_after = data_after.reshape(-1, 1)            \n",
    "            print(\"Computing the two models\")\n",
    "            gamma_before, model_before, xe_before = hmm_tde(x_before, lags, subj, IC, n_lags, n_iter=n_iter, n_states=n_states, n_components=n_components, \n",
    "                                       covariance_type=covariance_type, model_type=model_type, tol=tol, n_mix=n_mix)\n",
    "            gamma_after, model_after, xe_after = hmm_tde(x_after, lags, subj, IC, n_lags, n_iter=n_iter, n_states=n_states, n_components=n_components, \n",
    "                                       covariance_type=covariance_type, model_type=model_type, tol=tol, n_mix=n_mix)\n",
    "            print(\"Saving the model\")\n",
    "            with open(f\"tde-hmm2/pkl_files/su{subj}IC{IC}AllBefore_lg{n_lags}co{n_components}st{n_states}\"\n",
    "                +f\"{n_mix}\"+model_type+\"_model.pkl\", \"wb\") as file: pickle.dump(model_before, file)\n",
    "            with open(f\"tde-hmm2/pkl_files/su{subj}IC{IC}AllAfter_lg{n_lags}co{n_components}st{n_states}\"\n",
    "                +f\"{n_mix}\"+model_type+\"_model.pkl\", \"wb\") as file: pickle.dump(model_after, file)\n",
    "            print(\"Saving the states timecourse\")\n",
    "#             gamma = np.concatenate([gamma_before[np.newaxis, :, :], gamma_after[np.newaxis, :, :]], axis = 0)\n",
    "            gammaxr_before = xr.DataArray(\n",
    "                gamma_before,\n",
    "                dims=['time', 'states'],\n",
    "                coords={\n",
    "                    \"subject\": subj,\n",
    "                    \"IC\": IC,\n",
    "                    \"temp\": \"before\"\n",
    "                },\n",
    "            )\n",
    "            gammaxr_after = xr.DataArray(\n",
    "                gamma_after,\n",
    "                dims=['time', 'states'],\n",
    "                coords={\n",
    "                    \"subject\": subj,\n",
    "                    \"IC\": IC,\n",
    "                    \"temp\": \"after\"\n",
    "                },\n",
    "            )\n",
    "            ds_before = xr.Dataset({\"states_timecourse_256Hz\": gammaxr_before},)\n",
    "            ds_before.to_netcdf(f\"tde-hmm2/nc_files/su{subj}IC{IC}Before-states_timecourse_256Hz.nc\")\n",
    "            ds_after = xr.Dataset({\"states_timecourse_256Hz\": gammaxr_after},)\n",
    "            ds_after.to_netcdf(f\"tde-hmm2/nc_files/su{subj}IC{IC}After-states_timecourse_256Hz.nc\")\n",
    "            print(\"%s seconds\" % (tm.time() - start_time))\n",
    "            start_time = tm.time()\n",
    "            \n",
    "            # Saving the Power Spectral Density of each state\n",
    "            print(\"Computing the PSD of each states and saving a plot\")\n",
    "            psd_all_before, freqs, max_power = show_bigstates(\n",
    "                gamma_before, n_states, xe_before, # the data we need for the plot\n",
    "                subj, IC, # which IC of which subject is of interest here\n",
    "                n_components, n_lags, covariance_type, model_type, n_mix, \"Before\", # infos we put in the .png name if we want to save it\n",
    "            )\n",
    "            psd_all_after, freqs, max_power = show_bigstates(\n",
    "                gamma_after, n_states, xe_after, # the data we need for the plot\n",
    "                subj, IC, # which IC of which subject is of interest here\n",
    "                n_components, n_lags, covariance_type, model_type, n_mix, \"After\", # infos we put in the .png name if we want to save it\n",
    "            )\n",
    "            print(\"Saving the PSD of each state\")\n",
    "            psdxr_before = xr.DataArray(\n",
    "                psd_all_before,\n",
    "                dims=['states', 'power'],\n",
    "                coords={\n",
    "                    \"subject\": subj,\n",
    "                    \"IC\": IC,\n",
    "                    \"temp\": \"before\"\n",
    "                },\n",
    "            )\n",
    "            psdxr_after = xr.DataArray(\n",
    "                psd_all_after,\n",
    "                dims=['states', 'power'],\n",
    "                coords={\n",
    "                    \"subject\": subj,\n",
    "                    \"IC\": IC,\n",
    "                    \"temp\": \"after\"\n",
    "                },\n",
    "            )\n",
    "            # !!! ICI ajouter le freqs array dedans !!!\n",
    "            ds_before = xr.Dataset({\"states_psd\": psdxr_before},)\n",
    "            ds_before.to_netcdf(f\"tde-hmm2/nc_files/su{subj}IC{IC}Before-states_psd.nc\")\n",
    "            ds_after = xr.Dataset({\"states_psd\": psdxr_after},)\n",
    "            ds_after.to_netcdf(f\"tde-hmm2/nc_files/su{subj}IC{IC}After-states_psd.nc\")\n",
    "\n",
    "            print(\"%s seconds\" % (tm.time() - start_time))\n",
    "            print(f\"subj{subj}, IC{IC}: OK\")\n",
    "        except:\n",
    "            print(f\"subj{subj}, IC{IC}: NOT POSSIBLE\")\n",
    "\n",
    "sec_time = tm.time() - complete_time\n",
    "hr_time = int(sec_time/3600)\n",
    "sec_time = sec_time - (hr_time*3600)\n",
    "mn_time = int(sec_time/60)\n",
    "sec_time = int(sec_time - (mn_time*60))\n",
    "print(f\"{hr_time}h{mn_time}mn{sec_time}s\")"
   ]
  }
 ],
 "metadata": {
  "kernelspec": {
   "display_name": "Python 3",
   "language": "python",
   "name": "python3"
  },
  "language_info": {
   "codemirror_mode": {
    "name": "ipython",
    "version": 3
   },
   "file_extension": ".py",
   "mimetype": "text/x-python",
   "name": "python",
   "nbconvert_exporter": "python",
   "pygments_lexer": "ipython3",
   "version": "3.7.3"
  }
 },
 "nbformat": 4,
 "nbformat_minor": 2
}
