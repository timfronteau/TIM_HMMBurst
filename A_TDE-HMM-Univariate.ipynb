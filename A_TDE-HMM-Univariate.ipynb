{
 "cells": [
  {
   "cell_type": "code",
   "execution_count": 1,
   "metadata": {},
   "outputs": [],
   "source": [
    "import numpy as np\n",
    "from loader import load_oneIC\n",
    "import h5py\n",
    "import xarray as xr"
   ]
  },
  {
   "cell_type": "code",
   "execution_count": 2,
   "metadata": {},
   "outputs": [],
   "source": [
    "from sklearn.decomposition import PCA\n",
    "from sklearn.preprocessing import scale\n",
    "from hmmlearn import hmm\n",
    "import scipy.signal as signal\n",
    "import pickle"
   ]
  },
  {
   "cell_type": "code",
   "execution_count": 43,
   "metadata": {},
   "outputs": [],
   "source": [
    "import matplotlib.pyplot as plt\n",
    "import matplotlib.colors as colors\n",
    "from wavelet_transform import wavelet_transform2"
   ]
  },
  {
   "cell_type": "code",
   "execution_count": 4,
   "metadata": {},
   "outputs": [],
   "source": [
    "import mne"
   ]
  },
  {
   "cell_type": "code",
   "execution_count": 5,
   "metadata": {},
   "outputs": [],
   "source": [
    "import time as tm"
   ]
  },
  {
   "cell_type": "code",
   "execution_count": 6,
   "metadata": {},
   "outputs": [],
   "source": [
    "directory = \"/home/INT/malfait.n/Documents/NIC_250819\"\n",
    "file = \"FCK_LOCKED_IC_JYOTIKA_250819.mat\"\n",
    "\n",
    "path = f\"{directory}/{file}\"\n",
    "\n",
    "mat_file = h5py.File(path, \"r\")\n",
    "cells_refs = mat_file['FCK_LOCKED_IC_JYOTIKA']\n",
    "\n",
    "n_IC = 4\n",
    "n_subj = 23"
   ]
  },
  {
   "cell_type": "code",
   "execution_count": 7,
   "metadata": {},
   "outputs": [],
   "source": [
    "figures_dir = \"tde-hmm2/Univariate/figures/\"\n",
    "data_dir = \"tde-hmm2/Univariate/data/\""
   ]
  },
  {
   "cell_type": "code",
   "execution_count": 8,
   "metadata": {},
   "outputs": [],
   "source": [
    "# The embedx function copies the `x` array len(lags) times into `xe`\n",
    "# with lags (i.e. time delays) between lags[0] and lags[-1] (we implement the time-delay array for the HMM).\n",
    "\n",
    "def embedx(x, lags):\n",
    "    \n",
    "    Xe = np.zeros((x.shape[1], x.shape[0],  len(lags)))\n",
    "\n",
    "    for l in range(len(lags)):\n",
    "        Xe[:, :, l] = np.roll(x, lags[l], axis=0).swapaxes(0, 1)\n",
    "\n",
    "    # Remove edges\n",
    "    valid = np.ones((x.shape[0], 1), dtype=np.int8)\n",
    "    valid[:np.abs(np.min(lags)), :] = 0\n",
    "    valid[-np.abs(np.max(lags)):, :] = 0\n",
    "\n",
    "    Xe = Xe[:, valid[:, 0] == 1, :]\n",
    "\n",
    "    return Xe, valid"
   ]
  },
  {
   "cell_type": "code",
   "execution_count": 9,
   "metadata": {},
   "outputs": [],
   "source": [
    "def statesPSD(gamma, n_states, xe, fs=256/3):\n",
    "\n",
    "    psd_all = []\n",
    "    for i in range(n_states):\n",
    "\n",
    "        # Compute PSD separately for each lag\n",
    "        tot = []\n",
    "        for seg in xe[gamma[:, i]>(2/3), :].T:\n",
    "            freqs, psd = signal.welch(x=seg, fs=fs, nfft=1000)\n",
    "            tot.append(psd)\n",
    "        psd = np.mean(np.asarray(tot), 0)\n",
    "        psd_all.append(psd)\n",
    "    \n",
    "    psd_all = np.asarray(psd_all)\n",
    "    \n",
    "    return freqs, psd_all"
   ]
  },
  {
   "cell_type": "markdown",
   "metadata": {},
   "source": [
    "## Parameters"
   ]
  },
  {
   "cell_type": "code",
   "execution_count": null,
   "metadata": {},
   "outputs": [],
   "source": [
    "### Imput data parameters\n",
    "# subj_list = [2, 3, 4, 5, 6, 7, 8, 10, 11, 12, 14, 16, 17, 18, 19, 20, 21, 22, 23] # All except 1, 9, 13, 15\n",
    "# subj_list = [2, 3, 4, 6, 7, 8, 10, 11, 14, 16, 18, 19, 22] # same && all IC exist\n",
    "subj_list = [2]\n",
    "IC_list = [1, 2, 3, 4]\n",
    "downsamp_rate = 3\n",
    "# downsamp_rate = 1\n",
    "start_idx = 0\n",
    "# start_idx = 4*256\n",
    "end_idx = -1\n",
    "# end_idx = 4*256\n",
    "lags = np.arange(-5, 5)\n",
    "# lags = np.arange(-29, 29)\n",
    "# lags = np.arange(-11, 12)\n",
    "n_lags = lags.shape[0]\n",
    "apply_PCA = False  # Do we apply a PCA before inferring the HMM?\n",
    "n_components = 0     # Number of principal components in case of PCA\n",
    "# n_components = 40\n",
    "\n",
    "### HMM parameters\n",
    "model_type = 'GaussianHMM'\n",
    "covariance_type = 'full'\n",
    "# covariance_type = 'diag'  # ONLY IN CASE OF PCA\n",
    "n_iter = 100\n",
    "tol = 0.01\n",
    "\n",
    "### Output data parameters\n",
    "n_states_list = [3, 4, 5, 6]    # Number of hidden Markov states. Must be a list."
   ]
  },
  {
   "cell_type": "markdown",
   "metadata": {},
   "source": [
    "## Script"
   ]
  },
  {
   "cell_type": "code",
   "execution_count": 48,
   "metadata": {},
   "outputs": [
    {
     "name": "stdout",
     "output_type": "stream",
     "text": [
      "---- SUBJECT2, IC1 ----\n",
      "Loading the raw timecourse\n",
      "Computing and loading the time-frequency wavelet transformation for 3 trials\n",
      "Computing and saving the model\n",
      "Computing the probability time course and the PSD of each states\n",
      "69.15902328491211 seconds\n",
      "subj2, IC1: OK\n",
      "---- SUBJECT2, IC2 ----\n",
      "Loading the raw timecourse\n",
      "Computing and loading the time-frequency wavelet transformation for 3 trials\n",
      "Computing and saving the model\n",
      "Computing the probability time course and the PSD of each states\n",
      "71.44885182380676 seconds\n",
      "subj2, IC2: OK\n",
      "Saving the probability time course, fractional occupancy and PSD of each states for subj2\n",
      "0h2mn20.63796877861023s\n"
     ]
    }
   ],
   "source": [
    "complete_time = tm.time()\n",
    "for n_states in n_states_list:\n",
    "    for subj in subj_list:\n",
    "        tcourses = []\n",
    "        psds = []\n",
    "        IC_new_list = []\n",
    "        for IC in IC_list: \n",
    "            start_time = tm.time()\n",
    "            try:\n",
    "                print(f\"---- SUBJECT{subj}, IC{IC} ----\")\n",
    "                # Loading all data for subject{subj}, IC{IC}\n",
    "                data, n_trials = load_oneIC(mat_file, cells_refs, subj, IC)\n",
    "\n",
    "                # Finding and saving the model\n",
    "                big_timecourse = np.concatenate([data[f'raw_timecourse_256Hz'][i][start_idx:end_idx:downsamp_rate] for i in range(n_trials)])\n",
    "                x = big_timecourse.reshape(-1, 1)\n",
    "                print(\"Computing and saving the model\")\n",
    "                xe, valid = embedx(x, lags)\n",
    "                if apply_PCA:\n",
    "                    pca = PCA(n_components=n_components)\n",
    "                    y = pca.fit_transform(xe[0, :, :])\n",
    "                else:\n",
    "                    y = xe[0, :, :]\n",
    "                model = hmm.GaussianHMM(n_components=n_states, n_iter=n_iter,\n",
    "                                covariance_type=covariance_type, tol=tol)\n",
    "                model.fit(y)\n",
    "                with open(data_dir + f\"su{subj}IC{IC}_lg{n_lags}co{n_components}st{n_states}\"\n",
    "                    + \"Univariate\" + model_type + \".pkl\", \"wb\") as file: pickle.dump(model, file)\n",
    "\n",
    "                # Computing the states' Probability time courses and PSDs for one IC\n",
    "                print(\"Computing the probability time course and the PSD of each states\")\n",
    "                gamma = model.predict_proba(y)\n",
    "                tcourse = np.concatenate(\n",
    "                    (np.zeros((abs(lags[0]),n_states)), gamma, np.zeros((lags[-1],n_states)))\n",
    "                )\n",
    "                t_len = data[\"time_axis\"][start_idx:end_idx:downsamp_rate].shape[0]\n",
    "                tcourse_trials = np.zeros((n_trials, t_len, n_states))\n",
    "                for tr in range(n_trials):\n",
    "                    tcourse_trials[tr] = tcourse[tr*t_len:(tr+1)*t_len]\n",
    "                tcourses.append(tcourse_trials[np.newaxis])\n",
    "                freqs, psd = statesPSD(gamma, n_states, xe[0], fs=256/downsamp_rate)\n",
    "                psd = psd[np.newaxis,]\n",
    "                psds.append(psd)\n",
    "                IC_new_list.append(IC)\n",
    "                print(\"%s seconds\" % (tm.time() - start_time))\n",
    "                print(f\"subj{subj}, IC{IC}: OK\")\n",
    "            except:\n",
    "                print(f\"subj{subj}, IC{IC}: NOT POSSIBLE\")\n",
    "        print(f\"Saving the probability time course, fractional occupancy and PSD of each states for subj{subj}\")\n",
    "        if len(tcourses)>1:\n",
    "            tcourses = np.concatenate((tcourses))\n",
    "            psds = np.concatenate((psds))\n",
    "        else:\n",
    "            tcourses = tcourses[0]\n",
    "            psds = psds[0]\n",
    "        ds = xr.Dataset(\n",
    "            {\n",
    "                \"states_timecourse\": ((\"IC\", \"trials\",\"time\", \"states\"), tcourses),\n",
    "                \"states_psd\": ((\"IC\", \"states\", \"freq\"), psds),\n",
    "            },\n",
    "            {\n",
    "                \"IC\":IC_new_list,\n",
    "                \"time\":data[\"time_axis\"][start_idx:end_idx:downsamp_rate],\n",
    "                \"states\":np.arange(1, n_states+1),\n",
    "                \"freq\": freqs,\n",
    "            }\n",
    "        )\n",
    "        ds = ds.assign(frac_occ = (ds[\"states_timecourse\"].sum(\"trials\")/ds.sizes[\"trials\"]))\n",
    "        ds.to_netcdf(data_dir + f\"su{subj}-{n_states}states_data.nc\")\n",
    "\n",
    "\n",
    "sec_time = tm.time() - complete_time\n",
    "hr_time = int(sec_time/3600)\n",
    "sec_time = sec_time - (hr_time*3600)\n",
    "mn_time = int(sec_time/60)\n",
    "sec_time = sec_time - (mn_time*60)\n",
    "print(f\"{hr_time}h{mn_time}mn{sec_time}s\")"
   ]
  },
  {
   "cell_type": "code",
   "execution_count": 49,
   "metadata": {},
   "outputs": [
    {
     "name": "stdout",
     "output_type": "stream",
     "text": [
      "Loading the raw timecourse\n",
      "Loading the raw timecourse\n"
     ]
    }
   ],
   "source": [
    "info = mne.create_info(ch_names=['signal'], sfreq=256, ch_types=['eeg'])\n",
    "\n",
    "for subj in subj_list:\n",
    "    for n_states in n_states_list:\n",
    "        ds = xr.open_dataset(data_dir + f\"su{subj}-{n_states}states_data.nc\")\n",
    "        start_t = ds[\"time\"].values[0]\n",
    "        end_t = ds[\"time\"].values[-1]\n",
    "        widths = [14, 1, 5]\n",
    "        heights = [1 for i in range(n_states)] + [4]\n",
    "        gs_kw = dict(width_ratios=widths, height_ratios=heights, wspace=0.0, hspace=0.0)\n",
    "        for IC in IC_list:\n",
    "            idx = np.searchsorted(ds[\"IC\"].values, IC)\n",
    "            try:\n",
    "                fig, f_axes = plt.subplots(figsize=(sum(widths),sum(heights)), ncols=3, \n",
    "                                            nrows=(n_states+1), constrained_layout=True,\n",
    "                                            gridspec_kw=gs_kw)\n",
    "                for state in ds[\"states\"].values:\n",
    "                    ax = f_axes[state-1,0]\n",
    "                    ax.plot(ds[\"time\"].values, ds[\"frac_occ\"].values[idx, :, state-1], color=f\"C{state-1}\")\n",
    "                    ax.set_xlim([-4, 3])\n",
    "                    ax.set_ylabel(f\"state {state}\")\n",
    "\n",
    "                ax = f_axes[n_states,0]\n",
    "                data, n_trials = load_oneIC(mat_file, cells_refs, subj, IC, comp=False)\n",
    "                tfr = wavelet_transform2(data, info, trial=np.arange(1,n_trials+1))\n",
    "                mappable = ax.imshow(tfr[0], aspect='auto', origin='lower', extent=[-4, 3, 2, 50], \n",
    "                                       norm=colors.PowerNorm(gamma=0.5), cmap='RdYlBu_r')\n",
    "                ax.set_ylabel(f'Frequencies IC{IC} (Hz)')\n",
    "                ax.set_xlabel(f'Time (s)')\n",
    "                fig.colorbar(mappable, cax=f_axes[n_states,1])\n",
    "\n",
    "                ax = f_axes[n_states,2]\n",
    "                ax.plot(ds[\"freq\"].values, ds[\"states_psd\"].values[idx,].T)\n",
    "                ax.set_ylabel(f'PSD IC{IC}')\n",
    "                ax.set_xlabel(f'Frequency (Hz)') \n",
    "                lines = ax.get_lines()\n",
    "                labels = [f\"State {i}\" for i in range (1, n_states+1)]\n",
    "                ax = f_axes[0,2]\n",
    "                ax.legend(lines, labels, loc='upper left')\n",
    "\n",
    "                fig.savefig(figures_dir + f'grid-{n_states}states-subj{subj}-IC{IC}.png', dpi=300)\n",
    "                plt.close(fig)\n",
    "            except:\n",
    "                print(f\"IC{IC} of subject {subj} does not exist\")"
   ]
  },
  {
   "cell_type": "code",
   "execution_count": 54,
   "metadata": {},
   "outputs": [],
   "source": [
    "n_trials_to_plot = 5\n",
    "\n",
    "for subj in subj_list:\n",
    "    for n_states in n_states_list:\n",
    "        fig, f_axes = plt.subplots(figsize=(20,n_states*n_trials_to_plot), ncols=1, \n",
    "                                   nrows=(n_states*n_trials_to_plot), constrained_layout=True)\n",
    "        ds = xr.open_dataset(data_dir + f\"su{subj}-{n_states}states_data.nc\")\n",
    "        for IC in IC_list:\n",
    "            try:\n",
    "                idx = np.searchsorted(ds[\"IC\"].values, IC)\n",
    "                for state in ds[\"states\"].values:\n",
    "                    color = f\"C{state-1}\"\n",
    "                    for trial in range(1, n_trials_to_plot+1):\n",
    "                        ax = f_axes[n_trials_to_plot*(state-1)+trial-1]\n",
    "                        ax.fill_between(ds[\"time\"], ds[\"states_timecourse\"].values[idx, trial, :, state-1], \n",
    "                                        color=color)\n",
    "                        ax.set_xlim([ds[\"time\"].values[0], ds[\"time\"].values[-1]])\n",
    "                        ax.set_ylim([0, 1])\n",
    "                        ax.set_ylabel(f\"Prob. st{state} tr{trial}\")\n",
    "                ax.set_xlabel(\"Time (s)\")\n",
    "                fig.savefig(figures_dir + f'tcourses-{n_states}states-subj{subj}-IC{IC}.png', dpi=300)\n",
    "                plt.close(fig)\n",
    "            except:\n",
    "                print(f\"IC{IC} of subject {subj} does not exist\")"
   ]
  }
 ],
 "metadata": {
  "kernelspec": {
   "display_name": "Python 3",
   "language": "python",
   "name": "python3"
  },
  "language_info": {
   "codemirror_mode": {
    "name": "ipython",
    "version": 3
   },
   "file_extension": ".py",
   "mimetype": "text/x-python",
   "name": "python",
   "nbconvert_exporter": "python",
   "pygments_lexer": "ipython3",
   "version": "3.8.10"
  }
 },
 "nbformat": 4,
 "nbformat_minor": 4
}
