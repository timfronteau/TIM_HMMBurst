{
 "cells": [
  {
   "cell_type": "code",
   "execution_count": 1,
   "metadata": {
    "pycharm": {
     "is_executing": false
    }
   },
   "outputs": [],
   "source": [
    "import numpy as np\n",
    "from loader import load"
   ]
  },
  {
   "cell_type": "code",
   "execution_count": 2,
   "metadata": {},
   "outputs": [
    {
     "name": "stdout",
     "output_type": "stream",
     "text": [
      "loading the raw timecourses...\n",
      "The independent component IC1 of the subject 20 is not in the .mat file.\n",
      "The independent component IC1 of the subject 21 is not in the .mat file.\n",
      "The independent component IC2 of the subject 5 is not in the .mat file.\n",
      "The independent component IC2 of the subject 9 is not in the .mat file.\n",
      "The independent component IC3 of the subject 1 is not in the .mat file.\n",
      "The independent component IC3 of the subject 17 is not in the .mat file.\n",
      "The independent component IC3 of the subject 23 is not in the .mat file.\n",
      "The independent component IC4 of the subject 12 is not in the .mat file.\n",
      "Computing and loading the time-frequency wavelet transformation of the 2nd subject for all IC, all trials...\n",
      "Loaded\n"
     ]
    }
   ],
   "source": [
    "directory = \"E:/timot/Documents/1 - Centrale Marseille/0.5 - Semestre S8/Stage/NIC_250819\"\n",
    "file = \"FCK_LOCKED_IC_JYOTIKA_250819.mat\"\n",
    "\n",
    "data, n_IC, n_subj, n_trials = load(directory, file)"
   ]
  },
  {
   "cell_type": "code",
   "execution_count": 3,
   "metadata": {},
   "outputs": [],
   "source": [
    "import csv"
   ]
  },
  {
   "cell_type": "code",
   "execution_count": 6,
   "metadata": {},
   "outputs": [],
   "source": [
    "csvfile = open('tfrdata.csv', 'w', newline='')"
   ]
  },
  {
   "cell_type": "code",
   "execution_count": 61,
   "metadata": {},
   "outputs": [],
   "source": [
    "csvfile2 = open('tfrdata2.csv', 'w', newline='')"
   ]
  },
  {
   "cell_type": "code",
   "execution_count": 8,
   "metadata": {},
   "outputs": [
    {
     "name": "stdout",
     "output_type": "stream",
     "text": [
      "Loading the time-frequency wavelet transformation of the 2nd subject for all IC, all trials...\n",
      "Loaded\n"
     ]
    }
   ],
   "source": [
    "d = {}\n",
    "freq = data['freq_axis']\n",
    "# print(\"Loading the time-frequency wavelet transformation of the 1st trial for all subjects, all IC...\")\n",
    "# for IC in range(1, n_IC+1):\n",
    "#     for subj in range(1, n_subj+1):\n",
    "#         try:\n",
    "#             for i in range(freq.shape[0]):\n",
    "#                 d[f'tfr_256Hz subject{subj}, IC{IC}, trial1, f_ind{i}'] = data[f'tfr_256Hz subject{subj}, IC{IC}, trial1'][0,i]\n",
    "#         except:\n",
    "#             pass\n",
    "\n",
    "print(\"Loading the time-frequency wavelet transformation of the 2nd subject for all IC, all trials...\")\n",
    "for IC in range(1, n_IC+1):\n",
    "    for trial in range(1, 50):\n",
    "        try:\n",
    "            for i in range(freq.shape[0]):\n",
    "                d[f'tfr_256Hz subject2, IC{IC}, trial{trial}, f_ind{i}'] = data[f'tfr_256Hz subject2, IC{IC}, trial{trial}'][0,i]\n",
    "        except:\n",
    "            pass\n",
    "print(\"Loaded\")"
   ]
  },
  {
   "cell_type": "code",
   "execution_count": 9,
   "metadata": {},
   "outputs": [
    {
     "data": {
      "text/plain": [
       "1793"
      ]
     },
     "execution_count": 9,
     "metadata": {},
     "output_type": "execute_result"
    }
   ],
   "source": [
    "shape = d['tfr_256Hz subject2, IC1, trial1, f_ind1'].shape[0]\n",
    "shape"
   ]
  },
  {
   "cell_type": "code",
   "execution_count": 11,
   "metadata": {},
   "outputs": [
    {
     "data": {
      "text/plain": [
       "33567"
      ]
     },
     "execution_count": 11,
     "metadata": {},
     "output_type": "execute_result"
    }
   ],
   "source": [
    "spamwriter = csv.writer(csvfile2, delimiter=';',\n",
    "                            quotechar='|', quoting=csv.QUOTE_MINIMAL)\n",
    "spamwriter.writerow(['tfr_256Hz subject2, IC1, trial1, f_ind1'] \n",
    "                    + [ d['tfr_256Hz subject2, IC1, trial1, f_ind1'][i] \n",
    "                       for i in range(shape) ])"
   ]
  },
  {
   "cell_type": "code",
   "execution_count": 12,
   "metadata": {},
   "outputs": [],
   "source": [
    "csvfile2.close()"
   ]
  },
  {
   "cell_type": "code",
   "execution_count": 14,
   "metadata": {},
   "outputs": [
    {
     "data": {
      "text/plain": [
       "(1, 97, 1793)"
      ]
     },
     "execution_count": 14,
     "metadata": {},
     "output_type": "execute_result"
    }
   ],
   "source": [
    "data['tfr_256Hz subject2, IC1, trial1'].shape"
   ]
  },
  {
   "cell_type": "code",
   "execution_count": 15,
   "metadata": {},
   "outputs": [
    {
     "data": {
      "text/plain": [
       "0.3845775933321326"
      ]
     },
     "execution_count": 15,
     "metadata": {},
     "output_type": "execute_result"
    }
   ],
   "source": [
    "data['tfr_256Hz subject2, IC1, trial1'][0, 90, 1000]"
   ]
  },
  {
   "cell_type": "code",
   "execution_count": 16,
   "metadata": {},
   "outputs": [],
   "source": [
    "import h5py\n",
    "import numpy as np\n",
    "import mne\n",
    "from wavelet_transform import wavelet_transform"
   ]
  },
  {
   "cell_type": "code",
   "execution_count": 48,
   "metadata": {},
   "outputs": [],
   "source": [
    "csvfile2 = open('tfrdata2.csv', 'a', newline='')"
   ]
  },
  {
   "cell_type": "code",
   "execution_count": 49,
   "metadata": {},
   "outputs": [],
   "source": [
    "spamwriter = csv.writer(csvfile2, delimiter=';',\n",
    "                        quotechar='|', quoting=csv.QUOTE_MINIMAL)"
   ]
  },
  {
   "cell_type": "code",
   "execution_count": 19,
   "metadata": {},
   "outputs": [],
   "source": [
    "info = mne.create_info(ch_names=['signal'], sfreq=256, ch_types=['eeg'])"
   ]
  },
  {
   "cell_type": "code",
   "execution_count": 20,
   "metadata": {},
   "outputs": [],
   "source": [
    "wtfr = wavelet_transform(data, info, 2, 1, 1)"
   ]
  },
  {
   "cell_type": "code",
   "execution_count": 21,
   "metadata": {},
   "outputs": [
    {
     "data": {
      "text/plain": [
       "(1, 97, 1793)"
      ]
     },
     "execution_count": 21,
     "metadata": {},
     "output_type": "execute_result"
    }
   ],
   "source": [
    "wtfr.shape"
   ]
  },
  {
   "cell_type": "code",
   "execution_count": 22,
   "metadata": {},
   "outputs": [
    {
     "name": "stdout",
     "output_type": "stream",
     "text": [
      "Computing and loading the time-frequency wavelet transformation of the 2nd subject for all IC, all trials...\n",
      "Trial1 loaded\n",
      "Trial2 loaded\n",
      "Trial3 loaded\n",
      "Trial4 loaded\n",
      "Trial5 loaded\n",
      "Trial6 loaded\n",
      "Trial7 loaded\n",
      "Trial8 loaded\n",
      "Trial9 loaded\n",
      "Trial10 loaded\n",
      "Trial11 loaded\n",
      "Trial12 loaded\n",
      "Trial13 loaded\n",
      "Trial14 loaded\n",
      "Trial15 loaded\n",
      "Trial16 loaded\n",
      "Trial17 loaded\n",
      "Trial18 loaded\n",
      "Trial19 loaded\n",
      "Trial20 loaded\n",
      "Trial21 loaded\n",
      "Trial22 loaded\n",
      "Trial23 loaded\n",
      "Trial24 loaded\n",
      "Trial25 loaded\n",
      "Trial26 loaded\n",
      "Trial27 loaded\n",
      "Trial28 loaded\n",
      "Trial29 loaded\n",
      "Trial30 loaded\n",
      "Trial31 loaded\n",
      "Trial32 loaded\n",
      "Trial33 loaded\n",
      "Trial34 loaded\n",
      "Trial35 loaded\n",
      "Trial36 loaded\n",
      "Trial37 loaded\n",
      "Trial38 loaded\n",
      "Trial39 loaded\n",
      "Trial40 loaded\n",
      "Trial41 loaded\n",
      "Trial42 loaded\n",
      "Trial43 loaded\n",
      "Trial44 loaded\n",
      "Trial45 loaded\n",
      "Trial46 loaded\n",
      "Trial47 loaded\n",
      "Trial48 loaded\n",
      "Trial49 loaded\n",
      "Loaded\n"
     ]
    }
   ],
   "source": [
    "print(\"Computing and loading the time-frequency wavelet transformation of the 2nd subject for all IC, all trials...\")\n",
    "\n",
    "for trial in range(1, 50):\n",
    "    for IC in range(1, n_IC+1):\n",
    "        try:\n",
    "            wtfr = wavelet_transform(data, info, 2, IC, trial)\n",
    "            for i in range(freq.shape[0]):\n",
    "                spamwriter.writerow([f'tfr_256Hz subject2, IC{IC}, trial{trial}, f_ind{i}'] \n",
    "                                    + [ wtfr[0, i, j] for j in range(shape) ])\n",
    "        except:\n",
    "            pass\n",
    "    print(f'Trial{trial} loaded')\n",
    "print(\"Loaded\")"
   ]
  },
  {
   "cell_type": "code",
   "execution_count": 62,
   "metadata": {},
   "outputs": [],
   "source": [
    "csvfile2.close()"
   ]
  },
  {
   "cell_type": "code",
   "execution_count": 50,
   "metadata": {},
   "outputs": [],
   "source": [
    "wtfr = wavelet_transform(data, info, 5, 1, 1)\n",
    "for i in range(freq.shape[0]):\n",
    "    spamwriter.writerow([f'tfr_256Hz subject5, IC1, trial1, f_ind{i}'] \n",
    "                        + [ wtfr[0, i, j] for j in range(shape) ])"
   ]
  },
  {
   "cell_type": "code",
   "execution_count": 52,
   "metadata": {},
   "outputs": [],
   "source": [
    "csvfileread = open('tfrdata2.csv', 'r', newline='')\n",
    "spamreader = csv.reader(csvfileread, delimiter=';', quotechar='|')"
   ]
  },
  {
   "cell_type": "code",
   "execution_count": 58,
   "metadata": {},
   "outputs": [
    {
     "name": "stdout",
     "output_type": "stream",
     "text": [
      "tfr_256Hz subject10, IC1, trial1, f_ind22 [7.20709668 7.70521077 8.20126177 ... 4.41431162 4.19045551 3.96597762]\n"
     ]
    }
   ],
   "source": [
    "sp = spamreader.__next__()\n",
    "index = sp[0]\n",
    "vect = np.zeros(len(sp)-1)\n",
    "for t in range(len(sp)-1):\n",
    "    vect[t] = sp[t+1]\n",
    "data[index] = vect\n",
    "print(index, data[index])"
   ]
  },
  {
   "cell_type": "code",
   "execution_count": 60,
   "metadata": {},
   "outputs": [
    {
     "data": {
      "text/plain": [
       "16.666666666666668"
      ]
     },
     "execution_count": 60,
     "metadata": {},
     "output_type": "execute_result"
    }
   ],
   "source": [
    "25/1.5"
   ]
  },
  {
   "cell_type": "code",
   "execution_count": 59,
   "metadata": {},
   "outputs": [
    {
     "data": {
      "text/plain": [
       "numpy.ndarray"
      ]
     },
     "execution_count": 59,
     "metadata": {},
     "output_type": "execute_result"
    }
   ],
   "source": [
    "type(data[index])"
   ]
  }
 ],
 "metadata": {
  "kernelspec": {
   "display_name": "Python 3",
   "language": "python",
   "name": "python3"
  },
  "language_info": {
   "codemirror_mode": {
    "name": "ipython",
    "version": 3
   },
   "file_extension": ".py",
   "mimetype": "text/x-python",
   "name": "python",
   "nbconvert_exporter": "python",
   "pygments_lexer": "ipython3",
   "version": "3.7.3"
  }
 },
 "nbformat": 4,
 "nbformat_minor": 2
}
