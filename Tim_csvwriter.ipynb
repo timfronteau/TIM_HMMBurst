{
 "cells": [
  {
   "cell_type": "code",
   "execution_count": 1,
   "metadata": {
    "pycharm": {
     "is_executing": false
    }
   },
   "outputs": [],
   "source": [
    "import numpy as np\n",
    "from loader import load"
   ]
  },
  {
   "cell_type": "code",
   "execution_count": 2,
   "metadata": {},
   "outputs": [
    {
     "name": "stdout",
     "output_type": "stream",
     "text": [
      "loading the raw timecourses...\n",
      "The independent component IC1 of the subject 20 is not in the .mat file.\n",
      "The independent component IC1 of the subject 21 is not in the .mat file.\n",
      "The independent component IC2 of the subject 5 is not in the .mat file.\n",
      "The independent component IC2 of the subject 9 is not in the .mat file.\n",
      "The independent component IC3 of the subject 1 is not in the .mat file.\n",
      "The independent component IC3 of the subject 17 is not in the .mat file.\n",
      "The independent component IC3 of the subject 23 is not in the .mat file.\n",
      "The independent component IC4 of the subject 12 is not in the .mat file.\n",
      "Computing and loading the time-frequency wavelet transformation of the 2nd subject for all IC, all trials...\n",
      "Loaded\n"
     ]
    }
   ],
   "source": [
    "directory = \"E:/timot/Documents/1 - Centrale Marseille/0.5 - Semestre S8/Stage/NIC_250819\"\n",
    "file = \"FCK_LOCKED_IC_JYOTIKA_250819.mat\"\n",
    "\n",
    "data, n_IC, n_subj, n_trials = load(directory, file)"
   ]
  },
  {
   "cell_type": "code",
   "execution_count": 5,
   "metadata": {},
   "outputs": [],
   "source": [
    "import csv"
   ]
  },
  {
   "cell_type": "code",
   "execution_count": 6,
   "metadata": {},
   "outputs": [],
   "source": [
    "csvfile = open('tfrdata.csv', newline='')"
   ]
  },
  {
   "cell_type": "code",
   "execution_count": 26,
   "metadata": {
    "scrolled": true
   },
   "outputs": [
    {
     "data": {
      "text/plain": [
       "(97,)"
      ]
     },
     "execution_count": 26,
     "metadata": {},
     "output_type": "execute_result"
    }
   ],
   "source": [
    "data['freq_axis'].shape"
   ]
  },
  {
   "cell_type": "code",
   "execution_count": 17,
   "metadata": {},
   "outputs": [
    {
     "data": {
      "text/plain": [
       "(1793,)"
      ]
     },
     "execution_count": 17,
     "metadata": {},
     "output_type": "execute_result"
    }
   ],
   "source": [
    "data[f'tfr_256Hz subject2, IC1, trial1'][0,5].shape"
   ]
  },
  {
   "cell_type": "code",
   "execution_count": 3,
   "metadata": {},
   "outputs": [],
   "source": [
    "import pandas as pd"
   ]
  },
  {
   "cell_type": "code",
   "execution_count": 28,
   "metadata": {},
   "outputs": [
    {
     "data": {
      "text/plain": [
       "(1793,)"
      ]
     },
     "execution_count": 28,
     "metadata": {},
     "output_type": "execute_result"
    }
   ],
   "source": [
    "d[f'tfr_256Hz subject2, IC1, trial1, f_ind96'] = data[f'tfr_256Hz subject2, IC1, trial1'][0,96]\n",
    "d[f'tfr_256Hz subject2, IC1, trial1, f_ind96'].shape"
   ]
  },
  {
   "cell_type": "code",
   "execution_count": 4,
   "metadata": {},
   "outputs": [
    {
     "name": "stdout",
     "output_type": "stream",
     "text": [
      "Loading the time-frequency wavelet transformation of the 2nd subject for all IC, all trials...\n",
      "Loaded\n"
     ]
    }
   ],
   "source": [
    "d = {}\n",
    "freq = data['freq_axis']\n",
    "# print(\"Loading the time-frequency wavelet transformation of the 1st trial for all subjects, all IC...\")\n",
    "# for IC in range(1, n_IC+1):\n",
    "#     for subj in range(1, n_subj+1):\n",
    "#         try:\n",
    "#             for i in range(freq.shape[0]):\n",
    "#                 d[f'tfr_256Hz subject{subj}, IC{IC}, trial1, f_ind{i}'] = data[f'tfr_256Hz subject{subj}, IC{IC}, trial1'][0,i]\n",
    "#         except:\n",
    "#             pass\n",
    "\n",
    "print(\"Loading the time-frequency wavelet transformation of the 2nd subject for all IC, all trials...\")\n",
    "for IC in range(1, n_IC+1):\n",
    "    for trial in range(1, 50):\n",
    "        try:\n",
    "            for i in range(freq.shape[0]):\n",
    "                d[f'tfr_256Hz subject2, IC{IC}, trial{trial}, f_ind{i}'] = data[f'tfr_256Hz subject2, IC{IC}, trial{trial}'][0,i]\n",
    "        except:\n",
    "            pass\n",
    "print(\"Loaded\")"
   ]
  },
  {
   "cell_type": "code",
   "execution_count": 5,
   "metadata": {
    "scrolled": true
   },
   "outputs": [
    {
     "data": {
      "text/plain": [
       "(1793,)"
      ]
     },
     "execution_count": 5,
     "metadata": {},
     "output_type": "execute_result"
    }
   ],
   "source": [
    "d[f'tfr_256Hz subject2, IC1, trial1, f_ind5'].shape"
   ]
  },
  {
   "cell_type": "code",
   "execution_count": 5,
   "metadata": {},
   "outputs": [],
   "source": [
    "df = pd.DataFrame.from_dict(d, orient='index')"
   ]
  },
  {
   "cell_type": "code",
   "execution_count": 7,
   "metadata": {},
   "outputs": [],
   "source": [
    "df.to_csv(\"tfrdata.csv\", sep=';')"
   ]
  },
  {
   "cell_type": "code",
   "execution_count": null,
   "metadata": {},
   "outputs": [],
   "source": []
  }
 ],
 "metadata": {
  "kernelspec": {
   "display_name": "Python 3",
   "language": "python",
   "name": "python3"
  },
  "language_info": {
   "codemirror_mode": {
    "name": "ipython",
    "version": 3
   },
   "file_extension": ".py",
   "mimetype": "text/x-python",
   "name": "python",
   "nbconvert_exporter": "python",
   "pygments_lexer": "ipython3",
   "version": "3.7.3"
  }
 },
 "nbformat": 4,
 "nbformat_minor": 2
}
